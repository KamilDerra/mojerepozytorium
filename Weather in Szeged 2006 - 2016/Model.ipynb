{
 "cells": [
  {
   "cell_type": "markdown",
   "id": "f4936661",
   "metadata": {},
   "source": [
    "                                             Charakterystyka zmiennych:\n",
    "                                             \n",
    "                                            Characteristics of variables:\n",
    "                                             \n",
    "                                             \n",
    "\n",
    "vis - widoczność (km)\n",
    "      visibility\n",
    "\n",
    "year - rok, z którego pochodzą pomiary\n",
    "       the year from which the neasurements come from\n",
    "\n",
    "temp - temperatura w stopniach Celsjusza\n",
    "       temperature in degrees Celsius\n",
    "\n",
    "hum - wilgotność\n",
    "      humidity\n",
    "\n",
    "windsp - prędkość wiatru (km/h)\n",
    "         wind speed\n",
    "\n",
    "pres - ciśnienie (millibar)\n",
    "       pressure\n",
    "\n",
    "rain - deszcz\n",
    "\n",
    "snow - śnieg\n",
    "\n",
    "mosclou - przeważające zachmurzenie\n",
    "          mostlu cloudy\n",
    "\n",
    "parclou - częściowe zachmurzenie\n",
    "          partly cloudy\n",
    "\n",
    "overcast - całkowite zachmurzenie\n",
    "           completely cloudy\n",
    "\n",
    "clear - bezchmurnie\n",
    "        cloudless\n",
    "\n",
    "foggy - mgła\n",
    "\n",
    " \n",
    " Dane pochodzą z lat 2006 - 2016. Dotyczą warunków atmosferycznych w mieście Segedyn na Węgrzech.\n",
    " The data comes from years 2006 - 2016. They concern weather conditions in the city Szeged in Hungary. \n",
    " \n",
    " \n",
    " Cel projektu: próba stworzenia narzędzia potrafiącego prognozować warunki widoczności. \n",
    " Project goal: an attempt to create a tool that can forecast visibility conditions.\n",
    " "
   ]
  },
  {
   "cell_type": "markdown",
   "id": "9829dba1",
   "metadata": {},
   "source": []
  },
  {
   "cell_type": "code",
   "execution_count": 1,
   "id": "cffd55c4",
   "metadata": {},
   "outputs": [],
   "source": [
    "import numpy as np\n",
    "import pandas as pd"
   ]
  },
  {
   "cell_type": "code",
   "execution_count": 2,
   "id": "3b499712",
   "metadata": {},
   "outputs": [
    {
     "data": {
      "text/html": [
       "<div>\n",
       "<style scoped>\n",
       "    .dataframe tbody tr th:only-of-type {\n",
       "        vertical-align: middle;\n",
       "    }\n",
       "\n",
       "    .dataframe tbody tr th {\n",
       "        vertical-align: top;\n",
       "    }\n",
       "\n",
       "    .dataframe thead th {\n",
       "        text-align: right;\n",
       "    }\n",
       "</style>\n",
       "<table border=\"1\" class=\"dataframe\">\n",
       "  <thead>\n",
       "    <tr style=\"text-align: right;\">\n",
       "      <th></th>\n",
       "      <th>year</th>\n",
       "      <th>temp</th>\n",
       "      <th>hum</th>\n",
       "      <th>windsp</th>\n",
       "      <th>vis</th>\n",
       "      <th>pres</th>\n",
       "      <th>rain</th>\n",
       "      <th>snow</th>\n",
       "      <th>mosclou</th>\n",
       "      <th>parclou</th>\n",
       "      <th>overcast</th>\n",
       "      <th>clear</th>\n",
       "      <th>foggy</th>\n",
       "    </tr>\n",
       "  </thead>\n",
       "  <tbody>\n",
       "    <tr>\n",
       "      <th>0</th>\n",
       "      <td>2006</td>\n",
       "      <td>9.47</td>\n",
       "      <td>0.89</td>\n",
       "      <td>14.12</td>\n",
       "      <td>15.83</td>\n",
       "      <td>1015.13</td>\n",
       "      <td>1</td>\n",
       "      <td>0</td>\n",
       "      <td>0</td>\n",
       "      <td>1</td>\n",
       "      <td>0</td>\n",
       "      <td>0</td>\n",
       "      <td>0</td>\n",
       "    </tr>\n",
       "    <tr>\n",
       "      <th>1</th>\n",
       "      <td>2006</td>\n",
       "      <td>9.36</td>\n",
       "      <td>0.86</td>\n",
       "      <td>14.26</td>\n",
       "      <td>15.83</td>\n",
       "      <td>1015.63</td>\n",
       "      <td>1</td>\n",
       "      <td>0</td>\n",
       "      <td>0</td>\n",
       "      <td>1</td>\n",
       "      <td>0</td>\n",
       "      <td>0</td>\n",
       "      <td>0</td>\n",
       "    </tr>\n",
       "    <tr>\n",
       "      <th>2</th>\n",
       "      <td>2006</td>\n",
       "      <td>9.38</td>\n",
       "      <td>0.89</td>\n",
       "      <td>3.93</td>\n",
       "      <td>14.96</td>\n",
       "      <td>1015.94</td>\n",
       "      <td>1</td>\n",
       "      <td>0</td>\n",
       "      <td>1</td>\n",
       "      <td>0</td>\n",
       "      <td>0</td>\n",
       "      <td>0</td>\n",
       "      <td>0</td>\n",
       "    </tr>\n",
       "    <tr>\n",
       "      <th>3</th>\n",
       "      <td>2006</td>\n",
       "      <td>8.29</td>\n",
       "      <td>0.83</td>\n",
       "      <td>14.10</td>\n",
       "      <td>15.83</td>\n",
       "      <td>1016.41</td>\n",
       "      <td>1</td>\n",
       "      <td>0</td>\n",
       "      <td>0</td>\n",
       "      <td>1</td>\n",
       "      <td>0</td>\n",
       "      <td>0</td>\n",
       "      <td>0</td>\n",
       "    </tr>\n",
       "    <tr>\n",
       "      <th>4</th>\n",
       "      <td>2006</td>\n",
       "      <td>8.76</td>\n",
       "      <td>0.83</td>\n",
       "      <td>11.04</td>\n",
       "      <td>15.83</td>\n",
       "      <td>1016.51</td>\n",
       "      <td>1</td>\n",
       "      <td>0</td>\n",
       "      <td>1</td>\n",
       "      <td>0</td>\n",
       "      <td>0</td>\n",
       "      <td>0</td>\n",
       "      <td>0</td>\n",
       "    </tr>\n",
       "  </tbody>\n",
       "</table>\n",
       "</div>"
      ],
      "text/plain": [
       "   year  temp   hum  windsp    vis     pres  rain  snow  mosclou  parclou   \n",
       "0  2006  9.47  0.89   14.12  15.83  1015.13     1     0        0        1  \\\n",
       "1  2006  9.36  0.86   14.26  15.83  1015.63     1     0        0        1   \n",
       "2  2006  9.38  0.89    3.93  14.96  1015.94     1     0        1        0   \n",
       "3  2006  8.29  0.83   14.10  15.83  1016.41     1     0        0        1   \n",
       "4  2006  8.76  0.83   11.04  15.83  1016.51     1     0        1        0   \n",
       "\n",
       "   overcast  clear  foggy  \n",
       "0         0      0      0  \n",
       "1         0      0      0  \n",
       "2         0      0      0  \n",
       "3         0      0      0  \n",
       "4         0      0      0  "
      ]
     },
     "execution_count": 2,
     "metadata": {},
     "output_type": "execute_result"
    }
   ],
   "source": [
    "dfMod = pd.read_csv('Dane/dfMod.csv')\n",
    "dfMod.head()"
   ]
  },
  {
   "cell_type": "markdown",
   "id": "eb85ce1c",
   "metadata": {},
   "source": []
  },
  {
   "cell_type": "markdown",
   "id": "c6aeeb2c",
   "metadata": {},
   "source": [
    "                                        Regresja liniowa jednej zmiennej:\n",
    "                                        \n",
    "                                        Linear regression of one variable:"
   ]
  },
  {
   "cell_type": "markdown",
   "id": "bc00e3be",
   "metadata": {},
   "source": []
  },
  {
   "cell_type": "code",
   "execution_count": 3,
   "id": "8a62979a",
   "metadata": {},
   "outputs": [],
   "source": [
    "import sklearn\n",
    "from sklearn.linear_model import LinearRegression "
   ]
  },
  {
   "cell_type": "code",
   "execution_count": 4,
   "id": "3f2851c5",
   "metadata": {},
   "outputs": [],
   "source": [
    "Xl = dfMod[['temp']]\n",
    "yl = dfMod['vis']"
   ]
  },
  {
   "cell_type": "code",
   "execution_count": 5,
   "id": "ccb645f7",
   "metadata": {},
   "outputs": [
    {
     "data": {
      "text/plain": [
       "array([[9.47],\n",
       "       [9.36],\n",
       "       [9.38],\n",
       "       [8.29],\n",
       "       [8.76]])"
      ]
     },
     "execution_count": 5,
     "metadata": {},
     "output_type": "execute_result"
    }
   ],
   "source": [
    "Xl.values[:5]"
   ]
  },
  {
   "cell_type": "code",
   "execution_count": 6,
   "id": "d379c1aa",
   "metadata": {},
   "outputs": [
    {
     "data": {
      "text/plain": [
       "array([15.83, 15.83, 14.96, 15.83, 15.83])"
      ]
     },
     "execution_count": 6,
     "metadata": {},
     "output_type": "execute_result"
    }
   ],
   "source": [
    "yl.values[:5]"
   ]
  },
  {
   "cell_type": "code",
   "execution_count": 7,
   "id": "4a484191",
   "metadata": {},
   "outputs": [
    {
     "data": {
      "text/html": [
       "<style>#sk-container-id-1 {color: black;background-color: white;}#sk-container-id-1 pre{padding: 0;}#sk-container-id-1 div.sk-toggleable {background-color: white;}#sk-container-id-1 label.sk-toggleable__label {cursor: pointer;display: block;width: 100%;margin-bottom: 0;padding: 0.3em;box-sizing: border-box;text-align: center;}#sk-container-id-1 label.sk-toggleable__label-arrow:before {content: \"▸\";float: left;margin-right: 0.25em;color: #696969;}#sk-container-id-1 label.sk-toggleable__label-arrow:hover:before {color: black;}#sk-container-id-1 div.sk-estimator:hover label.sk-toggleable__label-arrow:before {color: black;}#sk-container-id-1 div.sk-toggleable__content {max-height: 0;max-width: 0;overflow: hidden;text-align: left;background-color: #f0f8ff;}#sk-container-id-1 div.sk-toggleable__content pre {margin: 0.2em;color: black;border-radius: 0.25em;background-color: #f0f8ff;}#sk-container-id-1 input.sk-toggleable__control:checked~div.sk-toggleable__content {max-height: 200px;max-width: 100%;overflow: auto;}#sk-container-id-1 input.sk-toggleable__control:checked~label.sk-toggleable__label-arrow:before {content: \"▾\";}#sk-container-id-1 div.sk-estimator input.sk-toggleable__control:checked~label.sk-toggleable__label {background-color: #d4ebff;}#sk-container-id-1 div.sk-label input.sk-toggleable__control:checked~label.sk-toggleable__label {background-color: #d4ebff;}#sk-container-id-1 input.sk-hidden--visually {border: 0;clip: rect(1px 1px 1px 1px);clip: rect(1px, 1px, 1px, 1px);height: 1px;margin: -1px;overflow: hidden;padding: 0;position: absolute;width: 1px;}#sk-container-id-1 div.sk-estimator {font-family: monospace;background-color: #f0f8ff;border: 1px dotted black;border-radius: 0.25em;box-sizing: border-box;margin-bottom: 0.5em;}#sk-container-id-1 div.sk-estimator:hover {background-color: #d4ebff;}#sk-container-id-1 div.sk-parallel-item::after {content: \"\";width: 100%;border-bottom: 1px solid gray;flex-grow: 1;}#sk-container-id-1 div.sk-label:hover label.sk-toggleable__label {background-color: #d4ebff;}#sk-container-id-1 div.sk-serial::before {content: \"\";position: absolute;border-left: 1px solid gray;box-sizing: border-box;top: 0;bottom: 0;left: 50%;z-index: 0;}#sk-container-id-1 div.sk-serial {display: flex;flex-direction: column;align-items: center;background-color: white;padding-right: 0.2em;padding-left: 0.2em;position: relative;}#sk-container-id-1 div.sk-item {position: relative;z-index: 1;}#sk-container-id-1 div.sk-parallel {display: flex;align-items: stretch;justify-content: center;background-color: white;position: relative;}#sk-container-id-1 div.sk-item::before, #sk-container-id-1 div.sk-parallel-item::before {content: \"\";position: absolute;border-left: 1px solid gray;box-sizing: border-box;top: 0;bottom: 0;left: 50%;z-index: -1;}#sk-container-id-1 div.sk-parallel-item {display: flex;flex-direction: column;z-index: 1;position: relative;background-color: white;}#sk-container-id-1 div.sk-parallel-item:first-child::after {align-self: flex-end;width: 50%;}#sk-container-id-1 div.sk-parallel-item:last-child::after {align-self: flex-start;width: 50%;}#sk-container-id-1 div.sk-parallel-item:only-child::after {width: 0;}#sk-container-id-1 div.sk-dashed-wrapped {border: 1px dashed gray;margin: 0 0.4em 0.5em 0.4em;box-sizing: border-box;padding-bottom: 0.4em;background-color: white;}#sk-container-id-1 div.sk-label label {font-family: monospace;font-weight: bold;display: inline-block;line-height: 1.2em;}#sk-container-id-1 div.sk-label-container {text-align: center;}#sk-container-id-1 div.sk-container {/* jupyter's `normalize.less` sets `[hidden] { display: none; }` but bootstrap.min.css set `[hidden] { display: none !important; }` so we also need the `!important` here to be able to override the default hidden behavior on the sphinx rendered scikit-learn.org. See: https://github.com/scikit-learn/scikit-learn/issues/21755 */display: inline-block !important;position: relative;}#sk-container-id-1 div.sk-text-repr-fallback {display: none;}</style><div id=\"sk-container-id-1\" class=\"sk-top-container\"><div class=\"sk-text-repr-fallback\"><pre>LinearRegression()</pre><b>In a Jupyter environment, please rerun this cell to show the HTML representation or trust the notebook. <br />On GitHub, the HTML representation is unable to render, please try loading this page with nbviewer.org.</b></div><div class=\"sk-container\" hidden><div class=\"sk-item\"><div class=\"sk-estimator sk-toggleable\"><input class=\"sk-toggleable__control sk-hidden--visually\" id=\"sk-estimator-id-1\" type=\"checkbox\" checked><label for=\"sk-estimator-id-1\" class=\"sk-toggleable__label sk-toggleable__label-arrow\">LinearRegression</label><div class=\"sk-toggleable__content\"><pre>LinearRegression()</pre></div></div></div></div></div>"
      ],
      "text/plain": [
       "LinearRegression()"
      ]
     },
     "execution_count": 7,
     "metadata": {},
     "output_type": "execute_result"
    }
   ],
   "source": [
    "model1 = LinearRegression()\n",
    "model1.fit(Xl, yl)"
   ]
  },
  {
   "cell_type": "code",
   "execution_count": 8,
   "id": "7cb4869c",
   "metadata": {},
   "outputs": [
    {
     "data": {
      "text/plain": [
       "8.312394156362561"
      ]
     },
     "execution_count": 8,
     "metadata": {},
     "output_type": "execute_result"
    }
   ],
   "source": [
    "model1.intercept_"
   ]
  },
  {
   "cell_type": "code",
   "execution_count": 9,
   "id": "db1f2cf5",
   "metadata": {},
   "outputs": [
    {
     "data": {
      "text/plain": [
       "array([0.17168457])"
      ]
     },
     "execution_count": 9,
     "metadata": {},
     "output_type": "execute_result"
    }
   ],
   "source": [
    "model1.coef_"
   ]
  },
  {
   "cell_type": "code",
   "execution_count": 10,
   "id": "b43838e2",
   "metadata": {},
   "outputs": [],
   "source": [
    "predict_data1 = np.array([[15.5], [16.7]])"
   ]
  },
  {
   "cell_type": "code",
   "execution_count": 11,
   "id": "7615945b",
   "metadata": {},
   "outputs": [
    {
     "data": {
      "text/plain": [
       "array([[15.5],\n",
       "       [16.7]])"
      ]
     },
     "execution_count": 11,
     "metadata": {},
     "output_type": "execute_result"
    }
   ],
   "source": [
    "predict_data1"
   ]
  },
  {
   "cell_type": "code",
   "execution_count": 12,
   "id": "dd66b7fc",
   "metadata": {},
   "outputs": [
    {
     "name": "stderr",
     "output_type": "stream",
     "text": [
      "C:\\Users\\Kamil - IT\\AppData\\Local\\Programs\\Python\\Python311\\Lib\\site-packages\\sklearn\\base.py:439: UserWarning: X does not have valid feature names, but LinearRegression was fitted with feature names\n",
      "  warnings.warn(\n"
     ]
    },
    {
     "data": {
      "text/plain": [
       "array([10.97350505, 11.17952654])"
      ]
     },
     "execution_count": 12,
     "metadata": {},
     "output_type": "execute_result"
    }
   ],
   "source": [
    "model1.predict(predict_data1)"
   ]
  },
  {
   "cell_type": "markdown",
   "id": "57a76558",
   "metadata": {},
   "source": []
  },
  {
   "cell_type": "markdown",
   "id": "ea8b1f18",
   "metadata": {},
   "source": [
    "                                              Metryki oceny regresji:                                             "
   ]
  },
  {
   "cell_type": "markdown",
   "id": "9bc6b22e",
   "metadata": {},
   "source": []
  },
  {
   "cell_type": "markdown",
   "id": "08664718",
   "metadata": {},
   "source": [
    " Ważniejsze metryki oceny regresji:\n",
    "    \n",
    "  R2 (współczynnik determinacji) - jest opisową miarą siły liniowego związku między zmiennymi, tj. miarą dopasowania linii\n",
    "                                  regresji do danych. Przyjmuje wartości z przedziału [0, 1] i wskazuje jaka część zmiennej 'y'\n",
    "                                  jest wyjaśniana przez wybrany model. \n",
    "            \n",
    "  MAE (Mean Absolute Error) - mierzy średnią różnicę pomiędzy wartościami przewidzianymi a rzeczywistymi. Należy pamiętać,\n",
    "                              że poprzez wartość absolutną tracimy informację o kierunku (wartość wyższa bądź niższa od\n",
    "                              oczekiwanej). Nadto, również wartości odstające mogą w znaczący sposób wpływać na wynik.\n",
    "        \n",
    "  MAPE (Mean Absolute Percentage Error) - mierzy procentową wartość błędu predykcji. \n",
    "    \n",
    "  MSE (Mean Squared Error) - czyli średni błąd kwadratowy, mierzy średnią kwadratową różnicę między wartościami oszacowanymi\n",
    "                             a rzeczywistymi. Zawsze przyjmuje wartość dodatnią, która maleje w miarę zbliżania się błędu do 0.\n",
    "        \n",
    "  RMSE (Root Mean Squared Error) - pierwiatek kwadratowy z MSE.\n",
    "                                     "
   ]
  },
  {
   "cell_type": "markdown",
   "id": "3f141675",
   "metadata": {},
   "source": [
    "                                           Regression evaluation metrics:\n",
    "                                           \n",
    " Important regression evaluation metrics:\n",
    " \n",
    "  R2 (coefficient of determination) - is a descriptive measure of the strength of the linear relationship between variables,\n",
    "                                      i.e., a measure of line fit regression to data. It accepts values in the range [0, 1]\n",
    "                                      and indicates what part of the variable 'y' is explained by the chosen model.\n",
    "                                      \n",
    "  MAE - measures the average difference between prediccted and actual values. Please remember that through the absolute value\n",
    "        we lose information about the direction (value higher or lower than expected). Moreover, outlier values may affect\n",
    "        significantly the result.\n",
    "        \n",
    "  MAPE - measures the percentage of prediction error.\n",
    "  \n",
    "  MSE - measures the mean squared difference between estimated values and real ones. It always takes a positive value, which\n",
    "        decreases as the error approaches 0.\n",
    "        \n",
    "  RMSE - square root of MSE. \n",
    "                                           "
   ]
  },
  {
   "cell_type": "markdown",
   "id": "519a0aa5",
   "metadata": {},
   "source": []
  },
  {
   "cell_type": "code",
   "execution_count": 13,
   "id": "891158fd",
   "metadata": {},
   "outputs": [],
   "source": [
    "from sklearn.metrics import r2_score"
   ]
  },
  {
   "cell_type": "code",
   "execution_count": 14,
   "id": "255f7449",
   "metadata": {},
   "outputs": [],
   "source": [
    "yl_predict = model1.predict(Xl)"
   ]
  },
  {
   "cell_type": "code",
   "execution_count": 15,
   "id": "5997da43",
   "metadata": {},
   "outputs": [
    {
     "name": "stdout",
     "output_type": "stream",
     "text": [
      "R2: 0.15496386646453242\n"
     ]
    }
   ],
   "source": [
    "print(\"R2:\", r2_score(yl, yl_predict))"
   ]
  },
  {
   "cell_type": "markdown",
   "id": "5264bdec",
   "metadata": {},
   "source": []
  },
  {
   "cell_type": "code",
   "execution_count": 16,
   "id": "ada57b4b",
   "metadata": {},
   "outputs": [],
   "source": [
    "from sklearn.metrics import mean_absolute_error"
   ]
  },
  {
   "cell_type": "code",
   "execution_count": 17,
   "id": "9afd1b81",
   "metadata": {},
   "outputs": [],
   "source": [
    "yl_pred = model1.predict(Xl)"
   ]
  },
  {
   "cell_type": "code",
   "execution_count": 18,
   "id": "7cc795d7",
   "metadata": {},
   "outputs": [
    {
     "name": "stdout",
     "output_type": "stream",
     "text": [
      "MAE: 3.1175224185835857\n"
     ]
    }
   ],
   "source": [
    "print(\"MAE:\", mean_absolute_error(yl, yl_pred))"
   ]
  },
  {
   "cell_type": "code",
   "execution_count": 101,
   "id": "ce15eec9",
   "metadata": {},
   "outputs": [],
   "source": [
    "from sklearn.model_selection import train_test_split"
   ]
  },
  {
   "cell_type": "code",
   "execution_count": 102,
   "id": "7d2877cb",
   "metadata": {},
   "outputs": [],
   "source": [
    "Xl_train, Xl_test, yl_train, yl_test = train_test_split(Xl, yl, test_size=0.2, random_state=42)"
   ]
  },
  {
   "cell_type": "code",
   "execution_count": 103,
   "id": "2a491bd2",
   "metadata": {},
   "outputs": [
    {
     "data": {
      "text/html": [
       "<style>#sk-container-id-8 {color: black;background-color: white;}#sk-container-id-8 pre{padding: 0;}#sk-container-id-8 div.sk-toggleable {background-color: white;}#sk-container-id-8 label.sk-toggleable__label {cursor: pointer;display: block;width: 100%;margin-bottom: 0;padding: 0.3em;box-sizing: border-box;text-align: center;}#sk-container-id-8 label.sk-toggleable__label-arrow:before {content: \"▸\";float: left;margin-right: 0.25em;color: #696969;}#sk-container-id-8 label.sk-toggleable__label-arrow:hover:before {color: black;}#sk-container-id-8 div.sk-estimator:hover label.sk-toggleable__label-arrow:before {color: black;}#sk-container-id-8 div.sk-toggleable__content {max-height: 0;max-width: 0;overflow: hidden;text-align: left;background-color: #f0f8ff;}#sk-container-id-8 div.sk-toggleable__content pre {margin: 0.2em;color: black;border-radius: 0.25em;background-color: #f0f8ff;}#sk-container-id-8 input.sk-toggleable__control:checked~div.sk-toggleable__content {max-height: 200px;max-width: 100%;overflow: auto;}#sk-container-id-8 input.sk-toggleable__control:checked~label.sk-toggleable__label-arrow:before {content: \"▾\";}#sk-container-id-8 div.sk-estimator input.sk-toggleable__control:checked~label.sk-toggleable__label {background-color: #d4ebff;}#sk-container-id-8 div.sk-label input.sk-toggleable__control:checked~label.sk-toggleable__label {background-color: #d4ebff;}#sk-container-id-8 input.sk-hidden--visually {border: 0;clip: rect(1px 1px 1px 1px);clip: rect(1px, 1px, 1px, 1px);height: 1px;margin: -1px;overflow: hidden;padding: 0;position: absolute;width: 1px;}#sk-container-id-8 div.sk-estimator {font-family: monospace;background-color: #f0f8ff;border: 1px dotted black;border-radius: 0.25em;box-sizing: border-box;margin-bottom: 0.5em;}#sk-container-id-8 div.sk-estimator:hover {background-color: #d4ebff;}#sk-container-id-8 div.sk-parallel-item::after {content: \"\";width: 100%;border-bottom: 1px solid gray;flex-grow: 1;}#sk-container-id-8 div.sk-label:hover label.sk-toggleable__label {background-color: #d4ebff;}#sk-container-id-8 div.sk-serial::before {content: \"\";position: absolute;border-left: 1px solid gray;box-sizing: border-box;top: 0;bottom: 0;left: 50%;z-index: 0;}#sk-container-id-8 div.sk-serial {display: flex;flex-direction: column;align-items: center;background-color: white;padding-right: 0.2em;padding-left: 0.2em;position: relative;}#sk-container-id-8 div.sk-item {position: relative;z-index: 1;}#sk-container-id-8 div.sk-parallel {display: flex;align-items: stretch;justify-content: center;background-color: white;position: relative;}#sk-container-id-8 div.sk-item::before, #sk-container-id-8 div.sk-parallel-item::before {content: \"\";position: absolute;border-left: 1px solid gray;box-sizing: border-box;top: 0;bottom: 0;left: 50%;z-index: -1;}#sk-container-id-8 div.sk-parallel-item {display: flex;flex-direction: column;z-index: 1;position: relative;background-color: white;}#sk-container-id-8 div.sk-parallel-item:first-child::after {align-self: flex-end;width: 50%;}#sk-container-id-8 div.sk-parallel-item:last-child::after {align-self: flex-start;width: 50%;}#sk-container-id-8 div.sk-parallel-item:only-child::after {width: 0;}#sk-container-id-8 div.sk-dashed-wrapped {border: 1px dashed gray;margin: 0 0.4em 0.5em 0.4em;box-sizing: border-box;padding-bottom: 0.4em;background-color: white;}#sk-container-id-8 div.sk-label label {font-family: monospace;font-weight: bold;display: inline-block;line-height: 1.2em;}#sk-container-id-8 div.sk-label-container {text-align: center;}#sk-container-id-8 div.sk-container {/* jupyter's `normalize.less` sets `[hidden] { display: none; }` but bootstrap.min.css set `[hidden] { display: none !important; }` so we also need the `!important` here to be able to override the default hidden behavior on the sphinx rendered scikit-learn.org. See: https://github.com/scikit-learn/scikit-learn/issues/21755 */display: inline-block !important;position: relative;}#sk-container-id-8 div.sk-text-repr-fallback {display: none;}</style><div id=\"sk-container-id-8\" class=\"sk-top-container\"><div class=\"sk-text-repr-fallback\"><pre>LinearRegression()</pre><b>In a Jupyter environment, please rerun this cell to show the HTML representation or trust the notebook. <br />On GitHub, the HTML representation is unable to render, please try loading this page with nbviewer.org.</b></div><div class=\"sk-container\" hidden><div class=\"sk-item\"><div class=\"sk-estimator sk-toggleable\"><input class=\"sk-toggleable__control sk-hidden--visually\" id=\"sk-estimator-id-8\" type=\"checkbox\" checked><label for=\"sk-estimator-id-8\" class=\"sk-toggleable__label sk-toggleable__label-arrow\">LinearRegression</label><div class=\"sk-toggleable__content\"><pre>LinearRegression()</pre></div></div></div></div></div>"
      ],
      "text/plain": [
       "LinearRegression()"
      ]
     },
     "execution_count": 103,
     "metadata": {},
     "output_type": "execute_result"
    }
   ],
   "source": [
    "model1a = LinearRegression()\n",
    "model1a.fit(Xl_train, yl_train)"
   ]
  },
  {
   "cell_type": "code",
   "execution_count": 104,
   "id": "63df19a0",
   "metadata": {},
   "outputs": [],
   "source": [
    "yl_pred1 = model1a.predict(Xl_test)"
   ]
  },
  {
   "cell_type": "code",
   "execution_count": 105,
   "id": "8cfd115d",
   "metadata": {},
   "outputs": [
    {
     "name": "stdout",
     "output_type": "stream",
     "text": [
      "MAE - train_test_split: 3.111507372736363\n"
     ]
    }
   ],
   "source": [
    "print(\"MAE - train_test_split:\", mean_absolute_error(yl_test, yl_pred1))"
   ]
  },
  {
   "cell_type": "markdown",
   "id": "05ad5ab6",
   "metadata": {},
   "source": []
  },
  {
   "cell_type": "markdown",
   "id": "600a55f3",
   "metadata": {},
   "source": []
  },
  {
   "cell_type": "code",
   "execution_count": 19,
   "id": "909a97eb",
   "metadata": {},
   "outputs": [],
   "source": [
    "from sklearn.metrics import mean_absolute_percentage_error"
   ]
  },
  {
   "cell_type": "code",
   "execution_count": 20,
   "id": "defaed6c",
   "metadata": {},
   "outputs": [],
   "source": [
    "yl_pred = model1.predict(Xl)"
   ]
  },
  {
   "cell_type": "code",
   "execution_count": 21,
   "id": "a4038759",
   "metadata": {},
   "outputs": [
    {
     "name": "stdout",
     "output_type": "stream",
     "text": [
      "MAPE: 124788678399332.44\n"
     ]
    }
   ],
   "source": [
    "print(\"MAPE:\", mean_absolute_percentage_error(yl, yl_pred))"
   ]
  },
  {
   "cell_type": "code",
   "execution_count": 106,
   "id": "1a111eca",
   "metadata": {},
   "outputs": [
    {
     "name": "stdout",
     "output_type": "stream",
     "text": [
      "MAPE - train_test_split: 113680951221669.22\n"
     ]
    }
   ],
   "source": [
    "print(\"MAPE - train_test_split:\", mean_absolute_percentage_error(yl_test, yl_pred1))"
   ]
  },
  {
   "cell_type": "markdown",
   "id": "15c16e62",
   "metadata": {},
   "source": []
  },
  {
   "cell_type": "markdown",
   "id": "1c57f812",
   "metadata": {},
   "source": []
  },
  {
   "cell_type": "code",
   "execution_count": 22,
   "id": "3ccac3a4",
   "metadata": {},
   "outputs": [],
   "source": [
    "from sklearn.metrics import mean_squared_error"
   ]
  },
  {
   "cell_type": "code",
   "execution_count": 23,
   "id": "a41bcd64",
   "metadata": {},
   "outputs": [],
   "source": [
    "yl_pred = model1.predict(Xl)"
   ]
  },
  {
   "cell_type": "code",
   "execution_count": 24,
   "id": "1f4f485b",
   "metadata": {},
   "outputs": [
    {
     "name": "stdout",
     "output_type": "stream",
     "text": [
      "MSE: 14.722659352446817\n"
     ]
    }
   ],
   "source": [
    "print(\"MSE:\", mean_squared_error(yl, yl_pred))"
   ]
  },
  {
   "cell_type": "code",
   "execution_count": 107,
   "id": "56e1cd3f",
   "metadata": {},
   "outputs": [
    {
     "name": "stdout",
     "output_type": "stream",
     "text": [
      "MSE - train_test_split: 14.621726777622877\n"
     ]
    }
   ],
   "source": [
    "print(\"MSE - train_test_split:\", mean_squared_error(yl_test, yl_pred1))"
   ]
  },
  {
   "cell_type": "markdown",
   "id": "ba49eab0",
   "metadata": {},
   "source": []
  },
  {
   "cell_type": "code",
   "execution_count": 25,
   "id": "dd59d748",
   "metadata": {},
   "outputs": [
    {
     "name": "stdout",
     "output_type": "stream",
     "text": [
      "RMSE: 3.837011773821761\n"
     ]
    }
   ],
   "source": [
    "print(\"RMSE:\", mean_squared_error(yl, yl_pred, squared=False))"
   ]
  },
  {
   "cell_type": "code",
   "execution_count": 108,
   "id": "10bd1d11",
   "metadata": {},
   "outputs": [
    {
     "name": "stdout",
     "output_type": "stream",
     "text": [
      "RMSE - train_test_split: 3.823836656765411\n"
     ]
    }
   ],
   "source": [
    "print(\"RMSE - train_test_split:\", mean_squared_error(yl_test, yl_pred1, squared=False))"
   ]
  },
  {
   "cell_type": "markdown",
   "id": "d0f18278",
   "metadata": {},
   "source": []
  },
  {
   "cell_type": "markdown",
   "id": "136fb0ac",
   "metadata": {},
   "source": [
    "                                       Regresja liniowa wielu zmiennych:\n",
    "                                       \n",
    "                                        Multivariate linear regression:"
   ]
  },
  {
   "cell_type": "markdown",
   "id": "dc310643",
   "metadata": {},
   "source": []
  },
  {
   "cell_type": "code",
   "execution_count": 26,
   "id": "80ebc338",
   "metadata": {},
   "outputs": [],
   "source": [
    "Xlw = dfMod[['temp', 'foggy']]\n",
    "ylw = dfMod['vis']"
   ]
  },
  {
   "cell_type": "code",
   "execution_count": 27,
   "id": "d682377c",
   "metadata": {},
   "outputs": [
    {
     "data": {
      "text/plain": [
       "array([[9.47, 0.  ],\n",
       "       [9.36, 0.  ],\n",
       "       [9.38, 0.  ],\n",
       "       [8.29, 0.  ],\n",
       "       [8.76, 0.  ]])"
      ]
     },
     "execution_count": 27,
     "metadata": {},
     "output_type": "execute_result"
    }
   ],
   "source": [
    "Xlw.values[:5]"
   ]
  },
  {
   "cell_type": "code",
   "execution_count": 28,
   "id": "df9f5de8",
   "metadata": {},
   "outputs": [
    {
     "data": {
      "text/plain": [
       "array([15.83, 15.83, 14.96, 15.83, 15.83])"
      ]
     },
     "execution_count": 28,
     "metadata": {},
     "output_type": "execute_result"
    }
   ],
   "source": [
    "ylw.values[:5]"
   ]
  },
  {
   "cell_type": "code",
   "execution_count": 29,
   "id": "186f60ef",
   "metadata": {},
   "outputs": [
    {
     "data": {
      "text/html": [
       "<style>#sk-container-id-2 {color: black;background-color: white;}#sk-container-id-2 pre{padding: 0;}#sk-container-id-2 div.sk-toggleable {background-color: white;}#sk-container-id-2 label.sk-toggleable__label {cursor: pointer;display: block;width: 100%;margin-bottom: 0;padding: 0.3em;box-sizing: border-box;text-align: center;}#sk-container-id-2 label.sk-toggleable__label-arrow:before {content: \"▸\";float: left;margin-right: 0.25em;color: #696969;}#sk-container-id-2 label.sk-toggleable__label-arrow:hover:before {color: black;}#sk-container-id-2 div.sk-estimator:hover label.sk-toggleable__label-arrow:before {color: black;}#sk-container-id-2 div.sk-toggleable__content {max-height: 0;max-width: 0;overflow: hidden;text-align: left;background-color: #f0f8ff;}#sk-container-id-2 div.sk-toggleable__content pre {margin: 0.2em;color: black;border-radius: 0.25em;background-color: #f0f8ff;}#sk-container-id-2 input.sk-toggleable__control:checked~div.sk-toggleable__content {max-height: 200px;max-width: 100%;overflow: auto;}#sk-container-id-2 input.sk-toggleable__control:checked~label.sk-toggleable__label-arrow:before {content: \"▾\";}#sk-container-id-2 div.sk-estimator input.sk-toggleable__control:checked~label.sk-toggleable__label {background-color: #d4ebff;}#sk-container-id-2 div.sk-label input.sk-toggleable__control:checked~label.sk-toggleable__label {background-color: #d4ebff;}#sk-container-id-2 input.sk-hidden--visually {border: 0;clip: rect(1px 1px 1px 1px);clip: rect(1px, 1px, 1px, 1px);height: 1px;margin: -1px;overflow: hidden;padding: 0;position: absolute;width: 1px;}#sk-container-id-2 div.sk-estimator {font-family: monospace;background-color: #f0f8ff;border: 1px dotted black;border-radius: 0.25em;box-sizing: border-box;margin-bottom: 0.5em;}#sk-container-id-2 div.sk-estimator:hover {background-color: #d4ebff;}#sk-container-id-2 div.sk-parallel-item::after {content: \"\";width: 100%;border-bottom: 1px solid gray;flex-grow: 1;}#sk-container-id-2 div.sk-label:hover label.sk-toggleable__label {background-color: #d4ebff;}#sk-container-id-2 div.sk-serial::before {content: \"\";position: absolute;border-left: 1px solid gray;box-sizing: border-box;top: 0;bottom: 0;left: 50%;z-index: 0;}#sk-container-id-2 div.sk-serial {display: flex;flex-direction: column;align-items: center;background-color: white;padding-right: 0.2em;padding-left: 0.2em;position: relative;}#sk-container-id-2 div.sk-item {position: relative;z-index: 1;}#sk-container-id-2 div.sk-parallel {display: flex;align-items: stretch;justify-content: center;background-color: white;position: relative;}#sk-container-id-2 div.sk-item::before, #sk-container-id-2 div.sk-parallel-item::before {content: \"\";position: absolute;border-left: 1px solid gray;box-sizing: border-box;top: 0;bottom: 0;left: 50%;z-index: -1;}#sk-container-id-2 div.sk-parallel-item {display: flex;flex-direction: column;z-index: 1;position: relative;background-color: white;}#sk-container-id-2 div.sk-parallel-item:first-child::after {align-self: flex-end;width: 50%;}#sk-container-id-2 div.sk-parallel-item:last-child::after {align-self: flex-start;width: 50%;}#sk-container-id-2 div.sk-parallel-item:only-child::after {width: 0;}#sk-container-id-2 div.sk-dashed-wrapped {border: 1px dashed gray;margin: 0 0.4em 0.5em 0.4em;box-sizing: border-box;padding-bottom: 0.4em;background-color: white;}#sk-container-id-2 div.sk-label label {font-family: monospace;font-weight: bold;display: inline-block;line-height: 1.2em;}#sk-container-id-2 div.sk-label-container {text-align: center;}#sk-container-id-2 div.sk-container {/* jupyter's `normalize.less` sets `[hidden] { display: none; }` but bootstrap.min.css set `[hidden] { display: none !important; }` so we also need the `!important` here to be able to override the default hidden behavior on the sphinx rendered scikit-learn.org. See: https://github.com/scikit-learn/scikit-learn/issues/21755 */display: inline-block !important;position: relative;}#sk-container-id-2 div.sk-text-repr-fallback {display: none;}</style><div id=\"sk-container-id-2\" class=\"sk-top-container\"><div class=\"sk-text-repr-fallback\"><pre>LinearRegression()</pre><b>In a Jupyter environment, please rerun this cell to show the HTML representation or trust the notebook. <br />On GitHub, the HTML representation is unable to render, please try loading this page with nbviewer.org.</b></div><div class=\"sk-container\" hidden><div class=\"sk-item\"><div class=\"sk-estimator sk-toggleable\"><input class=\"sk-toggleable__control sk-hidden--visually\" id=\"sk-estimator-id-2\" type=\"checkbox\" checked><label for=\"sk-estimator-id-2\" class=\"sk-toggleable__label sk-toggleable__label-arrow\">LinearRegression</label><div class=\"sk-toggleable__content\"><pre>LinearRegression()</pre></div></div></div></div></div>"
      ],
      "text/plain": [
       "LinearRegression()"
      ]
     },
     "execution_count": 29,
     "metadata": {},
     "output_type": "execute_result"
    }
   ],
   "source": [
    "model2 = LinearRegression()\n",
    "model2.fit(Xlw, ylw)"
   ]
  },
  {
   "cell_type": "code",
   "execution_count": 30,
   "id": "be019bfc",
   "metadata": {},
   "outputs": [
    {
     "data": {
      "text/plain": [
       "9.783870924867495"
      ]
     },
     "execution_count": 30,
     "metadata": {},
     "output_type": "execute_result"
    }
   ],
   "source": [
    "model2.intercept_"
   ]
  },
  {
   "cell_type": "code",
   "execution_count": 31,
   "id": "7a81e510",
   "metadata": {},
   "outputs": [
    {
     "data": {
      "text/plain": [
       "array([ 0.10048846, -8.37535019])"
      ]
     },
     "execution_count": 31,
     "metadata": {},
     "output_type": "execute_result"
    }
   ],
   "source": [
    "model2.coef_"
   ]
  },
  {
   "cell_type": "code",
   "execution_count": 32,
   "id": "72da66fd",
   "metadata": {},
   "outputs": [
    {
     "data": {
      "text/plain": [
       "array([[10,  0],\n",
       "       [12,  1]])"
      ]
     },
     "execution_count": 32,
     "metadata": {},
     "output_type": "execute_result"
    }
   ],
   "source": [
    "predict_data2 = np.array([[10, 0], [12, 1]])\n",
    "predict_data2"
   ]
  },
  {
   "cell_type": "code",
   "execution_count": 33,
   "id": "007f8297",
   "metadata": {},
   "outputs": [
    {
     "name": "stderr",
     "output_type": "stream",
     "text": [
      "C:\\Users\\Kamil - IT\\AppData\\Local\\Programs\\Python\\Python311\\Lib\\site-packages\\sklearn\\base.py:439: UserWarning: X does not have valid feature names, but LinearRegression was fitted with feature names\n",
      "  warnings.warn(\n"
     ]
    },
    {
     "data": {
      "text/plain": [
       "array([10.78875555,  2.61438228])"
      ]
     },
     "execution_count": 33,
     "metadata": {},
     "output_type": "execute_result"
    }
   ],
   "source": [
    "model2.predict(predict_data2)"
   ]
  },
  {
   "cell_type": "markdown",
   "id": "c5a9f1c9",
   "metadata": {},
   "source": []
  },
  {
   "cell_type": "code",
   "execution_count": 34,
   "id": "c2a6f65d",
   "metadata": {},
   "outputs": [],
   "source": [
    "ylw_predict = model2.predict(Xlw)"
   ]
  },
  {
   "cell_type": "code",
   "execution_count": 35,
   "id": "c55189e3",
   "metadata": {},
   "outputs": [
    {
     "name": "stdout",
     "output_type": "stream",
     "text": [
      "R2: 0.4048400203594691\n"
     ]
    }
   ],
   "source": [
    "print(\"R2:\", r2_score(ylw, ylw_predict))"
   ]
  },
  {
   "cell_type": "code",
   "execution_count": null,
   "id": "17898d0a",
   "metadata": {},
   "outputs": [],
   "source": []
  },
  {
   "cell_type": "code",
   "execution_count": 36,
   "id": "bfbe7683",
   "metadata": {},
   "outputs": [],
   "source": [
    "ylw_pred = model2.predict(Xlw)"
   ]
  },
  {
   "cell_type": "code",
   "execution_count": 37,
   "id": "5823b333",
   "metadata": {},
   "outputs": [
    {
     "name": "stdout",
     "output_type": "stream",
     "text": [
      "MAE: 2.6096362816700096\n"
     ]
    }
   ],
   "source": [
    "print(\"MAE:\", mean_absolute_error(ylw, ylw_pred))"
   ]
  },
  {
   "cell_type": "code",
   "execution_count": 93,
   "id": "acfa569b",
   "metadata": {},
   "outputs": [],
   "source": [
    "from sklearn.model_selection import train_test_split"
   ]
  },
  {
   "cell_type": "code",
   "execution_count": 94,
   "id": "bf7b6022",
   "metadata": {},
   "outputs": [],
   "source": [
    "Xlw_train, Xlw_test, ylw_train, ylw_test = train_test_split(Xlw, ylw, test_size=0.2, random_state=42)"
   ]
  },
  {
   "cell_type": "code",
   "execution_count": 95,
   "id": "e4a30c86",
   "metadata": {},
   "outputs": [
    {
     "data": {
      "text/html": [
       "<style>#sk-container-id-7 {color: black;background-color: white;}#sk-container-id-7 pre{padding: 0;}#sk-container-id-7 div.sk-toggleable {background-color: white;}#sk-container-id-7 label.sk-toggleable__label {cursor: pointer;display: block;width: 100%;margin-bottom: 0;padding: 0.3em;box-sizing: border-box;text-align: center;}#sk-container-id-7 label.sk-toggleable__label-arrow:before {content: \"▸\";float: left;margin-right: 0.25em;color: #696969;}#sk-container-id-7 label.sk-toggleable__label-arrow:hover:before {color: black;}#sk-container-id-7 div.sk-estimator:hover label.sk-toggleable__label-arrow:before {color: black;}#sk-container-id-7 div.sk-toggleable__content {max-height: 0;max-width: 0;overflow: hidden;text-align: left;background-color: #f0f8ff;}#sk-container-id-7 div.sk-toggleable__content pre {margin: 0.2em;color: black;border-radius: 0.25em;background-color: #f0f8ff;}#sk-container-id-7 input.sk-toggleable__control:checked~div.sk-toggleable__content {max-height: 200px;max-width: 100%;overflow: auto;}#sk-container-id-7 input.sk-toggleable__control:checked~label.sk-toggleable__label-arrow:before {content: \"▾\";}#sk-container-id-7 div.sk-estimator input.sk-toggleable__control:checked~label.sk-toggleable__label {background-color: #d4ebff;}#sk-container-id-7 div.sk-label input.sk-toggleable__control:checked~label.sk-toggleable__label {background-color: #d4ebff;}#sk-container-id-7 input.sk-hidden--visually {border: 0;clip: rect(1px 1px 1px 1px);clip: rect(1px, 1px, 1px, 1px);height: 1px;margin: -1px;overflow: hidden;padding: 0;position: absolute;width: 1px;}#sk-container-id-7 div.sk-estimator {font-family: monospace;background-color: #f0f8ff;border: 1px dotted black;border-radius: 0.25em;box-sizing: border-box;margin-bottom: 0.5em;}#sk-container-id-7 div.sk-estimator:hover {background-color: #d4ebff;}#sk-container-id-7 div.sk-parallel-item::after {content: \"\";width: 100%;border-bottom: 1px solid gray;flex-grow: 1;}#sk-container-id-7 div.sk-label:hover label.sk-toggleable__label {background-color: #d4ebff;}#sk-container-id-7 div.sk-serial::before {content: \"\";position: absolute;border-left: 1px solid gray;box-sizing: border-box;top: 0;bottom: 0;left: 50%;z-index: 0;}#sk-container-id-7 div.sk-serial {display: flex;flex-direction: column;align-items: center;background-color: white;padding-right: 0.2em;padding-left: 0.2em;position: relative;}#sk-container-id-7 div.sk-item {position: relative;z-index: 1;}#sk-container-id-7 div.sk-parallel {display: flex;align-items: stretch;justify-content: center;background-color: white;position: relative;}#sk-container-id-7 div.sk-item::before, #sk-container-id-7 div.sk-parallel-item::before {content: \"\";position: absolute;border-left: 1px solid gray;box-sizing: border-box;top: 0;bottom: 0;left: 50%;z-index: -1;}#sk-container-id-7 div.sk-parallel-item {display: flex;flex-direction: column;z-index: 1;position: relative;background-color: white;}#sk-container-id-7 div.sk-parallel-item:first-child::after {align-self: flex-end;width: 50%;}#sk-container-id-7 div.sk-parallel-item:last-child::after {align-self: flex-start;width: 50%;}#sk-container-id-7 div.sk-parallel-item:only-child::after {width: 0;}#sk-container-id-7 div.sk-dashed-wrapped {border: 1px dashed gray;margin: 0 0.4em 0.5em 0.4em;box-sizing: border-box;padding-bottom: 0.4em;background-color: white;}#sk-container-id-7 div.sk-label label {font-family: monospace;font-weight: bold;display: inline-block;line-height: 1.2em;}#sk-container-id-7 div.sk-label-container {text-align: center;}#sk-container-id-7 div.sk-container {/* jupyter's `normalize.less` sets `[hidden] { display: none; }` but bootstrap.min.css set `[hidden] { display: none !important; }` so we also need the `!important` here to be able to override the default hidden behavior on the sphinx rendered scikit-learn.org. See: https://github.com/scikit-learn/scikit-learn/issues/21755 */display: inline-block !important;position: relative;}#sk-container-id-7 div.sk-text-repr-fallback {display: none;}</style><div id=\"sk-container-id-7\" class=\"sk-top-container\"><div class=\"sk-text-repr-fallback\"><pre>LinearRegression()</pre><b>In a Jupyter environment, please rerun this cell to show the HTML representation or trust the notebook. <br />On GitHub, the HTML representation is unable to render, please try loading this page with nbviewer.org.</b></div><div class=\"sk-container\" hidden><div class=\"sk-item\"><div class=\"sk-estimator sk-toggleable\"><input class=\"sk-toggleable__control sk-hidden--visually\" id=\"sk-estimator-id-7\" type=\"checkbox\" checked><label for=\"sk-estimator-id-7\" class=\"sk-toggleable__label sk-toggleable__label-arrow\">LinearRegression</label><div class=\"sk-toggleable__content\"><pre>LinearRegression()</pre></div></div></div></div></div>"
      ],
      "text/plain": [
       "LinearRegression()"
      ]
     },
     "execution_count": 95,
     "metadata": {},
     "output_type": "execute_result"
    }
   ],
   "source": [
    "model2a = LinearRegression()\n",
    "model2a.fit(Xlw_train, ylw_train)"
   ]
  },
  {
   "cell_type": "code",
   "execution_count": 96,
   "id": "756056c8",
   "metadata": {},
   "outputs": [],
   "source": [
    "ylw_pred1 = model2a.predict(Xlw_test)"
   ]
  },
  {
   "cell_type": "code",
   "execution_count": 97,
   "id": "d5489050",
   "metadata": {},
   "outputs": [
    {
     "name": "stdout",
     "output_type": "stream",
     "text": [
      "MAE - train_test_split: 2.612868902719674\n"
     ]
    }
   ],
   "source": [
    "print(\"MAE - train_test_split:\", mean_absolute_error(ylw_test, ylw_pred1))"
   ]
  },
  {
   "cell_type": "markdown",
   "id": "5f8ac83a",
   "metadata": {},
   "source": []
  },
  {
   "cell_type": "code",
   "execution_count": 38,
   "id": "7b93ff63",
   "metadata": {},
   "outputs": [
    {
     "name": "stdout",
     "output_type": "stream",
     "text": [
      "MAPE: 106417835106020.56\n"
     ]
    }
   ],
   "source": [
    "print(\"MAPE:\", mean_absolute_percentage_error(ylw, ylw_pred))"
   ]
  },
  {
   "cell_type": "code",
   "execution_count": 98,
   "id": "d5a84b7d",
   "metadata": {},
   "outputs": [
    {
     "name": "stdout",
     "output_type": "stream",
     "text": [
      "MAPE - train_test_split: 108122486316004.84\n"
     ]
    }
   ],
   "source": [
    "print(\"MAPE - train_test_split:\", mean_absolute_percentage_error(ylw_test, ylw_pred1))"
   ]
  },
  {
   "cell_type": "markdown",
   "id": "2c6f2a93",
   "metadata": {},
   "source": []
  },
  {
   "cell_type": "code",
   "execution_count": 39,
   "id": "71cbacd5",
   "metadata": {},
   "outputs": [
    {
     "name": "stdout",
     "output_type": "stream",
     "text": [
      "MSE: 10.369186940914343\n"
     ]
    }
   ],
   "source": [
    "print(\"MSE:\", mean_squared_error(ylw, ylw_pred))"
   ]
  },
  {
   "cell_type": "code",
   "execution_count": 99,
   "id": "265582ff",
   "metadata": {},
   "outputs": [
    {
     "name": "stdout",
     "output_type": "stream",
     "text": [
      "MSE - train_test_split: 10.402724254452686\n"
     ]
    }
   ],
   "source": [
    "print(\"MSE - train_test_split:\", mean_squared_error(ylw_test, ylw_pred1))"
   ]
  },
  {
   "cell_type": "markdown",
   "id": "c310b368",
   "metadata": {},
   "source": []
  },
  {
   "cell_type": "code",
   "execution_count": 40,
   "id": "b1848941",
   "metadata": {},
   "outputs": [
    {
     "name": "stdout",
     "output_type": "stream",
     "text": [
      "RMSE: 3.2201221934756363\n"
     ]
    }
   ],
   "source": [
    "print(\"RMSE:\", mean_squared_error(ylw, ylw_pred, squared=False))"
   ]
  },
  {
   "cell_type": "code",
   "execution_count": 100,
   "id": "58e9f27c",
   "metadata": {},
   "outputs": [
    {
     "name": "stdout",
     "output_type": "stream",
     "text": [
      "RMSE - train_test_split: 3.225325449385331\n"
     ]
    }
   ],
   "source": [
    "print(\"RMSE - train_test_split:\", mean_squared_error(ylw_test, ylw_pred1, squared=False))"
   ]
  },
  {
   "cell_type": "markdown",
   "id": "ce733ea2",
   "metadata": {},
   "source": []
  },
  {
   "cell_type": "markdown",
   "id": "e9947867",
   "metadata": {},
   "source": [
    "                                               Regresja wielomianowa:\n",
    "                                               \n",
    "                                               Polynomial regression:"
   ]
  },
  {
   "cell_type": "markdown",
   "id": "61e1b781",
   "metadata": {},
   "source": []
  },
  {
   "cell_type": "code",
   "execution_count": 41,
   "id": "d8bc7d8f",
   "metadata": {},
   "outputs": [],
   "source": [
    "from sklearn.preprocessing import PolynomialFeatures\n",
    "from sklearn.model_selection import train_test_split"
   ]
  },
  {
   "cell_type": "code",
   "execution_count": 42,
   "id": "fed0543f",
   "metadata": {},
   "outputs": [],
   "source": [
    "Xw = dfMod[['temp', 'hum', 'windsp', 'pres', 'rain', 'snow', 'mosclou', 'parclou', 'overcast', 'clear', 'foggy']]\n",
    "yw = dfMod['vis']"
   ]
  },
  {
   "cell_type": "code",
   "execution_count": 43,
   "id": "0db690dc",
   "metadata": {},
   "outputs": [
    {
     "data": {
      "text/plain": [
       "array([[9.47000e+00, 8.90000e-01, 1.41200e+01, 1.01513e+03, 1.00000e+00,\n",
       "        0.00000e+00, 0.00000e+00, 1.00000e+00, 0.00000e+00, 0.00000e+00,\n",
       "        0.00000e+00],\n",
       "       [9.36000e+00, 8.60000e-01, 1.42600e+01, 1.01563e+03, 1.00000e+00,\n",
       "        0.00000e+00, 0.00000e+00, 1.00000e+00, 0.00000e+00, 0.00000e+00,\n",
       "        0.00000e+00],\n",
       "       [9.38000e+00, 8.90000e-01, 3.93000e+00, 1.01594e+03, 1.00000e+00,\n",
       "        0.00000e+00, 1.00000e+00, 0.00000e+00, 0.00000e+00, 0.00000e+00,\n",
       "        0.00000e+00],\n",
       "       [8.29000e+00, 8.30000e-01, 1.41000e+01, 1.01641e+03, 1.00000e+00,\n",
       "        0.00000e+00, 0.00000e+00, 1.00000e+00, 0.00000e+00, 0.00000e+00,\n",
       "        0.00000e+00],\n",
       "       [8.76000e+00, 8.30000e-01, 1.10400e+01, 1.01651e+03, 1.00000e+00,\n",
       "        0.00000e+00, 1.00000e+00, 0.00000e+00, 0.00000e+00, 0.00000e+00,\n",
       "        0.00000e+00]])"
      ]
     },
     "execution_count": 43,
     "metadata": {},
     "output_type": "execute_result"
    }
   ],
   "source": [
    "Xw.values[:5]"
   ]
  },
  {
   "cell_type": "code",
   "execution_count": 44,
   "id": "12802ffe",
   "metadata": {},
   "outputs": [
    {
     "data": {
      "text/plain": [
       "array([15.83, 15.83, 14.96, 15.83, 15.83])"
      ]
     },
     "execution_count": 44,
     "metadata": {},
     "output_type": "execute_result"
    }
   ],
   "source": [
    "yw.values[:5]"
   ]
  },
  {
   "cell_type": "code",
   "execution_count": 45,
   "id": "269df1b5",
   "metadata": {},
   "outputs": [],
   "source": [
    "poly = PolynomialFeatures(degree=3)\n",
    "Xw_poly = poly.fit_transform(Xw)"
   ]
  },
  {
   "cell_type": "code",
   "execution_count": 46,
   "id": "dc2d75bc",
   "metadata": {},
   "outputs": [
    {
     "data": {
      "text/plain": [
       "array([[1.  , 9.47, 0.89, ..., 0.  , 0.  , 0.  ],\n",
       "       [1.  , 9.36, 0.86, ..., 0.  , 0.  , 0.  ],\n",
       "       [1.  , 9.38, 0.89, ..., 0.  , 0.  , 0.  ],\n",
       "       [1.  , 8.29, 0.83, ..., 0.  , 0.  , 0.  ],\n",
       "       [1.  , 8.76, 0.83, ..., 0.  , 0.  , 0.  ]])"
      ]
     },
     "execution_count": 46,
     "metadata": {},
     "output_type": "execute_result"
    }
   ],
   "source": [
    "Xw_poly[:5]"
   ]
  },
  {
   "cell_type": "code",
   "execution_count": 47,
   "id": "ba794c9c",
   "metadata": {},
   "outputs": [
    {
     "data": {
      "text/html": [
       "<style>#sk-container-id-3 {color: black;background-color: white;}#sk-container-id-3 pre{padding: 0;}#sk-container-id-3 div.sk-toggleable {background-color: white;}#sk-container-id-3 label.sk-toggleable__label {cursor: pointer;display: block;width: 100%;margin-bottom: 0;padding: 0.3em;box-sizing: border-box;text-align: center;}#sk-container-id-3 label.sk-toggleable__label-arrow:before {content: \"▸\";float: left;margin-right: 0.25em;color: #696969;}#sk-container-id-3 label.sk-toggleable__label-arrow:hover:before {color: black;}#sk-container-id-3 div.sk-estimator:hover label.sk-toggleable__label-arrow:before {color: black;}#sk-container-id-3 div.sk-toggleable__content {max-height: 0;max-width: 0;overflow: hidden;text-align: left;background-color: #f0f8ff;}#sk-container-id-3 div.sk-toggleable__content pre {margin: 0.2em;color: black;border-radius: 0.25em;background-color: #f0f8ff;}#sk-container-id-3 input.sk-toggleable__control:checked~div.sk-toggleable__content {max-height: 200px;max-width: 100%;overflow: auto;}#sk-container-id-3 input.sk-toggleable__control:checked~label.sk-toggleable__label-arrow:before {content: \"▾\";}#sk-container-id-3 div.sk-estimator input.sk-toggleable__control:checked~label.sk-toggleable__label {background-color: #d4ebff;}#sk-container-id-3 div.sk-label input.sk-toggleable__control:checked~label.sk-toggleable__label {background-color: #d4ebff;}#sk-container-id-3 input.sk-hidden--visually {border: 0;clip: rect(1px 1px 1px 1px);clip: rect(1px, 1px, 1px, 1px);height: 1px;margin: -1px;overflow: hidden;padding: 0;position: absolute;width: 1px;}#sk-container-id-3 div.sk-estimator {font-family: monospace;background-color: #f0f8ff;border: 1px dotted black;border-radius: 0.25em;box-sizing: border-box;margin-bottom: 0.5em;}#sk-container-id-3 div.sk-estimator:hover {background-color: #d4ebff;}#sk-container-id-3 div.sk-parallel-item::after {content: \"\";width: 100%;border-bottom: 1px solid gray;flex-grow: 1;}#sk-container-id-3 div.sk-label:hover label.sk-toggleable__label {background-color: #d4ebff;}#sk-container-id-3 div.sk-serial::before {content: \"\";position: absolute;border-left: 1px solid gray;box-sizing: border-box;top: 0;bottom: 0;left: 50%;z-index: 0;}#sk-container-id-3 div.sk-serial {display: flex;flex-direction: column;align-items: center;background-color: white;padding-right: 0.2em;padding-left: 0.2em;position: relative;}#sk-container-id-3 div.sk-item {position: relative;z-index: 1;}#sk-container-id-3 div.sk-parallel {display: flex;align-items: stretch;justify-content: center;background-color: white;position: relative;}#sk-container-id-3 div.sk-item::before, #sk-container-id-3 div.sk-parallel-item::before {content: \"\";position: absolute;border-left: 1px solid gray;box-sizing: border-box;top: 0;bottom: 0;left: 50%;z-index: -1;}#sk-container-id-3 div.sk-parallel-item {display: flex;flex-direction: column;z-index: 1;position: relative;background-color: white;}#sk-container-id-3 div.sk-parallel-item:first-child::after {align-self: flex-end;width: 50%;}#sk-container-id-3 div.sk-parallel-item:last-child::after {align-self: flex-start;width: 50%;}#sk-container-id-3 div.sk-parallel-item:only-child::after {width: 0;}#sk-container-id-3 div.sk-dashed-wrapped {border: 1px dashed gray;margin: 0 0.4em 0.5em 0.4em;box-sizing: border-box;padding-bottom: 0.4em;background-color: white;}#sk-container-id-3 div.sk-label label {font-family: monospace;font-weight: bold;display: inline-block;line-height: 1.2em;}#sk-container-id-3 div.sk-label-container {text-align: center;}#sk-container-id-3 div.sk-container {/* jupyter's `normalize.less` sets `[hidden] { display: none; }` but bootstrap.min.css set `[hidden] { display: none !important; }` so we also need the `!important` here to be able to override the default hidden behavior on the sphinx rendered scikit-learn.org. See: https://github.com/scikit-learn/scikit-learn/issues/21755 */display: inline-block !important;position: relative;}#sk-container-id-3 div.sk-text-repr-fallback {display: none;}</style><div id=\"sk-container-id-3\" class=\"sk-top-container\"><div class=\"sk-text-repr-fallback\"><pre>LinearRegression()</pre><b>In a Jupyter environment, please rerun this cell to show the HTML representation or trust the notebook. <br />On GitHub, the HTML representation is unable to render, please try loading this page with nbviewer.org.</b></div><div class=\"sk-container\" hidden><div class=\"sk-item\"><div class=\"sk-estimator sk-toggleable\"><input class=\"sk-toggleable__control sk-hidden--visually\" id=\"sk-estimator-id-3\" type=\"checkbox\" checked><label for=\"sk-estimator-id-3\" class=\"sk-toggleable__label sk-toggleable__label-arrow\">LinearRegression</label><div class=\"sk-toggleable__content\"><pre>LinearRegression()</pre></div></div></div></div></div>"
      ],
      "text/plain": [
       "LinearRegression()"
      ]
     },
     "execution_count": 47,
     "metadata": {},
     "output_type": "execute_result"
    }
   ],
   "source": [
    "model3 = LinearRegression()\n",
    "model3.fit(Xw_poly, yw)"
   ]
  },
  {
   "cell_type": "code",
   "execution_count": 48,
   "id": "6998c1b7",
   "metadata": {},
   "outputs": [
    {
     "data": {
      "text/plain": [
       "7.067057059385208"
      ]
     },
     "execution_count": 48,
     "metadata": {},
     "output_type": "execute_result"
    }
   ],
   "source": [
    "model3.intercept_"
   ]
  },
  {
   "cell_type": "code",
   "execution_count": 49,
   "id": "3117857c",
   "metadata": {},
   "outputs": [
    {
     "data": {
      "text/plain": [
       "array([-2.92364092e-07,  2.72635327e-01, -1.90037600e+01,  8.48628374e-02,\n",
       "       -4.15470455e-01,  5.53542994e-01, -5.53542965e-01,  3.37171807e+00,\n",
       "        2.19017510e+00,  1.73452849e+00,  1.99956877e-01,  3.44958576e+00,\n",
       "       -1.90686263e-03, -1.01869626e-01,  4.91124458e-04, -6.11567257e-04,\n",
       "        8.44452483e-02,  1.88198462e-01, -2.31334755e-01, -1.74634078e-01,\n",
       "       -2.06625478e-01, -1.70797168e-01, -2.02981789e-01,  6.11000046e+01,\n",
       "        3.37291836e-02,  5.28161053e-02, -1.63186252e+01, -2.68512793e+00,\n",
       "       -1.10353654e+01, -6.96044200e+00, -5.02408592e+00, -2.48994176e-01,\n",
       "       -1.99389653e+01, -2.02762323e-03, -6.17875360e-04,  1.79371867e-02,\n",
       "        6.69257446e-02, -7.45823786e-02, -2.44542324e-02, -5.46336772e-02,\n",
       "       -1.09054666e-02, -1.87913998e-01,  1.10955657e-03, -2.01411141e-01,\n",
       "       -2.14059486e-01, -1.74533883e-02, -2.01490294e-02, -1.85389726e-02,\n",
       "       -1.68003046e-02, -3.54921144e-02,  5.53542921e-01, -6.50889342e-11,\n",
       "        3.51334718e+00,  2.88677400e+00,  3.43812981e+00,  2.20495955e+00,\n",
       "        4.59898699e+00, -5.53542921e-01, -1.41628971e-01, -6.96598876e-01,\n",
       "       -1.70360128e+00, -2.00500267e+00, -1.14940120e+00,  3.37171820e+00,\n",
       "        2.79080301e-11,  3.18961350e-12,  1.41198685e-13, -7.53274179e-12,\n",
       "        2.19017512e+00, -1.54756069e-12,  4.13894613e-13, -5.97841221e-13,\n",
       "        1.73452853e+00, -4.69447051e-12,  7.94308716e-12,  1.99956885e-01,\n",
       "       -1.96558742e-12,  3.44958579e+00, -2.13442106e-04, -2.42652450e-02,\n",
       "        1.01998772e-04,  6.41891653e-06,  8.38603382e-03, -1.02928452e-02,\n",
       "        8.18649744e-03,  7.25408274e-03,  8.84110664e-03,  6.26104603e-03,\n",
       "        1.61079693e-02,  2.81396659e-01, -1.07637230e-02,  2.20433083e-04,\n",
       "        3.32969516e-01, -4.34839076e-01,  2.17806644e-01,  1.21300186e-01,\n",
       "        1.73775930e-01,  2.09794891e-01, -1.81184869e-01,  3.56380913e-05,\n",
       "       -1.63231654e-06, -4.55697346e-03,  5.04804112e-03,  6.12668835e-03,\n",
       "        4.03316181e-03,  6.41816925e-03,  3.58392849e-03,  1.37958610e-02,\n",
       "        4.40161278e-07, -2.95378635e-04, -3.16191756e-04,  1.90276176e-04,\n",
       "        1.52560332e-04,  1.35951663e-04,  2.13220595e-05,  2.10687201e-04,\n",
       "        8.44452444e-02, -3.46833673e-13, -2.13895232e-01, -1.87518222e-01,\n",
       "       -1.95941466e-01, -1.04983090e-01, -3.15344745e-01,  1.88198455e-01,\n",
       "       -1.74395168e-02,  1.28841505e-02, -1.06840130e-02, -6.58140834e-02,\n",
       "        1.12362957e-01, -2.31334749e-01,  1.03028697e-13, -2.48689958e-14,\n",
       "        7.23865412e-14, -1.16795462e-13, -1.74634072e-01, -8.17124146e-14,\n",
       "       -2.13162821e-14, -2.48689958e-14, -2.06625479e-01, -2.84217094e-14,\n",
       "        1.06581410e-14, -1.70797174e-01, -2.13162821e-14, -2.02981788e-01,\n",
       "       -5.70821013e+01, -2.44059142e-01, -1.94743911e-02,  3.72944397e+01,\n",
       "        2.38055649e+01,  1.59232328e+01,  1.12274753e+01,  5.88599958e+00,\n",
       "        1.08904528e+00,  3.17904749e+01,  1.15112521e-03,  5.53059601e-06,\n",
       "        2.75367962e-01, -2.41638773e-01,  1.21916674e-01,  3.12615459e-03,\n",
       "        1.22624116e-01, -1.50767876e-01,  5.19933451e-01, -6.51829853e-05,\n",
       "        2.92950058e-02,  2.35210927e-02,  7.88346366e-03,  8.61181342e-03,\n",
       "        6.52342502e-03,  6.38585521e-03,  2.05269206e-02, -1.63186253e+01,\n",
       "        0.00000000e+00, -7.81682275e+00, -6.24136353e+00, -7.64655586e+00,\n",
       "       -4.79945617e+00, -1.39012278e+01, -2.68512793e+00, -3.21854268e+00,\n",
       "       -7.19078477e-01,  2.62246994e+00,  4.55046199e+00, -6.03773743e+00,\n",
       "       -1.10353654e+01,  0.00000000e+00,  0.00000000e+00,  0.00000000e+00,\n",
       "        0.00000000e+00, -6.96044200e+00,  0.00000000e+00,  0.00000000e+00,\n",
       "        0.00000000e+00, -5.02408591e+00,  0.00000000e+00,  0.00000000e+00,\n",
       "       -2.48994176e-01,  0.00000000e+00, -1.99389653e+01,  2.24077230e-05,\n",
       "       -3.62360902e-06, -9.10608938e-04, -1.11701464e-03,  3.94327449e-03,\n",
       "        3.03263401e-03,  4.34069803e-03,  2.13992645e-03,  4.11637840e-03,\n",
       "        1.12590534e-06, -3.59584892e-04, -2.58284484e-04, -1.10662435e-04,\n",
       "       -1.37275369e-04, -1.23392482e-04, -4.24210972e-05, -1.78632251e-04,\n",
       "        1.79371867e-02,  0.00000000e+00, -1.28754396e-01, -8.49725038e-02,\n",
       "       -1.42127979e-01, -9.92714353e-02, -2.54669509e-01,  6.69257446e-02,\n",
       "        5.41720172e-02,  6.05182714e-02,  8.74943022e-02,  8.83659686e-02,\n",
       "        6.67555104e-02, -7.45823786e-02,  0.00000000e+00,  0.00000000e+00,\n",
       "        0.00000000e+00,  0.00000000e+00, -2.44542324e-02,  0.00000000e+00,\n",
       "        0.00000000e+00,  0.00000000e+00, -5.46336772e-02,  0.00000000e+00,\n",
       "        0.00000000e+00, -1.09054667e-02,  0.00000000e+00, -1.87913998e-01,\n",
       "       -8.30842728e-07,  5.41828118e-04,  5.67867153e-04,  3.67015446e-05,\n",
       "        4.39699478e-05,  4.09368801e-05,  3.96257691e-05,  7.06540360e-05,\n",
       "       -2.01411141e-01,  0.00000000e+00, -9.34842914e-03, -1.04762347e-02,\n",
       "       -9.20205221e-03, -7.82177267e-03, -1.94016774e-02, -2.14059486e-01,\n",
       "       -8.10495936e-03, -9.67279397e-03, -9.33692074e-03, -8.97853182e-03,\n",
       "       -1.60904375e-02, -1.74533883e-02,  0.00000000e+00,  0.00000000e+00,\n",
       "        0.00000000e+00,  0.00000000e+00, -2.01490293e-02,  0.00000000e+00,\n",
       "        0.00000000e+00,  0.00000000e+00, -1.85389725e-02,  0.00000000e+00,\n",
       "        0.00000000e+00, -1.68003046e-02,  0.00000000e+00, -3.54921144e-02,\n",
       "        5.53542921e-01,  0.00000000e+00,  3.51334718e+00,  2.88677400e+00,\n",
       "        3.43812981e+00,  2.20495955e+00,  4.59898699e+00,  0.00000000e+00,\n",
       "        0.00000000e+00,  0.00000000e+00,  0.00000000e+00,  0.00000000e+00,\n",
       "        0.00000000e+00,  3.51334718e+00,  0.00000000e+00,  0.00000000e+00,\n",
       "        0.00000000e+00,  0.00000000e+00,  2.88677400e+00,  0.00000000e+00,\n",
       "        0.00000000e+00,  0.00000000e+00,  3.43812981e+00,  0.00000000e+00,\n",
       "        0.00000000e+00,  2.20495955e+00,  0.00000000e+00,  4.59898699e+00,\n",
       "       -5.53542921e-01, -1.41628971e-01, -6.96598876e-01, -1.70360128e+00,\n",
       "       -2.00500267e+00, -1.14940120e+00, -1.41628971e-01,  0.00000000e+00,\n",
       "        0.00000000e+00,  0.00000000e+00,  0.00000000e+00, -6.96598876e-01,\n",
       "        0.00000000e+00,  0.00000000e+00,  0.00000000e+00, -1.70360128e+00,\n",
       "        0.00000000e+00,  0.00000000e+00, -2.00500267e+00,  0.00000000e+00,\n",
       "       -1.14940120e+00,  3.37171820e+00,  0.00000000e+00,  0.00000000e+00,\n",
       "        0.00000000e+00,  0.00000000e+00,  0.00000000e+00,  0.00000000e+00,\n",
       "        0.00000000e+00,  0.00000000e+00,  0.00000000e+00,  0.00000000e+00,\n",
       "        0.00000000e+00,  0.00000000e+00,  0.00000000e+00,  0.00000000e+00,\n",
       "        2.19017512e+00,  0.00000000e+00,  0.00000000e+00,  0.00000000e+00,\n",
       "        0.00000000e+00,  0.00000000e+00,  0.00000000e+00,  0.00000000e+00,\n",
       "        0.00000000e+00,  0.00000000e+00,  1.73452853e+00,  0.00000000e+00,\n",
       "        0.00000000e+00,  0.00000000e+00,  0.00000000e+00,  0.00000000e+00,\n",
       "        1.99956885e-01,  0.00000000e+00,  0.00000000e+00,  3.44958579e+00])"
      ]
     },
     "execution_count": 49,
     "metadata": {},
     "output_type": "execute_result"
    }
   ],
   "source": [
    "model3.coef_"
   ]
  },
  {
   "cell_type": "code",
   "execution_count": 50,
   "id": "14b65e38",
   "metadata": {},
   "outputs": [
    {
     "data": {
      "text/plain": [
       "array([[1.500e+01, 6.500e-01, 1.900e+01, 1.012e+03, 0.000e+00, 0.000e+00,\n",
       "        0.000e+00, 1.000e+00, 0.000e+00, 0.000e+00, 0.000e+00],\n",
       "       [1.650e+01, 3.300e-01, 2.250e+01, 1.003e+03, 0.000e+00, 0.000e+00,\n",
       "        0.000e+00, 0.000e+00, 0.000e+00, 1.000e+00, 0.000e+00]])"
      ]
     },
     "execution_count": 50,
     "metadata": {},
     "output_type": "execute_result"
    }
   ],
   "source": [
    "predict_data3 = np.array([[15, 0.65, 19, 1012, 0, 0, 0, 1, 0, 0, 0], [16.5, 0.33, 22.5, 1003, 0, 0, 0, 0, 0, 1, 0]])\n",
    "predict_data3"
   ]
  },
  {
   "cell_type": "code",
   "execution_count": 51,
   "id": "aecd447a",
   "metadata": {},
   "outputs": [
    {
     "name": "stderr",
     "output_type": "stream",
     "text": [
      "C:\\Users\\Kamil - IT\\AppData\\Local\\Programs\\Python\\Python311\\Lib\\site-packages\\sklearn\\base.py:439: UserWarning: X does not have valid feature names, but PolynomialFeatures was fitted with feature names\n",
      "  warnings.warn(\n"
     ]
    }
   ],
   "source": [
    "predict_data_poly = poly.transform(predict_data3)"
   ]
  },
  {
   "cell_type": "code",
   "execution_count": 52,
   "id": "6bd97298",
   "metadata": {},
   "outputs": [
    {
     "data": {
      "text/plain": [
       "array([[1.00000000e+00, 1.50000000e+01, 6.50000000e-01, 1.90000000e+01,\n",
       "        1.01200000e+03, 0.00000000e+00, 0.00000000e+00, 0.00000000e+00,\n",
       "        1.00000000e+00, 0.00000000e+00, 0.00000000e+00, 0.00000000e+00,\n",
       "        2.25000000e+02, 9.75000000e+00, 2.85000000e+02, 1.51800000e+04,\n",
       "        0.00000000e+00, 0.00000000e+00, 0.00000000e+00, 1.50000000e+01,\n",
       "        0.00000000e+00, 0.00000000e+00, 0.00000000e+00, 4.22500000e-01,\n",
       "        1.23500000e+01, 6.57800000e+02, 0.00000000e+00, 0.00000000e+00,\n",
       "        0.00000000e+00, 6.50000000e-01, 0.00000000e+00, 0.00000000e+00,\n",
       "        0.00000000e+00, 3.61000000e+02, 1.92280000e+04, 0.00000000e+00,\n",
       "        0.00000000e+00, 0.00000000e+00, 1.90000000e+01, 0.00000000e+00,\n",
       "        0.00000000e+00, 0.00000000e+00, 1.02414400e+06, 0.00000000e+00,\n",
       "        0.00000000e+00, 0.00000000e+00, 1.01200000e+03, 0.00000000e+00,\n",
       "        0.00000000e+00, 0.00000000e+00, 0.00000000e+00, 0.00000000e+00,\n",
       "        0.00000000e+00, 0.00000000e+00, 0.00000000e+00, 0.00000000e+00,\n",
       "        0.00000000e+00, 0.00000000e+00, 0.00000000e+00, 0.00000000e+00,\n",
       "        0.00000000e+00, 0.00000000e+00, 0.00000000e+00, 0.00000000e+00,\n",
       "        0.00000000e+00, 0.00000000e+00, 0.00000000e+00, 0.00000000e+00,\n",
       "        1.00000000e+00, 0.00000000e+00, 0.00000000e+00, 0.00000000e+00,\n",
       "        0.00000000e+00, 0.00000000e+00, 0.00000000e+00, 0.00000000e+00,\n",
       "        0.00000000e+00, 0.00000000e+00, 3.37500000e+03, 1.46250000e+02,\n",
       "        4.27500000e+03, 2.27700000e+05, 0.00000000e+00, 0.00000000e+00,\n",
       "        0.00000000e+00, 2.25000000e+02, 0.00000000e+00, 0.00000000e+00,\n",
       "        0.00000000e+00, 6.33750000e+00, 1.85250000e+02, 9.86700000e+03,\n",
       "        0.00000000e+00, 0.00000000e+00, 0.00000000e+00, 9.75000000e+00,\n",
       "        0.00000000e+00, 0.00000000e+00, 0.00000000e+00, 5.41500000e+03,\n",
       "        2.88420000e+05, 0.00000000e+00, 0.00000000e+00, 0.00000000e+00,\n",
       "        2.85000000e+02, 0.00000000e+00, 0.00000000e+00, 0.00000000e+00,\n",
       "        1.53621600e+07, 0.00000000e+00, 0.00000000e+00, 0.00000000e+00,\n",
       "        1.51800000e+04, 0.00000000e+00, 0.00000000e+00, 0.00000000e+00,\n",
       "        0.00000000e+00, 0.00000000e+00, 0.00000000e+00, 0.00000000e+00,\n",
       "        0.00000000e+00, 0.00000000e+00, 0.00000000e+00, 0.00000000e+00,\n",
       "        0.00000000e+00, 0.00000000e+00, 0.00000000e+00, 0.00000000e+00,\n",
       "        0.00000000e+00, 0.00000000e+00, 0.00000000e+00, 0.00000000e+00,\n",
       "        0.00000000e+00, 0.00000000e+00, 1.50000000e+01, 0.00000000e+00,\n",
       "        0.00000000e+00, 0.00000000e+00, 0.00000000e+00, 0.00000000e+00,\n",
       "        0.00000000e+00, 0.00000000e+00, 0.00000000e+00, 0.00000000e+00,\n",
       "        2.74625000e-01, 8.02750000e+00, 4.27570000e+02, 0.00000000e+00,\n",
       "        0.00000000e+00, 0.00000000e+00, 4.22500000e-01, 0.00000000e+00,\n",
       "        0.00000000e+00, 0.00000000e+00, 2.34650000e+02, 1.24982000e+04,\n",
       "        0.00000000e+00, 0.00000000e+00, 0.00000000e+00, 1.23500000e+01,\n",
       "        0.00000000e+00, 0.00000000e+00, 0.00000000e+00, 6.65693600e+05,\n",
       "        0.00000000e+00, 0.00000000e+00, 0.00000000e+00, 6.57800000e+02,\n",
       "        0.00000000e+00, 0.00000000e+00, 0.00000000e+00, 0.00000000e+00,\n",
       "        0.00000000e+00, 0.00000000e+00, 0.00000000e+00, 0.00000000e+00,\n",
       "        0.00000000e+00, 0.00000000e+00, 0.00000000e+00, 0.00000000e+00,\n",
       "        0.00000000e+00, 0.00000000e+00, 0.00000000e+00, 0.00000000e+00,\n",
       "        0.00000000e+00, 0.00000000e+00, 0.00000000e+00, 0.00000000e+00,\n",
       "        0.00000000e+00, 6.50000000e-01, 0.00000000e+00, 0.00000000e+00,\n",
       "        0.00000000e+00, 0.00000000e+00, 0.00000000e+00, 0.00000000e+00,\n",
       "        0.00000000e+00, 0.00000000e+00, 0.00000000e+00, 6.85900000e+03,\n",
       "        3.65332000e+05, 0.00000000e+00, 0.00000000e+00, 0.00000000e+00,\n",
       "        3.61000000e+02, 0.00000000e+00, 0.00000000e+00, 0.00000000e+00,\n",
       "        1.94587360e+07, 0.00000000e+00, 0.00000000e+00, 0.00000000e+00,\n",
       "        1.92280000e+04, 0.00000000e+00, 0.00000000e+00, 0.00000000e+00,\n",
       "        0.00000000e+00, 0.00000000e+00, 0.00000000e+00, 0.00000000e+00,\n",
       "        0.00000000e+00, 0.00000000e+00, 0.00000000e+00, 0.00000000e+00,\n",
       "        0.00000000e+00, 0.00000000e+00, 0.00000000e+00, 0.00000000e+00,\n",
       "        0.00000000e+00, 0.00000000e+00, 0.00000000e+00, 0.00000000e+00,\n",
       "        0.00000000e+00, 0.00000000e+00, 1.90000000e+01, 0.00000000e+00,\n",
       "        0.00000000e+00, 0.00000000e+00, 0.00000000e+00, 0.00000000e+00,\n",
       "        0.00000000e+00, 0.00000000e+00, 0.00000000e+00, 0.00000000e+00,\n",
       "        1.03643373e+09, 0.00000000e+00, 0.00000000e+00, 0.00000000e+00,\n",
       "        1.02414400e+06, 0.00000000e+00, 0.00000000e+00, 0.00000000e+00,\n",
       "        0.00000000e+00, 0.00000000e+00, 0.00000000e+00, 0.00000000e+00,\n",
       "        0.00000000e+00, 0.00000000e+00, 0.00000000e+00, 0.00000000e+00,\n",
       "        0.00000000e+00, 0.00000000e+00, 0.00000000e+00, 0.00000000e+00,\n",
       "        0.00000000e+00, 0.00000000e+00, 0.00000000e+00, 0.00000000e+00,\n",
       "        0.00000000e+00, 0.00000000e+00, 1.01200000e+03, 0.00000000e+00,\n",
       "        0.00000000e+00, 0.00000000e+00, 0.00000000e+00, 0.00000000e+00,\n",
       "        0.00000000e+00, 0.00000000e+00, 0.00000000e+00, 0.00000000e+00,\n",
       "        0.00000000e+00, 0.00000000e+00, 0.00000000e+00, 0.00000000e+00,\n",
       "        0.00000000e+00, 0.00000000e+00, 0.00000000e+00, 0.00000000e+00,\n",
       "        0.00000000e+00, 0.00000000e+00, 0.00000000e+00, 0.00000000e+00,\n",
       "        0.00000000e+00, 0.00000000e+00, 0.00000000e+00, 0.00000000e+00,\n",
       "        0.00000000e+00, 0.00000000e+00, 0.00000000e+00, 0.00000000e+00,\n",
       "        0.00000000e+00, 0.00000000e+00, 0.00000000e+00, 0.00000000e+00,\n",
       "        0.00000000e+00, 0.00000000e+00, 0.00000000e+00, 0.00000000e+00,\n",
       "        0.00000000e+00, 0.00000000e+00, 0.00000000e+00, 0.00000000e+00,\n",
       "        0.00000000e+00, 0.00000000e+00, 0.00000000e+00, 0.00000000e+00,\n",
       "        0.00000000e+00, 0.00000000e+00, 0.00000000e+00, 0.00000000e+00,\n",
       "        0.00000000e+00, 0.00000000e+00, 0.00000000e+00, 0.00000000e+00,\n",
       "        0.00000000e+00, 0.00000000e+00, 0.00000000e+00, 0.00000000e+00,\n",
       "        0.00000000e+00, 0.00000000e+00, 0.00000000e+00, 0.00000000e+00,\n",
       "        0.00000000e+00, 0.00000000e+00, 0.00000000e+00, 0.00000000e+00,\n",
       "        0.00000000e+00, 0.00000000e+00, 0.00000000e+00, 0.00000000e+00,\n",
       "        0.00000000e+00, 0.00000000e+00, 0.00000000e+00, 0.00000000e+00,\n",
       "        1.00000000e+00, 0.00000000e+00, 0.00000000e+00, 0.00000000e+00,\n",
       "        0.00000000e+00, 0.00000000e+00, 0.00000000e+00, 0.00000000e+00,\n",
       "        0.00000000e+00, 0.00000000e+00, 0.00000000e+00, 0.00000000e+00,\n",
       "        0.00000000e+00, 0.00000000e+00, 0.00000000e+00, 0.00000000e+00,\n",
       "        0.00000000e+00, 0.00000000e+00, 0.00000000e+00, 0.00000000e+00],\n",
       "       [1.00000000e+00, 1.65000000e+01, 3.30000000e-01, 2.25000000e+01,\n",
       "        1.00300000e+03, 0.00000000e+00, 0.00000000e+00, 0.00000000e+00,\n",
       "        0.00000000e+00, 0.00000000e+00, 1.00000000e+00, 0.00000000e+00,\n",
       "        2.72250000e+02, 5.44500000e+00, 3.71250000e+02, 1.65495000e+04,\n",
       "        0.00000000e+00, 0.00000000e+00, 0.00000000e+00, 0.00000000e+00,\n",
       "        0.00000000e+00, 1.65000000e+01, 0.00000000e+00, 1.08900000e-01,\n",
       "        7.42500000e+00, 3.30990000e+02, 0.00000000e+00, 0.00000000e+00,\n",
       "        0.00000000e+00, 0.00000000e+00, 0.00000000e+00, 3.30000000e-01,\n",
       "        0.00000000e+00, 5.06250000e+02, 2.25675000e+04, 0.00000000e+00,\n",
       "        0.00000000e+00, 0.00000000e+00, 0.00000000e+00, 0.00000000e+00,\n",
       "        2.25000000e+01, 0.00000000e+00, 1.00600900e+06, 0.00000000e+00,\n",
       "        0.00000000e+00, 0.00000000e+00, 0.00000000e+00, 0.00000000e+00,\n",
       "        1.00300000e+03, 0.00000000e+00, 0.00000000e+00, 0.00000000e+00,\n",
       "        0.00000000e+00, 0.00000000e+00, 0.00000000e+00, 0.00000000e+00,\n",
       "        0.00000000e+00, 0.00000000e+00, 0.00000000e+00, 0.00000000e+00,\n",
       "        0.00000000e+00, 0.00000000e+00, 0.00000000e+00, 0.00000000e+00,\n",
       "        0.00000000e+00, 0.00000000e+00, 0.00000000e+00, 0.00000000e+00,\n",
       "        0.00000000e+00, 0.00000000e+00, 0.00000000e+00, 0.00000000e+00,\n",
       "        0.00000000e+00, 0.00000000e+00, 0.00000000e+00, 1.00000000e+00,\n",
       "        0.00000000e+00, 0.00000000e+00, 4.49212500e+03, 8.98425000e+01,\n",
       "        6.12562500e+03, 2.73066750e+05, 0.00000000e+00, 0.00000000e+00,\n",
       "        0.00000000e+00, 0.00000000e+00, 0.00000000e+00, 2.72250000e+02,\n",
       "        0.00000000e+00, 1.79685000e+00, 1.22512500e+02, 5.46133500e+03,\n",
       "        0.00000000e+00, 0.00000000e+00, 0.00000000e+00, 0.00000000e+00,\n",
       "        0.00000000e+00, 5.44500000e+00, 0.00000000e+00, 8.35312500e+03,\n",
       "        3.72363750e+05, 0.00000000e+00, 0.00000000e+00, 0.00000000e+00,\n",
       "        0.00000000e+00, 0.00000000e+00, 3.71250000e+02, 0.00000000e+00,\n",
       "        1.65991485e+07, 0.00000000e+00, 0.00000000e+00, 0.00000000e+00,\n",
       "        0.00000000e+00, 0.00000000e+00, 1.65495000e+04, 0.00000000e+00,\n",
       "        0.00000000e+00, 0.00000000e+00, 0.00000000e+00, 0.00000000e+00,\n",
       "        0.00000000e+00, 0.00000000e+00, 0.00000000e+00, 0.00000000e+00,\n",
       "        0.00000000e+00, 0.00000000e+00, 0.00000000e+00, 0.00000000e+00,\n",
       "        0.00000000e+00, 0.00000000e+00, 0.00000000e+00, 0.00000000e+00,\n",
       "        0.00000000e+00, 0.00000000e+00, 0.00000000e+00, 0.00000000e+00,\n",
       "        0.00000000e+00, 0.00000000e+00, 0.00000000e+00, 0.00000000e+00,\n",
       "        0.00000000e+00, 1.65000000e+01, 0.00000000e+00, 0.00000000e+00,\n",
       "        3.59370000e-02, 2.45025000e+00, 1.09226700e+02, 0.00000000e+00,\n",
       "        0.00000000e+00, 0.00000000e+00, 0.00000000e+00, 0.00000000e+00,\n",
       "        1.08900000e-01, 0.00000000e+00, 1.67062500e+02, 7.44727500e+03,\n",
       "        0.00000000e+00, 0.00000000e+00, 0.00000000e+00, 0.00000000e+00,\n",
       "        0.00000000e+00, 7.42500000e+00, 0.00000000e+00, 3.31982970e+05,\n",
       "        0.00000000e+00, 0.00000000e+00, 0.00000000e+00, 0.00000000e+00,\n",
       "        0.00000000e+00, 3.30990000e+02, 0.00000000e+00, 0.00000000e+00,\n",
       "        0.00000000e+00, 0.00000000e+00, 0.00000000e+00, 0.00000000e+00,\n",
       "        0.00000000e+00, 0.00000000e+00, 0.00000000e+00, 0.00000000e+00,\n",
       "        0.00000000e+00, 0.00000000e+00, 0.00000000e+00, 0.00000000e+00,\n",
       "        0.00000000e+00, 0.00000000e+00, 0.00000000e+00, 0.00000000e+00,\n",
       "        0.00000000e+00, 0.00000000e+00, 0.00000000e+00, 0.00000000e+00,\n",
       "        0.00000000e+00, 0.00000000e+00, 0.00000000e+00, 0.00000000e+00,\n",
       "        3.30000000e-01, 0.00000000e+00, 0.00000000e+00, 1.13906250e+04,\n",
       "        5.07768750e+05, 0.00000000e+00, 0.00000000e+00, 0.00000000e+00,\n",
       "        0.00000000e+00, 0.00000000e+00, 5.06250000e+02, 0.00000000e+00,\n",
       "        2.26352025e+07, 0.00000000e+00, 0.00000000e+00, 0.00000000e+00,\n",
       "        0.00000000e+00, 0.00000000e+00, 2.25675000e+04, 0.00000000e+00,\n",
       "        0.00000000e+00, 0.00000000e+00, 0.00000000e+00, 0.00000000e+00,\n",
       "        0.00000000e+00, 0.00000000e+00, 0.00000000e+00, 0.00000000e+00,\n",
       "        0.00000000e+00, 0.00000000e+00, 0.00000000e+00, 0.00000000e+00,\n",
       "        0.00000000e+00, 0.00000000e+00, 0.00000000e+00, 0.00000000e+00,\n",
       "        0.00000000e+00, 0.00000000e+00, 0.00000000e+00, 0.00000000e+00,\n",
       "        0.00000000e+00, 0.00000000e+00, 0.00000000e+00, 0.00000000e+00,\n",
       "        0.00000000e+00, 2.25000000e+01, 0.00000000e+00, 0.00000000e+00,\n",
       "        1.00902703e+09, 0.00000000e+00, 0.00000000e+00, 0.00000000e+00,\n",
       "        0.00000000e+00, 0.00000000e+00, 1.00600900e+06, 0.00000000e+00,\n",
       "        0.00000000e+00, 0.00000000e+00, 0.00000000e+00, 0.00000000e+00,\n",
       "        0.00000000e+00, 0.00000000e+00, 0.00000000e+00, 0.00000000e+00,\n",
       "        0.00000000e+00, 0.00000000e+00, 0.00000000e+00, 0.00000000e+00,\n",
       "        0.00000000e+00, 0.00000000e+00, 0.00000000e+00, 0.00000000e+00,\n",
       "        0.00000000e+00, 0.00000000e+00, 0.00000000e+00, 0.00000000e+00,\n",
       "        0.00000000e+00, 0.00000000e+00, 0.00000000e+00, 0.00000000e+00,\n",
       "        0.00000000e+00, 1.00300000e+03, 0.00000000e+00, 0.00000000e+00,\n",
       "        0.00000000e+00, 0.00000000e+00, 0.00000000e+00, 0.00000000e+00,\n",
       "        0.00000000e+00, 0.00000000e+00, 0.00000000e+00, 0.00000000e+00,\n",
       "        0.00000000e+00, 0.00000000e+00, 0.00000000e+00, 0.00000000e+00,\n",
       "        0.00000000e+00, 0.00000000e+00, 0.00000000e+00, 0.00000000e+00,\n",
       "        0.00000000e+00, 0.00000000e+00, 0.00000000e+00, 0.00000000e+00,\n",
       "        0.00000000e+00, 0.00000000e+00, 0.00000000e+00, 0.00000000e+00,\n",
       "        0.00000000e+00, 0.00000000e+00, 0.00000000e+00, 0.00000000e+00,\n",
       "        0.00000000e+00, 0.00000000e+00, 0.00000000e+00, 0.00000000e+00,\n",
       "        0.00000000e+00, 0.00000000e+00, 0.00000000e+00, 0.00000000e+00,\n",
       "        0.00000000e+00, 0.00000000e+00, 0.00000000e+00, 0.00000000e+00,\n",
       "        0.00000000e+00, 0.00000000e+00, 0.00000000e+00, 0.00000000e+00,\n",
       "        0.00000000e+00, 0.00000000e+00, 0.00000000e+00, 0.00000000e+00,\n",
       "        0.00000000e+00, 0.00000000e+00, 0.00000000e+00, 0.00000000e+00,\n",
       "        0.00000000e+00, 0.00000000e+00, 0.00000000e+00, 0.00000000e+00,\n",
       "        0.00000000e+00, 0.00000000e+00, 0.00000000e+00, 0.00000000e+00,\n",
       "        0.00000000e+00, 0.00000000e+00, 0.00000000e+00, 0.00000000e+00,\n",
       "        0.00000000e+00, 0.00000000e+00, 0.00000000e+00, 0.00000000e+00,\n",
       "        0.00000000e+00, 0.00000000e+00, 0.00000000e+00, 0.00000000e+00,\n",
       "        0.00000000e+00, 0.00000000e+00, 0.00000000e+00, 0.00000000e+00,\n",
       "        0.00000000e+00, 0.00000000e+00, 0.00000000e+00, 0.00000000e+00,\n",
       "        1.00000000e+00, 0.00000000e+00, 0.00000000e+00, 0.00000000e+00]])"
      ]
     },
     "execution_count": 52,
     "metadata": {},
     "output_type": "execute_result"
    }
   ],
   "source": [
    "predict_data_poly"
   ]
  },
  {
   "cell_type": "code",
   "execution_count": 53,
   "id": "bc15aeb3",
   "metadata": {},
   "outputs": [
    {
     "data": {
      "text/plain": [
       "array([-138.4250869 , -122.64568908])"
      ]
     },
     "execution_count": 53,
     "metadata": {},
     "output_type": "execute_result"
    }
   ],
   "source": [
    "model3.predict(predict_data_poly)"
   ]
  },
  {
   "cell_type": "code",
   "execution_count": null,
   "id": "b583d254",
   "metadata": {},
   "outputs": [],
   "source": [
    "# Występują wartości irracjonalne. \n",
    "\n",
    "# Irrational values occur. "
   ]
  },
  {
   "cell_type": "markdown",
   "id": "60517e9d",
   "metadata": {},
   "source": []
  },
  {
   "cell_type": "code",
   "execution_count": 54,
   "id": "97848dd4",
   "metadata": {},
   "outputs": [],
   "source": [
    "yw_predict = model3.predict(Xw_poly)"
   ]
  },
  {
   "cell_type": "code",
   "execution_count": 55,
   "id": "cf18ddc8",
   "metadata": {},
   "outputs": [
    {
     "name": "stdout",
     "output_type": "stream",
     "text": [
      "R2: 0.5454334429263288\n"
     ]
    }
   ],
   "source": [
    "print(\"R2:\", r2_score(yw, yw_predict))"
   ]
  },
  {
   "cell_type": "code",
   "execution_count": 56,
   "id": "95f2f6f2",
   "metadata": {},
   "outputs": [
    {
     "name": "stdout",
     "output_type": "stream",
     "text": [
      "MAE: 2.330420842347345\n"
     ]
    }
   ],
   "source": [
    "print(\"MAE:\", mean_absolute_error(yw, yw_predict))"
   ]
  },
  {
   "cell_type": "code",
   "execution_count": 84,
   "id": "e0f885f8",
   "metadata": {},
   "outputs": [],
   "source": [
    "from sklearn.model_selection import train_test_split"
   ]
  },
  {
   "cell_type": "code",
   "execution_count": 86,
   "id": "39ee979b",
   "metadata": {},
   "outputs": [],
   "source": [
    "Xw_poly_train, Xw_poly_test, yw_train, yw_test = train_test_split(Xw_poly, yw, test_size=0.2, random_state=42)"
   ]
  },
  {
   "cell_type": "code",
   "execution_count": 87,
   "id": "69a59aac",
   "metadata": {},
   "outputs": [
    {
     "data": {
      "text/html": [
       "<style>#sk-container-id-6 {color: black;background-color: white;}#sk-container-id-6 pre{padding: 0;}#sk-container-id-6 div.sk-toggleable {background-color: white;}#sk-container-id-6 label.sk-toggleable__label {cursor: pointer;display: block;width: 100%;margin-bottom: 0;padding: 0.3em;box-sizing: border-box;text-align: center;}#sk-container-id-6 label.sk-toggleable__label-arrow:before {content: \"▸\";float: left;margin-right: 0.25em;color: #696969;}#sk-container-id-6 label.sk-toggleable__label-arrow:hover:before {color: black;}#sk-container-id-6 div.sk-estimator:hover label.sk-toggleable__label-arrow:before {color: black;}#sk-container-id-6 div.sk-toggleable__content {max-height: 0;max-width: 0;overflow: hidden;text-align: left;background-color: #f0f8ff;}#sk-container-id-6 div.sk-toggleable__content pre {margin: 0.2em;color: black;border-radius: 0.25em;background-color: #f0f8ff;}#sk-container-id-6 input.sk-toggleable__control:checked~div.sk-toggleable__content {max-height: 200px;max-width: 100%;overflow: auto;}#sk-container-id-6 input.sk-toggleable__control:checked~label.sk-toggleable__label-arrow:before {content: \"▾\";}#sk-container-id-6 div.sk-estimator input.sk-toggleable__control:checked~label.sk-toggleable__label {background-color: #d4ebff;}#sk-container-id-6 div.sk-label input.sk-toggleable__control:checked~label.sk-toggleable__label {background-color: #d4ebff;}#sk-container-id-6 input.sk-hidden--visually {border: 0;clip: rect(1px 1px 1px 1px);clip: rect(1px, 1px, 1px, 1px);height: 1px;margin: -1px;overflow: hidden;padding: 0;position: absolute;width: 1px;}#sk-container-id-6 div.sk-estimator {font-family: monospace;background-color: #f0f8ff;border: 1px dotted black;border-radius: 0.25em;box-sizing: border-box;margin-bottom: 0.5em;}#sk-container-id-6 div.sk-estimator:hover {background-color: #d4ebff;}#sk-container-id-6 div.sk-parallel-item::after {content: \"\";width: 100%;border-bottom: 1px solid gray;flex-grow: 1;}#sk-container-id-6 div.sk-label:hover label.sk-toggleable__label {background-color: #d4ebff;}#sk-container-id-6 div.sk-serial::before {content: \"\";position: absolute;border-left: 1px solid gray;box-sizing: border-box;top: 0;bottom: 0;left: 50%;z-index: 0;}#sk-container-id-6 div.sk-serial {display: flex;flex-direction: column;align-items: center;background-color: white;padding-right: 0.2em;padding-left: 0.2em;position: relative;}#sk-container-id-6 div.sk-item {position: relative;z-index: 1;}#sk-container-id-6 div.sk-parallel {display: flex;align-items: stretch;justify-content: center;background-color: white;position: relative;}#sk-container-id-6 div.sk-item::before, #sk-container-id-6 div.sk-parallel-item::before {content: \"\";position: absolute;border-left: 1px solid gray;box-sizing: border-box;top: 0;bottom: 0;left: 50%;z-index: -1;}#sk-container-id-6 div.sk-parallel-item {display: flex;flex-direction: column;z-index: 1;position: relative;background-color: white;}#sk-container-id-6 div.sk-parallel-item:first-child::after {align-self: flex-end;width: 50%;}#sk-container-id-6 div.sk-parallel-item:last-child::after {align-self: flex-start;width: 50%;}#sk-container-id-6 div.sk-parallel-item:only-child::after {width: 0;}#sk-container-id-6 div.sk-dashed-wrapped {border: 1px dashed gray;margin: 0 0.4em 0.5em 0.4em;box-sizing: border-box;padding-bottom: 0.4em;background-color: white;}#sk-container-id-6 div.sk-label label {font-family: monospace;font-weight: bold;display: inline-block;line-height: 1.2em;}#sk-container-id-6 div.sk-label-container {text-align: center;}#sk-container-id-6 div.sk-container {/* jupyter's `normalize.less` sets `[hidden] { display: none; }` but bootstrap.min.css set `[hidden] { display: none !important; }` so we also need the `!important` here to be able to override the default hidden behavior on the sphinx rendered scikit-learn.org. See: https://github.com/scikit-learn/scikit-learn/issues/21755 */display: inline-block !important;position: relative;}#sk-container-id-6 div.sk-text-repr-fallback {display: none;}</style><div id=\"sk-container-id-6\" class=\"sk-top-container\"><div class=\"sk-text-repr-fallback\"><pre>LinearRegression()</pre><b>In a Jupyter environment, please rerun this cell to show the HTML representation or trust the notebook. <br />On GitHub, the HTML representation is unable to render, please try loading this page with nbviewer.org.</b></div><div class=\"sk-container\" hidden><div class=\"sk-item\"><div class=\"sk-estimator sk-toggleable\"><input class=\"sk-toggleable__control sk-hidden--visually\" id=\"sk-estimator-id-6\" type=\"checkbox\" checked><label for=\"sk-estimator-id-6\" class=\"sk-toggleable__label sk-toggleable__label-arrow\">LinearRegression</label><div class=\"sk-toggleable__content\"><pre>LinearRegression()</pre></div></div></div></div></div>"
      ],
      "text/plain": [
       "LinearRegression()"
      ]
     },
     "execution_count": 87,
     "metadata": {},
     "output_type": "execute_result"
    }
   ],
   "source": [
    "model3a = LinearRegression()\n",
    "model3a.fit(Xw_poly_train, yw_train)"
   ]
  },
  {
   "cell_type": "code",
   "execution_count": 88,
   "id": "5fe0063c",
   "metadata": {},
   "outputs": [],
   "source": [
    "yw_predict1 = model3a.predict(Xw_poly_test)"
   ]
  },
  {
   "cell_type": "code",
   "execution_count": 89,
   "id": "3a29feb9",
   "metadata": {},
   "outputs": [
    {
     "name": "stdout",
     "output_type": "stream",
     "text": [
      "MAE - train_test_split: 2.340545761813752\n"
     ]
    }
   ],
   "source": [
    "print(\"MAE - train_test_split:\", mean_absolute_error(yw_test, yw_predict1))"
   ]
  },
  {
   "cell_type": "markdown",
   "id": "4b3ebb28",
   "metadata": {},
   "source": []
  },
  {
   "cell_type": "code",
   "execution_count": 57,
   "id": "7e4b75b1",
   "metadata": {},
   "outputs": [
    {
     "name": "stdout",
     "output_type": "stream",
     "text": [
      "MAPE: 81083402916230.56\n"
     ]
    }
   ],
   "source": [
    "print(\"MAPE:\", mean_absolute_percentage_error(yw, yw_predict))"
   ]
  },
  {
   "cell_type": "code",
   "execution_count": 90,
   "id": "7c964ac3",
   "metadata": {},
   "outputs": [
    {
     "name": "stdout",
     "output_type": "stream",
     "text": [
      "MAPE - train_test_split: 87671348721064.66\n"
     ]
    }
   ],
   "source": [
    "print(\"MAPE - train_test_split:\", mean_absolute_percentage_error(yw_test, yw_predict1))"
   ]
  },
  {
   "cell_type": "markdown",
   "id": "77ac161b",
   "metadata": {},
   "source": []
  },
  {
   "cell_type": "code",
   "execution_count": 58,
   "id": "62cf8efe",
   "metadata": {},
   "outputs": [
    {
     "name": "stdout",
     "output_type": "stream",
     "text": [
      "MSE: 7.919695155295207\n"
     ]
    }
   ],
   "source": [
    "print(\"MSE:\", mean_squared_error(yw, yw_predict))"
   ]
  },
  {
   "cell_type": "code",
   "execution_count": 91,
   "id": "d414c34a",
   "metadata": {},
   "outputs": [
    {
     "name": "stdout",
     "output_type": "stream",
     "text": [
      "MSE - train_test_split: 8.0115106534551\n"
     ]
    }
   ],
   "source": [
    "print(\"MSE - train_test_split:\", mean_squared_error(yw_test, yw_predict1))"
   ]
  },
  {
   "cell_type": "markdown",
   "id": "c0cf8a74",
   "metadata": {},
   "source": []
  },
  {
   "cell_type": "code",
   "execution_count": 59,
   "id": "2cd21cee",
   "metadata": {},
   "outputs": [
    {
     "name": "stdout",
     "output_type": "stream",
     "text": [
      "RMSE: 2.814195294448345\n"
     ]
    }
   ],
   "source": [
    "print(\"RMSE:\", mean_squared_error(yw, yw_predict, squared=False))"
   ]
  },
  {
   "cell_type": "code",
   "execution_count": 92,
   "id": "2fabfa69",
   "metadata": {},
   "outputs": [
    {
     "name": "stdout",
     "output_type": "stream",
     "text": [
      "RMSE - train_test_split: 2.8304612086116108\n"
     ]
    }
   ],
   "source": [
    "print(\"RMSE - train_test_split:\", mean_squared_error(yw_test, yw_predict1, squared=False))"
   ]
  },
  {
   "cell_type": "markdown",
   "id": "00c03bc1",
   "metadata": {},
   "source": []
  },
  {
   "cell_type": "markdown",
   "id": "83a6e471",
   "metadata": {},
   "source": [
    "                                             Drzewo decyzyjne (wielu zmiennych):\n",
    "                                             \n",
    "                                               Decision Tree (multi-variable):"
   ]
  },
  {
   "cell_type": "markdown",
   "id": "07dc0d09",
   "metadata": {},
   "source": []
  },
  {
   "cell_type": "code",
   "execution_count": 60,
   "id": "6a43d19a",
   "metadata": {},
   "outputs": [],
   "source": [
    "from sklearn.tree import DecisionTreeRegressor"
   ]
  },
  {
   "cell_type": "code",
   "execution_count": 61,
   "id": "df773b22",
   "metadata": {},
   "outputs": [],
   "source": [
    "Xd = dfMod[['temp', 'hum', 'windsp', 'pres', 'rain', 'snow', 'mosclou', 'parclou', 'overcast', 'clear', 'foggy']]\n",
    "yd = dfMod['vis']"
   ]
  },
  {
   "cell_type": "code",
   "execution_count": 62,
   "id": "2a3669e9",
   "metadata": {},
   "outputs": [
    {
     "data": {
      "text/plain": [
       "array([[9.47000e+00, 8.90000e-01, 1.41200e+01, 1.01513e+03, 1.00000e+00,\n",
       "        0.00000e+00, 0.00000e+00, 1.00000e+00, 0.00000e+00, 0.00000e+00,\n",
       "        0.00000e+00],\n",
       "       [9.36000e+00, 8.60000e-01, 1.42600e+01, 1.01563e+03, 1.00000e+00,\n",
       "        0.00000e+00, 0.00000e+00, 1.00000e+00, 0.00000e+00, 0.00000e+00,\n",
       "        0.00000e+00],\n",
       "       [9.38000e+00, 8.90000e-01, 3.93000e+00, 1.01594e+03, 1.00000e+00,\n",
       "        0.00000e+00, 1.00000e+00, 0.00000e+00, 0.00000e+00, 0.00000e+00,\n",
       "        0.00000e+00],\n",
       "       [8.29000e+00, 8.30000e-01, 1.41000e+01, 1.01641e+03, 1.00000e+00,\n",
       "        0.00000e+00, 0.00000e+00, 1.00000e+00, 0.00000e+00, 0.00000e+00,\n",
       "        0.00000e+00],\n",
       "       [8.76000e+00, 8.30000e-01, 1.10400e+01, 1.01651e+03, 1.00000e+00,\n",
       "        0.00000e+00, 1.00000e+00, 0.00000e+00, 0.00000e+00, 0.00000e+00,\n",
       "        0.00000e+00]])"
      ]
     },
     "execution_count": 62,
     "metadata": {},
     "output_type": "execute_result"
    }
   ],
   "source": [
    "Xd.values[:5]"
   ]
  },
  {
   "cell_type": "code",
   "execution_count": 63,
   "id": "000fb1a7",
   "metadata": {},
   "outputs": [
    {
     "data": {
      "text/plain": [
       "array([15.83, 15.83, 14.96, 15.83, 15.83])"
      ]
     },
     "execution_count": 63,
     "metadata": {},
     "output_type": "execute_result"
    }
   ],
   "source": [
    "yd.values[:5]"
   ]
  },
  {
   "cell_type": "code",
   "execution_count": 64,
   "id": "1ee3f702",
   "metadata": {},
   "outputs": [
    {
     "data": {
      "text/html": [
       "<style>#sk-container-id-4 {color: black;background-color: white;}#sk-container-id-4 pre{padding: 0;}#sk-container-id-4 div.sk-toggleable {background-color: white;}#sk-container-id-4 label.sk-toggleable__label {cursor: pointer;display: block;width: 100%;margin-bottom: 0;padding: 0.3em;box-sizing: border-box;text-align: center;}#sk-container-id-4 label.sk-toggleable__label-arrow:before {content: \"▸\";float: left;margin-right: 0.25em;color: #696969;}#sk-container-id-4 label.sk-toggleable__label-arrow:hover:before {color: black;}#sk-container-id-4 div.sk-estimator:hover label.sk-toggleable__label-arrow:before {color: black;}#sk-container-id-4 div.sk-toggleable__content {max-height: 0;max-width: 0;overflow: hidden;text-align: left;background-color: #f0f8ff;}#sk-container-id-4 div.sk-toggleable__content pre {margin: 0.2em;color: black;border-radius: 0.25em;background-color: #f0f8ff;}#sk-container-id-4 input.sk-toggleable__control:checked~div.sk-toggleable__content {max-height: 200px;max-width: 100%;overflow: auto;}#sk-container-id-4 input.sk-toggleable__control:checked~label.sk-toggleable__label-arrow:before {content: \"▾\";}#sk-container-id-4 div.sk-estimator input.sk-toggleable__control:checked~label.sk-toggleable__label {background-color: #d4ebff;}#sk-container-id-4 div.sk-label input.sk-toggleable__control:checked~label.sk-toggleable__label {background-color: #d4ebff;}#sk-container-id-4 input.sk-hidden--visually {border: 0;clip: rect(1px 1px 1px 1px);clip: rect(1px, 1px, 1px, 1px);height: 1px;margin: -1px;overflow: hidden;padding: 0;position: absolute;width: 1px;}#sk-container-id-4 div.sk-estimator {font-family: monospace;background-color: #f0f8ff;border: 1px dotted black;border-radius: 0.25em;box-sizing: border-box;margin-bottom: 0.5em;}#sk-container-id-4 div.sk-estimator:hover {background-color: #d4ebff;}#sk-container-id-4 div.sk-parallel-item::after {content: \"\";width: 100%;border-bottom: 1px solid gray;flex-grow: 1;}#sk-container-id-4 div.sk-label:hover label.sk-toggleable__label {background-color: #d4ebff;}#sk-container-id-4 div.sk-serial::before {content: \"\";position: absolute;border-left: 1px solid gray;box-sizing: border-box;top: 0;bottom: 0;left: 50%;z-index: 0;}#sk-container-id-4 div.sk-serial {display: flex;flex-direction: column;align-items: center;background-color: white;padding-right: 0.2em;padding-left: 0.2em;position: relative;}#sk-container-id-4 div.sk-item {position: relative;z-index: 1;}#sk-container-id-4 div.sk-parallel {display: flex;align-items: stretch;justify-content: center;background-color: white;position: relative;}#sk-container-id-4 div.sk-item::before, #sk-container-id-4 div.sk-parallel-item::before {content: \"\";position: absolute;border-left: 1px solid gray;box-sizing: border-box;top: 0;bottom: 0;left: 50%;z-index: -1;}#sk-container-id-4 div.sk-parallel-item {display: flex;flex-direction: column;z-index: 1;position: relative;background-color: white;}#sk-container-id-4 div.sk-parallel-item:first-child::after {align-self: flex-end;width: 50%;}#sk-container-id-4 div.sk-parallel-item:last-child::after {align-self: flex-start;width: 50%;}#sk-container-id-4 div.sk-parallel-item:only-child::after {width: 0;}#sk-container-id-4 div.sk-dashed-wrapped {border: 1px dashed gray;margin: 0 0.4em 0.5em 0.4em;box-sizing: border-box;padding-bottom: 0.4em;background-color: white;}#sk-container-id-4 div.sk-label label {font-family: monospace;font-weight: bold;display: inline-block;line-height: 1.2em;}#sk-container-id-4 div.sk-label-container {text-align: center;}#sk-container-id-4 div.sk-container {/* jupyter's `normalize.less` sets `[hidden] { display: none; }` but bootstrap.min.css set `[hidden] { display: none !important; }` so we also need the `!important` here to be able to override the default hidden behavior on the sphinx rendered scikit-learn.org. See: https://github.com/scikit-learn/scikit-learn/issues/21755 */display: inline-block !important;position: relative;}#sk-container-id-4 div.sk-text-repr-fallback {display: none;}</style><div id=\"sk-container-id-4\" class=\"sk-top-container\"><div class=\"sk-text-repr-fallback\"><pre>DecisionTreeRegressor(max_depth=5, min_samples_split=3)</pre><b>In a Jupyter environment, please rerun this cell to show the HTML representation or trust the notebook. <br />On GitHub, the HTML representation is unable to render, please try loading this page with nbviewer.org.</b></div><div class=\"sk-container\" hidden><div class=\"sk-item\"><div class=\"sk-estimator sk-toggleable\"><input class=\"sk-toggleable__control sk-hidden--visually\" id=\"sk-estimator-id-4\" type=\"checkbox\" checked><label for=\"sk-estimator-id-4\" class=\"sk-toggleable__label sk-toggleable__label-arrow\">DecisionTreeRegressor</label><div class=\"sk-toggleable__content\"><pre>DecisionTreeRegressor(max_depth=5, min_samples_split=3)</pre></div></div></div></div></div>"
      ],
      "text/plain": [
       "DecisionTreeRegressor(max_depth=5, min_samples_split=3)"
      ]
     },
     "execution_count": 64,
     "metadata": {},
     "output_type": "execute_result"
    }
   ],
   "source": [
    "model4 = DecisionTreeRegressor(max_depth=5, min_samples_split=3)\n",
    "model4.fit(Xd, yd)\n",
    "\n",
    "# max_depth - ile poziomów drzewo może maksymalnie zawierać.\n",
    "#           - how many levels the tree can contain a most. \n",
    "\n",
    "# min_samples_split - ile minimalnie przykłądów musi być w węźle tak, by dokonać kolejnego podziału.\n",
    "#                   - how many minimum examples must be in a node to make another division. "
   ]
  },
  {
   "cell_type": "code",
   "execution_count": 65,
   "id": "f291af77",
   "metadata": {},
   "outputs": [
    {
     "data": {
      "text/plain": [
       "array([[1.500e+01, 6.500e-01, 1.900e+01, 1.012e+03, 0.000e+00, 0.000e+00,\n",
       "        0.000e+00, 1.000e+00, 0.000e+00, 0.000e+00, 0.000e+00],\n",
       "       [1.650e+01, 3.300e-01, 2.250e+01, 1.003e+03, 0.000e+00, 0.000e+00,\n",
       "        0.000e+00, 0.000e+00, 0.000e+00, 1.000e+00, 0.000e+00]])"
      ]
     },
     "execution_count": 65,
     "metadata": {},
     "output_type": "execute_result"
    }
   ],
   "source": [
    "predict_data4 = np.array([[15, 0.65, 19, 1012, 0, 0, 0, 1, 0, 0, 0], [16.5, 0.33, 22.5, 1003, 0, 0, 0, 0, 0, 1, 0]])\n",
    "predict_data4"
   ]
  },
  {
   "cell_type": "code",
   "execution_count": 66,
   "id": "8bfe9cc7",
   "metadata": {},
   "outputs": [
    {
     "name": "stderr",
     "output_type": "stream",
     "text": [
      "C:\\Users\\Kamil - IT\\AppData\\Local\\Programs\\Python\\Python311\\Lib\\site-packages\\sklearn\\base.py:439: UserWarning: X does not have valid feature names, but DecisionTreeRegressor was fitted with feature names\n",
      "  warnings.warn(\n"
     ]
    },
    {
     "data": {
      "text/plain": [
       "array([11.92258962, 11.92258962])"
      ]
     },
     "execution_count": 66,
     "metadata": {},
     "output_type": "execute_result"
    }
   ],
   "source": [
    "model4.predict(predict_data4)"
   ]
  },
  {
   "cell_type": "markdown",
   "id": "4ccbfa0f",
   "metadata": {},
   "source": []
  },
  {
   "cell_type": "code",
   "execution_count": 67,
   "id": "ea504324",
   "metadata": {},
   "outputs": [],
   "source": [
    "yd_predict = model4.predict(Xd)"
   ]
  },
  {
   "cell_type": "code",
   "execution_count": 68,
   "id": "389d7e83",
   "metadata": {},
   "outputs": [
    {
     "name": "stdout",
     "output_type": "stream",
     "text": [
      "R2: 0.5274905182601561\n"
     ]
    }
   ],
   "source": [
    "print(\"R2:\", r2_score(yd, yd_predict))"
   ]
  },
  {
   "cell_type": "markdown",
   "id": "3b8be133",
   "metadata": {},
   "source": []
  },
  {
   "cell_type": "code",
   "execution_count": 69,
   "id": "81ae4e24",
   "metadata": {},
   "outputs": [
    {
     "name": "stdout",
     "output_type": "stream",
     "text": [
      "MAE: 2.3438002256161004\n"
     ]
    }
   ],
   "source": [
    "print(\"MAE:\", mean_absolute_error(yd, yd_predict))"
   ]
  },
  {
   "cell_type": "code",
   "execution_count": 73,
   "id": "b46187f3",
   "metadata": {},
   "outputs": [],
   "source": [
    "from sklearn.model_selection import train_test_split"
   ]
  },
  {
   "cell_type": "code",
   "execution_count": 74,
   "id": "8027e1e9",
   "metadata": {},
   "outputs": [],
   "source": [
    "Xd_train, Xd_test, yd_train, yd_test = train_test_split(Xd, yd, test_size=0.2, random_state=42)"
   ]
  },
  {
   "cell_type": "code",
   "execution_count": 75,
   "id": "af60f7de",
   "metadata": {},
   "outputs": [
    {
     "data": {
      "text/html": [
       "<style>#sk-container-id-5 {color: black;background-color: white;}#sk-container-id-5 pre{padding: 0;}#sk-container-id-5 div.sk-toggleable {background-color: white;}#sk-container-id-5 label.sk-toggleable__label {cursor: pointer;display: block;width: 100%;margin-bottom: 0;padding: 0.3em;box-sizing: border-box;text-align: center;}#sk-container-id-5 label.sk-toggleable__label-arrow:before {content: \"▸\";float: left;margin-right: 0.25em;color: #696969;}#sk-container-id-5 label.sk-toggleable__label-arrow:hover:before {color: black;}#sk-container-id-5 div.sk-estimator:hover label.sk-toggleable__label-arrow:before {color: black;}#sk-container-id-5 div.sk-toggleable__content {max-height: 0;max-width: 0;overflow: hidden;text-align: left;background-color: #f0f8ff;}#sk-container-id-5 div.sk-toggleable__content pre {margin: 0.2em;color: black;border-radius: 0.25em;background-color: #f0f8ff;}#sk-container-id-5 input.sk-toggleable__control:checked~div.sk-toggleable__content {max-height: 200px;max-width: 100%;overflow: auto;}#sk-container-id-5 input.sk-toggleable__control:checked~label.sk-toggleable__label-arrow:before {content: \"▾\";}#sk-container-id-5 div.sk-estimator input.sk-toggleable__control:checked~label.sk-toggleable__label {background-color: #d4ebff;}#sk-container-id-5 div.sk-label input.sk-toggleable__control:checked~label.sk-toggleable__label {background-color: #d4ebff;}#sk-container-id-5 input.sk-hidden--visually {border: 0;clip: rect(1px 1px 1px 1px);clip: rect(1px, 1px, 1px, 1px);height: 1px;margin: -1px;overflow: hidden;padding: 0;position: absolute;width: 1px;}#sk-container-id-5 div.sk-estimator {font-family: monospace;background-color: #f0f8ff;border: 1px dotted black;border-radius: 0.25em;box-sizing: border-box;margin-bottom: 0.5em;}#sk-container-id-5 div.sk-estimator:hover {background-color: #d4ebff;}#sk-container-id-5 div.sk-parallel-item::after {content: \"\";width: 100%;border-bottom: 1px solid gray;flex-grow: 1;}#sk-container-id-5 div.sk-label:hover label.sk-toggleable__label {background-color: #d4ebff;}#sk-container-id-5 div.sk-serial::before {content: \"\";position: absolute;border-left: 1px solid gray;box-sizing: border-box;top: 0;bottom: 0;left: 50%;z-index: 0;}#sk-container-id-5 div.sk-serial {display: flex;flex-direction: column;align-items: center;background-color: white;padding-right: 0.2em;padding-left: 0.2em;position: relative;}#sk-container-id-5 div.sk-item {position: relative;z-index: 1;}#sk-container-id-5 div.sk-parallel {display: flex;align-items: stretch;justify-content: center;background-color: white;position: relative;}#sk-container-id-5 div.sk-item::before, #sk-container-id-5 div.sk-parallel-item::before {content: \"\";position: absolute;border-left: 1px solid gray;box-sizing: border-box;top: 0;bottom: 0;left: 50%;z-index: -1;}#sk-container-id-5 div.sk-parallel-item {display: flex;flex-direction: column;z-index: 1;position: relative;background-color: white;}#sk-container-id-5 div.sk-parallel-item:first-child::after {align-self: flex-end;width: 50%;}#sk-container-id-5 div.sk-parallel-item:last-child::after {align-self: flex-start;width: 50%;}#sk-container-id-5 div.sk-parallel-item:only-child::after {width: 0;}#sk-container-id-5 div.sk-dashed-wrapped {border: 1px dashed gray;margin: 0 0.4em 0.5em 0.4em;box-sizing: border-box;padding-bottom: 0.4em;background-color: white;}#sk-container-id-5 div.sk-label label {font-family: monospace;font-weight: bold;display: inline-block;line-height: 1.2em;}#sk-container-id-5 div.sk-label-container {text-align: center;}#sk-container-id-5 div.sk-container {/* jupyter's `normalize.less` sets `[hidden] { display: none; }` but bootstrap.min.css set `[hidden] { display: none !important; }` so we also need the `!important` here to be able to override the default hidden behavior on the sphinx rendered scikit-learn.org. See: https://github.com/scikit-learn/scikit-learn/issues/21755 */display: inline-block !important;position: relative;}#sk-container-id-5 div.sk-text-repr-fallback {display: none;}</style><div id=\"sk-container-id-5\" class=\"sk-top-container\"><div class=\"sk-text-repr-fallback\"><pre>DecisionTreeRegressor(max_depth=5, min_samples_split=3)</pre><b>In a Jupyter environment, please rerun this cell to show the HTML representation or trust the notebook. <br />On GitHub, the HTML representation is unable to render, please try loading this page with nbviewer.org.</b></div><div class=\"sk-container\" hidden><div class=\"sk-item\"><div class=\"sk-estimator sk-toggleable\"><input class=\"sk-toggleable__control sk-hidden--visually\" id=\"sk-estimator-id-5\" type=\"checkbox\" checked><label for=\"sk-estimator-id-5\" class=\"sk-toggleable__label sk-toggleable__label-arrow\">DecisionTreeRegressor</label><div class=\"sk-toggleable__content\"><pre>DecisionTreeRegressor(max_depth=5, min_samples_split=3)</pre></div></div></div></div></div>"
      ],
      "text/plain": [
       "DecisionTreeRegressor(max_depth=5, min_samples_split=3)"
      ]
     },
     "execution_count": 75,
     "metadata": {},
     "output_type": "execute_result"
    }
   ],
   "source": [
    "model4a = DecisionTreeRegressor(max_depth=5, min_samples_split=3)\n",
    "model4a.fit(Xd_train, yd_train)"
   ]
  },
  {
   "cell_type": "code",
   "execution_count": 76,
   "id": "6b152795",
   "metadata": {},
   "outputs": [],
   "source": [
    "yd_pred = model4a.predict(Xd_test)"
   ]
  },
  {
   "cell_type": "code",
   "execution_count": 79,
   "id": "e01643ac",
   "metadata": {},
   "outputs": [
    {
     "name": "stdout",
     "output_type": "stream",
     "text": [
      "MAE - train_test_split: 2.3523298038998126\n"
     ]
    }
   ],
   "source": [
    "print(\"MAE - train_test_split:\", mean_absolute_error(yd_test, yd_pred))"
   ]
  },
  {
   "cell_type": "markdown",
   "id": "99a0abcb",
   "metadata": {},
   "source": []
  },
  {
   "cell_type": "code",
   "execution_count": 70,
   "id": "8b4cb063",
   "metadata": {},
   "outputs": [
    {
     "name": "stdout",
     "output_type": "stream",
     "text": [
      "MAPE: 94605787205310.33\n"
     ]
    }
   ],
   "source": [
    "print(\"MAPE:\", mean_absolute_percentage_error(yd, yd_predict))"
   ]
  },
  {
   "cell_type": "code",
   "execution_count": 80,
   "id": "a987f695",
   "metadata": {},
   "outputs": [
    {
     "name": "stdout",
     "output_type": "stream",
     "text": [
      "MAPE - train_test_split: 100569516978913.45\n"
     ]
    }
   ],
   "source": [
    "print(\"MAPE - train_test_split:\", mean_absolute_percentage_error(yd_test, yd_pred))"
   ]
  },
  {
   "cell_type": "markdown",
   "id": "fba12a42",
   "metadata": {},
   "source": []
  },
  {
   "cell_type": "code",
   "execution_count": 71,
   "id": "2bca1808",
   "metadata": {},
   "outputs": [
    {
     "name": "stdout",
     "output_type": "stream",
     "text": [
      "MSE: 8.23230612796622\n"
     ]
    }
   ],
   "source": [
    "print(\"MSE:\", mean_squared_error(yd, yd_predict))"
   ]
  },
  {
   "cell_type": "code",
   "execution_count": 81,
   "id": "91c85495",
   "metadata": {},
   "outputs": [
    {
     "name": "stdout",
     "output_type": "stream",
     "text": [
      "MSE - train_test_split: 8.290791782002515\n"
     ]
    }
   ],
   "source": [
    "print(\"MSE - train_test_split:\", mean_squared_error(yd_test, yd_pred))"
   ]
  },
  {
   "cell_type": "markdown",
   "id": "12ec830d",
   "metadata": {},
   "source": []
  },
  {
   "cell_type": "code",
   "execution_count": 72,
   "id": "80854548",
   "metadata": {},
   "outputs": [
    {
     "name": "stdout",
     "output_type": "stream",
     "text": [
      "RMSE: 2.869199562241396\n"
     ]
    }
   ],
   "source": [
    "print(\"RMSE:\", mean_squared_error(yd, yd_predict, squared=False))"
   ]
  },
  {
   "cell_type": "code",
   "execution_count": 82,
   "id": "952584a5",
   "metadata": {},
   "outputs": [
    {
     "name": "stdout",
     "output_type": "stream",
     "text": [
      "RMSE - train_test_split: 2.8793735051226883\n"
     ]
    }
   ],
   "source": [
    "print(\"RMSE - train_test_split:\", mean_squared_error(yd_test, yd_pred, squared=False))"
   ]
  },
  {
   "cell_type": "markdown",
   "id": "e4c0fca7",
   "metadata": {},
   "source": []
  },
  {
   "cell_type": "markdown",
   "id": "e3babcad",
   "metadata": {},
   "source": [
    "                                                      Podsumowanie:\n",
    "                                                      \n",
    "                                                        Summary:"
   ]
  },
  {
   "cell_type": "markdown",
   "id": "77b144a5",
   "metadata": {},
   "source": []
  },
  {
   "cell_type": "markdown",
   "id": "40ff6bb8",
   "metadata": {},
   "source": [
    "  Zarówno Drzewo Decyzyjne, jak i regresja wielomianowa osiągają podobny poziom wyników (średni - 53 - 55 %). Mamy więc do czynienia z tzw. niedotrenowaniem, a sposobami na jego rozwiązanie mogą być:\n",
    "  \n",
    "  - wybór innego modelu (np. sieć neuronowa rekurencyjna),\n",
    "  - wyłączenie pewnych cech (mniej istotnych),\n",
    "  - optymalizacja hiperparametrów,\n",
    "  - inna kompozycja danych wejściowych.\n",
    "  \n",
    "  \n",
    "  Both Decision Tree and Polynomial Regression achieve similar levels of performance (average 53 - 55 %). So we are  dealing \n",
    "with the so-called undertraining, and ways to solve it may be:\n",
    "\n",
    "  - choosing another model (e.g. recurrent neural network),\n",
    "  - exclusion of certain features (less important),\n",
    "  - hyperparameter optimization,\n",
    "  - different composition of input data.\n",
    "  "
   ]
  }
 ],
 "metadata": {
  "kernelspec": {
   "display_name": "Python 3 (ipykernel)",
   "language": "python",
   "name": "python3"
  },
  "language_info": {
   "codemirror_mode": {
    "name": "ipython",
    "version": 3
   },
   "file_extension": ".py",
   "mimetype": "text/x-python",
   "name": "python",
   "nbconvert_exporter": "python",
   "pygments_lexer": "ipython3",
   "version": "3.11.2"
  }
 },
 "nbformat": 4,
 "nbformat_minor": 5
}
