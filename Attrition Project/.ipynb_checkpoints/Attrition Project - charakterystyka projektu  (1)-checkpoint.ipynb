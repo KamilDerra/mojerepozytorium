{
 "cells": [
  {
   "cell_type": "markdown",
   "id": "f40ec88b",
   "metadata": {},
   "source": [
    "#                 Attrition  Projekt  -  czyli  Uczenie  Maszynowe  w  służbie  HR"
   ]
  },
  {
   "cell_type": "markdown",
   "id": "76a90d06",
   "metadata": {},
   "source": [
    "#                                            \n",
    "                                               Współczesne wyzwania HR.\n",
    "\n",
    "  Otoczenie społeczno-ekonomiczne, w którym działa każdy podmiot gospodarczy, staje się coraz bardziej złożone. Generuje to nowe problemy, a więc i wyzwania, którym należy sprostać, aby zapewnić organizacji sprawne fukcjonowanie. Dotyczy to m.in. gospodarowania zasobami ludzki, uważanymi często za jeden z najważniejszych zasobów przedsiębiorstwa.  \n",
    "  \n",
    "  Do głównych problemów / wyzwań tego obszaru można zaliczyć m.in.:\n",
    "  \n",
    "  - deficyt wykwalifikowanych specjalistów (jak przyciągnąć najlepszych),\n",
    "  - rotacja, generująca koszty - ci \"najlepsi\" najczęściej odchodzą \"na swoje\", albo do konkurencji. Firma najpierw inwestuje w     ich rozwój, a potem znów musi znaleźć kogoś na ich miejsce, znów zainwestować w ich rozwój, itd;\n",
    "  - często dział HR nie potrafi zidentyfikować problemu, np. czy narasta konflikt między pracownikami jednego działu, lub           konflikt \"międzydziałowy\" w związku z czym brakuje działań naprawczych,\n",
    "  - motywowanie - pieniądze to nie wszystko. Jak skutecznie motywować pracowników do efektywnej pracy i pozostania w firmie na       dłużej? \n",
    "  - niska umiejętność wykazania skuteczności działań rozwojowych, m.in. szkoleń i ich przełożenia na wyniki biznesowe,\n",
    "  - dostępność elastycznych form zatrudnienia.\n",
    "  \n",
    "  Według raportu Ernst&Young (\"Cała Polska tworzy idealne miejsce pracy\") przed działami HR stoi wyzwanie polegające na integracji i utrzymywaniu motywacji zdalnych zespołów poprzez m.in. dbanie o samopoczucie pracowników. Jak wskazują badania, ci zadowoleni są o 43% bardziej produktywni oraz o 26-61% mniej rotują.\n"
   ]
  },
  {
   "cell_type": "markdown",
   "id": "c2d49498",
   "metadata": {},
   "source": [
    "                                                    O projekcie.\n",
    "\n",
    "  Niniejsze opracowanie jest próbą odpowiedzi na niektóre z powyższych zagadnień. Bazuje na tabelarycznym zbiorze danych składającym się z 26 cech (ilościowe i jakościowe) o liczebności 2997 każda. Generuje to wybór warsztatu analitycznego, a więc metod statystycznych (analiza) i algorytmów uczenia maszynowego (modelowanie). (\"Ręczne\" opracowywanie przy tak dużej skali badania, np. poprzez bezpośrednie ankiety z wszystkimi pracownikami byłoby zbyt czaso- i pracochłonne. Komputer pracujący z odpowiednimi algorytmami zrobi to szybciej, a nadto będzie w stanie wynajdywać ukryte zależności). \n",
    "  \n",
    "  Projekt składa się z 3 części:\n",
    "  \n",
    "  1. Preprocessing danych - przygotowanie danych do dalszej analizy (czyszczenie danych, łączenie różnych podzbiorów, itp.).\n",
    "  \n",
    "  2. Analiza danych (EDA).\n",
    "  \n",
    "  3. Modelowanie.\n",
    "  \n",
    "  Cel projektu: stworzenie narzędzia, które bedzie potrafiło oszacować prawdopodobieństwo zachowań pracownika, a więc czy pracownik o danych cechach (odwzorowanych w kategoriach) będzie skłonny do pozostania w firmie czy też do odejścia. Może       to pomóc kierownictwu w odpowiednim kształtowaniu polityki personalnej firmy (w zależności od celu).   \n",
    "  "
   ]
  },
  {
   "cell_type": "code",
   "execution_count": null,
   "id": "f040f4f4",
   "metadata": {},
   "outputs": [],
   "source": []
  },
  {
   "cell_type": "code",
   "execution_count": null,
   "id": "0f300bc8",
   "metadata": {},
   "outputs": [],
   "source": []
  },
  {
   "cell_type": "code",
   "execution_count": null,
   "id": "5e7e68bc",
   "metadata": {},
   "outputs": [],
   "source": []
  },
  {
   "cell_type": "code",
   "execution_count": null,
   "id": "6a3958e2",
   "metadata": {},
   "outputs": [],
   "source": []
  },
  {
   "cell_type": "code",
   "execution_count": null,
   "id": "3cc96719",
   "metadata": {},
   "outputs": [],
   "source": []
  },
  {
   "cell_type": "code",
   "execution_count": null,
   "id": "b2772474",
   "metadata": {},
   "outputs": [],
   "source": []
  },
  {
   "cell_type": "code",
   "execution_count": null,
   "id": "2cbe5c5b",
   "metadata": {},
   "outputs": [],
   "source": []
  },
  {
   "cell_type": "code",
   "execution_count": null,
   "id": "b16dc004",
   "metadata": {},
   "outputs": [],
   "source": []
  },
  {
   "cell_type": "code",
   "execution_count": null,
   "id": "b2ca17af",
   "metadata": {},
   "outputs": [],
   "source": []
  },
  {
   "cell_type": "code",
   "execution_count": null,
   "id": "5930d006",
   "metadata": {},
   "outputs": [],
   "source": []
  },
  {
   "cell_type": "code",
   "execution_count": null,
   "id": "7a342df7",
   "metadata": {},
   "outputs": [],
   "source": []
  }
 ],
 "metadata": {
  "kernelspec": {
   "display_name": "Python 3 (ipykernel)",
   "language": "python",
   "name": "python3"
  },
  "language_info": {
   "codemirror_mode": {
    "name": "ipython",
    "version": 3
   },
   "file_extension": ".py",
   "mimetype": "text/x-python",
   "name": "python",
   "nbconvert_exporter": "python",
   "pygments_lexer": "ipython3",
   "version": "3.11.2"
  }
 },
 "nbformat": 4,
 "nbformat_minor": 5
}
