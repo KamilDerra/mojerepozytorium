{
 "cells": [
  {
   "cell_type": "markdown",
   "id": "92d05bf7",
   "metadata": {},
   "source": [
    "                                                          \n",
    "                                                          WSTĘP\n",
    "                                                                                                                    "
   ]
  },
  {
   "cell_type": "markdown",
   "id": "0ef147dd",
   "metadata": {},
   "source": [
    "Uczenie maszynowe - dziedzina nauki zajmująca się programowaniem komputerów w sposób umożliwiający im uczenie się z danych\n",
    "                    bez konieczności ich jawnego programowania."
   ]
  },
  {
   "cell_type": "markdown",
   "id": "5d4d3f52",
   "metadata": {},
   "source": [
    "Zastosowanie uczenia maszynowego (ML):\n",
    "     \n",
    " - problemy, których rozwiązanie wymaga częstego dostrajania algorytmu lub korzystania z długich list reguł\n",
    "   (model ML upraszcza aplikację i poprawia jej szybkość w stosunku do podejścia tradycyjnego),\n",
    "                    \n",
    " - problemy złożone, których nie można rozwiązać tradycyjnymi metodami (najlepsze algorytmy ML są w stanie\n",
    "   znaleźć rozwiązanie),\n",
    "                    \n",
    " - przy zmiennych środowiskach (mechanizm ML można z łatwością wytrenować za pomocą nowych danych i aktualizować\n",
    "   w dowolnym momencie),\n",
    "                    \n",
    " - analiza skompikowanych zagadnień i olbrzymich ilości danych.\n",
    "        "
   ]
  },
  {
   "cell_type": "markdown",
   "id": "c22083d2",
   "metadata": {},
   "source": [
    "Rodzaje systemów ML - podział wg kryteriów:\n",
    " \n",
    "  - sposób ich nadzorowania w fazie uczenia (uczenie nadzorowane, niezadzorowane, półnadzorowane,                                   samonadzorowane.),\n",
    "                  \n",
    "  - możliwość uczenia się w czasie rzeczywistym (uczenie przyrostowe i wsadowe),\n",
    "                  \n",
    "  - sposób pracy: porównywanie nowych punktów danych ze znanymi punktami lub wykrywanie wzorców w danych \n",
    "                  i tworzenie modelu predykcyjnego.\n"
   ]
  },
  {
   "cell_type": "markdown",
   "id": "9fa0682c",
   "metadata": {},
   "source": [
    "  Niniejsze opracowanie bazuje na uczeniu nadzorowanym - dane uczące przekazywane algorytmowi zawierają dołączone rozwiązania problemu, tzw. etykiety (tutaj: \"0\" i \"1\"). Zadaniem wykorzystanych algorytmów jest klasyfikacja.  Model jest trenowany za pomocą dużej liczby przykładowych cech ilościowych należących do danej klasy (tu: \"0\" i \"1\"), dzięki którym powinien być w stanie klasyfikować nowe obiekty (tu: pracownik odchodzący z pracy lub pozostający).  \n",
    "  \n",
    "  Wykorzystano różne rodzaje powszechnie stosowanych algorytmów uczenia maszynowego celem porównania skuteczności działania każdego z nich na bazie dostępnego zbioru danych \"Attrition\".\n"
   ]
  },
  {
   "cell_type": "markdown",
   "id": "c98fa38e",
   "metadata": {},
   "source": []
  },
  {
   "cell_type": "markdown",
   "id": "bcd3b7a4",
   "metadata": {},
   "source": [
    "                                             REGRESJA  LOGISTYCZNA:"
   ]
  },
  {
   "cell_type": "markdown",
   "id": "5640ec35",
   "metadata": {},
   "source": []
  },
  {
   "cell_type": "markdown",
   "id": "2f90371d",
   "metadata": {},
   "source": [
    "   Algorytm regresji logistycznej (RL) to metoda statystyczna, która słuzy do przewidywania prawdopodobieństwa zmiennej zależnej\n",
    "na skali tzw. dychotomicznej (np. tak/nie, 0/1) na podstawie jednej lub więcej zmiennych niezależnych. RL wykorzystuje fukcję\n",
    "logistyczną (sigmoidalną), która przekształca dowolną wartość wejściwą do wartości z przedziału (0, 1). Do jej zalet można \n",
    "zaliczyć m.in. łatwość interpretacji, szybkość obliczeń i odporność na szum. Do słabych stron: trudność w modelowaniu zależności nieliniowych, wielowymiarowych lub skomplikowanych. "
   ]
  },
  {
   "cell_type": "code",
   "execution_count": 1,
   "id": "23a8c073",
   "metadata": {},
   "outputs": [],
   "source": [
    "import numpy as np\n",
    "import pandas as pd\n",
    "import matplotlib.pyplot as plt\n",
    "import seaborn as sns"
   ]
  },
  {
   "cell_type": "code",
   "execution_count": 2,
   "id": "856c69d2",
   "metadata": {},
   "outputs": [
    {
     "data": {
      "text/html": [
       "<div>\n",
       "<style scoped>\n",
       "    .dataframe tbody tr th:only-of-type {\n",
       "        vertical-align: middle;\n",
       "    }\n",
       "\n",
       "    .dataframe tbody tr th {\n",
       "        vertical-align: top;\n",
       "    }\n",
       "\n",
       "    .dataframe thead th {\n",
       "        text-align: right;\n",
       "    }\n",
       "</style>\n",
       "<table border=\"1\" class=\"dataframe\">\n",
       "  <thead>\n",
       "    <tr style=\"text-align: right;\">\n",
       "      <th></th>\n",
       "      <th>Age</th>\n",
       "      <th>DistanceFromHome</th>\n",
       "      <th>Education</th>\n",
       "      <th>EnvironmentSatisfaction</th>\n",
       "      <th>JobInvolvement</th>\n",
       "      <th>JobLevel</th>\n",
       "      <th>JobSatisfaction</th>\n",
       "      <th>MonthlyIncome</th>\n",
       "      <th>NumCompaniesWorked</th>\n",
       "      <th>PercentSalaryHike</th>\n",
       "      <th>...</th>\n",
       "      <th>JobRole_Manufacturing Director</th>\n",
       "      <th>JobRole_Research Director</th>\n",
       "      <th>JobRole_Research Scientist</th>\n",
       "      <th>JobRole_Sales Executive</th>\n",
       "      <th>JobRole_Sales Representative</th>\n",
       "      <th>MaritalStatus_Divorced</th>\n",
       "      <th>MaritalStatus_Married</th>\n",
       "      <th>MaritalStatus_Single</th>\n",
       "      <th>OverTime_No</th>\n",
       "      <th>OverTime_Yes</th>\n",
       "    </tr>\n",
       "  </thead>\n",
       "  <tbody>\n",
       "    <tr>\n",
       "      <th>0</th>\n",
       "      <td>30</td>\n",
       "      <td>1</td>\n",
       "      <td>1</td>\n",
       "      <td>4</td>\n",
       "      <td>2</td>\n",
       "      <td>2</td>\n",
       "      <td>4</td>\n",
       "      <td>5126</td>\n",
       "      <td>1</td>\n",
       "      <td>12</td>\n",
       "      <td>...</td>\n",
       "      <td>0</td>\n",
       "      <td>0</td>\n",
       "      <td>0</td>\n",
       "      <td>0</td>\n",
       "      <td>0</td>\n",
       "      <td>0</td>\n",
       "      <td>1</td>\n",
       "      <td>0</td>\n",
       "      <td>0</td>\n",
       "      <td>1</td>\n",
       "    </tr>\n",
       "    <tr>\n",
       "      <th>1</th>\n",
       "      <td>38</td>\n",
       "      <td>2</td>\n",
       "      <td>2</td>\n",
       "      <td>4</td>\n",
       "      <td>2</td>\n",
       "      <td>3</td>\n",
       "      <td>3</td>\n",
       "      <td>7756</td>\n",
       "      <td>3</td>\n",
       "      <td>19</td>\n",
       "      <td>...</td>\n",
       "      <td>1</td>\n",
       "      <td>0</td>\n",
       "      <td>0</td>\n",
       "      <td>0</td>\n",
       "      <td>0</td>\n",
       "      <td>0</td>\n",
       "      <td>1</td>\n",
       "      <td>0</td>\n",
       "      <td>0</td>\n",
       "      <td>1</td>\n",
       "    </tr>\n",
       "    <tr>\n",
       "      <th>2</th>\n",
       "      <td>26</td>\n",
       "      <td>6</td>\n",
       "      <td>3</td>\n",
       "      <td>3</td>\n",
       "      <td>2</td>\n",
       "      <td>1</td>\n",
       "      <td>2</td>\n",
       "      <td>2368</td>\n",
       "      <td>1</td>\n",
       "      <td>19</td>\n",
       "      <td>...</td>\n",
       "      <td>0</td>\n",
       "      <td>0</td>\n",
       "      <td>1</td>\n",
       "      <td>0</td>\n",
       "      <td>0</td>\n",
       "      <td>0</td>\n",
       "      <td>1</td>\n",
       "      <td>0</td>\n",
       "      <td>1</td>\n",
       "      <td>0</td>\n",
       "    </tr>\n",
       "    <tr>\n",
       "      <th>3</th>\n",
       "      <td>28</td>\n",
       "      <td>8</td>\n",
       "      <td>2</td>\n",
       "      <td>4</td>\n",
       "      <td>3</td>\n",
       "      <td>1</td>\n",
       "      <td>4</td>\n",
       "      <td>3310</td>\n",
       "      <td>1</td>\n",
       "      <td>21</td>\n",
       "      <td>...</td>\n",
       "      <td>0</td>\n",
       "      <td>0</td>\n",
       "      <td>1</td>\n",
       "      <td>0</td>\n",
       "      <td>0</td>\n",
       "      <td>0</td>\n",
       "      <td>0</td>\n",
       "      <td>1</td>\n",
       "      <td>1</td>\n",
       "      <td>0</td>\n",
       "    </tr>\n",
       "    <tr>\n",
       "      <th>4</th>\n",
       "      <td>35</td>\n",
       "      <td>4</td>\n",
       "      <td>2</td>\n",
       "      <td>3</td>\n",
       "      <td>3</td>\n",
       "      <td>1</td>\n",
       "      <td>4</td>\n",
       "      <td>1951</td>\n",
       "      <td>1</td>\n",
       "      <td>12</td>\n",
       "      <td>...</td>\n",
       "      <td>0</td>\n",
       "      <td>0</td>\n",
       "      <td>0</td>\n",
       "      <td>0</td>\n",
       "      <td>0</td>\n",
       "      <td>1</td>\n",
       "      <td>0</td>\n",
       "      <td>0</td>\n",
       "      <td>1</td>\n",
       "      <td>0</td>\n",
       "    </tr>\n",
       "  </tbody>\n",
       "</table>\n",
       "<p>5 rows × 47 columns</p>\n",
       "</div>"
      ],
      "text/plain": [
       "   Age  DistanceFromHome  Education  EnvironmentSatisfaction  JobInvolvement   \n",
       "0   30                 1          1                        4               2  \\\n",
       "1   38                 2          2                        4               2   \n",
       "2   26                 6          3                        3               2   \n",
       "3   28                 8          2                        4               3   \n",
       "4   35                 4          2                        3               3   \n",
       "\n",
       "   JobLevel  JobSatisfaction  MonthlyIncome  NumCompaniesWorked   \n",
       "0         2                4           5126                   1  \\\n",
       "1         3                3           7756                   3   \n",
       "2         1                2           2368                   1   \n",
       "3         1                4           3310                   1   \n",
       "4         1                4           1951                   1   \n",
       "\n",
       "   PercentSalaryHike  ...  JobRole_Manufacturing Director   \n",
       "0                 12  ...                               0  \\\n",
       "1                 19  ...                               1   \n",
       "2                 19  ...                               0   \n",
       "3                 21  ...                               0   \n",
       "4                 12  ...                               0   \n",
       "\n",
       "   JobRole_Research Director  JobRole_Research Scientist   \n",
       "0                          0                           0  \\\n",
       "1                          0                           0   \n",
       "2                          0                           1   \n",
       "3                          0                           1   \n",
       "4                          0                           0   \n",
       "\n",
       "   JobRole_Sales Executive  JobRole_Sales Representative   \n",
       "0                        0                             0  \\\n",
       "1                        0                             0   \n",
       "2                        0                             0   \n",
       "3                        0                             0   \n",
       "4                        0                             0   \n",
       "\n",
       "   MaritalStatus_Divorced  MaritalStatus_Married  MaritalStatus_Single   \n",
       "0                       0                      1                     0  \\\n",
       "1                       0                      1                     0   \n",
       "2                       0                      1                     0   \n",
       "3                       0                      0                     1   \n",
       "4                       1                      0                     0   \n",
       "\n",
       "   OverTime_No  OverTime_Yes  \n",
       "0            0             1  \n",
       "1            0             1  \n",
       "2            1             0  \n",
       "3            1             0  \n",
       "4            1             0  \n",
       "\n",
       "[5 rows x 47 columns]"
      ]
     },
     "execution_count": 2,
     "metadata": {},
     "output_type": "execute_result"
    }
   ],
   "source": [
    "ATTMod = pd.read_csv('Dane/ATTMod.csv')\n",
    "ATTMod.head()"
   ]
  },
  {
   "cell_type": "code",
   "execution_count": 3,
   "id": "fd21fcf0",
   "metadata": {},
   "outputs": [],
   "source": [
    "train_data = ATTMod.drop('Attrition', axis=1)\n",
    "train_labels = ATTMod[['Attrition']]\n"
   ]
  },
  {
   "cell_type": "code",
   "execution_count": 5,
   "id": "5a388f4d",
   "metadata": {},
   "outputs": [],
   "source": [
    "import sklearn\n",
    "from sklearn.model_selection import train_test_split\n",
    "from sklearn.linear_model import LogisticRegression"
   ]
  },
  {
   "cell_type": "code",
   "execution_count": 6,
   "id": "85aa75e6",
   "metadata": {},
   "outputs": [],
   "source": [
    "Xlog = train_data\n",
    "ylog = train_labels"
   ]
  },
  {
   "cell_type": "code",
   "execution_count": 7,
   "id": "d26ad267",
   "metadata": {},
   "outputs": [
    {
     "data": {
      "text/html": [
       "<div>\n",
       "<style scoped>\n",
       "    .dataframe tbody tr th:only-of-type {\n",
       "        vertical-align: middle;\n",
       "    }\n",
       "\n",
       "    .dataframe tbody tr th {\n",
       "        vertical-align: top;\n",
       "    }\n",
       "\n",
       "    .dataframe thead th {\n",
       "        text-align: right;\n",
       "    }\n",
       "</style>\n",
       "<table border=\"1\" class=\"dataframe\">\n",
       "  <thead>\n",
       "    <tr style=\"text-align: right;\">\n",
       "      <th></th>\n",
       "      <th>Age</th>\n",
       "      <th>DistanceFromHome</th>\n",
       "      <th>Education</th>\n",
       "      <th>EnvironmentSatisfaction</th>\n",
       "      <th>JobInvolvement</th>\n",
       "      <th>JobLevel</th>\n",
       "      <th>JobSatisfaction</th>\n",
       "      <th>MonthlyIncome</th>\n",
       "      <th>NumCompaniesWorked</th>\n",
       "      <th>PercentSalaryHike</th>\n",
       "      <th>...</th>\n",
       "      <th>JobRole_Manufacturing Director</th>\n",
       "      <th>JobRole_Research Director</th>\n",
       "      <th>JobRole_Research Scientist</th>\n",
       "      <th>JobRole_Sales Executive</th>\n",
       "      <th>JobRole_Sales Representative</th>\n",
       "      <th>MaritalStatus_Divorced</th>\n",
       "      <th>MaritalStatus_Married</th>\n",
       "      <th>MaritalStatus_Single</th>\n",
       "      <th>OverTime_No</th>\n",
       "      <th>OverTime_Yes</th>\n",
       "    </tr>\n",
       "  </thead>\n",
       "  <tbody>\n",
       "    <tr>\n",
       "      <th>0</th>\n",
       "      <td>30</td>\n",
       "      <td>1</td>\n",
       "      <td>1</td>\n",
       "      <td>4</td>\n",
       "      <td>2</td>\n",
       "      <td>2</td>\n",
       "      <td>4</td>\n",
       "      <td>5126</td>\n",
       "      <td>1</td>\n",
       "      <td>12</td>\n",
       "      <td>...</td>\n",
       "      <td>0</td>\n",
       "      <td>0</td>\n",
       "      <td>0</td>\n",
       "      <td>0</td>\n",
       "      <td>0</td>\n",
       "      <td>0</td>\n",
       "      <td>1</td>\n",
       "      <td>0</td>\n",
       "      <td>0</td>\n",
       "      <td>1</td>\n",
       "    </tr>\n",
       "    <tr>\n",
       "      <th>1</th>\n",
       "      <td>38</td>\n",
       "      <td>2</td>\n",
       "      <td>2</td>\n",
       "      <td>4</td>\n",
       "      <td>2</td>\n",
       "      <td>3</td>\n",
       "      <td>3</td>\n",
       "      <td>7756</td>\n",
       "      <td>3</td>\n",
       "      <td>19</td>\n",
       "      <td>...</td>\n",
       "      <td>1</td>\n",
       "      <td>0</td>\n",
       "      <td>0</td>\n",
       "      <td>0</td>\n",
       "      <td>0</td>\n",
       "      <td>0</td>\n",
       "      <td>1</td>\n",
       "      <td>0</td>\n",
       "      <td>0</td>\n",
       "      <td>1</td>\n",
       "    </tr>\n",
       "    <tr>\n",
       "      <th>2</th>\n",
       "      <td>26</td>\n",
       "      <td>6</td>\n",
       "      <td>3</td>\n",
       "      <td>3</td>\n",
       "      <td>2</td>\n",
       "      <td>1</td>\n",
       "      <td>2</td>\n",
       "      <td>2368</td>\n",
       "      <td>1</td>\n",
       "      <td>19</td>\n",
       "      <td>...</td>\n",
       "      <td>0</td>\n",
       "      <td>0</td>\n",
       "      <td>1</td>\n",
       "      <td>0</td>\n",
       "      <td>0</td>\n",
       "      <td>0</td>\n",
       "      <td>1</td>\n",
       "      <td>0</td>\n",
       "      <td>1</td>\n",
       "      <td>0</td>\n",
       "    </tr>\n",
       "    <tr>\n",
       "      <th>3</th>\n",
       "      <td>28</td>\n",
       "      <td>8</td>\n",
       "      <td>2</td>\n",
       "      <td>4</td>\n",
       "      <td>3</td>\n",
       "      <td>1</td>\n",
       "      <td>4</td>\n",
       "      <td>3310</td>\n",
       "      <td>1</td>\n",
       "      <td>21</td>\n",
       "      <td>...</td>\n",
       "      <td>0</td>\n",
       "      <td>0</td>\n",
       "      <td>1</td>\n",
       "      <td>0</td>\n",
       "      <td>0</td>\n",
       "      <td>0</td>\n",
       "      <td>0</td>\n",
       "      <td>1</td>\n",
       "      <td>1</td>\n",
       "      <td>0</td>\n",
       "    </tr>\n",
       "    <tr>\n",
       "      <th>4</th>\n",
       "      <td>35</td>\n",
       "      <td>4</td>\n",
       "      <td>2</td>\n",
       "      <td>3</td>\n",
       "      <td>3</td>\n",
       "      <td>1</td>\n",
       "      <td>4</td>\n",
       "      <td>1951</td>\n",
       "      <td>1</td>\n",
       "      <td>12</td>\n",
       "      <td>...</td>\n",
       "      <td>0</td>\n",
       "      <td>0</td>\n",
       "      <td>0</td>\n",
       "      <td>0</td>\n",
       "      <td>0</td>\n",
       "      <td>1</td>\n",
       "      <td>0</td>\n",
       "      <td>0</td>\n",
       "      <td>1</td>\n",
       "      <td>0</td>\n",
       "    </tr>\n",
       "  </tbody>\n",
       "</table>\n",
       "<p>5 rows × 46 columns</p>\n",
       "</div>"
      ],
      "text/plain": [
       "   Age  DistanceFromHome  Education  EnvironmentSatisfaction  JobInvolvement   \n",
       "0   30                 1          1                        4               2  \\\n",
       "1   38                 2          2                        4               2   \n",
       "2   26                 6          3                        3               2   \n",
       "3   28                 8          2                        4               3   \n",
       "4   35                 4          2                        3               3   \n",
       "\n",
       "   JobLevel  JobSatisfaction  MonthlyIncome  NumCompaniesWorked   \n",
       "0         2                4           5126                   1  \\\n",
       "1         3                3           7756                   3   \n",
       "2         1                2           2368                   1   \n",
       "3         1                4           3310                   1   \n",
       "4         1                4           1951                   1   \n",
       "\n",
       "   PercentSalaryHike  ...  JobRole_Manufacturing Director   \n",
       "0                 12  ...                               0  \\\n",
       "1                 19  ...                               1   \n",
       "2                 19  ...                               0   \n",
       "3                 21  ...                               0   \n",
       "4                 12  ...                               0   \n",
       "\n",
       "   JobRole_Research Director  JobRole_Research Scientist   \n",
       "0                          0                           0  \\\n",
       "1                          0                           0   \n",
       "2                          0                           1   \n",
       "3                          0                           1   \n",
       "4                          0                           0   \n",
       "\n",
       "   JobRole_Sales Executive  JobRole_Sales Representative   \n",
       "0                        0                             0  \\\n",
       "1                        0                             0   \n",
       "2                        0                             0   \n",
       "3                        0                             0   \n",
       "4                        0                             0   \n",
       "\n",
       "   MaritalStatus_Divorced  MaritalStatus_Married  MaritalStatus_Single   \n",
       "0                       0                      1                     0  \\\n",
       "1                       0                      1                     0   \n",
       "2                       0                      1                     0   \n",
       "3                       0                      0                     1   \n",
       "4                       1                      0                     0   \n",
       "\n",
       "   OverTime_No  OverTime_Yes  \n",
       "0            0             1  \n",
       "1            0             1  \n",
       "2            1             0  \n",
       "3            1             0  \n",
       "4            1             0  \n",
       "\n",
       "[5 rows x 46 columns]"
      ]
     },
     "execution_count": 7,
     "metadata": {},
     "output_type": "execute_result"
    }
   ],
   "source": [
    "Xlog.head()"
   ]
  },
  {
   "cell_type": "code",
   "execution_count": 8,
   "id": "78019750",
   "metadata": {},
   "outputs": [
    {
     "data": {
      "text/plain": [
       "Attrition\n",
       "0            1595\n",
       "1            1402\n",
       "Name: count, dtype: int64"
      ]
     },
     "execution_count": 8,
     "metadata": {},
     "output_type": "execute_result"
    }
   ],
   "source": [
    "ylog.value_counts()"
   ]
  },
  {
   "cell_type": "code",
   "execution_count": 9,
   "id": "13ef1d5f",
   "metadata": {},
   "outputs": [],
   "source": [
    "# Dzielimy zbiór X na treningowy i testowy:\n",
    "\n",
    "Xlog_train, Xlog_test, ylog_train, ylog_test = train_test_split(Xlog, ylog, stratify=ylog)"
   ]
  },
  {
   "cell_type": "code",
   "execution_count": 10,
   "id": "07aaf06c",
   "metadata": {},
   "outputs": [
    {
     "data": {
      "text/html": [
       "<style>#sk-container-id-1 {color: black;background-color: white;}#sk-container-id-1 pre{padding: 0;}#sk-container-id-1 div.sk-toggleable {background-color: white;}#sk-container-id-1 label.sk-toggleable__label {cursor: pointer;display: block;width: 100%;margin-bottom: 0;padding: 0.3em;box-sizing: border-box;text-align: center;}#sk-container-id-1 label.sk-toggleable__label-arrow:before {content: \"▸\";float: left;margin-right: 0.25em;color: #696969;}#sk-container-id-1 label.sk-toggleable__label-arrow:hover:before {color: black;}#sk-container-id-1 div.sk-estimator:hover label.sk-toggleable__label-arrow:before {color: black;}#sk-container-id-1 div.sk-toggleable__content {max-height: 0;max-width: 0;overflow: hidden;text-align: left;background-color: #f0f8ff;}#sk-container-id-1 div.sk-toggleable__content pre {margin: 0.2em;color: black;border-radius: 0.25em;background-color: #f0f8ff;}#sk-container-id-1 input.sk-toggleable__control:checked~div.sk-toggleable__content {max-height: 200px;max-width: 100%;overflow: auto;}#sk-container-id-1 input.sk-toggleable__control:checked~label.sk-toggleable__label-arrow:before {content: \"▾\";}#sk-container-id-1 div.sk-estimator input.sk-toggleable__control:checked~label.sk-toggleable__label {background-color: #d4ebff;}#sk-container-id-1 div.sk-label input.sk-toggleable__control:checked~label.sk-toggleable__label {background-color: #d4ebff;}#sk-container-id-1 input.sk-hidden--visually {border: 0;clip: rect(1px 1px 1px 1px);clip: rect(1px, 1px, 1px, 1px);height: 1px;margin: -1px;overflow: hidden;padding: 0;position: absolute;width: 1px;}#sk-container-id-1 div.sk-estimator {font-family: monospace;background-color: #f0f8ff;border: 1px dotted black;border-radius: 0.25em;box-sizing: border-box;margin-bottom: 0.5em;}#sk-container-id-1 div.sk-estimator:hover {background-color: #d4ebff;}#sk-container-id-1 div.sk-parallel-item::after {content: \"\";width: 100%;border-bottom: 1px solid gray;flex-grow: 1;}#sk-container-id-1 div.sk-label:hover label.sk-toggleable__label {background-color: #d4ebff;}#sk-container-id-1 div.sk-serial::before {content: \"\";position: absolute;border-left: 1px solid gray;box-sizing: border-box;top: 0;bottom: 0;left: 50%;z-index: 0;}#sk-container-id-1 div.sk-serial {display: flex;flex-direction: column;align-items: center;background-color: white;padding-right: 0.2em;padding-left: 0.2em;position: relative;}#sk-container-id-1 div.sk-item {position: relative;z-index: 1;}#sk-container-id-1 div.sk-parallel {display: flex;align-items: stretch;justify-content: center;background-color: white;position: relative;}#sk-container-id-1 div.sk-item::before, #sk-container-id-1 div.sk-parallel-item::before {content: \"\";position: absolute;border-left: 1px solid gray;box-sizing: border-box;top: 0;bottom: 0;left: 50%;z-index: -1;}#sk-container-id-1 div.sk-parallel-item {display: flex;flex-direction: column;z-index: 1;position: relative;background-color: white;}#sk-container-id-1 div.sk-parallel-item:first-child::after {align-self: flex-end;width: 50%;}#sk-container-id-1 div.sk-parallel-item:last-child::after {align-self: flex-start;width: 50%;}#sk-container-id-1 div.sk-parallel-item:only-child::after {width: 0;}#sk-container-id-1 div.sk-dashed-wrapped {border: 1px dashed gray;margin: 0 0.4em 0.5em 0.4em;box-sizing: border-box;padding-bottom: 0.4em;background-color: white;}#sk-container-id-1 div.sk-label label {font-family: monospace;font-weight: bold;display: inline-block;line-height: 1.2em;}#sk-container-id-1 div.sk-label-container {text-align: center;}#sk-container-id-1 div.sk-container {/* jupyter's `normalize.less` sets `[hidden] { display: none; }` but bootstrap.min.css set `[hidden] { display: none !important; }` so we also need the `!important` here to be able to override the default hidden behavior on the sphinx rendered scikit-learn.org. See: https://github.com/scikit-learn/scikit-learn/issues/21755 */display: inline-block !important;position: relative;}#sk-container-id-1 div.sk-text-repr-fallback {display: none;}</style><div id=\"sk-container-id-1\" class=\"sk-top-container\"><div class=\"sk-text-repr-fallback\"><pre>LogisticRegression(max_iter=1000, random_state=30)</pre><b>In a Jupyter environment, please rerun this cell to show the HTML representation or trust the notebook. <br />On GitHub, the HTML representation is unable to render, please try loading this page with nbviewer.org.</b></div><div class=\"sk-container\" hidden><div class=\"sk-item\"><div class=\"sk-estimator sk-toggleable\"><input class=\"sk-toggleable__control sk-hidden--visually\" id=\"sk-estimator-id-1\" type=\"checkbox\" checked><label for=\"sk-estimator-id-1\" class=\"sk-toggleable__label sk-toggleable__label-arrow\">LogisticRegression</label><div class=\"sk-toggleable__content\"><pre>LogisticRegression(max_iter=1000, random_state=30)</pre></div></div></div></div></div>"
      ],
      "text/plain": [
       "LogisticRegression(max_iter=1000, random_state=30)"
      ]
     },
     "execution_count": 10,
     "metadata": {},
     "output_type": "execute_result"
    }
   ],
   "source": [
    "# Trenujemy model na danych treningowych:\n",
    "from sklearn.datasets import make_classification\n",
    "\n",
    "model = LogisticRegression(random_state=30, max_iter=1000)\n",
    "\n",
    "# Parametr 'random_state' służy do ustawienia ziarna losowego dla algorytmu optymalizacji. Ustawienie go na stałą liczbę\n",
    "# zapewnia, że model będzie dawał takie same wyniki przy każdym uruchomieniu (bez tego model będzie używał różnych ziaren \n",
    "# losowych za każdym razem, co może prowadzić do różnych wyników).\n",
    "\n",
    "model.fit(Xlog_train, ylog_train.values.ravel())"
   ]
  },
  {
   "cell_type": "code",
   "execution_count": 11,
   "id": "4d5bed6c",
   "metadata": {},
   "outputs": [
    {
     "name": "stdout",
     "output_type": "stream",
     "text": [
      "[0 0 0 1 0 0 0 1 0 0 0 0 1 0 1 0 1 0 0 0 0 0 1 1 0 0 0 1 1 0 0 1 0 0 1 1 0\n",
      " 0 1 1 0 0 0 1 0 0 1 0 0 0 0 0 1 0 0 1 1 0 0 1 0 0 0 0 1 0 1 1 1 0 0 0 1 0\n",
      " 0 1 0 0 1 0 0 0 1 0 1 0 0 0 0 0 0 0 0 0 0 1 0 0 1 0 0 0 1 0 1 0 0 0 0 0 0\n",
      " 0 0 1 0 1 0 0 0 0 0 0 0 1 0 1 0 0 0 0 0 0 1 1 1 1 0 0 0 0 0 0 0 1 1 0 1 0\n",
      " 0 1 0 0 1 0 1 1 0 1 1 0 0 0 0 0 0 0 0 0 0 1 1 0 0 0 0 0 0 0 1 1 1 0 0 1 0\n",
      " 1 0 1 0 0 0 0 0 0 1 0 0 0 0 0 0 1 0 1 1 0 0 0 0 1 1 0 0 1 0 1 0 1 0 0 1 1\n",
      " 0 0 0 1 0 0 0 0 0 0 0 0 0 1 1 0 0 0 1 0 1 1 0 1 0 0 0 0 1 0 1 1 0 0 0 1 1\n",
      " 0 0 0 1 1 0 1 0 0 1 0 1 1 1 1 0 0 0 0 1 1 0 1 1 0 1 0 1 1 1 0 1 0 1 0 0 0\n",
      " 0 0 1 0 0 0 0 1 0 1 0 0 1 0 0 1 1 0 1 1 0 1 1 1 0 0 0 1 1 0 1 1 0 1 1 0 0\n",
      " 1 1 1 0 0 1 0 0 0 0 0 0 1 0 0 0 0 0 1 1 0 0 0 1 0 1 0 0 0 0 0 0 0 0 1 1 1\n",
      " 0 1 1 0 0 0 1 0 0 0 1 0 0 0 0 0 0 0 0 0 0 0 0 1 0 0 1 0 1 1 1 0 0 0 1 0 0\n",
      " 0 0 1 1 1 0 0 0 0 0 0 0 1 0 0 0 1 0 0 0 0 0 0 1 0 0 1 0 0 1 1 1 1 0 0 1 1\n",
      " 1 1 1 0 0 0 0 1 0 1 0 1 1 1 0 1 1 0 0 0 1 0 0 1 0 0 0 1 1 1 1 1 0 1 0 0 1\n",
      " 0 1 1 1 0 0 0 1 1 1 1 0 1 0 1 1 0 0 0 0 0 1 1 0 1 0 0 0 0 1 0 0 1 0 0 0 0\n",
      " 1 0 1 1 0 0 0 1 0 0 0 0 0 0 0 0 1 1 0 1 0 0 0 1 0 0 1 0 1 0 1 1 0 0 0 1 1\n",
      " 0 0 0 0 0 1 0 0 0 1 0 0 1 0 0 1 0 0 0 1 1 0 1 1 0 0 0 0 0 1 0 1 0 0 1 0 0\n",
      " 0 0 0 0 1 0 0 0 0 0 0 1 0 0 1 1 1 0 0 0 1 1 1 0 0 0 0 0 0 0 0 0 1 0 0 0 1\n",
      " 0 0 0 1 0 1 0 0 0 1 0 0 0 0 0 0 1 1 0 1 0 0 0 1 0 0 0 0 0 0 0 1 0 1 1 1 0\n",
      " 0 0 0 0 1 1 0 1 0 0 1 0 0 0 0 1 1 0 1 0 1 0 1 0 0 1 0 0 0 0 1 0 0 0 1 0 1\n",
      " 1 0 1 0 1 0 0 0 1 1 1 0 0 0 0 0 1 0 0 0 1 1 0 0 0 1 1 0 0 1 0 0 1 0 1 1 0\n",
      " 0 1 1 0 0 0 0 0 0 0]\n"
     ]
    }
   ],
   "source": [
    "y_pred_train = model.predict(Xlog_train)\n",
    "y_pred = model.predict(Xlog_test)\n",
    "print(y_pred)\n",
    "# print(ylog_test.values)"
   ]
  },
  {
   "cell_type": "code",
   "execution_count": 11,
   "id": "84b69f3f",
   "metadata": {},
   "outputs": [
    {
     "data": {
      "image/png": "[encoded data removed]",
      "text/plain": [
       "<Figure size 640x480 with 2 Axes>"
      ]
     },
     "metadata": {},
     "output_type": "display_data"
    }
   ],
   "source": [
    "#  Metryki klasyfikacji:\n",
    "\n",
    "from sklearn.metrics import confusion_matrix\n",
    "\n",
    "cmlog_train = confusion_matrix(ylog_train, y_pred_train)\n",
    "sns.heatmap(cmlog_train, annot=True, fmt='d')\n",
    "plt.show()\n"
   ]
  },
  {
   "cell_type": "markdown",
   "id": "222eb977",
   "metadata": {},
   "source": [
    "Macierz pomyłek (ang. confusion matrix) jest narzędziem do oceny jakości modelu klasyfikacji. Pokazuje liczbę prawdziwie pozytywnych,fałszywie negatywnych, fałszywie pozytywnych i prawdziwie negatywnych przewidywań modelu. \n",
    "\n",
    "TP - prawdziwie pozytywne \n",
    "FP - fałszywie pozytywne \n",
    "FN - fałszywie negatywne \n",
    "TN - prawdziwie negatywne"
   ]
  },
  {
   "cell_type": "code",
   "execution_count": 12,
   "id": "ae5d543c",
   "metadata": {},
   "outputs": [
    {
     "data": {
      "text/plain": [
       "array([[836, 360],\n",
       "       [588, 463]], dtype=int64)"
      ]
     },
     "execution_count": 12,
     "metadata": {},
     "output_type": "execute_result"
    }
   ],
   "source": [
    "cmlog_train"
   ]
  },
  {
   "cell_type": "code",
   "execution_count": 13,
   "id": "d9f5999e",
   "metadata": {},
   "outputs": [
    {
     "data": {
      "text/plain": [
       "<Axes: >"
      ]
     },
     "execution_count": 13,
     "metadata": {},
     "output_type": "execute_result"
    },
    {
     "data": {
      "image/png": "[encoded data removed]",
      "text/plain": [
       "<Figure size 640x480 with 2 Axes>"
      ]
     },
     "metadata": {},
     "output_type": "display_data"
    }
   ],
   "source": [
    "cmlog = confusion_matrix(ylog_test, y_pred)\n",
    "sns.heatmap(cmlog, annot=True, fmt='d')"
   ]
  },
  {
   "cell_type": "code",
   "execution_count": 14,
   "id": "8d47e86a",
   "metadata": {},
   "outputs": [
    {
     "data": {
      "text/plain": [
       "array([[264, 135],\n",
       "       [199, 152]], dtype=int64)"
      ]
     },
     "execution_count": 14,
     "metadata": {},
     "output_type": "execute_result"
    }
   ],
   "source": [
    "cmlog"
   ]
  },
  {
   "cell_type": "markdown",
   "id": "e1fc9b5e",
   "metadata": {},
   "source": [
    "Inne metryki klasyfikacji:\n",
    "\n",
    "Accuracy: tj. dokładność, oznacza stosunek liczby poprawnych przewidywań modelu do całkowitej liczby przewidywań. Metryka ta\n",
    "                          jest użyteczna, gdy wszystkie klasy są równie ważne i zrównoważone. Jednak może być myląca przy\n",
    "                          niezrównoważonych zbiorach danych lub gdy koszt błędu jest różny dla różnych klas.\n",
    "\n",
    "Precision: tj. precyzja, określa proporcję poprawnych przewidywań wśród wszystkich przewidywań pozytywnych. Jest to\n",
    "                         stosunek liczby prawdziwie pozytywnych przewidywań do sumy prawdziwie pozytywnych i fałszywie\n",
    "                         pozytywnych przewidywań. \n",
    "                         Metryka ta jest użyteczna, gdy chcemy zmniejszyć liczbę fałszywych alarmów (fałszywie pozytywne\n",
    "                         przewidywania, które obniżają jej wartość) lub gdy koszt fałszywie pozytywnego błędu jest wysoki.                              Jeśli jednak chcemy zmaksymalizować liczbę poprawnie wykrytych przypadków pozytywnych lub gdy koszt                            fałszywie negatywnego błędu jest wysoki, lepiej użyć metryki 'Recall' (czułość).\n",
    "                         \n",
    "Recall: tj. czułość, określa proporcję poprawnych przewidywań wśród wszystkich przypadków pozytywnych. Jest to stosunek liczby\n",
    "                     prawdziwie pozytywnych przewidywań do sumy prawdziwie pozytywnych i fałszywie negatywnych przewidywań. \n",
    "                     \n",
    "F1_Score: tj. współczynnik F1, łączy w sobie metryki 'Precision' i 'Recall', obliczając ich średnią harmoniczną. Jest to\n",
    "              stosunek dwukrotności iloczynu precision i recall do sumy precision i recall.\n",
    "              F1-Score jest użyteczne, gdy chcemy zrównoważyć obie metryki i ocenić model pod kątem jego zdolności do \n",
    "              poprawnego przewidywania przypadków pozytywnych. Im wyższe F1-Score, tym lepszy jest model. F1-Score nie \n",
    "              uwzględnia prawdziwie negatywnych przewidywań, więc może być myląca w przypadku niezrównoważonych zbiorów danych.\n"
   ]
  },
  {
   "cell_type": "code",
   "execution_count": 15,
   "id": "f9b2693d",
   "metadata": {},
   "outputs": [],
   "source": [
    "from sklearn.metrics import accuracy_score, precision_score, recall_score, f1_score"
   ]
  },
  {
   "cell_type": "code",
   "execution_count": 28,
   "id": "1868ee15",
   "metadata": {},
   "outputs": [],
   "source": [
    "def calculate_metrics(target, prediction, average='macro'):\n",
    "    accuracy = accuracy_score(target, prediction)\n",
    "    precision = precision_score(target, prediction, average=average)\n",
    "    recall = recall_score(target, prediction, average=average)\n",
    "    f1 = f1_score(target, prediction, average=average)\n",
    "    mislabeled = (target != prediction).sum()\n",
    "    total = len(target)\n",
    "    return accuracy, precision, recall, f1, mislabeled, total\n",
    "def print_results(metrics, classifier_id='classifier'):\n",
    "    print(f'Results for {classifier_id}')\n",
    "    print('----')\n",
    "    print(f'  Accuracy:  {metrics[0]}')\n",
    "    print(f'  Precision: {metrics[1]}')\n",
    "    print(f'  Recall:    {metrics[2]}')\n",
    "    print(f'  F1 score:  {metrics[3]}')\n",
    "    print(f'  Mislabeled {metrics[4]} out of {metrics[5]}')\n",
    "    print('\\n')"
   ]
  },
  {
   "cell_type": "code",
   "execution_count": 29,
   "id": "6cc60cba",
   "metadata": {},
   "outputs": [
    {
     "name": "stdout",
     "output_type": "stream",
     "text": [
      "Results for Log\n",
      "----\n",
      "  Accuracy:  0.5653333333333334\n",
      "  Precision: 0.5612674235479398\n",
      "  Recall:    0.55583402951824\n",
      "  F1 score:  0.5501015721603957\n",
      "  Mislabeled 275778 out of 750\n",
      "\n",
      "\n"
     ]
    }
   ],
   "source": [
    "LogMetrics1 = calculate_metrics(ylog_test.values, y_pred)\n",
    "LogMetrics = print_results(calculate_metrics(ylog_test.values, y_pred), 'Log')\n",
    "LogMetrics"
   ]
  },
  {
   "cell_type": "markdown",
   "id": "43c536d4",
   "metadata": {},
   "source": [
    "Niska wartość współczynnika F1 może świadczyć o tzw. niedotrenowaniu modelu, czyli sytuacji gdy model nie nauczył się wystarczająco dobrze z danych treningowych i ma przez to duży błąd dopasowania. Oznacza to, że jest zbyt prosty lub ma zbyt mało parametrów, aby dobrze odwzorować zależności w danych. Ma niską zdolność generalizacji i nie potrafi poradzić sobie z danymi, których dotąd nie widział. Sposobami na rozwiązanie tego problemu mogą być:\n",
    "\n",
    "  - wybór bardziej złożonego modelu, który wykorzystuje większą liczbę parametrów (tu: w kolejnych etapach projektu),\n",
    "  - Feature Engineering, czyli dołączenie większej liczby cech do algorytmu uczącego,\n",
    "  - zwiększenie liczby danych treningowych,\n",
    "  - optymalizacja hiperparametrów."
   ]
  },
  {
   "cell_type": "markdown",
   "id": "72cea51e",
   "metadata": {},
   "source": []
  },
  {
   "cell_type": "markdown",
   "id": "109e1d55",
   "metadata": {},
   "source": [
    "                                        NAIWNY KLASYFIKATOR BAYESOWSKI:"
   ]
  },
  {
   "cell_type": "markdown",
   "id": "6711c225",
   "metadata": {},
   "source": []
  },
  {
   "cell_type": "markdown",
   "id": "64c1d02b",
   "metadata": {},
   "source": [
    "  Naiwny klasyfikator bayesowski to klasyfikator probabilistyczny, który opiera się na twierdzeniu Bayesa o prawdopodobieństwie warunkowym. Zakłada, że cechy (zmienne niezależne) są wzajemnie niezależne i nie mają wpływu na siebie nawzajem. To założenie jest często niespełnione w rzeczywistości, dlatego nazywa się je naiwnym. Klasyfikator jest prosty w implementacji i często daje dobre wyniki, zwłaszcza przy dużym zbiorze danych i wielu wymiarach."
   ]
  },
  {
   "cell_type": "code",
   "execution_count": 20,
   "id": "913153a2",
   "metadata": {},
   "outputs": [],
   "source": [
    "import numpy as np\n",
    "import pandas as pd\n",
    "import sklearn\n",
    "from sklearn.model_selection import train_test_split\n",
    "from sklearn.metrics import accuracy_score, precision_score, recall_score, f1_score, confusion_matrix\n",
    "from sklearn.metrics import confusion_matrix\n",
    "import matplotlib.pyplot as plt\n",
    "import seaborn as sns"
   ]
  },
  {
   "cell_type": "code",
   "execution_count": 21,
   "id": "fc51ccec",
   "metadata": {},
   "outputs": [
    {
     "data": {
      "text/html": [
       "<div>\n",
       "<style scoped>\n",
       "    .dataframe tbody tr th:only-of-type {\n",
       "        vertical-align: middle;\n",
       "    }\n",
       "\n",
       "    .dataframe tbody tr th {\n",
       "        vertical-align: top;\n",
       "    }\n",
       "\n",
       "    .dataframe thead th {\n",
       "        text-align: right;\n",
       "    }\n",
       "</style>\n",
       "<table border=\"1\" class=\"dataframe\">\n",
       "  <thead>\n",
       "    <tr style=\"text-align: right;\">\n",
       "      <th></th>\n",
       "      <th>Age</th>\n",
       "      <th>DistanceFromHome</th>\n",
       "      <th>Education</th>\n",
       "      <th>EnvironmentSatisfaction</th>\n",
       "      <th>JobInvolvement</th>\n",
       "      <th>JobLevel</th>\n",
       "      <th>JobSatisfaction</th>\n",
       "      <th>MonthlyIncome</th>\n",
       "      <th>NumCompaniesWorked</th>\n",
       "      <th>PercentSalaryHike</th>\n",
       "      <th>...</th>\n",
       "      <th>JobRole_Manufacturing Director</th>\n",
       "      <th>JobRole_Research Director</th>\n",
       "      <th>JobRole_Research Scientist</th>\n",
       "      <th>JobRole_Sales Executive</th>\n",
       "      <th>JobRole_Sales Representative</th>\n",
       "      <th>MaritalStatus_Divorced</th>\n",
       "      <th>MaritalStatus_Married</th>\n",
       "      <th>MaritalStatus_Single</th>\n",
       "      <th>OverTime_No</th>\n",
       "      <th>OverTime_Yes</th>\n",
       "    </tr>\n",
       "  </thead>\n",
       "  <tbody>\n",
       "    <tr>\n",
       "      <th>0</th>\n",
       "      <td>30</td>\n",
       "      <td>1</td>\n",
       "      <td>1</td>\n",
       "      <td>4</td>\n",
       "      <td>2</td>\n",
       "      <td>2</td>\n",
       "      <td>4</td>\n",
       "      <td>5126</td>\n",
       "      <td>1</td>\n",
       "      <td>12</td>\n",
       "      <td>...</td>\n",
       "      <td>0</td>\n",
       "      <td>0</td>\n",
       "      <td>0</td>\n",
       "      <td>0</td>\n",
       "      <td>0</td>\n",
       "      <td>0</td>\n",
       "      <td>1</td>\n",
       "      <td>0</td>\n",
       "      <td>0</td>\n",
       "      <td>1</td>\n",
       "    </tr>\n",
       "    <tr>\n",
       "      <th>1</th>\n",
       "      <td>38</td>\n",
       "      <td>2</td>\n",
       "      <td>2</td>\n",
       "      <td>4</td>\n",
       "      <td>2</td>\n",
       "      <td>3</td>\n",
       "      <td>3</td>\n",
       "      <td>7756</td>\n",
       "      <td>3</td>\n",
       "      <td>19</td>\n",
       "      <td>...</td>\n",
       "      <td>1</td>\n",
       "      <td>0</td>\n",
       "      <td>0</td>\n",
       "      <td>0</td>\n",
       "      <td>0</td>\n",
       "      <td>0</td>\n",
       "      <td>1</td>\n",
       "      <td>0</td>\n",
       "      <td>0</td>\n",
       "      <td>1</td>\n",
       "    </tr>\n",
       "    <tr>\n",
       "      <th>2</th>\n",
       "      <td>26</td>\n",
       "      <td>6</td>\n",
       "      <td>3</td>\n",
       "      <td>3</td>\n",
       "      <td>2</td>\n",
       "      <td>1</td>\n",
       "      <td>2</td>\n",
       "      <td>2368</td>\n",
       "      <td>1</td>\n",
       "      <td>19</td>\n",
       "      <td>...</td>\n",
       "      <td>0</td>\n",
       "      <td>0</td>\n",
       "      <td>1</td>\n",
       "      <td>0</td>\n",
       "      <td>0</td>\n",
       "      <td>0</td>\n",
       "      <td>1</td>\n",
       "      <td>0</td>\n",
       "      <td>1</td>\n",
       "      <td>0</td>\n",
       "    </tr>\n",
       "    <tr>\n",
       "      <th>3</th>\n",
       "      <td>28</td>\n",
       "      <td>8</td>\n",
       "      <td>2</td>\n",
       "      <td>4</td>\n",
       "      <td>3</td>\n",
       "      <td>1</td>\n",
       "      <td>4</td>\n",
       "      <td>3310</td>\n",
       "      <td>1</td>\n",
       "      <td>21</td>\n",
       "      <td>...</td>\n",
       "      <td>0</td>\n",
       "      <td>0</td>\n",
       "      <td>1</td>\n",
       "      <td>0</td>\n",
       "      <td>0</td>\n",
       "      <td>0</td>\n",
       "      <td>0</td>\n",
       "      <td>1</td>\n",
       "      <td>1</td>\n",
       "      <td>0</td>\n",
       "    </tr>\n",
       "    <tr>\n",
       "      <th>4</th>\n",
       "      <td>35</td>\n",
       "      <td>4</td>\n",
       "      <td>2</td>\n",
       "      <td>3</td>\n",
       "      <td>3</td>\n",
       "      <td>1</td>\n",
       "      <td>4</td>\n",
       "      <td>1951</td>\n",
       "      <td>1</td>\n",
       "      <td>12</td>\n",
       "      <td>...</td>\n",
       "      <td>0</td>\n",
       "      <td>0</td>\n",
       "      <td>0</td>\n",
       "      <td>0</td>\n",
       "      <td>0</td>\n",
       "      <td>1</td>\n",
       "      <td>0</td>\n",
       "      <td>0</td>\n",
       "      <td>1</td>\n",
       "      <td>0</td>\n",
       "    </tr>\n",
       "  </tbody>\n",
       "</table>\n",
       "<p>5 rows × 47 columns</p>\n",
       "</div>"
      ],
      "text/plain": [
       "   Age  DistanceFromHome  Education  EnvironmentSatisfaction  JobInvolvement   \n",
       "0   30                 1          1                        4               2  \\\n",
       "1   38                 2          2                        4               2   \n",
       "2   26                 6          3                        3               2   \n",
       "3   28                 8          2                        4               3   \n",
       "4   35                 4          2                        3               3   \n",
       "\n",
       "   JobLevel  JobSatisfaction  MonthlyIncome  NumCompaniesWorked   \n",
       "0         2                4           5126                   1  \\\n",
       "1         3                3           7756                   3   \n",
       "2         1                2           2368                   1   \n",
       "3         1                4           3310                   1   \n",
       "4         1                4           1951                   1   \n",
       "\n",
       "   PercentSalaryHike  ...  JobRole_Manufacturing Director   \n",
       "0                 12  ...                               0  \\\n",
       "1                 19  ...                               1   \n",
       "2                 19  ...                               0   \n",
       "3                 21  ...                               0   \n",
       "4                 12  ...                               0   \n",
       "\n",
       "   JobRole_Research Director  JobRole_Research Scientist   \n",
       "0                          0                           0  \\\n",
       "1                          0                           0   \n",
       "2                          0                           1   \n",
       "3                          0                           1   \n",
       "4                          0                           0   \n",
       "\n",
       "   JobRole_Sales Executive  JobRole_Sales Representative   \n",
       "0                        0                             0  \\\n",
       "1                        0                             0   \n",
       "2                        0                             0   \n",
       "3                        0                             0   \n",
       "4                        0                             0   \n",
       "\n",
       "   MaritalStatus_Divorced  MaritalStatus_Married  MaritalStatus_Single   \n",
       "0                       0                      1                     0  \\\n",
       "1                       0                      1                     0   \n",
       "2                       0                      1                     0   \n",
       "3                       0                      0                     1   \n",
       "4                       1                      0                     0   \n",
       "\n",
       "   OverTime_No  OverTime_Yes  \n",
       "0            0             1  \n",
       "1            0             1  \n",
       "2            1             0  \n",
       "3            1             0  \n",
       "4            1             0  \n",
       "\n",
       "[5 rows x 47 columns]"
      ]
     },
     "execution_count": 21,
     "metadata": {},
     "output_type": "execute_result"
    }
   ],
   "source": [
    "ATTMod = pd.read_csv('Dane/ATTMod.csv')\n",
    "ATTMod.head()"
   ]
  },
  {
   "cell_type": "code",
   "execution_count": 22,
   "id": "6a5160a6",
   "metadata": {},
   "outputs": [],
   "source": [
    "train_data = ATTMod.drop('Attrition', axis=1)\n",
    "train_labels = ATTMod[['Attrition']]"
   ]
  },
  {
   "cell_type": "code",
   "execution_count": 23,
   "id": "340efe1f",
   "metadata": {},
   "outputs": [],
   "source": [
    "from sklearn.naive_bayes import MultinomialNB, GaussianNB"
   ]
  },
  {
   "cell_type": "code",
   "execution_count": 24,
   "id": "e79a83d9",
   "metadata": {},
   "outputs": [],
   "source": [
    "XBay = train_data\n",
    "yBay = train_labels"
   ]
  },
  {
   "cell_type": "code",
   "execution_count": 25,
   "id": "b6cde3b5",
   "metadata": {},
   "outputs": [],
   "source": [
    "XBay_train, XBay_test, yBay_train, yBay_test = train_test_split(XBay, yBay, test_size=0.2, stratify=yBay)"
   ]
  },
  {
   "cell_type": "code",
   "execution_count": 26,
   "id": "fbe54483",
   "metadata": {},
   "outputs": [
    {
     "name": "stdout",
     "output_type": "stream",
     "text": [
      "[0 1 0 0 1 1 0 0 0 0 0 1 0 0 0 1 1 1 1 0 1 0 0 0 0 0 1 1 1 1 1 0 0 0 1 1 1\n",
      " 1 1 0 0 1 0 0 1 0 1 1 1 1 0 0 0 0 1 0 0 1 1 0 0 0 0 1 1 0 0 0 0 0 0 0 0 1\n",
      " 0 1 1 1 0 0 1 0 1 1 0 0 1 0 1 0 1 0 0 0 0 0 0 1 1 0 0 0 1 0 1 1 0 1 1 0 1\n",
      " 0 0 1 1 0 0 0 1 0 0 0 1 0 1 0 0 0 1 0 1 1 0 0 0 0 1 0 1 0 0 1 0 0 1 0 1 1\n",
      " 0 0 0 0 0 0 0 1 1 1 0 1 0 0 1 0 0 0 1 1 1 1 0 0 0 1 0 0 1 1 0 0 1 0 1 1 0\n",
      " 1 0 1 1 0 1 0 0 0 0 1 0 0 0 0 0 0 1 0 0 0 0 0 0 0 1 0 0 0 1 1 1 1 0 1 0 1\n",
      " 1 0 1 1 1 1 0 1 0 0 1 1 0 0 0 1 0 0 1 0 0 0 1 0 0 1 0 1 0 0 0 0 0 1 0 0 0\n",
      " 1 1 0 0 0 1 1 0 0 1 0 1 1 0 1 0 0 1 1 0 0 1 0 1 1 0 1 1 1 0 1 0 1 0 0 1 1\n",
      " 1 0 0 0 0 0 1 1 1 1 1 0 1 0 1 1 1 0 1 1 1 0 1 1 1 0 1 0 1 0 1 0 1 1 1 1 0\n",
      " 1 0 0 0 0 1 1 0 0 0 0 1 0 1 1 1 1 1 0 0 0 0 0 0 1 0 0 1 0 1 0 0 0 0 1 1 0\n",
      " 1 0 1 1 1 0 1 0 0 0 1 0 1 0 1 0 0 0 1 0 0 1 0 0 0 0 0 0 1 1 0 0 0 0 1 0 0\n",
      " 1 0 1 0 1 0 0 0 0 1 1 0 0 0 1 0 1 0 0 1 1 0 0 1 1 0 0 0 0 1 1 0 0 1 0 0 1\n",
      " 1 0 1 0 0 1 0 1 1 1 0 1 1 0 0 1 1 1 1 1 1 1 0 0 0 1 0 0 0 0 1 0 0 1 1 0 0\n",
      " 1 0 1 1 0 0 0 0 0 0 1 0 1 0 0 0 0 0 0 1 1 1 1 1 0 1 0 0 1 0 0 0 0 0 0 1 0\n",
      " 1 0 1 1 0 1 0 0 0 0 0 0 0 0 1 1 1 1 1 1 0 1 0 0 0 1 0 0 0 0 0 1 0 1 0 0 1\n",
      " 1 1 1 0 0 0 1 0 0 0 1 0 1 0 1 1 1 1 1 1 1 1 1 0 0 1 0 0 1 0 0 0 1 0 0 1 1\n",
      " 0 0 1 0 1 0 1 1]\n",
      "[[181 138]\n",
      " [159 122]]\n"
     ]
    },
    {
     "name": "stderr",
     "output_type": "stream",
     "text": [
      "C:\\Users\\Kamil - IT\\AppData\\Local\\Programs\\Python\\Python311\\Lib\\site-packages\\sklearn\\utils\\validation.py:1143: DataConversionWarning: A column-vector y was passed when a 1d array was expected. Please change the shape of y to (n_samples, ), for example using ravel().\n",
      "  y = column_or_1d(y, warn=True)\n"
     ]
    }
   ],
   "source": [
    "# Klasyfikator Gaussowski lepiej nadaje się do danych ciągłych \n",
    "# (dane, które mogą przyjmować dowolną wartość z pewnego przedziału)\n",
    "\n",
    "gnb = GaussianNB()  \n",
    "gnb.fit(XBay_train, yBay_train)\n",
    "y_gnb = gnb.predict(XBay_test)\n",
    "# print(yBay_test.values)\n",
    "print(y_gnb)\n",
    "print(confusion_matrix(yBay_test,y_gnb))"
   ]
  },
  {
   "cell_type": "code",
   "execution_count": 30,
   "id": "34b7a938",
   "metadata": {},
   "outputs": [
    {
     "name": "stdout",
     "output_type": "stream",
     "text": [
      "Results for GNB\n",
      "----\n",
      "  Accuracy:  0.505\n",
      "  Precision: 0.5007918552036199\n",
      "  Recall:    0.5007809100949363\n",
      "  F1 score:  0.5001668915261178\n",
      "  Mislabeled 178480 out of 600\n",
      "\n",
      "\n"
     ]
    }
   ],
   "source": [
    "GNBMetricsBayes1 = calculate_metrics(yBay_test.values, y_gnb)\n",
    "GNBMetricsBayes = print_results(calculate_metrics(yBay_test.values, y_gnb), 'GNB')\n",
    "GNBMetricsBayes"
   ]
  },
  {
   "cell_type": "code",
   "execution_count": 31,
   "id": "82d5d339",
   "metadata": {},
   "outputs": [
    {
     "name": "stdout",
     "output_type": "stream",
     "text": [
      "[[181 138]\n",
      " [159 122]]\n"
     ]
    }
   ],
   "source": [
    "cm_gnbBay = confusion_matrix(yBay_test, y_gnb)\n",
    "print(cm_gnbBay)"
   ]
  },
  {
   "cell_type": "code",
   "execution_count": 32,
   "id": "73b1726a",
   "metadata": {},
   "outputs": [
    {
     "data": {
      "text/plain": [
       "<Axes: >"
      ]
     },
     "execution_count": 32,
     "metadata": {},
     "output_type": "execute_result"
    },
    {
     "data": {
      "image/png": "[encoded data removed]",
      "text/plain": [
       "<Figure size 640x480 with 2 Axes>"
      ]
     },
     "metadata": {},
     "output_type": "display_data"
    }
   ],
   "source": [
    "cm_gnbBay = confusion_matrix(yBay_test, y_gnb)\n",
    "sns.heatmap(cm_gnbBay, annot=True, fmt='d')"
   ]
  },
  {
   "cell_type": "code",
   "execution_count": 29,
   "id": "085d6244",
   "metadata": {},
   "outputs": [],
   "source": [
    "# Sprawdźmy jak poradzi sobie nasz model po dyskretyzacji danych (przekształcenie zmiennej ciągłej na dyskretną - taka, która\n",
    "# przyjmuje wartości ze skończonego zbioru wartości):"
   ]
  },
  {
   "cell_type": "code",
   "execution_count": 33,
   "id": "3b326b11",
   "metadata": {},
   "outputs": [
    {
     "name": "stdout",
     "output_type": "stream",
     "text": [
      "bin edges: \n",
      " [array([19. , 23.1, 27.2, 31.3, 35.4, 39.5, 43.6, 47.7, 51.8, 55.9, 60. ])\n",
      " array([ 1. ,  3.8,  6.6,  9.4, 12.2, 15. , 17.8, 20.6, 23.4, 26.2, 29. ])\n",
      " array([1. , 1.4, 1.8, 2.2, 2.6, 3. , 3.4, 3.8, 4.2, 4.6, 5. ])\n",
      " array([1. , 1.3, 1.6, 1.9, 2.2, 2.5, 2.8, 3.1, 3.4, 3.7, 4. ])\n",
      " array([1. , 1.3, 1.6, 1.9, 2.2, 2.5, 2.8, 3.1, 3.4, 3.7, 4. ])\n",
      " array([1. , 1.4, 1.8, 2.2, 2.6, 3. , 3.4, 3.8, 4.2, 4.6, 5. ])\n",
      " array([1. , 1.3, 1.6, 1.9, 2.2, 2.5, 2.8, 3.1, 3.4, 3.7, 4. ])\n",
      " array([ 1009.,  2908.,  4807.,  6706.,  8605., 10504., 12403., 14302.,\n",
      "        16201., 18100., 19999.])\n",
      " array([0. , 0.9, 1.8, 2.7, 3.6, 4.5, 5.4, 6.3, 7.2, 8.1, 9. ])\n",
      " array([11. , 12.4, 13.8, 15.2, 16.6, 18. , 19.4, 20.8, 22.2, 23.6, 25. ])\n",
      " array([1. , 1.3, 1.6, 1.9, 2.2, 2.5, 2.8, 3.1, 3.4, 3.7, 4. ])\n",
      " array([0. , 0.3, 0.6, 0.9, 1.2, 1.5, 1.8, 2.1, 2.4, 2.7, 3. ])\n",
      " array([ 1. ,  4.9,  8.8, 12.7, 16.6, 20.5, 24.4, 28.3, 32.2, 36.1, 40. ])\n",
      " array([0. , 0.6, 1.2, 1.8, 2.4, 3. , 3.6, 4.2, 4.8, 5.4, 6. ])\n",
      " array([1. , 1.3, 1.6, 1.9, 2.2, 2.5, 2.8, 3.1, 3.4, 3.7, 4. ])\n",
      " array([ 1. ,  4.9,  8.8, 12.7, 16.6, 20.5, 24.4, 28.3, 32.2, 36.1, 40. ])\n",
      " array([ 0. ,  1.7,  3.4,  5.1,  6.8,  8.5, 10.2, 11.9, 13.6, 15.3, 17. ])\n",
      " array([ 0. ,  1.6,  3.2,  4.8,  6.4,  8. ,  9.6, 11.2, 12.8, 14.4, 16. ])\n",
      " array([0. , 0.1, 0.2, 0.3, 0.4, 0.5, 0.6, 0.7, 0.8, 0.9, 1. ])\n",
      " array([0. , 0.1, 0.2, 0.3, 0.4, 0.5, 0.6, 0.7, 0.8, 0.9, 1. ])\n",
      " array([0. , 0.1, 0.2, 0.3, 0.4, 0.5, 0.6, 0.7, 0.8, 0.9, 1. ])\n",
      " array([0. , 0.1, 0.2, 0.3, 0.4, 0.5, 0.6, 0.7, 0.8, 0.9, 1. ])\n",
      " array([0. , 0.1, 0.2, 0.3, 0.4, 0.5, 0.6, 0.7, 0.8, 0.9, 1. ])\n",
      " array([0. , 0.1, 0.2, 0.3, 0.4, 0.5, 0.6, 0.7, 0.8, 0.9, 1. ])\n",
      " array([0. , 0.1, 0.2, 0.3, 0.4, 0.5, 0.6, 0.7, 0.8, 0.9, 1. ])\n",
      " array([0. , 0.1, 0.2, 0.3, 0.4, 0.5, 0.6, 0.7, 0.8, 0.9, 1. ])\n",
      " array([0. , 0.1, 0.2, 0.3, 0.4, 0.5, 0.6, 0.7, 0.8, 0.9, 1. ])\n",
      " array([0. , 0.1, 0.2, 0.3, 0.4, 0.5, 0.6, 0.7, 0.8, 0.9, 1. ])\n",
      " array([0. , 0.1, 0.2, 0.3, 0.4, 0.5, 0.6, 0.7, 0.8, 0.9, 1. ])\n",
      " array([0. , 0.1, 0.2, 0.3, 0.4, 0.5, 0.6, 0.7, 0.8, 0.9, 1. ])\n",
      " array([0. , 0.1, 0.2, 0.3, 0.4, 0.5, 0.6, 0.7, 0.8, 0.9, 1. ])\n",
      " array([0. , 0.1, 0.2, 0.3, 0.4, 0.5, 0.6, 0.7, 0.8, 0.9, 1. ])\n",
      " array([0. , 0.1, 0.2, 0.3, 0.4, 0.5, 0.6, 0.7, 0.8, 0.9, 1. ])\n",
      " array([0. , 0.1, 0.2, 0.3, 0.4, 0.5, 0.6, 0.7, 0.8, 0.9, 1. ])\n",
      " array([0. , 0.1, 0.2, 0.3, 0.4, 0.5, 0.6, 0.7, 0.8, 0.9, 1. ])\n",
      " array([0. , 0.1, 0.2, 0.3, 0.4, 0.5, 0.6, 0.7, 0.8, 0.9, 1. ])\n",
      " array([0. , 0.1, 0.2, 0.3, 0.4, 0.5, 0.6, 0.7, 0.8, 0.9, 1. ])\n",
      " array([0. , 0.1, 0.2, 0.3, 0.4, 0.5, 0.6, 0.7, 0.8, 0.9, 1. ])\n",
      " array([0. , 0.1, 0.2, 0.3, 0.4, 0.5, 0.6, 0.7, 0.8, 0.9, 1. ])\n",
      " array([0. , 0.1, 0.2, 0.3, 0.4, 0.5, 0.6, 0.7, 0.8, 0.9, 1. ])\n",
      " array([0. , 0.1, 0.2, 0.3, 0.4, 0.5, 0.6, 0.7, 0.8, 0.9, 1. ])\n",
      " array([0. , 0.1, 0.2, 0.3, 0.4, 0.5, 0.6, 0.7, 0.8, 0.9, 1. ])\n",
      " array([0. , 0.1, 0.2, 0.3, 0.4, 0.5, 0.6, 0.7, 0.8, 0.9, 1. ])\n",
      " array([0. , 0.1, 0.2, 0.3, 0.4, 0.5, 0.6, 0.7, 0.8, 0.9, 1. ])\n",
      " array([0. , 0.1, 0.2, 0.3, 0.4, 0.5, 0.6, 0.7, 0.8, 0.9, 1. ])\n",
      " array([0. , 0.1, 0.2, 0.3, 0.4, 0.5, 0.6, 0.7, 0.8, 0.9, 1. ])]\n"
     ]
    }
   ],
   "source": [
    "from sklearn.preprocessing import KBinsDiscretizer\n",
    "\n",
    "kb = KBinsDiscretizer(n_bins=10, strategy='uniform')\n",
    "kb.fit(XBay)\n",
    "print(\"bin edges: \\n\", kb.bin_edges_)"
   ]
  },
  {
   "cell_type": "code",
   "execution_count": 34,
   "id": "4ca24c44",
   "metadata": {},
   "outputs": [
    {
     "data": {
      "text/plain": [
       "<2997x460 sparse matrix of type '<class 'numpy.float64'>'\n",
       "\twith 137862 stored elements in Compressed Sparse Row format>"
      ]
     },
     "execution_count": 34,
     "metadata": {},
     "output_type": "execute_result"
    }
   ],
   "source": [
    "X_binned = kb.transform(XBay)\n",
    "X_binned"
   ]
  },
  {
   "cell_type": "code",
   "execution_count": 35,
   "id": "59f8ef88",
   "metadata": {},
   "outputs": [
    {
     "name": "stdout",
     "output_type": "stream",
     "text": [
      "   Age  DistanceFromHome  Education  EnvironmentSatisfaction  JobInvolvement   \n",
      "0   30                 1          1                        4               2  \\\n",
      "1   38                 2          2                        4               2   \n",
      "2   26                 6          3                        3               2   \n",
      "3   28                 8          2                        4               3   \n",
      "4   35                 4          2                        3               3   \n",
      "5   34                 9          4                        1               3   \n",
      "6   32                 3          2                        3               3   \n",
      "7   42                 2          3                        4               2   \n",
      "8   34                 6          2                        4               1   \n",
      "9   40                 4          1                        4               3   \n",
      "\n",
      "   JobLevel  JobSatisfaction  MonthlyIncome  NumCompaniesWorked   \n",
      "0         2                4           5126                   1  \\\n",
      "1         3                3           7756                   3   \n",
      "2         1                2           2368                   1   \n",
      "3         1                4           3310                   1   \n",
      "4         1                4           1951                   1   \n",
      "5         1                3           2742                   1   \n",
      "6         3                4          11159                   3   \n",
      "7         1                1           2593                   0   \n",
      "8         1                3           2351                   0   \n",
      "9         5                3          19033                   1   \n",
      "\n",
      "   PercentSalaryHike  ...  JobRole_Manufacturing Director   \n",
      "0                 12  ...                               0  \\\n",
      "1                 19  ...                               1   \n",
      "2                 19  ...                               0   \n",
      "3                 21  ...                               0   \n",
      "4                 12  ...                               0   \n",
      "5                 15  ...                               0   \n",
      "6                 15  ...                               0   \n",
      "7                 11  ...                               0   \n",
      "8                 16  ...                               0   \n",
      "9                 14  ...                               0   \n",
      "\n",
      "   JobRole_Research Director  JobRole_Research Scientist   \n",
      "0                          0                           0  \\\n",
      "1                          0                           0   \n",
      "2                          0                           1   \n",
      "3                          0                           1   \n",
      "4                          0                           0   \n",
      "5                          0                           0   \n",
      "6                          1                           0   \n",
      "7                          0                           0   \n",
      "8                          0                           0   \n",
      "9                          0                           0   \n",
      "\n",
      "   JobRole_Sales Executive  JobRole_Sales Representative   \n",
      "0                        0                             0  \\\n",
      "1                        0                             0   \n",
      "2                        0                             0   \n",
      "3                        0                             0   \n",
      "4                        0                             0   \n",
      "5                        0                             0   \n",
      "6                        0                             0   \n",
      "7                        0                             0   \n",
      "8                        0                             1   \n",
      "9                        0                             0   \n",
      "\n",
      "   MaritalStatus_Divorced  MaritalStatus_Married  MaritalStatus_Single   \n",
      "0                       0                      1                     0  \\\n",
      "1                       0                      1                     0   \n",
      "2                       0                      1                     0   \n",
      "3                       0                      0                     1   \n",
      "4                       1                      0                     0   \n",
      "5                       0                      1                     0   \n",
      "6                       0                      0                     1   \n",
      "7                       1                      0                     0   \n",
      "8                       1                      0                     0   \n",
      "9                       0                      1                     0   \n",
      "\n",
      "   OverTime_No  OverTime_Yes  \n",
      "0            0             1  \n",
      "1            0             1  \n",
      "2            1             0  \n",
      "3            1             0  \n",
      "4            1             0  \n",
      "5            1             0  \n",
      "6            1             0  \n",
      "7            0             1  \n",
      "8            1             0  \n",
      "9            1             0  \n",
      "\n",
      "[10 rows x 46 columns]\n"
     ]
    },
    {
     "data": {
      "text/plain": [
       "array([[0., 0., 1., ..., 0., 0., 1.],\n",
       "       [0., 0., 0., ..., 0., 0., 1.],\n",
       "       [0., 1., 0., ..., 0., 0., 0.],\n",
       "       ...,\n",
       "       [0., 0., 0., ..., 0., 0., 1.],\n",
       "       [0., 0., 0., ..., 0., 0., 0.],\n",
       "       [0., 0., 0., ..., 0., 0., 0.]])"
      ]
     },
     "execution_count": 35,
     "metadata": {},
     "output_type": "execute_result"
    }
   ],
   "source": [
    "print(XBay[:10])\n",
    "X_binned.toarray()[:10]"
   ]
  },
  {
   "cell_type": "code",
   "execution_count": 36,
   "id": "550d31c0",
   "metadata": {},
   "outputs": [],
   "source": [
    "X_binned_train, X_binned_test, yBay_train, yBay_test = train_test_split(X_binned, yBay, test_size=0.2, stratify=yBay)"
   ]
  },
  {
   "cell_type": "code",
   "execution_count": 37,
   "id": "9d2c9884",
   "metadata": {},
   "outputs": [
    {
     "name": "stdout",
     "output_type": "stream",
     "text": [
      "[0 0 1 0 0 0 0 0 0 1 0 0 1 0 0 0 0 0 1 1 0 1 1 0 1 1 1 0 1 0 1 1 1 1 1 0 1\n",
      " 1 0 1 0 0 1 0 0 0 1 1 1 1 0 0 0 0 0 1 1 0 0 0 1 0 0 1 0 1 1 1 0 1 1 1 0 1\n",
      " 1 1 0 1 1 0 1 1 1 0 0 0 0 1 1 1 0 0 1 0 0 1 1 0 1 0 0 1 0 0 0 0 1 1 0 0 1\n",
      " 1 0 1 1 0 1 0 0 0 1 0 0 0 0 1 0 0 1 1 0 1 0 0 0 0 1 1 1 0 1 0 1 0 0 0 1 0\n",
      " 1 1 0 1 0 1 1 0 1 0 0 0 0 1 0 1 1 0 0 0 0 0 0 0 0 1 0 0 0 1 1 0 0 0 1 0 0\n",
      " 0 0 0 0 0 0 0 0 0 0 1 1 1 1 0 0 1 0 0 0 0 0 0 1 0 0 1 1 0 0 1 0 0 1 1 1 1\n",
      " 1 0 1 1 1 0 0 0 1 0 0 1 1 0 1 0 0 1 0 1 0 0 0 1 0 0 1 0 0 0 0 0 0 0 1 0 0\n",
      " 0 0 1 0 0 0 0 1 0 0 0 1 1 0 0 0 1 0 0 0 1 1 0 0 0 1 0 0 1 1 0 1 1 0 1 0 1\n",
      " 0 0 1 0 0 0 0 1 1 1 1 1 0 1 1 0 1 1 0 1 1 0 0 0 1 1 0 0 1 0 1 1 0 1 0 1 1\n",
      " 0 1 0 0 0 0 0 0 0 0 0 1 1 1 1 1 1 0 0 1 0 0 0 0 0 1 1 1 0 1 1 0 1 0 0 1 0\n",
      " 0 0 1 0 0 0 0 0 1 0 1 1 1 1 0 0 0 1 1 1 0 0 0 0 0 0 1 0 0 1 0 0 0 1 1 0 0\n",
      " 0 1 1 0 0 1 0 0 1 0 1 0 0 0 0 1 0 0 1 1 1 1 0 1 1 0 1 0 0 0 0 1 0 0 0 1 1\n",
      " 1 0 1 1 1 1 0 1 1 1 1 1 0 1 1 0 1 1 0 1 1 1 0 0 0 0 0 0 0 1 0 1 0 1 0 1 0\n",
      " 1 0 1 0 0 1 0 0 0 0 1 1 1 1 0 1 0 0 0 1 0 1 1 0 1 0 1 0 0 0 1 1 0 0 1 1 0\n",
      " 0 0 0 1 0 0 1 1 1 0 0 0 1 1 0 0 0 1 1 0 0 0 1 1 0 0 0 1 1 1 0 1 0 0 1 0 1\n",
      " 0 0 0 0 0 1 0 0 0 0 0 0 1 0 0 1 0 0 0 0 0 1 0 1 1 0 1 0 0 1 0 0 0 1 1 1 1\n",
      " 1 0 1 1 0 0 0 1]\n",
      "[[205 114]\n",
      " [140 141]]\n"
     ]
    },
    {
     "name": "stderr",
     "output_type": "stream",
     "text": [
      "C:\\Users\\Kamil - IT\\AppData\\Local\\Programs\\Python\\Python311\\Lib\\site-packages\\sklearn\\utils\\validation.py:1143: DataConversionWarning: A column-vector y was passed when a 1d array was expected. Please change the shape of y to (n_samples, ), for example using ravel().\n",
      "  y = column_or_1d(y, warn=True)\n"
     ]
    }
   ],
   "source": [
    "# Mamy dane dyskretne, więc lepiej sprawdzi się tu Klasyfikator Multinomialny:\n",
    "\n",
    "mnb = MultinomialNB()\n",
    "\n",
    "mnb.fit(X_binned_train, yBay_train)\n",
    "y_mnb = mnb.predict(X_binned_test)\n",
    "#print(yBay_test.values)\n",
    "print(y_mnb)\n",
    "print(confusion_matrix(yBay_test,y_mnb))\n"
   ]
  },
  {
   "cell_type": "code",
   "execution_count": 38,
   "id": "f8ada38e",
   "metadata": {},
   "outputs": [
    {
     "name": "stdout",
     "output_type": "stream",
     "text": [
      "Results for MNB\n",
      "----\n",
      "  Accuracy:  0.5766666666666667\n",
      "  Precision: 0.5735720375106564\n",
      "  Recall:    0.5722062941353652\n",
      "  F1 score:  0.5717946412515734\n",
      "  Mislabeled 178290 out of 600\n",
      "\n",
      "\n"
     ]
    }
   ],
   "source": [
    "MNBMetricsBayes1 = calculate_metrics(yBay_test.values, y_mnb)\n",
    "MNBMetricsBayes = print_results(calculate_metrics(yBay_test.values, y_mnb), 'MNB')\n",
    "MNBMetricsBayes"
   ]
  },
  {
   "cell_type": "code",
   "execution_count": 36,
   "id": "8ce026b8",
   "metadata": {},
   "outputs": [],
   "source": [
    "# Wynik F1-Score dla 'MNB' lepszy niż dla 'GNB'."
   ]
  },
  {
   "cell_type": "code",
   "execution_count": 39,
   "id": "c08c696d",
   "metadata": {},
   "outputs": [
    {
     "name": "stdout",
     "output_type": "stream",
     "text": [
      "[[205 114]\n",
      " [140 141]]\n"
     ]
    }
   ],
   "source": [
    "cm_mnbBay = confusion_matrix(yBay_test, y_mnb)\n",
    "print(cm_mnbBay)"
   ]
  },
  {
   "cell_type": "code",
   "execution_count": 40,
   "id": "90061056",
   "metadata": {},
   "outputs": [
    {
     "data": {
      "text/plain": [
       "<Axes: >"
      ]
     },
     "execution_count": 40,
     "metadata": {},
     "output_type": "execute_result"
    },
    {
     "data": {
      "image/png": "[encoded data removed]",
      "text/plain": [
       "<Figure size 640x480 with 2 Axes>"
      ]
     },
     "metadata": {},
     "output_type": "display_data"
    }
   ],
   "source": [
    "cm_mnbBay = confusion_matrix(yBay_test, y_mnb)\n",
    "sns.heatmap(cm_mnbBay, annot=True, fmt='d')"
   ]
  },
  {
   "cell_type": "markdown",
   "id": "064e342f",
   "metadata": {},
   "source": []
  },
  {
   "cell_type": "markdown",
   "id": "1c95035e",
   "metadata": {},
   "source": [
    "                                         KNN (k-najbliższych sąsiadów)"
   ]
  },
  {
   "cell_type": "markdown",
   "id": "b3a7d4ff",
   "metadata": {},
   "source": []
  },
  {
   "cell_type": "markdown",
   "id": "d1538b33",
   "metadata": {},
   "source": [
    "  Algorytm KNN (k-najbliższych sąsiadów) polega na tym, że każdy punkt danych jest przypisywany do klasy lub wartości, która jest najczęstsza lub średnia wśród jego k najbliższych sąsiadów, gdzie k jest parametrem, który określa liczbę sąsiadów branych pod uwagę. Aby znaleźć k najbliższych sąsiadów, KNN używa miary odległości, takiej jak odległość euklidesowa lub manhattanowska."
   ]
  },
  {
   "cell_type": "markdown",
   "id": "0933bb99",
   "metadata": {},
   "source": []
  },
  {
   "cell_type": "code",
   "execution_count": 41,
   "id": "0bc25f3e",
   "metadata": {},
   "outputs": [],
   "source": [
    "import numpy as np\n",
    "import pandas as pd\n",
    "import sklearn\n",
    "from sklearn.model_selection import train_test_split\n",
    "from sklearn.metrics import accuracy_score, precision_score, recall_score, f1_score, confusion_matrix\n",
    "from sklearn.metrics import confusion_matrix\n",
    "import matplotlib.pyplot as plt\n",
    "import seaborn as sns"
   ]
  },
  {
   "cell_type": "code",
   "execution_count": 42,
   "id": "c9fc7586",
   "metadata": {},
   "outputs": [
    {
     "data": {
      "text/html": [
       "<div>\n",
       "<style scoped>\n",
       "    .dataframe tbody tr th:only-of-type {\n",
       "        vertical-align: middle;\n",
       "    }\n",
       "\n",
       "    .dataframe tbody tr th {\n",
       "        vertical-align: top;\n",
       "    }\n",
       "\n",
       "    .dataframe thead th {\n",
       "        text-align: right;\n",
       "    }\n",
       "</style>\n",
       "<table border=\"1\" class=\"dataframe\">\n",
       "  <thead>\n",
       "    <tr style=\"text-align: right;\">\n",
       "      <th></th>\n",
       "      <th>Age</th>\n",
       "      <th>DistanceFromHome</th>\n",
       "      <th>Education</th>\n",
       "      <th>EnvironmentSatisfaction</th>\n",
       "      <th>JobInvolvement</th>\n",
       "      <th>JobLevel</th>\n",
       "      <th>JobSatisfaction</th>\n",
       "      <th>MonthlyIncome</th>\n",
       "      <th>NumCompaniesWorked</th>\n",
       "      <th>PercentSalaryHike</th>\n",
       "      <th>...</th>\n",
       "      <th>JobRole_Manufacturing Director</th>\n",
       "      <th>JobRole_Research Director</th>\n",
       "      <th>JobRole_Research Scientist</th>\n",
       "      <th>JobRole_Sales Executive</th>\n",
       "      <th>JobRole_Sales Representative</th>\n",
       "      <th>MaritalStatus_Divorced</th>\n",
       "      <th>MaritalStatus_Married</th>\n",
       "      <th>MaritalStatus_Single</th>\n",
       "      <th>OverTime_No</th>\n",
       "      <th>OverTime_Yes</th>\n",
       "    </tr>\n",
       "  </thead>\n",
       "  <tbody>\n",
       "    <tr>\n",
       "      <th>0</th>\n",
       "      <td>30</td>\n",
       "      <td>1</td>\n",
       "      <td>1</td>\n",
       "      <td>4</td>\n",
       "      <td>2</td>\n",
       "      <td>2</td>\n",
       "      <td>4</td>\n",
       "      <td>5126</td>\n",
       "      <td>1</td>\n",
       "      <td>12</td>\n",
       "      <td>...</td>\n",
       "      <td>0</td>\n",
       "      <td>0</td>\n",
       "      <td>0</td>\n",
       "      <td>0</td>\n",
       "      <td>0</td>\n",
       "      <td>0</td>\n",
       "      <td>1</td>\n",
       "      <td>0</td>\n",
       "      <td>0</td>\n",
       "      <td>1</td>\n",
       "    </tr>\n",
       "    <tr>\n",
       "      <th>1</th>\n",
       "      <td>38</td>\n",
       "      <td>2</td>\n",
       "      <td>2</td>\n",
       "      <td>4</td>\n",
       "      <td>2</td>\n",
       "      <td>3</td>\n",
       "      <td>3</td>\n",
       "      <td>7756</td>\n",
       "      <td>3</td>\n",
       "      <td>19</td>\n",
       "      <td>...</td>\n",
       "      <td>1</td>\n",
       "      <td>0</td>\n",
       "      <td>0</td>\n",
       "      <td>0</td>\n",
       "      <td>0</td>\n",
       "      <td>0</td>\n",
       "      <td>1</td>\n",
       "      <td>0</td>\n",
       "      <td>0</td>\n",
       "      <td>1</td>\n",
       "    </tr>\n",
       "    <tr>\n",
       "      <th>2</th>\n",
       "      <td>26</td>\n",
       "      <td>6</td>\n",
       "      <td>3</td>\n",
       "      <td>3</td>\n",
       "      <td>2</td>\n",
       "      <td>1</td>\n",
       "      <td>2</td>\n",
       "      <td>2368</td>\n",
       "      <td>1</td>\n",
       "      <td>19</td>\n",
       "      <td>...</td>\n",
       "      <td>0</td>\n",
       "      <td>0</td>\n",
       "      <td>1</td>\n",
       "      <td>0</td>\n",
       "      <td>0</td>\n",
       "      <td>0</td>\n",
       "      <td>1</td>\n",
       "      <td>0</td>\n",
       "      <td>1</td>\n",
       "      <td>0</td>\n",
       "    </tr>\n",
       "    <tr>\n",
       "      <th>3</th>\n",
       "      <td>28</td>\n",
       "      <td>8</td>\n",
       "      <td>2</td>\n",
       "      <td>4</td>\n",
       "      <td>3</td>\n",
       "      <td>1</td>\n",
       "      <td>4</td>\n",
       "      <td>3310</td>\n",
       "      <td>1</td>\n",
       "      <td>21</td>\n",
       "      <td>...</td>\n",
       "      <td>0</td>\n",
       "      <td>0</td>\n",
       "      <td>1</td>\n",
       "      <td>0</td>\n",
       "      <td>0</td>\n",
       "      <td>0</td>\n",
       "      <td>0</td>\n",
       "      <td>1</td>\n",
       "      <td>1</td>\n",
       "      <td>0</td>\n",
       "    </tr>\n",
       "    <tr>\n",
       "      <th>4</th>\n",
       "      <td>35</td>\n",
       "      <td>4</td>\n",
       "      <td>2</td>\n",
       "      <td>3</td>\n",
       "      <td>3</td>\n",
       "      <td>1</td>\n",
       "      <td>4</td>\n",
       "      <td>1951</td>\n",
       "      <td>1</td>\n",
       "      <td>12</td>\n",
       "      <td>...</td>\n",
       "      <td>0</td>\n",
       "      <td>0</td>\n",
       "      <td>0</td>\n",
       "      <td>0</td>\n",
       "      <td>0</td>\n",
       "      <td>1</td>\n",
       "      <td>0</td>\n",
       "      <td>0</td>\n",
       "      <td>1</td>\n",
       "      <td>0</td>\n",
       "    </tr>\n",
       "  </tbody>\n",
       "</table>\n",
       "<p>5 rows × 47 columns</p>\n",
       "</div>"
      ],
      "text/plain": [
       "   Age  DistanceFromHome  Education  EnvironmentSatisfaction  JobInvolvement   \n",
       "0   30                 1          1                        4               2  \\\n",
       "1   38                 2          2                        4               2   \n",
       "2   26                 6          3                        3               2   \n",
       "3   28                 8          2                        4               3   \n",
       "4   35                 4          2                        3               3   \n",
       "\n",
       "   JobLevel  JobSatisfaction  MonthlyIncome  NumCompaniesWorked   \n",
       "0         2                4           5126                   1  \\\n",
       "1         3                3           7756                   3   \n",
       "2         1                2           2368                   1   \n",
       "3         1                4           3310                   1   \n",
       "4         1                4           1951                   1   \n",
       "\n",
       "   PercentSalaryHike  ...  JobRole_Manufacturing Director   \n",
       "0                 12  ...                               0  \\\n",
       "1                 19  ...                               1   \n",
       "2                 19  ...                               0   \n",
       "3                 21  ...                               0   \n",
       "4                 12  ...                               0   \n",
       "\n",
       "   JobRole_Research Director  JobRole_Research Scientist   \n",
       "0                          0                           0  \\\n",
       "1                          0                           0   \n",
       "2                          0                           1   \n",
       "3                          0                           1   \n",
       "4                          0                           0   \n",
       "\n",
       "   JobRole_Sales Executive  JobRole_Sales Representative   \n",
       "0                        0                             0  \\\n",
       "1                        0                             0   \n",
       "2                        0                             0   \n",
       "3                        0                             0   \n",
       "4                        0                             0   \n",
       "\n",
       "   MaritalStatus_Divorced  MaritalStatus_Married  MaritalStatus_Single   \n",
       "0                       0                      1                     0  \\\n",
       "1                       0                      1                     0   \n",
       "2                       0                      1                     0   \n",
       "3                       0                      0                     1   \n",
       "4                       1                      0                     0   \n",
       "\n",
       "   OverTime_No  OverTime_Yes  \n",
       "0            0             1  \n",
       "1            0             1  \n",
       "2            1             0  \n",
       "3            1             0  \n",
       "4            1             0  \n",
       "\n",
       "[5 rows x 47 columns]"
      ]
     },
     "execution_count": 42,
     "metadata": {},
     "output_type": "execute_result"
    }
   ],
   "source": [
    "ATTMod = pd.read_csv('Dane/ATTMod.csv')\n",
    "ATTMod.head()"
   ]
  },
  {
   "cell_type": "code",
   "execution_count": 43,
   "id": "9e89943d",
   "metadata": {},
   "outputs": [],
   "source": [
    "train_data = ATTMod.drop('Attrition', axis=1)\n",
    "train_labels = ATTMod[['Attrition']]\n",
    "\n",
    "XkNN = train_data\n",
    "ykNN = train_labels"
   ]
  },
  {
   "cell_type": "code",
   "execution_count": 42,
   "id": "e3a04f13",
   "metadata": {},
   "outputs": [],
   "source": [
    "# W przypadku KNN dobrą praktyką jest standaryzacja danych:"
   ]
  },
  {
   "cell_type": "code",
   "execution_count": 44,
   "id": "c8af1a5e",
   "metadata": {},
   "outputs": [
    {
     "name": "stdout",
     "output_type": "stream",
     "text": [
      "[[-0.78272417 -1.00899073 -1.86321492 ... -0.66972073 -1.61044254\n",
      "   1.61044254]\n",
      " [ 0.10103353 -0.88497215 -0.89106048 ... -0.66972073 -1.61044254\n",
      "   1.61044254]\n",
      " [-1.22460301 -0.38889779  0.08109396 ... -0.66972073  0.62094733\n",
      "  -0.62094733]\n",
      " ...\n",
      " [-0.23037561 -0.14086062  1.05324841 ... -0.66972073  0.62094733\n",
      "  -0.62094733]\n",
      " [ 0.43244266  2.33951114  1.05324841 ... -0.66972073  0.62094733\n",
      "  -0.62094733]\n",
      " [ 0.43244266  2.33951114  1.05324841 ... -0.66972073  0.62094733\n",
      "  -0.62094733]]\n"
     ]
    }
   ],
   "source": [
    "from sklearn.preprocessing import StandardScaler\n",
    "\n",
    "scaler = StandardScaler()\n",
    "\n",
    "XkNN = scaler.fit_transform(XkNN)\n",
    "\n",
    "print(XkNN)"
   ]
  },
  {
   "cell_type": "code",
   "execution_count": 45,
   "id": "6b8e0b68",
   "metadata": {},
   "outputs": [],
   "source": [
    "XkNN_train, XkNN_test, ykNN_train, ykNN_test = train_test_split(XkNN, ykNN, test_size=0.2, stratify=ykNN)"
   ]
  },
  {
   "cell_type": "code",
   "execution_count": 46,
   "id": "a7bb72d0",
   "metadata": {},
   "outputs": [],
   "source": [
    "from sklearn.neighbors import KNeighborsClassifier\n",
    "\n",
    "knn = KNeighborsClassifier(n_neighbors=5, metric='chebyshev')\n",
    "knn.fit(XkNN_train, ykNN_train.values.ravel())\n",
    "\n",
    "pred_knn = knn.predict(XkNN_test)"
   ]
  },
  {
   "cell_type": "code",
   "execution_count": 47,
   "id": "f8fb6b7e",
   "metadata": {},
   "outputs": [
    {
     "data": {
      "text/plain": [
       "array([0, 1, 0, 1, 1, 0, 0, 1, 1, 1, 1, 1, 0, 1, 1, 0, 1, 1, 1, 0, 0, 1,\n",
       "       1, 0, 0, 0, 0, 0, 0, 0, 1, 0, 0, 0, 1, 0, 0, 0, 1, 1, 0, 0, 1, 0,\n",
       "       0, 1, 1, 1, 0, 1, 0, 0, 1, 0, 1, 1, 1, 1, 0, 1, 0, 1, 0, 1, 1, 0,\n",
       "       1, 0, 0, 0, 0, 0, 0, 1, 1, 1, 0, 1, 0, 0, 1, 1, 1, 1, 0, 1, 0, 1,\n",
       "       0, 0, 1, 1, 0, 0, 1, 1, 0, 1, 0, 0, 1, 1, 0, 1, 0, 0, 0, 0, 0, 1,\n",
       "       1, 1, 0, 0, 1, 1, 1, 1, 0, 1, 1, 0, 1, 0, 1, 0, 0, 0, 0, 1, 0, 1,\n",
       "       1, 0, 0, 0, 1, 1, 0, 0, 0, 0, 1, 1, 0, 0, 1, 0, 1, 0, 1, 0, 0, 0,\n",
       "       0, 1, 1, 1, 0, 0, 1, 1, 1, 0, 1, 1, 1, 1, 0, 0, 1, 1, 1, 0, 1, 1,\n",
       "       1, 0, 0, 0, 1, 0, 1, 1, 1, 0, 1, 0, 1, 0, 1, 1, 0, 0, 0, 0, 1, 1,\n",
       "       0, 0, 0, 1, 1, 1, 0, 1, 0, 0, 0, 0, 0, 0, 0, 0, 1, 1, 0, 0, 0, 0,\n",
       "       0, 1, 0, 0, 0, 0, 0, 0, 0, 0, 1, 1, 1, 0, 1, 1, 0, 1, 1, 0, 1, 1,\n",
       "       0, 1, 1, 0, 0, 1, 1, 1, 1, 1, 1, 1, 0, 1, 0, 1, 0, 1, 0, 0, 1, 1,\n",
       "       0, 0, 0, 0, 0, 0, 0, 0, 1, 0, 0, 0, 0, 1, 1, 0, 1, 1, 1, 0, 0, 1,\n",
       "       1, 1, 0, 1, 0, 1, 0, 0, 0, 0, 0, 1, 0, 0, 1, 0, 1, 1, 0, 1, 1, 1,\n",
       "       0, 0, 0, 0, 1, 0, 1, 0, 0, 0, 0, 1, 0, 0, 1, 1, 1, 0, 1, 0, 1, 0,\n",
       "       1, 0, 1, 1, 1, 1, 1, 1, 0, 0, 0, 1, 0, 1, 1, 0, 1, 0, 0, 0, 0, 0,\n",
       "       0, 0, 1, 0, 1, 1, 1, 0, 0, 0, 0, 1, 0, 0, 0, 1, 1, 1, 0, 0, 0, 1,\n",
       "       1, 0, 0, 0, 0, 0, 0, 0, 0, 0, 0, 0, 0, 1, 0, 0, 1, 0, 0, 0, 0, 0,\n",
       "       0, 1, 0, 1, 1, 0, 0, 0, 0, 1, 0, 0, 0, 1, 1, 1, 0, 1, 1, 0, 1, 1,\n",
       "       0, 1, 1, 0, 0, 1, 0, 1, 0, 1, 1, 0, 0, 0, 1, 1, 1, 1, 1, 0, 1, 1,\n",
       "       0, 0, 0, 0, 1, 1, 0, 0, 0, 0, 0, 0, 1, 1, 0, 0, 0, 1, 0, 0, 1, 1,\n",
       "       1, 1, 1, 0, 1, 0, 0, 1, 0, 0, 0, 0, 1, 1, 1, 0, 1, 0, 1, 1, 1, 0,\n",
       "       0, 1, 0, 0, 1, 0, 0, 0, 1, 1, 1, 0, 0, 1, 1, 0, 0, 0, 1, 1, 1, 1,\n",
       "       0, 0, 1, 1, 1, 0, 0, 1, 0, 1, 0, 0, 1, 1, 1, 0, 0, 1, 0, 1, 0, 1,\n",
       "       1, 0, 1, 0, 1, 1, 0, 1, 0, 1, 0, 1, 1, 0, 1, 0, 0, 1, 0, 1, 1, 1,\n",
       "       0, 1, 1, 1, 1, 0, 0, 1, 0, 0, 1, 1, 0, 0, 1, 0, 1, 1, 1, 0, 0, 0,\n",
       "       0, 0, 1, 1, 1, 1, 1, 1, 0, 0, 1, 0, 1, 1, 0, 0, 1, 1, 1, 0, 0, 0,\n",
       "       0, 1, 1, 0, 0, 1], dtype=int64)"
      ]
     },
     "execution_count": 47,
     "metadata": {},
     "output_type": "execute_result"
    }
   ],
   "source": [
    "pred_knn"
   ]
  },
  {
   "cell_type": "code",
   "execution_count": 48,
   "id": "943f6545",
   "metadata": {},
   "outputs": [
    {
     "data": {
      "text/plain": [
       "600"
      ]
     },
     "execution_count": 48,
     "metadata": {},
     "output_type": "execute_result"
    }
   ],
   "source": [
    "len(ykNN_test)"
   ]
  },
  {
   "cell_type": "code",
   "execution_count": 49,
   "id": "f3cdddd9",
   "metadata": {},
   "outputs": [
    {
     "data": {
      "text/plain": [
       "pandas.core.frame.DataFrame"
      ]
     },
     "execution_count": 49,
     "metadata": {},
     "output_type": "execute_result"
    }
   ],
   "source": [
    "type(ykNN_test)"
   ]
  },
  {
   "cell_type": "code",
   "execution_count": 50,
   "id": "d0d1a7fe",
   "metadata": {},
   "outputs": [
    {
     "data": {
      "text/plain": [
       "600"
      ]
     },
     "execution_count": 50,
     "metadata": {},
     "output_type": "execute_result"
    }
   ],
   "source": [
    "len(pred_knn)"
   ]
  },
  {
   "cell_type": "code",
   "execution_count": 51,
   "id": "61756c92",
   "metadata": {},
   "outputs": [
    {
     "data": {
      "text/plain": [
       "numpy.ndarray"
      ]
     },
     "execution_count": 51,
     "metadata": {},
     "output_type": "execute_result"
    }
   ],
   "source": [
    "type(pred_knn)"
   ]
  },
  {
   "cell_type": "code",
   "execution_count": 52,
   "id": "9a1eb00d",
   "metadata": {},
   "outputs": [],
   "source": [
    "ykNN_test = ykNN_test.to_numpy()"
   ]
  },
  {
   "cell_type": "code",
   "execution_count": 53,
   "id": "d2fe0ea6",
   "metadata": {},
   "outputs": [
    {
     "data": {
      "text/plain": [
       "numpy.ndarray"
      ]
     },
     "execution_count": 53,
     "metadata": {},
     "output_type": "execute_result"
    }
   ],
   "source": [
    "type(ykNN_test)"
   ]
  },
  {
   "cell_type": "code",
   "execution_count": 54,
   "id": "deceef5b",
   "metadata": {},
   "outputs": [
    {
     "name": "stdout",
     "output_type": "stream",
     "text": [
      "Results for kNN\n",
      "----\n",
      "  Accuracy:  0.5316666666666666\n",
      "  Precision: 0.529874213836478\n",
      "  Recall:    0.5298865449190643\n",
      "  F1 score:  0.5298789005969924\n",
      "  Mislabeled 179316 out of 600\n",
      "\n",
      "\n"
     ]
    }
   ],
   "source": [
    "KNNMetrics1 = calculate_metrics(ykNN_test, pred_knn)\n",
    "KNNMetrics = print_results(calculate_metrics(ykNN_test, pred_knn), 'kNN')\n",
    "KNNMetrics"
   ]
  },
  {
   "cell_type": "markdown",
   "id": "c5da0ce7",
   "metadata": {},
   "source": [
    "Na wpływ wyników mogą mieć wpływ różne czynniki, m.in.: wpływ kroswalidacji, normalizacji, ilości sąsiadów, metody mierzenia odległości (Euklidesa, Manhattan, Czebyszewa, Mińkowskiego), sposobu głosowania (większościowe, ważone, ważone do kwadratu)."
   ]
  },
  {
   "cell_type": "code",
   "execution_count": 55,
   "id": "b17df35e",
   "metadata": {},
   "outputs": [
    {
     "data": {
      "image/png": "[encoded data removed]",
      "text/plain": [
       "<Figure size 640x480 with 2 Axes>"
      ]
     },
     "metadata": {},
     "output_type": "display_data"
    }
   ],
   "source": [
    "cmkNN_train = confusion_matrix(ykNN_test, pred_knn)\n",
    "sns.heatmap(cmkNN_train, annot=True, fmt='d')\n",
    "plt.show()"
   ]
  },
  {
   "cell_type": "code",
   "execution_count": 56,
   "id": "9737aef2",
   "metadata": {},
   "outputs": [
    {
     "data": {
      "text/plain": [
       "array([[178, 141],\n",
       "       [140, 141]], dtype=int64)"
      ]
     },
     "execution_count": 56,
     "metadata": {},
     "output_type": "execute_result"
    }
   ],
   "source": [
    "cmkNN_train"
   ]
  },
  {
   "cell_type": "code",
   "execution_count": 57,
   "id": "4d19ef18",
   "metadata": {},
   "outputs": [
    {
     "data": {
      "text/plain": [
       "<Axes: >"
      ]
     },
     "execution_count": 57,
     "metadata": {},
     "output_type": "execute_result"
    },
    {
     "data": {
      "image/png": "[encoded data removed]",
      "text/plain": [
       "<Figure size 640x480 with 2 Axes>"
      ]
     },
     "metadata": {},
     "output_type": "display_data"
    }
   ],
   "source": [
    "cmkNN = confusion_matrix(ykNN_test, pred_knn)\n",
    "sns.heatmap(cmkNN, annot=True, fmt='d')"
   ]
  },
  {
   "cell_type": "markdown",
   "id": "def78a1b",
   "metadata": {},
   "source": []
  },
  {
   "cell_type": "markdown",
   "id": "03dffb70",
   "metadata": {},
   "source": [
    "                                          SVM (Maszyna Wektorów Nośnych)"
   ]
  },
  {
   "cell_type": "markdown",
   "id": "9eea6fa9",
   "metadata": {},
   "source": []
  },
  {
   "cell_type": "markdown",
   "id": "1c2116a0",
   "metadata": {},
   "source": [
    "  Maszyna Wektorów Nośnych (SVM) polega na znalezieniu hiperpłaszczyzny, która najlepiej oddziela dane na różne klasy z maksymalnym marginesem. Hiperpłaszczyzna to płaszczyzna o wymiarze o jeden mniejszym niż przestrzeń, w której się znajduje. SVM wykorzystuje wektory nośne, które są punktami danymi najbliższymi hiperpłaszczyźnie, do określenia położenia i kształtu hiperpłaszczyzny. \n",
    "  \n",
    "  Zalety SVM:\n",
    "  \n",
    "  - odporny na szumy i nieliniowość danych, dzięki czemu może generować dokładne wyniki klasyfikacji,\n",
    "  - wydajny pod względem pamięci, ponieważ wykorzystuje tylko podzbiór punktów danych zwanych wektorami nośnymi do \n",
    "    określeia hiperpłaszczyzny.\n",
    "    \n",
    "  Wady SVM:\n",
    "  \n",
    "  - może być trudny do zrozumienia i interpretacji, ponieważ nie daje jasnego wglądu w to, jak dane są rozdzielane,\n",
    "  - może być czasochłonny i wymagać dużej mocy obliczeniowej, zwłaszcza gdy dane są bardzo duże lub mają wiele wymiarów.\n",
    "  "
   ]
  },
  {
   "cell_type": "code",
   "execution_count": 58,
   "id": "eeddbf95",
   "metadata": {},
   "outputs": [],
   "source": [
    "import numpy as np\n",
    "import pandas as pd\n",
    "import sklearn\n",
    "from sklearn.model_selection import train_test_split\n",
    "from sklearn.metrics import accuracy_score, precision_score, recall_score, f1_score, confusion_matrix\n",
    "from sklearn.metrics import confusion_matrix\n",
    "import matplotlib.pyplot as plt\n",
    "import seaborn as sns"
   ]
  },
  {
   "cell_type": "code",
   "execution_count": 59,
   "id": "df6f1f9d",
   "metadata": {},
   "outputs": [
    {
     "data": {
      "text/html": [
       "<div>\n",
       "<style scoped>\n",
       "    .dataframe tbody tr th:only-of-type {\n",
       "        vertical-align: middle;\n",
       "    }\n",
       "\n",
       "    .dataframe tbody tr th {\n",
       "        vertical-align: top;\n",
       "    }\n",
       "\n",
       "    .dataframe thead th {\n",
       "        text-align: right;\n",
       "    }\n",
       "</style>\n",
       "<table border=\"1\" class=\"dataframe\">\n",
       "  <thead>\n",
       "    <tr style=\"text-align: right;\">\n",
       "      <th></th>\n",
       "      <th>Age</th>\n",
       "      <th>DistanceFromHome</th>\n",
       "      <th>Education</th>\n",
       "      <th>EnvironmentSatisfaction</th>\n",
       "      <th>JobInvolvement</th>\n",
       "      <th>JobLevel</th>\n",
       "      <th>JobSatisfaction</th>\n",
       "      <th>MonthlyIncome</th>\n",
       "      <th>NumCompaniesWorked</th>\n",
       "      <th>PercentSalaryHike</th>\n",
       "      <th>...</th>\n",
       "      <th>JobRole_Manufacturing Director</th>\n",
       "      <th>JobRole_Research Director</th>\n",
       "      <th>JobRole_Research Scientist</th>\n",
       "      <th>JobRole_Sales Executive</th>\n",
       "      <th>JobRole_Sales Representative</th>\n",
       "      <th>MaritalStatus_Divorced</th>\n",
       "      <th>MaritalStatus_Married</th>\n",
       "      <th>MaritalStatus_Single</th>\n",
       "      <th>OverTime_No</th>\n",
       "      <th>OverTime_Yes</th>\n",
       "    </tr>\n",
       "  </thead>\n",
       "  <tbody>\n",
       "    <tr>\n",
       "      <th>0</th>\n",
       "      <td>30</td>\n",
       "      <td>1</td>\n",
       "      <td>1</td>\n",
       "      <td>4</td>\n",
       "      <td>2</td>\n",
       "      <td>2</td>\n",
       "      <td>4</td>\n",
       "      <td>5126</td>\n",
       "      <td>1</td>\n",
       "      <td>12</td>\n",
       "      <td>...</td>\n",
       "      <td>0</td>\n",
       "      <td>0</td>\n",
       "      <td>0</td>\n",
       "      <td>0</td>\n",
       "      <td>0</td>\n",
       "      <td>0</td>\n",
       "      <td>1</td>\n",
       "      <td>0</td>\n",
       "      <td>0</td>\n",
       "      <td>1</td>\n",
       "    </tr>\n",
       "    <tr>\n",
       "      <th>1</th>\n",
       "      <td>38</td>\n",
       "      <td>2</td>\n",
       "      <td>2</td>\n",
       "      <td>4</td>\n",
       "      <td>2</td>\n",
       "      <td>3</td>\n",
       "      <td>3</td>\n",
       "      <td>7756</td>\n",
       "      <td>3</td>\n",
       "      <td>19</td>\n",
       "      <td>...</td>\n",
       "      <td>1</td>\n",
       "      <td>0</td>\n",
       "      <td>0</td>\n",
       "      <td>0</td>\n",
       "      <td>0</td>\n",
       "      <td>0</td>\n",
       "      <td>1</td>\n",
       "      <td>0</td>\n",
       "      <td>0</td>\n",
       "      <td>1</td>\n",
       "    </tr>\n",
       "    <tr>\n",
       "      <th>2</th>\n",
       "      <td>26</td>\n",
       "      <td>6</td>\n",
       "      <td>3</td>\n",
       "      <td>3</td>\n",
       "      <td>2</td>\n",
       "      <td>1</td>\n",
       "      <td>2</td>\n",
       "      <td>2368</td>\n",
       "      <td>1</td>\n",
       "      <td>19</td>\n",
       "      <td>...</td>\n",
       "      <td>0</td>\n",
       "      <td>0</td>\n",
       "      <td>1</td>\n",
       "      <td>0</td>\n",
       "      <td>0</td>\n",
       "      <td>0</td>\n",
       "      <td>1</td>\n",
       "      <td>0</td>\n",
       "      <td>1</td>\n",
       "      <td>0</td>\n",
       "    </tr>\n",
       "    <tr>\n",
       "      <th>3</th>\n",
       "      <td>28</td>\n",
       "      <td>8</td>\n",
       "      <td>2</td>\n",
       "      <td>4</td>\n",
       "      <td>3</td>\n",
       "      <td>1</td>\n",
       "      <td>4</td>\n",
       "      <td>3310</td>\n",
       "      <td>1</td>\n",
       "      <td>21</td>\n",
       "      <td>...</td>\n",
       "      <td>0</td>\n",
       "      <td>0</td>\n",
       "      <td>1</td>\n",
       "      <td>0</td>\n",
       "      <td>0</td>\n",
       "      <td>0</td>\n",
       "      <td>0</td>\n",
       "      <td>1</td>\n",
       "      <td>1</td>\n",
       "      <td>0</td>\n",
       "    </tr>\n",
       "    <tr>\n",
       "      <th>4</th>\n",
       "      <td>35</td>\n",
       "      <td>4</td>\n",
       "      <td>2</td>\n",
       "      <td>3</td>\n",
       "      <td>3</td>\n",
       "      <td>1</td>\n",
       "      <td>4</td>\n",
       "      <td>1951</td>\n",
       "      <td>1</td>\n",
       "      <td>12</td>\n",
       "      <td>...</td>\n",
       "      <td>0</td>\n",
       "      <td>0</td>\n",
       "      <td>0</td>\n",
       "      <td>0</td>\n",
       "      <td>0</td>\n",
       "      <td>1</td>\n",
       "      <td>0</td>\n",
       "      <td>0</td>\n",
       "      <td>1</td>\n",
       "      <td>0</td>\n",
       "    </tr>\n",
       "  </tbody>\n",
       "</table>\n",
       "<p>5 rows × 47 columns</p>\n",
       "</div>"
      ],
      "text/plain": [
       "   Age  DistanceFromHome  Education  EnvironmentSatisfaction  JobInvolvement   \n",
       "0   30                 1          1                        4               2  \\\n",
       "1   38                 2          2                        4               2   \n",
       "2   26                 6          3                        3               2   \n",
       "3   28                 8          2                        4               3   \n",
       "4   35                 4          2                        3               3   \n",
       "\n",
       "   JobLevel  JobSatisfaction  MonthlyIncome  NumCompaniesWorked   \n",
       "0         2                4           5126                   1  \\\n",
       "1         3                3           7756                   3   \n",
       "2         1                2           2368                   1   \n",
       "3         1                4           3310                   1   \n",
       "4         1                4           1951                   1   \n",
       "\n",
       "   PercentSalaryHike  ...  JobRole_Manufacturing Director   \n",
       "0                 12  ...                               0  \\\n",
       "1                 19  ...                               1   \n",
       "2                 19  ...                               0   \n",
       "3                 21  ...                               0   \n",
       "4                 12  ...                               0   \n",
       "\n",
       "   JobRole_Research Director  JobRole_Research Scientist   \n",
       "0                          0                           0  \\\n",
       "1                          0                           0   \n",
       "2                          0                           1   \n",
       "3                          0                           1   \n",
       "4                          0                           0   \n",
       "\n",
       "   JobRole_Sales Executive  JobRole_Sales Representative   \n",
       "0                        0                             0  \\\n",
       "1                        0                             0   \n",
       "2                        0                             0   \n",
       "3                        0                             0   \n",
       "4                        0                             0   \n",
       "\n",
       "   MaritalStatus_Divorced  MaritalStatus_Married  MaritalStatus_Single   \n",
       "0                       0                      1                     0  \\\n",
       "1                       0                      1                     0   \n",
       "2                       0                      1                     0   \n",
       "3                       0                      0                     1   \n",
       "4                       1                      0                     0   \n",
       "\n",
       "   OverTime_No  OverTime_Yes  \n",
       "0            0             1  \n",
       "1            0             1  \n",
       "2            1             0  \n",
       "3            1             0  \n",
       "4            1             0  \n",
       "\n",
       "[5 rows x 47 columns]"
      ]
     },
     "execution_count": 59,
     "metadata": {},
     "output_type": "execute_result"
    }
   ],
   "source": [
    "ATTMod = pd.read_csv('Dane/ATTMod.csv')\n",
    "ATTMod.head()"
   ]
  },
  {
   "cell_type": "code",
   "execution_count": 60,
   "id": "7fd3932c",
   "metadata": {},
   "outputs": [],
   "source": [
    "train_data = ATTMod.drop('Attrition', axis=1)\n",
    "train_labels = ATTMod[['Attrition']]"
   ]
  },
  {
   "cell_type": "code",
   "execution_count": 61,
   "id": "693b7902",
   "metadata": {},
   "outputs": [],
   "source": [
    "from sklearn import svm\n",
    "\n",
    "X = train_data\n",
    "y = train_labels\n",
    "\n",
    "Xsvm = X\n",
    "ysvm = y"
   ]
  },
  {
   "cell_type": "code",
   "execution_count": 62,
   "id": "661f2db0",
   "metadata": {},
   "outputs": [
    {
     "name": "stdout",
     "output_type": "stream",
     "text": [
      "[[-0.78272417 -1.00899073 -1.86321492 ... -0.66972073 -1.61044254\n",
      "   1.61044254]\n",
      " [ 0.10103353 -0.88497215 -0.89106048 ... -0.66972073 -1.61044254\n",
      "   1.61044254]\n",
      " [-1.22460301 -0.38889779  0.08109396 ... -0.66972073  0.62094733\n",
      "  -0.62094733]\n",
      " ...\n",
      " [-0.23037561 -0.14086062  1.05324841 ... -0.66972073  0.62094733\n",
      "  -0.62094733]\n",
      " [ 0.43244266  2.33951114  1.05324841 ... -0.66972073  0.62094733\n",
      "  -0.62094733]\n",
      " [ 0.43244266  2.33951114  1.05324841 ... -0.66972073  0.62094733\n",
      "  -0.62094733]]\n"
     ]
    }
   ],
   "source": [
    "# Również dla SVM wykonujemy standaryzację:\n",
    "\n",
    "from sklearn.preprocessing import StandardScaler\n",
    "\n",
    "scaler = StandardScaler()\n",
    "\n",
    "Xsvm = scaler.fit_transform(Xsvm)\n",
    "\n",
    "print(Xsvm)"
   ]
  },
  {
   "cell_type": "code",
   "execution_count": 63,
   "id": "5504b3de",
   "metadata": {},
   "outputs": [],
   "source": [
    "Xsvm_train, Xsvm_test, ysvm_train, ysvm_test = train_test_split(Xsvm, ysvm, test_size=0.2, stratify=ysvm)"
   ]
  },
  {
   "cell_type": "code",
   "execution_count": 64,
   "id": "c21c99a3",
   "metadata": {},
   "outputs": [
    {
     "name": "stdout",
     "output_type": "stream",
     "text": [
      "Dokładność klasyfikacji: 0.5583333333333333\n"
     ]
    }
   ],
   "source": [
    "from sklearn import datasets\n",
    "from sklearn.datasets import make_classification\n",
    "from sklearn.svm import SVC\n",
    "from sklearn.metrics import accuracy_score\n",
    "\n",
    "\n",
    "clf = SVC(kernel='linear')\n",
    "\n",
    "clf.fit(Xsvm_train, ysvm_train.values.ravel())\n",
    "\n",
    "ysvm_pred = clf.predict(Xsvm_test)\n",
    "\n",
    "accuracy = accuracy_score(ysvm_test, ysvm_pred)\n",
    "\n",
    "print(f\"Dokładność klasyfikacji: {accuracy}\")\n"
   ]
  },
  {
   "cell_type": "code",
   "execution_count": 65,
   "id": "8a206cdc",
   "metadata": {},
   "outputs": [],
   "source": [
    "def calculate_metricsSVM(target, prediction, average='macro'):\n",
    "    accuracy = accuracy_score(target.ravel(), prediction.ravel())\n",
    "    precision = precision_score(target.ravel(), prediction.ravel(), average=average)\n",
    "    recall = recall_score(target.ravel(), prediction.ravel(), average=average)\n",
    "    f1 = f1_score(target.ravel(), prediction.ravel(), average=average)\n",
    "    mislabeled = (target.ravel() != prediction.ravel()).sum()\n",
    "    total = len(target.ravel())\n",
    "    return accuracy, precision, recall, f1, mislabeled, total\n",
    "def print_resultsSVM(metrics, classifier_id='classifier'):\n",
    "    print(f'Results for {classifier_id}')\n",
    "    print('----')\n",
    "    print(f'  Accuracy:  {metrics[0]}')\n",
    "    print(f'  Precision: {metrics[1]}')\n",
    "    print(f'  Recall:    {metrics[2]}')\n",
    "    print(f'  F1 score:  {metrics[3]}')\n",
    "    print(f'  Mislabeled {metrics[4]} out of {metrics[5]}')\n",
    "    print('\\n')"
   ]
  },
  {
   "cell_type": "code",
   "execution_count": 66,
   "id": "6e51725f",
   "metadata": {},
   "outputs": [
    {
     "name": "stdout",
     "output_type": "stream",
     "text": [
      "Results for svm\n",
      "----\n",
      "  Accuracy:  0.5583333333333333\n",
      "  Precision: 0.5558594421215419\n",
      "  Recall:    0.5435190040049531\n",
      "  F1 score:  0.5240646673391623\n",
      "  Mislabeled 265 out of 600\n",
      "\n",
      "\n"
     ]
    }
   ],
   "source": [
    "SVMMetrics1 = calculate_metricsSVM(ysvm_test.values, ysvm_pred)\n",
    "SVMMetrics = print_resultsSVM(calculate_metricsSVM(ysvm_test.values, ysvm_pred), 'svm')\n",
    "SVMMetrics"
   ]
  },
  {
   "cell_type": "code",
   "execution_count": 67,
   "id": "6e634d64",
   "metadata": {},
   "outputs": [
    {
     "data": {
      "image/png": "[encoded data removed]",
      "text/plain": [
       "<Figure size 640x480 with 2 Axes>"
      ]
     },
     "metadata": {},
     "output_type": "display_data"
    }
   ],
   "source": [
    "cmsvm_train = confusion_matrix(ysvm_test, ysvm_pred)\n",
    "sns.heatmap(cmsvm_train, annot=True, fmt='d')\n",
    "plt.show()"
   ]
  },
  {
   "cell_type": "code",
   "execution_count": 68,
   "id": "f6fb2ee2",
   "metadata": {},
   "outputs": [
    {
     "data": {
      "text/plain": [
       "<Axes: >"
      ]
     },
     "execution_count": 68,
     "metadata": {},
     "output_type": "execute_result"
    },
    {
     "data": {
      "image/png": "[encoded data removed]",
      "text/plain": [
       "<Figure size 640x480 with 2 Axes>"
      ]
     },
     "metadata": {},
     "output_type": "display_data"
    }
   ],
   "source": [
    "cmsvm = confusion_matrix(ysvm_test, ysvm_pred)\n",
    "sns.heatmap(cmsvm, annot=True, fmt='d')"
   ]
  },
  {
   "cell_type": "markdown",
   "id": "597d7544",
   "metadata": {},
   "source": []
  },
  {
   "cell_type": "markdown",
   "id": "706bf939",
   "metadata": {},
   "source": [
    "                                                DRZEWA DECYZYJNE"
   ]
  },
  {
   "cell_type": "markdown",
   "id": "87afd403",
   "metadata": {},
   "source": []
  },
  {
   "cell_type": "markdown",
   "id": "e02c5bc6",
   "metadata": {},
   "source": [
    "  Drzewa decyzyjne (DD) to metoda polegająca na tworzeniu modeli klasyfikacji (lub regresji) w postaci hierarchicznej struktury graficznej. Drzewa decyzyjne skłądają się z węzłów, które reprezentują atrybuty lub zmienne, i gałęzi, które reprezentują wartości lub przedziały tych atrybutów. Każdy węzeł podzielony jest na podwęzły wg danego kryterium, takiego jak entropia, przyrost informacji czy indeks Giniego. Każdy liść drzewa oznacza klasę lub wartość docelową, do której należy przykład, który dotarł do tego liścia. \n",
    "  \n",
    "  Zalety:\n",
    "  \n",
    "  - łatwe do zrozumienia i interpretacji, ponieważ odzwierciedlają naturalny sposób myślenia ludzkiego,\n",
    "  \n",
    "  - szybkie i efektywne w działaniu, ponieważ wymagają niewiele obliczeń i pamięci,\n",
    "  \n",
    "  - zdolne do radzenia sobie z danymi o różnych typach i skalach, takimi jak liczby, kategorie, teksty czy obrazy,\n",
    "  \n",
    "  - wrażliwe na zmiany danych i mogą się dostosowywać do nowych sytuacji.\n",
    "  \n",
    "  Wady:\n",
    "  \n",
    "  - podatne na nadmierne dopasowanie do danych treningowych, jeśli nie są odpowiednio przycięte lub walidowane,\n",
    "  \n",
    "  - mogą być niestabilne i zmieniać się znacznie przy niewielkich zmianach danych,\n",
    "  \n",
    "  - mogą mieć trudności z uchwyceniem złożonych zależności między atrybutami lub liniowych funkcji.\n",
    "  \n",
    "  "
   ]
  },
  {
   "cell_type": "markdown",
   "id": "f9e3c54e",
   "metadata": {},
   "source": []
  },
  {
   "cell_type": "code",
   "execution_count": 69,
   "id": "68a3e14d",
   "metadata": {},
   "outputs": [],
   "source": [
    "import numpy as np\n",
    "import pandas as pd\n",
    "import sklearn\n",
    "from sklearn.tree import DecisionTreeClassifier\n",
    "from sklearn.model_selection import train_test_split\n",
    "from sklearn.metrics import accuracy_score, precision_score, recall_score, f1_score, confusion_matrix\n",
    "from sklearn.metrics import confusion_matrix\n",
    "from sklearn.tree import plot_tree\n",
    "import matplotlib.pyplot as plt\n",
    "import seaborn as sns"
   ]
  },
  {
   "cell_type": "code",
   "execution_count": 70,
   "id": "d74f6e18",
   "metadata": {},
   "outputs": [
    {
     "data": {
      "text/html": [
       "<div>\n",
       "<style scoped>\n",
       "    .dataframe tbody tr th:only-of-type {\n",
       "        vertical-align: middle;\n",
       "    }\n",
       "\n",
       "    .dataframe tbody tr th {\n",
       "        vertical-align: top;\n",
       "    }\n",
       "\n",
       "    .dataframe thead th {\n",
       "        text-align: right;\n",
       "    }\n",
       "</style>\n",
       "<table border=\"1\" class=\"dataframe\">\n",
       "  <thead>\n",
       "    <tr style=\"text-align: right;\">\n",
       "      <th></th>\n",
       "      <th>Age</th>\n",
       "      <th>DistanceFromHome</th>\n",
       "      <th>Education</th>\n",
       "      <th>EnvironmentSatisfaction</th>\n",
       "      <th>JobInvolvement</th>\n",
       "      <th>JobLevel</th>\n",
       "      <th>JobSatisfaction</th>\n",
       "      <th>MonthlyIncome</th>\n",
       "      <th>NumCompaniesWorked</th>\n",
       "      <th>PercentSalaryHike</th>\n",
       "      <th>...</th>\n",
       "      <th>JobRole_Manufacturing Director</th>\n",
       "      <th>JobRole_Research Director</th>\n",
       "      <th>JobRole_Research Scientist</th>\n",
       "      <th>JobRole_Sales Executive</th>\n",
       "      <th>JobRole_Sales Representative</th>\n",
       "      <th>MaritalStatus_Divorced</th>\n",
       "      <th>MaritalStatus_Married</th>\n",
       "      <th>MaritalStatus_Single</th>\n",
       "      <th>OverTime_No</th>\n",
       "      <th>OverTime_Yes</th>\n",
       "    </tr>\n",
       "  </thead>\n",
       "  <tbody>\n",
       "    <tr>\n",
       "      <th>0</th>\n",
       "      <td>30</td>\n",
       "      <td>1</td>\n",
       "      <td>1</td>\n",
       "      <td>4</td>\n",
       "      <td>2</td>\n",
       "      <td>2</td>\n",
       "      <td>4</td>\n",
       "      <td>5126</td>\n",
       "      <td>1</td>\n",
       "      <td>12</td>\n",
       "      <td>...</td>\n",
       "      <td>0</td>\n",
       "      <td>0</td>\n",
       "      <td>0</td>\n",
       "      <td>0</td>\n",
       "      <td>0</td>\n",
       "      <td>0</td>\n",
       "      <td>1</td>\n",
       "      <td>0</td>\n",
       "      <td>0</td>\n",
       "      <td>1</td>\n",
       "    </tr>\n",
       "    <tr>\n",
       "      <th>1</th>\n",
       "      <td>38</td>\n",
       "      <td>2</td>\n",
       "      <td>2</td>\n",
       "      <td>4</td>\n",
       "      <td>2</td>\n",
       "      <td>3</td>\n",
       "      <td>3</td>\n",
       "      <td>7756</td>\n",
       "      <td>3</td>\n",
       "      <td>19</td>\n",
       "      <td>...</td>\n",
       "      <td>1</td>\n",
       "      <td>0</td>\n",
       "      <td>0</td>\n",
       "      <td>0</td>\n",
       "      <td>0</td>\n",
       "      <td>0</td>\n",
       "      <td>1</td>\n",
       "      <td>0</td>\n",
       "      <td>0</td>\n",
       "      <td>1</td>\n",
       "    </tr>\n",
       "    <tr>\n",
       "      <th>2</th>\n",
       "      <td>26</td>\n",
       "      <td>6</td>\n",
       "      <td>3</td>\n",
       "      <td>3</td>\n",
       "      <td>2</td>\n",
       "      <td>1</td>\n",
       "      <td>2</td>\n",
       "      <td>2368</td>\n",
       "      <td>1</td>\n",
       "      <td>19</td>\n",
       "      <td>...</td>\n",
       "      <td>0</td>\n",
       "      <td>0</td>\n",
       "      <td>1</td>\n",
       "      <td>0</td>\n",
       "      <td>0</td>\n",
       "      <td>0</td>\n",
       "      <td>1</td>\n",
       "      <td>0</td>\n",
       "      <td>1</td>\n",
       "      <td>0</td>\n",
       "    </tr>\n",
       "    <tr>\n",
       "      <th>3</th>\n",
       "      <td>28</td>\n",
       "      <td>8</td>\n",
       "      <td>2</td>\n",
       "      <td>4</td>\n",
       "      <td>3</td>\n",
       "      <td>1</td>\n",
       "      <td>4</td>\n",
       "      <td>3310</td>\n",
       "      <td>1</td>\n",
       "      <td>21</td>\n",
       "      <td>...</td>\n",
       "      <td>0</td>\n",
       "      <td>0</td>\n",
       "      <td>1</td>\n",
       "      <td>0</td>\n",
       "      <td>0</td>\n",
       "      <td>0</td>\n",
       "      <td>0</td>\n",
       "      <td>1</td>\n",
       "      <td>1</td>\n",
       "      <td>0</td>\n",
       "    </tr>\n",
       "    <tr>\n",
       "      <th>4</th>\n",
       "      <td>35</td>\n",
       "      <td>4</td>\n",
       "      <td>2</td>\n",
       "      <td>3</td>\n",
       "      <td>3</td>\n",
       "      <td>1</td>\n",
       "      <td>4</td>\n",
       "      <td>1951</td>\n",
       "      <td>1</td>\n",
       "      <td>12</td>\n",
       "      <td>...</td>\n",
       "      <td>0</td>\n",
       "      <td>0</td>\n",
       "      <td>0</td>\n",
       "      <td>0</td>\n",
       "      <td>0</td>\n",
       "      <td>1</td>\n",
       "      <td>0</td>\n",
       "      <td>0</td>\n",
       "      <td>1</td>\n",
       "      <td>0</td>\n",
       "    </tr>\n",
       "  </tbody>\n",
       "</table>\n",
       "<p>5 rows × 47 columns</p>\n",
       "</div>"
      ],
      "text/plain": [
       "   Age  DistanceFromHome  Education  EnvironmentSatisfaction  JobInvolvement   \n",
       "0   30                 1          1                        4               2  \\\n",
       "1   38                 2          2                        4               2   \n",
       "2   26                 6          3                        3               2   \n",
       "3   28                 8          2                        4               3   \n",
       "4   35                 4          2                        3               3   \n",
       "\n",
       "   JobLevel  JobSatisfaction  MonthlyIncome  NumCompaniesWorked   \n",
       "0         2                4           5126                   1  \\\n",
       "1         3                3           7756                   3   \n",
       "2         1                2           2368                   1   \n",
       "3         1                4           3310                   1   \n",
       "4         1                4           1951                   1   \n",
       "\n",
       "   PercentSalaryHike  ...  JobRole_Manufacturing Director   \n",
       "0                 12  ...                               0  \\\n",
       "1                 19  ...                               1   \n",
       "2                 19  ...                               0   \n",
       "3                 21  ...                               0   \n",
       "4                 12  ...                               0   \n",
       "\n",
       "   JobRole_Research Director  JobRole_Research Scientist   \n",
       "0                          0                           0  \\\n",
       "1                          0                           0   \n",
       "2                          0                           1   \n",
       "3                          0                           1   \n",
       "4                          0                           0   \n",
       "\n",
       "   JobRole_Sales Executive  JobRole_Sales Representative   \n",
       "0                        0                             0  \\\n",
       "1                        0                             0   \n",
       "2                        0                             0   \n",
       "3                        0                             0   \n",
       "4                        0                             0   \n",
       "\n",
       "   MaritalStatus_Divorced  MaritalStatus_Married  MaritalStatus_Single   \n",
       "0                       0                      1                     0  \\\n",
       "1                       0                      1                     0   \n",
       "2                       0                      1                     0   \n",
       "3                       0                      0                     1   \n",
       "4                       1                      0                     0   \n",
       "\n",
       "   OverTime_No  OverTime_Yes  \n",
       "0            0             1  \n",
       "1            0             1  \n",
       "2            1             0  \n",
       "3            1             0  \n",
       "4            1             0  \n",
       "\n",
       "[5 rows x 47 columns]"
      ]
     },
     "execution_count": 70,
     "metadata": {},
     "output_type": "execute_result"
    }
   ],
   "source": [
    "ATTMod = pd.read_csv('Dane/ATTMod.csv')\n",
    "ATTMod.head()"
   ]
  },
  {
   "cell_type": "code",
   "execution_count": 71,
   "id": "7bd9a45e",
   "metadata": {},
   "outputs": [],
   "source": [
    "train_data = ATTMod.drop('Attrition', axis=1)\n",
    "train_labels = ATTMod[['Attrition']]"
   ]
  },
  {
   "cell_type": "code",
   "execution_count": 72,
   "id": "ee4fce86",
   "metadata": {},
   "outputs": [],
   "source": [
    "XDD = train_data\n",
    "yDD = train_labels"
   ]
  },
  {
   "cell_type": "code",
   "execution_count": 73,
   "id": "a011b493",
   "metadata": {},
   "outputs": [],
   "source": [
    "XDD_train, XDD_test, yDD_train, yDD_test = train_test_split(XDD, yDD, test_size=0.2, stratify=yDD, random_state=42)"
   ]
  },
  {
   "cell_type": "code",
   "execution_count": 74,
   "id": "938fd742",
   "metadata": {},
   "outputs": [],
   "source": [
    "dd = DecisionTreeClassifier()\n",
    "dd.fit(XDD_train, yDD_train)\n",
    "pred = dd.predict(XDD_test)"
   ]
  },
  {
   "cell_type": "code",
   "execution_count": 75,
   "id": "071ea140",
   "metadata": {},
   "outputs": [],
   "source": [
    "yDD_pred_train = dd.predict(XDD_train)"
   ]
  },
  {
   "cell_type": "code",
   "execution_count": 76,
   "id": "1df1f41e",
   "metadata": {},
   "outputs": [
    {
     "name": "stdout",
     "output_type": "stream",
     "text": [
      "Results for Decision Tree Train\n",
      "----\n",
      "  Accuracy:  0.818523153942428\n",
      "  Precision: 0.8251271977611454\n",
      "  Recall:    0.8133453952611724\n",
      "  F1 score:  0.8152718981448263\n",
      "  Mislabeled 2835527 out of 2397\n",
      "\n",
      "\n"
     ]
    }
   ],
   "source": [
    "DDMetrics1 = calculate_metrics(yDD_train.values, yDD_pred_train)\n",
    "DDMetrics = print_results(calculate_metrics(yDD_train.values, yDD_pred_train), 'Decision Tree Train')\n",
    "DDMetrics"
   ]
  },
  {
   "cell_type": "code",
   "execution_count": 76,
   "id": "fcf03474",
   "metadata": {},
   "outputs": [],
   "source": [
    "# Wynik F1-Score jest już znacznie lepszy niż w przypadku poprzednich algorytmów."
   ]
  },
  {
   "cell_type": "code",
   "execution_count": 77,
   "id": "7fe691f5",
   "metadata": {},
   "outputs": [
    {
     "data": {
      "image/png": "[encoded data removed]",
      "text/plain": [
       "<Figure size 640x480 with 2 Axes>"
      ]
     },
     "metadata": {},
     "output_type": "display_data"
    }
   ],
   "source": [
    "cmDD_train = confusion_matrix(yDD_test, pred)\n",
    "sns.heatmap(cmDD_train, annot=True, fmt='d')\n",
    "plt.show()"
   ]
  },
  {
   "cell_type": "code",
   "execution_count": 78,
   "id": "89e40515",
   "metadata": {},
   "outputs": [
    {
     "data": {
      "text/plain": [
       "array([[196, 123],\n",
       "       [156, 125]], dtype=int64)"
      ]
     },
     "execution_count": 78,
     "metadata": {},
     "output_type": "execute_result"
    }
   ],
   "source": [
    "cmDD_train"
   ]
  },
  {
   "cell_type": "code",
   "execution_count": 79,
   "id": "edb7cbb0",
   "metadata": {},
   "outputs": [
    {
     "data": {
      "text/plain": [
       "<Axes: >"
      ]
     },
     "execution_count": 79,
     "metadata": {},
     "output_type": "execute_result"
    },
    {
     "data": {
      "image/png": "[encoded data removed]",
      "text/plain": [
       "<Figure size 640x480 with 2 Axes>"
      ]
     },
     "metadata": {},
     "output_type": "display_data"
    }
   ],
   "source": [
    "cmDD = confusion_matrix(yDD_test, pred)\n",
    "sns.heatmap(cmDD, annot=True, fmt='d')"
   ]
  },
  {
   "cell_type": "code",
   "execution_count": 80,
   "id": "d477b318",
   "metadata": {},
   "outputs": [
    {
     "data": {
      "image/png": "[encoded data removed]",
      "text/plain": [
       "<Figure size 1000x1000 with 1 Axes>"
      ]
     },
     "metadata": {},
     "output_type": "display_data"
    }
   ],
   "source": [
    "plt.figure(figsize=(10, 10))\n",
    "plot_tree(dd, feature_names=list(XDD))\n",
    "plt.show()"
   ]
  },
  {
   "cell_type": "markdown",
   "id": "02178365",
   "metadata": {},
   "source": []
  },
  {
   "cell_type": "markdown",
   "id": "01519581",
   "metadata": {},
   "source": [
    "                                              ZESPOŁY KLASYFIKATORÓW"
   ]
  },
  {
   "cell_type": "markdown",
   "id": "b70ba3f1",
   "metadata": {},
   "source": []
  },
  {
   "cell_type": "markdown",
   "id": "7b1eb06d",
   "metadata": {},
   "source": [
    "  Zespoły klasyfikatorów to techniki, które łączą wiele modeli uczenia się w celu uzyskania lepszej dokładności niż pojedynczy model. Mogą być podzielone na dwie główne kategorie: metody agregacji i metody wzmacniania.\n",
    "  \n",
    "  Metody agregacji - polegają na tworzeniu wielu modeli uczenia się z różnymi podzbiorami danych lub różnymi algorytmami, a następnie łączeniu ich wyników za pomocą głosowania, średniej lub innej reguły. Przykłady: bagging, bootstrap, random forest.\n",
    "  \n",
    "  Metody wzmacniania - polegają na iteracyjnym tworzeniu modeli uczenia się, któe poprawiają się na podstawie błędów poprzednich modeli. Przykłady: boosting, adaptive boosting, gradient boosting.\n",
    "  \n",
    "  Zalety:\n",
    "  \n",
    "  - zmniejszają ryzyko nadmiernego dopasowania do danych treningowych, ponieważ wykorzystują wiele modeli z różnymi cechami\n",
    "    i parametrami,\n",
    "   \n",
    "  - zwiększają stabilność i niezawodność wyników, ponieważ redukują wpływ losowych błędów lub szumów danych,\n",
    "  \n",
    "  - poprawiają wydajność skalowalność, ponieważ mogą być łatwo zrównoleglone i rozproszone na wielu maszynach lub platformach.\n",
    "  \n",
    "  Wady:\n",
    "  \n",
    "  - zwiększają złożoność i koszt obliczeniowy, ponieważ wymagają więcej czasu i zasobów do trenowania i testowania wielu \n",
    "    modeli,\n",
    "    \n",
    "  - utrudniają interpretację i wyjaśnianie wynikó, ponieważ trudno jest prześledzić, jak poszczególne modele wpływają na \n",
    "    ostateczną decyzję.\n",
    "  "
   ]
  },
  {
   "cell_type": "code",
   "execution_count": 81,
   "id": "1a4a4ca4",
   "metadata": {},
   "outputs": [],
   "source": [
    "import numpy as np\n",
    "import pandas as pd\n",
    "import sklearn\n",
    "from sklearn.model_selection import train_test_split\n",
    "from sklearn.metrics import accuracy_score, precision_score, recall_score, f1_score, confusion_matrix\n",
    "from sklearn.metrics import confusion_matrix\n",
    "import matplotlib.pyplot as plt\n",
    "import seaborn as sns"
   ]
  },
  {
   "cell_type": "markdown",
   "id": "09fd89f8",
   "metadata": {},
   "source": []
  },
  {
   "cell_type": "markdown",
   "id": "3c351e79",
   "metadata": {},
   "source": [
    "                                                  Bootstrap"
   ]
  },
  {
   "cell_type": "markdown",
   "id": "e299568b",
   "metadata": {},
   "source": []
  },
  {
   "cell_type": "markdown",
   "id": "086a567d",
   "metadata": {},
   "source": [
    "  Algorytm Bootstrap to metoda statystyczna, która polega na wielokrotnym losowaniu próbek z danego zbioru danych z powtórzeniami i obliczaniu na nich żądanej statystyki, takiej jak średnia, mediana, odchylenie standardowe czy przedział ufności. Algorytm pozwala na oszacowanie niepewności i błędu statystyki bez założeń o rozkładzie danych lub modelu."
   ]
  },
  {
   "cell_type": "code",
   "execution_count": 82,
   "id": "a8c99a63",
   "metadata": {},
   "outputs": [
    {
     "data": {
      "text/html": [
       "<div>\n",
       "<style scoped>\n",
       "    .dataframe tbody tr th:only-of-type {\n",
       "        vertical-align: middle;\n",
       "    }\n",
       "\n",
       "    .dataframe tbody tr th {\n",
       "        vertical-align: top;\n",
       "    }\n",
       "\n",
       "    .dataframe thead th {\n",
       "        text-align: right;\n",
       "    }\n",
       "</style>\n",
       "<table border=\"1\" class=\"dataframe\">\n",
       "  <thead>\n",
       "    <tr style=\"text-align: right;\">\n",
       "      <th></th>\n",
       "      <th>Age</th>\n",
       "      <th>DistanceFromHome</th>\n",
       "      <th>Education</th>\n",
       "      <th>EnvironmentSatisfaction</th>\n",
       "      <th>JobInvolvement</th>\n",
       "      <th>JobLevel</th>\n",
       "      <th>JobSatisfaction</th>\n",
       "      <th>MonthlyIncome</th>\n",
       "      <th>NumCompaniesWorked</th>\n",
       "      <th>PercentSalaryHike</th>\n",
       "      <th>...</th>\n",
       "      <th>JobRole_Manufacturing Director</th>\n",
       "      <th>JobRole_Research Director</th>\n",
       "      <th>JobRole_Research Scientist</th>\n",
       "      <th>JobRole_Sales Executive</th>\n",
       "      <th>JobRole_Sales Representative</th>\n",
       "      <th>MaritalStatus_Divorced</th>\n",
       "      <th>MaritalStatus_Married</th>\n",
       "      <th>MaritalStatus_Single</th>\n",
       "      <th>OverTime_No</th>\n",
       "      <th>OverTime_Yes</th>\n",
       "    </tr>\n",
       "  </thead>\n",
       "  <tbody>\n",
       "    <tr>\n",
       "      <th>0</th>\n",
       "      <td>30</td>\n",
       "      <td>1</td>\n",
       "      <td>1</td>\n",
       "      <td>4</td>\n",
       "      <td>2</td>\n",
       "      <td>2</td>\n",
       "      <td>4</td>\n",
       "      <td>5126</td>\n",
       "      <td>1</td>\n",
       "      <td>12</td>\n",
       "      <td>...</td>\n",
       "      <td>0</td>\n",
       "      <td>0</td>\n",
       "      <td>0</td>\n",
       "      <td>0</td>\n",
       "      <td>0</td>\n",
       "      <td>0</td>\n",
       "      <td>1</td>\n",
       "      <td>0</td>\n",
       "      <td>0</td>\n",
       "      <td>1</td>\n",
       "    </tr>\n",
       "    <tr>\n",
       "      <th>1</th>\n",
       "      <td>38</td>\n",
       "      <td>2</td>\n",
       "      <td>2</td>\n",
       "      <td>4</td>\n",
       "      <td>2</td>\n",
       "      <td>3</td>\n",
       "      <td>3</td>\n",
       "      <td>7756</td>\n",
       "      <td>3</td>\n",
       "      <td>19</td>\n",
       "      <td>...</td>\n",
       "      <td>1</td>\n",
       "      <td>0</td>\n",
       "      <td>0</td>\n",
       "      <td>0</td>\n",
       "      <td>0</td>\n",
       "      <td>0</td>\n",
       "      <td>1</td>\n",
       "      <td>0</td>\n",
       "      <td>0</td>\n",
       "      <td>1</td>\n",
       "    </tr>\n",
       "    <tr>\n",
       "      <th>2</th>\n",
       "      <td>26</td>\n",
       "      <td>6</td>\n",
       "      <td>3</td>\n",
       "      <td>3</td>\n",
       "      <td>2</td>\n",
       "      <td>1</td>\n",
       "      <td>2</td>\n",
       "      <td>2368</td>\n",
       "      <td>1</td>\n",
       "      <td>19</td>\n",
       "      <td>...</td>\n",
       "      <td>0</td>\n",
       "      <td>0</td>\n",
       "      <td>1</td>\n",
       "      <td>0</td>\n",
       "      <td>0</td>\n",
       "      <td>0</td>\n",
       "      <td>1</td>\n",
       "      <td>0</td>\n",
       "      <td>1</td>\n",
       "      <td>0</td>\n",
       "    </tr>\n",
       "    <tr>\n",
       "      <th>3</th>\n",
       "      <td>28</td>\n",
       "      <td>8</td>\n",
       "      <td>2</td>\n",
       "      <td>4</td>\n",
       "      <td>3</td>\n",
       "      <td>1</td>\n",
       "      <td>4</td>\n",
       "      <td>3310</td>\n",
       "      <td>1</td>\n",
       "      <td>21</td>\n",
       "      <td>...</td>\n",
       "      <td>0</td>\n",
       "      <td>0</td>\n",
       "      <td>1</td>\n",
       "      <td>0</td>\n",
       "      <td>0</td>\n",
       "      <td>0</td>\n",
       "      <td>0</td>\n",
       "      <td>1</td>\n",
       "      <td>1</td>\n",
       "      <td>0</td>\n",
       "    </tr>\n",
       "    <tr>\n",
       "      <th>4</th>\n",
       "      <td>35</td>\n",
       "      <td>4</td>\n",
       "      <td>2</td>\n",
       "      <td>3</td>\n",
       "      <td>3</td>\n",
       "      <td>1</td>\n",
       "      <td>4</td>\n",
       "      <td>1951</td>\n",
       "      <td>1</td>\n",
       "      <td>12</td>\n",
       "      <td>...</td>\n",
       "      <td>0</td>\n",
       "      <td>0</td>\n",
       "      <td>0</td>\n",
       "      <td>0</td>\n",
       "      <td>0</td>\n",
       "      <td>1</td>\n",
       "      <td>0</td>\n",
       "      <td>0</td>\n",
       "      <td>1</td>\n",
       "      <td>0</td>\n",
       "    </tr>\n",
       "  </tbody>\n",
       "</table>\n",
       "<p>5 rows × 47 columns</p>\n",
       "</div>"
      ],
      "text/plain": [
       "   Age  DistanceFromHome  Education  EnvironmentSatisfaction  JobInvolvement   \n",
       "0   30                 1          1                        4               2  \\\n",
       "1   38                 2          2                        4               2   \n",
       "2   26                 6          3                        3               2   \n",
       "3   28                 8          2                        4               3   \n",
       "4   35                 4          2                        3               3   \n",
       "\n",
       "   JobLevel  JobSatisfaction  MonthlyIncome  NumCompaniesWorked   \n",
       "0         2                4           5126                   1  \\\n",
       "1         3                3           7756                   3   \n",
       "2         1                2           2368                   1   \n",
       "3         1                4           3310                   1   \n",
       "4         1                4           1951                   1   \n",
       "\n",
       "   PercentSalaryHike  ...  JobRole_Manufacturing Director   \n",
       "0                 12  ...                               0  \\\n",
       "1                 19  ...                               1   \n",
       "2                 19  ...                               0   \n",
       "3                 21  ...                               0   \n",
       "4                 12  ...                               0   \n",
       "\n",
       "   JobRole_Research Director  JobRole_Research Scientist   \n",
       "0                          0                           0  \\\n",
       "1                          0                           0   \n",
       "2                          0                           1   \n",
       "3                          0                           1   \n",
       "4                          0                           0   \n",
       "\n",
       "   JobRole_Sales Executive  JobRole_Sales Representative   \n",
       "0                        0                             0  \\\n",
       "1                        0                             0   \n",
       "2                        0                             0   \n",
       "3                        0                             0   \n",
       "4                        0                             0   \n",
       "\n",
       "   MaritalStatus_Divorced  MaritalStatus_Married  MaritalStatus_Single   \n",
       "0                       0                      1                     0  \\\n",
       "1                       0                      1                     0   \n",
       "2                       0                      1                     0   \n",
       "3                       0                      0                     1   \n",
       "4                       1                      0                     0   \n",
       "\n",
       "   OverTime_No  OverTime_Yes  \n",
       "0            0             1  \n",
       "1            0             1  \n",
       "2            1             0  \n",
       "3            1             0  \n",
       "4            1             0  \n",
       "\n",
       "[5 rows x 47 columns]"
      ]
     },
     "execution_count": 82,
     "metadata": {},
     "output_type": "execute_result"
    }
   ],
   "source": [
    "ATTMod = pd.read_csv('Dane/ATTMod.csv')\n",
    "ATTMod.head()"
   ]
  },
  {
   "cell_type": "code",
   "execution_count": 83,
   "id": "4ba428e4",
   "metadata": {},
   "outputs": [],
   "source": [
    "train_data = ATTMod.drop('Attrition', axis=1)\n",
    "train_labels = ATTMod[['Attrition']]"
   ]
  },
  {
   "cell_type": "code",
   "execution_count": 84,
   "id": "ddf5e20d",
   "metadata": {},
   "outputs": [],
   "source": [
    "Xboot = train_data\n",
    "yboot = train_labels"
   ]
  },
  {
   "cell_type": "code",
   "execution_count": 85,
   "id": "69da03f0",
   "metadata": {},
   "outputs": [
    {
     "data": {
      "text/plain": [
       "array([5.6000e+00, 1.3400e+01, 1.2000e+00, 4.2940e+02, 4.8000e+00,\n",
       "       4.9040e+02, 2.0000e-01, 8.0000e-01, 2.0000e+00, 2.1762e+03,\n",
       "       6.8000e+00, 1.2000e+00, 4.0000e-01, 4.8300e+02, 3.8000e+00,\n",
       "       8.0000e-01, 2.2000e+00, 2.0000e-01, 2.6000e+00, 3.6000e+00,\n",
       "       1.6000e+00, 6.8000e+00, 1.2000e+00, 9.6000e+00, 2.0928e+03,\n",
       "       2.6000e+00, 2.0000e+00, 4.0000e-01, 1.2000e+00, 9.9640e+02,\n",
       "       2.0000e+00, 2.2000e+00, 5.0000e+00, 6.0000e-01, 7.2060e+02,\n",
       "       3.0000e+00, 2.9628e+03, 3.0000e+00, 2.0000e-01, 2.0000e-01,\n",
       "       6.0000e-01, 7.8000e+00, 8.6000e+00, 7.4000e+00, 4.7040e+02,\n",
       "       1.4000e+00, 1.4000e+00, 1.2000e+00, 1.2000e+00, 1.2000e+00,\n",
       "       3.8000e+00, 3.8000e+00, 1.8000e+00, 4.0000e-01, 1.0000e+00,\n",
       "       1.4000e+00, 7.2520e+02, 1.0000e+00, 1.0000e+00, 2.6000e+00,\n",
       "       8.0000e-01, 4.2000e+00, 1.1600e+01, 1.8000e+00, 9.0000e+00,\n",
       "       3.4000e+00, 6.4400e+02, 2.0140e+03, 7.4000e+00, 1.6000e+00,\n",
       "       3.6000e+00, 5.3240e+02, 1.4000e+00, 7.2000e+00, 4.0000e-01,\n",
       "       4.0000e-01, 4.0000e-01, 6.2000e+00, 8.0000e-01, 1.4000e+00,\n",
       "       1.6000e+00, 2.0000e-01, 8.0000e-01, 5.6000e+00, 1.6000e+00,\n",
       "       1.6000e+00, 6.0000e-01, 6.0000e-01, 1.4000e+00, 8.0000e-01,\n",
       "       2.0000e-01, 1.4000e+00, 6.0000e-01, 9.1100e+02, 1.5750e+03,\n",
       "       6.0000e-01, 1.8000e+00, 2.0000e-01, 2.0000e-01, 2.2000e+00,\n",
       "       7.0000e+00, 5.0040e+02, 1.4000e+00, 4.6280e+02, 1.0600e+01,\n",
       "       2.0000e-01, 6.0000e+00, 6.0000e-01, 1.0000e+00, 4.0000e-01,\n",
       "       4.0640e+02, 4.0000e-01, 4.6000e+00, 8.6000e+00, 6.0000e-01,\n",
       "       2.0000e-01, 2.0000e-01, 4.0000e+00, 8.0000e-01, 4.4000e+00,\n",
       "       4.0000e-01, 4.0000e-01, 4.4000e+00, 1.2708e+03, 9.0700e+02,\n",
       "       2.0000e+00, 6.0000e-01, 4.0000e-01, 8.2000e+00, 2.0000e+00,\n",
       "       8.0000e-01, 5.2260e+02, 2.2000e+00, 1.8000e+00, 2.0000e+00,\n",
       "       2.0000e-01, 1.8000e+00, 2.0000e-01, 6.0000e-01, 1.0000e+00,\n",
       "       3.4000e+00, 3.4000e+00, 3.6000e+00, 6.9700e+02, 4.0000e-01,\n",
       "       3.6000e+00, 1.8000e+00, 1.2000e+01, 4.2460e+02, 0.0000e+00,\n",
       "       2.8000e+00, 2.0000e-01, 4.4000e+00, 4.8000e+00, 1.8000e+00,\n",
       "       3.6000e+00, 6.0000e-01, 7.2000e+00, 6.0000e-01, 2.0000e-01,\n",
       "       5.8000e+00, 8.0000e-01, 8.4000e+00, 8.0000e-01, 1.0000e+00,\n",
       "       2.4126e+03, 1.2000e+00, 1.2378e+03, 4.2000e+00, 6.0000e-01,\n",
       "       0.0000e+00, 1.4000e+00, 0.0000e+00, 1.8000e+00, 2.2000e+00,\n",
       "       1.6000e+00, 3.4874e+03, 4.8000e+00, 3.2000e+00, 1.4000e+00,\n",
       "       3.4000e+00, 1.4000e+00, 8.9460e+02, 1.2000e+00, 2.0000e+00,\n",
       "       4.0000e-01, 2.2000e+00, 6.6000e+00, 3.8000e+00, 4.0320e+02,\n",
       "       2.0000e-01, 1.4000e+00, 1.6000e+00, 8.0000e-01, 1.3600e+01,\n",
       "       1.1000e+01, 6.0000e-01, 2.0260e+02, 4.0000e+00, 4.7080e+02,\n",
       "       3.2000e+00, 3.4676e+03, 1.0000e+00, 4.6820e+02, 4.1420e+02,\n",
       "       2.8000e+00, 4.4000e+00, 4.0000e-01, 1.2000e+00, 1.0000e+00,\n",
       "       3.6452e+03, 1.4000e+00, 3.4000e+00, 1.0000e+00, 2.4000e+00,\n",
       "       3.6000e+00, 2.0000e+00, 2.8000e+00, 3.4000e+00, 6.1580e+02,\n",
       "       3.6000e+00, 1.2000e+00, 4.2000e+00, 2.2000e+00, 1.6000e+00,\n",
       "       4.8000e+00, 1.0306e+03, 1.2000e+00, 2.6000e+00, 1.4000e+00,\n",
       "       6.6000e+00, 1.6000e+00, 4.0000e-01, 1.6000e+00, 8.0000e-01,\n",
       "       1.5000e+01, 4.0000e-01, 4.6000e+00, 3.6000e+00, 2.4000e+00,\n",
       "       7.5320e+02, 4.0000e+00, 8.0000e-01, 8.0000e+00, 4.0000e-01,\n",
       "       6.6000e+00, 8.0000e-01, 6.0000e-01, 1.6000e+00, 2.0000e+00,\n",
       "       1.4000e+00, 1.2000e+00, 2.2000e+00, 7.6000e+00, 3.0000e+00,\n",
       "       3.0000e+00, 1.0000e+00, 7.0000e+00, 2.4000e+00, 1.4000e+00,\n",
       "       1.0800e+01, 1.6658e+03, 4.0000e-01, 4.4420e+02, 4.2000e+00,\n",
       "       4.0000e-01, 8.0000e-01, 8.0000e-01, 4.1820e+02, 4.0000e-01,\n",
       "       1.4000e+00, 1.1000e+01, 1.2000e+00, 7.2000e+00, 2.0000e+00,\n",
       "       4.0000e-01, 2.0000e-01, 2.2000e+00, 6.0000e-01, 1.0000e+00,\n",
       "       4.8000e+00, 3.0000e+00, 3.0000e+00, 8.8000e+00, 6.2000e+00,\n",
       "       1.0200e+01, 9.2000e+00, 1.8000e+00, 6.0000e-01, 1.2400e+01,\n",
       "       8.0000e-01, 6.0000e-01, 4.0000e-01, 4.4000e+00, 3.6000e+00,\n",
       "       1.4000e+00, 5.6000e+00, 1.2000e+00, 2.0000e-01, 5.8000e+00,\n",
       "       9.8000e+00, 2.0000e-01, 4.2000e+00, 3.3616e+03, 2.0000e-01,\n",
       "       2.0000e-01, 5.8000e+00, 4.0000e-01, 1.4000e+00, 1.2600e+01,\n",
       "       2.0952e+03, 1.0000e+00, 0.0000e+00, 1.8000e+00, 1.2000e+00,\n",
       "       1.2000e+00, 1.0000e+00, 8.0000e-01, 3.2000e+00, 7.4000e+00,\n",
       "       7.8000e+00, 8.0000e-01, 1.8000e+00, 1.4000e+00, 2.0000e+00,\n",
       "       4.6000e+00, 6.0000e-01, 1.0000e+00, 8.0000e-01, 1.0000e+00,\n",
       "       1.0000e+00, 6.0000e-01, 1.2000e+00, 8.0000e-01, 4.0000e-01,\n",
       "       1.8000e+00, 1.2000e+00, 3.4000e+00, 8.2640e+02, 8.0000e-01,\n",
       "       2.2000e+00, 1.8000e+00, 1.3140e+03, 6.0000e-01, 1.4000e+00,\n",
       "       6.8000e+00, 1.0000e+00, 5.2000e+00, 4.0000e-01, 4.0000e-01,\n",
       "       2.2000e+00, 4.0000e-01, 4.0000e-01, 1.2000e+00, 1.8000e+00,\n",
       "       3.0000e+00, 5.0000e+00, 1.6398e+03, 1.8000e+00, 2.0000e-01,\n",
       "       2.0000e-01, 1.0000e+00, 1.8158e+03, 6.0000e-01, 1.3200e+01,\n",
       "       8.0000e-01, 1.6000e+00, 3.8844e+03, 1.2800e+01, 1.4000e+00,\n",
       "       1.0000e+00, 2.2000e+00, 2.6000e+00, 1.6000e+00, 5.8000e+00,\n",
       "       1.0000e+00, 5.6000e+00, 2.0000e+00, 8.0000e-01, 2.0000e-01,\n",
       "       1.8000e+00, 1.0000e+00, 7.6000e+00, 2.0000e-01, 8.0000e-01,\n",
       "       1.2442e+03, 1.8000e+00, 1.6000e+00, 4.0000e-01, 4.4000e+00,\n",
       "       2.2000e+00, 8.0000e-01, 8.4000e+00, 8.0000e-01, 6.4000e+00,\n",
       "       1.0000e+00, 3.8814e+03, 2.0000e-01, 1.0400e+01, 8.0000e+00,\n",
       "       2.0000e-01, 0.0000e+00, 4.0000e-01, 5.4000e+00, 4.0000e-01,\n",
       "       8.0000e-01, 1.0400e+01, 3.2004e+03, 2.2000e+00, 5.4080e+02,\n",
       "       4.6000e+00, 1.0000e+00, 1.2000e+00, 1.4600e+01, 6.0000e-01,\n",
       "       2.0000e-01, 6.8460e+02, 1.2000e+00, 3.4000e+00, 9.2000e+00,\n",
       "       4.5820e+02, 1.2000e+00, 4.0000e-01, 8.0000e-01, 8.0000e-01,\n",
       "       7.4000e+00, 6.0000e-01, 2.6000e+00, 3.2000e+00, 1.0000e+00,\n",
       "       2.8000e+00, 3.2000e+00, 7.4000e+00, 1.4000e+00, 4.0000e-01,\n",
       "       2.6000e+00, 8.0000e-01, 1.5000e+01, 5.6000e+00, 1.2000e+00,\n",
       "       6.8000e+00, 8.0000e-01, 6.0000e-01, 1.0400e+01, 4.8000e+00,\n",
       "       3.8000e+00, 1.4000e+00, 4.0000e-01, 4.0000e-01, 8.0000e-01,\n",
       "       2.0000e-01, 4.0000e-01, 2.0000e-01, 4.5420e+02, 3.8000e+00,\n",
       "       2.0000e-01, 4.0000e-01, 2.0000e+00, 1.2000e+00, 2.1250e+03,\n",
       "       4.0000e-01, 2.0000e-01, 8.0000e-01, 3.0000e+00, 6.2040e+02,\n",
       "       4.0000e-01, 7.8800e+02, 6.6000e+00, 1.6000e+00, 8.4000e+00,\n",
       "       8.0000e-01, 2.0000e+00, 3.0000e+00, 8.0000e-01, 8.5460e+02,\n",
       "       4.0000e-01, 1.2000e+00, 3.0000e+00, 1.0000e+00, 1.4000e+00,\n",
       "       4.8000e+00, 1.2000e+00, 2.3060e+03, 4.4000e+00, 2.4000e+00,\n",
       "       8.9220e+02, 2.0000e+00, 2.0000e-01, 1.2000e+00, 5.8000e+00,\n",
       "       2.0000e+00, 1.0000e+00, 6.0000e-01, 5.6000e+00, 1.1800e+01,\n",
       "       6.0000e-01, 7.0000e+00, 2.0000e-01, 3.2000e+00, 1.6000e+00,\n",
       "       2.0000e-01, 3.2000e+00, 5.3660e+02, 1.0000e+00, 1.0000e+00,\n",
       "       1.4994e+03, 5.0980e+02, 1.2000e+00, 4.2000e+00, 9.8000e+00,\n",
       "       4.5920e+02, 3.2000e+00, 2.0000e+00, 6.0000e+00, 2.0000e+00,\n",
       "       6.0000e-01, 2.4000e+00, 1.4000e+00, 8.0000e-01, 6.0000e-01,\n",
       "       3.6000e+00, 8.0000e-01, 3.2000e+00, 2.6000e+00, 8.0000e-01,\n",
       "       1.6000e+00, 8.0000e-01, 1.1612e+03, 1.4000e+00, 3.4370e+03,\n",
       "       1.8000e+00, 6.4040e+02, 1.7010e+03, 1.1000e+01, 1.2000e+00,\n",
       "       2.4000e+00, 2.0000e-01, 2.4000e+00, 2.4000e+00, 1.1800e+01,\n",
       "       5.0000e+00, 6.8000e+00, 2.6000e+00, 2.0000e-01, 4.0000e-01,\n",
       "       7.1660e+02, 6.0000e+00, 2.6000e+00, 6.0000e-01, 3.0000e+00,\n",
       "       2.4000e+00, 1.2000e+00, 6.0000e-01, 3.8000e+00, 1.2000e+00,\n",
       "       2.0000e-01, 1.4000e+00, 1.6000e+00, 3.2828e+03, 1.5724e+03,\n",
       "       2.2000e+00, 1.2000e+00, 1.0800e+01, 3.6000e+00, 4.0000e-01,\n",
       "       1.8000e+00, 1.0000e+00, 1.0000e+00, 2.4000e+00, 4.0000e-01,\n",
       "       8.0000e-01, 2.4000e+00, 8.6000e+00, 2.6000e+00, 1.4000e+00,\n",
       "       2.0000e-01, 3.6000e+00, 1.4000e+00, 2.8000e+00, 1.9600e+01,\n",
       "       8.0000e-01, 6.0000e+00, 1.2000e+00, 4.4000e+00, 8.0000e-01,\n",
       "       1.1514e+03, 1.1400e+01, 1.2000e+00, 8.0000e-01, 8.0000e-01,\n",
       "       2.4000e+00, 2.0000e-01, 6.0000e-01, 1.8000e+00, 2.2000e+00,\n",
       "       2.0000e-01, 7.2000e+00, 4.4000e+00, 3.6438e+03, 8.0000e-01,\n",
       "       2.0000e-01, 5.2000e+00, 1.8000e+00, 9.1580e+02, 5.4000e+00,\n",
       "       2.2000e+00, 1.4000e+00, 8.8000e+00, 4.0000e-01, 1.2000e+00,\n",
       "       6.0000e+00, 2.8000e+00, 1.4000e+00, 5.4180e+02, 6.8000e+00,\n",
       "       8.0000e+00, 2.2000e+00, 1.2800e+01, 2.2000e+00, 2.0000e-01,\n",
       "       1.4000e+00, 2.4000e+00, 1.0600e+01, 6.3240e+02, 0.0000e+00,\n",
       "       8.0000e-01, 4.6000e+00, 2.2000e+00, 2.0000e-01, 8.0000e-01,\n",
       "       0.0000e+00, 1.2000e+00, 1.5000e+01, 2.4000e+00, 1.8000e+00,\n",
       "       8.2000e+00, 5.8000e+00, 1.0000e+00, 1.0000e+00, 4.4000e+00,\n",
       "       6.2000e+00, 2.4000e+00, 5.6000e+00, 4.8000e+00, 2.0000e+00,\n",
       "       8.0000e-01, 3.6154e+03, 3.0000e+00, 5.4000e+00, 2.2000e+00,\n",
       "       7.6000e+00, 8.0000e-01, 1.4000e+00, 1.2314e+03, 4.9320e+02,\n",
       "       0.0000e+00, 8.0000e-01, 1.6000e+00, 9.1980e+02, 2.0000e-01,\n",
       "       1.6600e+01, 1.6000e+00, 2.8000e+00, 6.0000e-01, 1.8000e+00,\n",
       "       3.2902e+03, 2.6000e+00, 2.0000e-01, 6.0000e-01, 1.0000e+00,\n",
       "       5.4120e+02, 4.0000e+00, 2.0000e+00, 8.0000e-01, 1.8000e+00,\n",
       "       0.0000e+00, 5.2000e+00, 4.6000e+00, 4.6000e+00, 4.0000e-01,\n",
       "       1.0000e+00, 7.0000e+00, 2.0000e-01, 4.6000e+00, 2.6268e+03,\n",
       "       3.2000e+00, 5.2000e+00, 1.6000e+00, 7.6000e+00, 0.0000e+00,\n",
       "       4.2000e+00, 1.8000e+00, 1.2000e+00, 6.0000e+00, 8.0000e-01,\n",
       "       1.6000e+00, 1.0000e+00, 4.0000e-01, 2.0000e+00, 6.0000e-01,\n",
       "       1.9658e+03, 6.3320e+02, 4.8000e+00, 0.0000e+00, 3.2000e+00,\n",
       "       2.0000e+00, 1.1200e+01, 2.0000e-01, 6.0000e-01, 2.7066e+03,\n",
       "       0.0000e+00, 1.0200e+01, 2.0000e+00, 1.8000e+00, 6.6060e+02,\n",
       "       4.2000e+00, 1.2796e+03, 3.8000e+00, 6.4000e+00, 5.6000e+00,\n",
       "       3.3350e+03, 8.0000e-01, 1.4800e+01, 9.1560e+02, 4.0000e-01,\n",
       "       0.0000e+00, 2.6000e+00, 3.0000e+00, 2.0000e-01, 1.4000e+00,\n",
       "       1.6000e+00, 1.2200e+01, 7.8000e+00, 8.0000e-01, 1.2000e+00,\n",
       "       1.2000e+00, 8.0000e-01, 4.0000e-01, 3.6000e+00, 1.0000e+00,\n",
       "       2.0000e-01, 8.0000e-01, 5.6700e+02, 3.2000e+00, 1.8000e+00,\n",
       "       1.2000e+00, 6.2000e+00, 4.0000e-01, 4.0000e+00, 2.0000e+00,\n",
       "       2.8000e+00, 2.4000e+00, 2.0000e-01, 6.0000e-01, 2.4000e+00,\n",
       "       5.6000e+00, 2.0000e+00, 1.7626e+03, 1.6000e+00, 3.6000e+00,\n",
       "       3.0000e+00, 1.2388e+03, 5.6000e+00, 2.0000e-01, 7.4000e+00,\n",
       "       1.6000e+00, 4.2000e+00, 2.8000e+00, 3.4000e+00, 1.0000e+00,\n",
       "       8.0000e-01, 5.6000e+00, 1.3400e+01, 3.3266e+03, 8.0000e-01,\n",
       "       1.2000e+00, 6.6000e+00, 1.6000e+00, 7.0000e+00, 8.0000e-01,\n",
       "       1.4000e+00, 1.2874e+03, 8.0000e-01, 1.2880e+03, 6.0000e-01,\n",
       "       1.4000e+00, 2.0000e-01, 8.0000e-01, 2.2000e+00, 5.6000e+00,\n",
       "       0.0000e+00, 2.0000e-01, 2.4000e+00, 1.2000e+00, 0.0000e+00,\n",
       "       1.0000e+00, 2.0000e+00, 2.2000e+00, 5.4000e+00, 9.0000e+00,\n",
       "       1.4000e+00, 1.4000e+00, 1.4000e+00, 4.3080e+02, 1.0000e+00,\n",
       "       4.0000e+00, 2.0000e+00, 1.2000e+00, 1.6000e+00, 5.1660e+02,\n",
       "       1.8000e+00, 4.5500e+02, 2.3698e+03, 1.4000e+00, 1.0000e+00,\n",
       "       6.0000e-01, 3.0000e+00, 9.0300e+02, 1.6000e+00, 9.6200e+02,\n",
       "       1.0000e+00, 8.0000e-01, 8.9720e+02, 2.0000e+00, 1.7006e+03,\n",
       "       4.2000e+00, 3.0000e+00, 9.8060e+02, 1.6000e+00, 1.3466e+03,\n",
       "       6.0000e-01, 1.1000e+01, 1.4000e+00, 2.2000e+00, 0.0000e+00,\n",
       "       4.0000e-01, 1.4000e+00, 1.2000e+00, 2.0000e-01, 2.2000e+00,\n",
       "       1.2444e+03, 4.2000e+00, 2.0000e-01, 8.0000e-01, 1.6000e+00,\n",
       "       4.0000e-01, 8.0000e-01, 4.0000e-01, 4.0000e+00, 6.0000e-01,\n",
       "       2.6000e+00, 2.7150e+03, 8.8000e+00, 2.2000e+00, 6.6000e+00,\n",
       "       5.4100e+02, 2.0000e-01, 2.2000e+00, 9.0000e+00, 8.0000e-01,\n",
       "       6.0000e-01, 2.6000e+00, 3.4000e+00, 6.6000e+00, 6.0000e-01,\n",
       "       5.8880e+02, 4.0000e-01, 1.6000e+00, 1.4000e+00, 9.2000e+00,\n",
       "       6.0000e-01, 1.8000e+00, 4.0000e-01, 3.2000e+00, 3.0000e+00,\n",
       "       2.2000e+00, 5.0000e+00, 6.0000e-01, 2.6000e+00, 1.1000e+01,\n",
       "       8.0000e-01, 6.0000e-01, 1.4000e+00, 8.0000e+00, 3.6000e+00,\n",
       "       6.4000e+00, 2.0000e-01, 1.2000e+01, 3.6000e+00, 8.0000e-01,\n",
       "       2.0000e+00, 2.0000e-01, 4.0000e-01, 1.6000e+00, 2.0000e-01,\n",
       "       4.0000e-01, 4.8000e+00, 6.0000e-01, 8.2000e+00, 1.4000e+00,\n",
       "       4.0000e-01, 6.8000e+00, 2.6000e+00, 8.0000e-01, 1.8000e+00,\n",
       "       1.6000e+00, 1.8000e+00, 1.0000e+00, 2.4000e+00, 1.0000e+00,\n",
       "       1.0000e+00, 2.4000e+00, 3.6000e+00, 9.8000e+00, 2.6000e+00,\n",
       "       1.0000e+00, 2.8000e+00, 0.0000e+00, 3.8000e+00, 1.2000e+00,\n",
       "       7.8000e+00, 8.0000e-01, 4.0000e-01, 2.4000e+00, 6.0000e-01,\n",
       "       1.2200e+01, 6.0000e+00, 4.2000e+00, 2.4000e+00, 1.0000e+00,\n",
       "       1.2000e+00, 6.0000e-01, 1.8000e+00, 1.2000e+00, 1.2000e+00,\n",
       "       7.6000e+00, 4.4000e+00, 4.9620e+02, 1.2874e+03, 1.2000e+00,\n",
       "       1.4000e+00, 3.0000e+00, 4.1880e+02, 3.9718e+03, 4.0000e-01,\n",
       "       2.8000e+00, 4.8000e+00, 1.4000e+00, 1.0000e+00, 6.0000e-01,\n",
       "       4.0000e-01, 1.8000e+00, 9.6000e+00, 2.6000e+00, 1.0400e+01,\n",
       "       3.9418e+03, 1.4000e+00, 2.4000e+00, 4.0000e-01, 6.0000e-01,\n",
       "       6.0000e-01, 0.0000e+00, 2.6000e+00, 1.3200e+01, 6.0000e-01,\n",
       "       2.0000e-01, 1.0000e+00, 3.2000e+00, 2.4000e+00, 5.0000e+00,\n",
       "       9.0000e+00, 1.3864e+03, 9.1200e+02, 9.8000e+00, 7.8000e+00,\n",
       "       2.2000e+00, 3.6640e+03, 2.0000e+00, 1.8000e+00, 3.0000e+00,\n",
       "       5.0000e+00, 2.4000e+00, 1.4000e+00, 5.5480e+02, 4.6000e+00,\n",
       "       3.6000e+00, 8.8000e+00, 4.8220e+02, 1.2000e+00, 1.0200e+01,\n",
       "       6.8000e+00, 8.0000e-01, 1.0200e+01, 1.0000e+00, 2.0000e+00,\n",
       "       6.0000e-01, 7.9540e+02, 3.6000e+00, 8.0000e-01, 2.8000e+00])"
      ]
     },
     "execution_count": 85,
     "metadata": {},
     "output_type": "execute_result"
    }
   ],
   "source": [
    "data = Xboot\n",
    "data = data.values.flatten()\n",
    "\n",
    "def bootstrap(data, num_samples, sample_size, statistic):\n",
    "    \n",
    "    statistics = np.empty(num_samples)\n",
    "    \n",
    "    for i in range(num_samples):\n",
    "        sample = np.random.choice(data, size=sample_size, replace=True)\n",
    "        statistics[i] = statistic(sample)\n",
    "    return statistics\n",
    "    \n",
    "bootstrap(data, num_samples=1000, sample_size=5, statistic=np.mean)"
   ]
  },
  {
   "cell_type": "markdown",
   "id": "fe707bb5",
   "metadata": {},
   "source": []
  },
  {
   "cell_type": "markdown",
   "id": "340b7335",
   "metadata": {},
   "source": [
    "                                                   Bagging"
   ]
  },
  {
   "cell_type": "markdown",
   "id": "0a808e1e",
   "metadata": {},
   "source": []
  },
  {
   "cell_type": "markdown",
   "id": "7a2b0dbe",
   "metadata": {},
   "source": [
    "  Algorytm Bagging to metoda, która polega na tworzeniu zespołu klasyfikatorów z różnych podpróbek danych uczących i łączeniu ich wyników za pomocą głosowania lub średniej. Algorytm ma na celu zmniejszenie wariancji i poprawienie dokładności pojedynczego klasyfikatora, który może być niestabilny lub podatny na nadmierne dopasowanie. \n",
    "  \n",
    "  Schemat działania:\n",
    "  \n",
    "  1. Wybieramy liczbę klasyfikatorów do utworzenia.\n",
    "  \n",
    "  2. Dla każdego klasyfikatora:\n",
    "  \n",
    "     - losujemy losową próbkę danych uczących z powtórzeniami,\n",
    "     \n",
    "     - budujemy klasyfikator na podstawie wylosowanej podpróbki (np. drzewo decyzyjne).\n",
    "     \n",
    "  3. Dla nowej obserwacji do sklasyfikowania:\n",
    "  \n",
    "     - stosujemy wszystkie klasyfikatory do obserwacji i zbieramy ich wyniki,\n",
    "     \n",
    "     - zwracamy klasę, która otrzymałą najwięcej głosów (dla klasyfikacji) lub średnią z wyników (dla regresji).\n",
    "     \n",
    "  Zalety:\n",
    "  \n",
    "     - zmniejsza ryzyko nadmiernego dopasowania i poprawia ogólność kasyfikatora,\n",
    "     \n",
    "     - jest łatwy do zaimplementowania i zrównoleglenia,\n",
    "     \n",
    "     - nie wymaga strojenia hiperparametrów ani przycinania klasyfikatorów bazowych.\n",
    "     \n",
    "   Wady:\n",
    "   \n",
    "     - zwiększa koszt obliczeniowy i pamięciowy, ponieważ wymaga tworzenia i przechowywania wielu klasyfikatorów,\n",
    "     \n",
    "     - może nie poprawić dokładności klasyfikatora, jeśli dane są zaszumione lub niezrównoważone,\n",
    "     \n",
    "     - może nie radzić sobie dobrze z zależnościami między zmiennymi lub nieliniowymi funkcjami.\n",
    "  \n",
    "  "
   ]
  },
  {
   "cell_type": "code",
   "execution_count": 86,
   "id": "e8e526d9",
   "metadata": {},
   "outputs": [],
   "source": [
    "from sklearn.ensemble import BaggingClassifier\n",
    "from sklearn.datasets import make_classification\n",
    "from sklearn.tree import DecisionTreeClassifier"
   ]
  },
  {
   "cell_type": "code",
   "execution_count": 87,
   "id": "6ce72fe8",
   "metadata": {},
   "outputs": [
    {
     "data": {
      "text/html": [
       "<div>\n",
       "<style scoped>\n",
       "    .dataframe tbody tr th:only-of-type {\n",
       "        vertical-align: middle;\n",
       "    }\n",
       "\n",
       "    .dataframe tbody tr th {\n",
       "        vertical-align: top;\n",
       "    }\n",
       "\n",
       "    .dataframe thead th {\n",
       "        text-align: right;\n",
       "    }\n",
       "</style>\n",
       "<table border=\"1\" class=\"dataframe\">\n",
       "  <thead>\n",
       "    <tr style=\"text-align: right;\">\n",
       "      <th></th>\n",
       "      <th>Age</th>\n",
       "      <th>DistanceFromHome</th>\n",
       "      <th>Education</th>\n",
       "      <th>EnvironmentSatisfaction</th>\n",
       "      <th>JobInvolvement</th>\n",
       "      <th>JobLevel</th>\n",
       "      <th>JobSatisfaction</th>\n",
       "      <th>MonthlyIncome</th>\n",
       "      <th>NumCompaniesWorked</th>\n",
       "      <th>PercentSalaryHike</th>\n",
       "      <th>...</th>\n",
       "      <th>JobRole_Manufacturing Director</th>\n",
       "      <th>JobRole_Research Director</th>\n",
       "      <th>JobRole_Research Scientist</th>\n",
       "      <th>JobRole_Sales Executive</th>\n",
       "      <th>JobRole_Sales Representative</th>\n",
       "      <th>MaritalStatus_Divorced</th>\n",
       "      <th>MaritalStatus_Married</th>\n",
       "      <th>MaritalStatus_Single</th>\n",
       "      <th>OverTime_No</th>\n",
       "      <th>OverTime_Yes</th>\n",
       "    </tr>\n",
       "  </thead>\n",
       "  <tbody>\n",
       "    <tr>\n",
       "      <th>0</th>\n",
       "      <td>30</td>\n",
       "      <td>1</td>\n",
       "      <td>1</td>\n",
       "      <td>4</td>\n",
       "      <td>2</td>\n",
       "      <td>2</td>\n",
       "      <td>4</td>\n",
       "      <td>5126</td>\n",
       "      <td>1</td>\n",
       "      <td>12</td>\n",
       "      <td>...</td>\n",
       "      <td>0</td>\n",
       "      <td>0</td>\n",
       "      <td>0</td>\n",
       "      <td>0</td>\n",
       "      <td>0</td>\n",
       "      <td>0</td>\n",
       "      <td>1</td>\n",
       "      <td>0</td>\n",
       "      <td>0</td>\n",
       "      <td>1</td>\n",
       "    </tr>\n",
       "    <tr>\n",
       "      <th>1</th>\n",
       "      <td>38</td>\n",
       "      <td>2</td>\n",
       "      <td>2</td>\n",
       "      <td>4</td>\n",
       "      <td>2</td>\n",
       "      <td>3</td>\n",
       "      <td>3</td>\n",
       "      <td>7756</td>\n",
       "      <td>3</td>\n",
       "      <td>19</td>\n",
       "      <td>...</td>\n",
       "      <td>1</td>\n",
       "      <td>0</td>\n",
       "      <td>0</td>\n",
       "      <td>0</td>\n",
       "      <td>0</td>\n",
       "      <td>0</td>\n",
       "      <td>1</td>\n",
       "      <td>0</td>\n",
       "      <td>0</td>\n",
       "      <td>1</td>\n",
       "    </tr>\n",
       "    <tr>\n",
       "      <th>2</th>\n",
       "      <td>26</td>\n",
       "      <td>6</td>\n",
       "      <td>3</td>\n",
       "      <td>3</td>\n",
       "      <td>2</td>\n",
       "      <td>1</td>\n",
       "      <td>2</td>\n",
       "      <td>2368</td>\n",
       "      <td>1</td>\n",
       "      <td>19</td>\n",
       "      <td>...</td>\n",
       "      <td>0</td>\n",
       "      <td>0</td>\n",
       "      <td>1</td>\n",
       "      <td>0</td>\n",
       "      <td>0</td>\n",
       "      <td>0</td>\n",
       "      <td>1</td>\n",
       "      <td>0</td>\n",
       "      <td>1</td>\n",
       "      <td>0</td>\n",
       "    </tr>\n",
       "    <tr>\n",
       "      <th>3</th>\n",
       "      <td>28</td>\n",
       "      <td>8</td>\n",
       "      <td>2</td>\n",
       "      <td>4</td>\n",
       "      <td>3</td>\n",
       "      <td>1</td>\n",
       "      <td>4</td>\n",
       "      <td>3310</td>\n",
       "      <td>1</td>\n",
       "      <td>21</td>\n",
       "      <td>...</td>\n",
       "      <td>0</td>\n",
       "      <td>0</td>\n",
       "      <td>1</td>\n",
       "      <td>0</td>\n",
       "      <td>0</td>\n",
       "      <td>0</td>\n",
       "      <td>0</td>\n",
       "      <td>1</td>\n",
       "      <td>1</td>\n",
       "      <td>0</td>\n",
       "    </tr>\n",
       "    <tr>\n",
       "      <th>4</th>\n",
       "      <td>35</td>\n",
       "      <td>4</td>\n",
       "      <td>2</td>\n",
       "      <td>3</td>\n",
       "      <td>3</td>\n",
       "      <td>1</td>\n",
       "      <td>4</td>\n",
       "      <td>1951</td>\n",
       "      <td>1</td>\n",
       "      <td>12</td>\n",
       "      <td>...</td>\n",
       "      <td>0</td>\n",
       "      <td>0</td>\n",
       "      <td>0</td>\n",
       "      <td>0</td>\n",
       "      <td>0</td>\n",
       "      <td>1</td>\n",
       "      <td>0</td>\n",
       "      <td>0</td>\n",
       "      <td>1</td>\n",
       "      <td>0</td>\n",
       "    </tr>\n",
       "  </tbody>\n",
       "</table>\n",
       "<p>5 rows × 47 columns</p>\n",
       "</div>"
      ],
      "text/plain": [
       "   Age  DistanceFromHome  Education  EnvironmentSatisfaction  JobInvolvement   \n",
       "0   30                 1          1                        4               2  \\\n",
       "1   38                 2          2                        4               2   \n",
       "2   26                 6          3                        3               2   \n",
       "3   28                 8          2                        4               3   \n",
       "4   35                 4          2                        3               3   \n",
       "\n",
       "   JobLevel  JobSatisfaction  MonthlyIncome  NumCompaniesWorked   \n",
       "0         2                4           5126                   1  \\\n",
       "1         3                3           7756                   3   \n",
       "2         1                2           2368                   1   \n",
       "3         1                4           3310                   1   \n",
       "4         1                4           1951                   1   \n",
       "\n",
       "   PercentSalaryHike  ...  JobRole_Manufacturing Director   \n",
       "0                 12  ...                               0  \\\n",
       "1                 19  ...                               1   \n",
       "2                 19  ...                               0   \n",
       "3                 21  ...                               0   \n",
       "4                 12  ...                               0   \n",
       "\n",
       "   JobRole_Research Director  JobRole_Research Scientist   \n",
       "0                          0                           0  \\\n",
       "1                          0                           0   \n",
       "2                          0                           1   \n",
       "3                          0                           1   \n",
       "4                          0                           0   \n",
       "\n",
       "   JobRole_Sales Executive  JobRole_Sales Representative   \n",
       "0                        0                             0  \\\n",
       "1                        0                             0   \n",
       "2                        0                             0   \n",
       "3                        0                             0   \n",
       "4                        0                             0   \n",
       "\n",
       "   MaritalStatus_Divorced  MaritalStatus_Married  MaritalStatus_Single   \n",
       "0                       0                      1                     0  \\\n",
       "1                       0                      1                     0   \n",
       "2                       0                      1                     0   \n",
       "3                       0                      0                     1   \n",
       "4                       1                      0                     0   \n",
       "\n",
       "   OverTime_No  OverTime_Yes  \n",
       "0            0             1  \n",
       "1            0             1  \n",
       "2            1             0  \n",
       "3            1             0  \n",
       "4            1             0  \n",
       "\n",
       "[5 rows x 47 columns]"
      ]
     },
     "execution_count": 87,
     "metadata": {},
     "output_type": "execute_result"
    }
   ],
   "source": [
    "ATTMod = pd.read_csv('Dane/ATTMod.csv')\n",
    "ATTMod.head()"
   ]
  },
  {
   "cell_type": "code",
   "execution_count": 88,
   "id": "10725568",
   "metadata": {},
   "outputs": [],
   "source": [
    "train_data = ATTMod.drop('Attrition', axis=1)\n",
    "train_labels = ATTMod[['Attrition']]"
   ]
  },
  {
   "cell_type": "code",
   "execution_count": 89,
   "id": "443981a2",
   "metadata": {},
   "outputs": [],
   "source": [
    "Xbag = train_data\n",
    "ybag = train_labels"
   ]
  },
  {
   "cell_type": "code",
   "execution_count": 90,
   "id": "e1a3bba1",
   "metadata": {},
   "outputs": [],
   "source": [
    "Xbag_train, Xbag_test, ybag_train, ybag_test = train_test_split(Xbag, ybag, test_size=0.2, stratify=ybag, random_state=42)"
   ]
  },
  {
   "cell_type": "code",
   "execution_count": 91,
   "id": "b1f3a01d",
   "metadata": {},
   "outputs": [],
   "source": [
    "Xbag_train, ybag_train = make_classification(n_samples=100, n_features=46, n_informative=46, n_redundant=0, random_state=0, shuffle=True)"
   ]
  },
  {
   "cell_type": "code",
   "execution_count": 92,
   "id": "26046c99",
   "metadata": {},
   "outputs": [
    {
     "name": "stderr",
     "output_type": "stream",
     "text": [
      "C:\\Users\\Kamil - IT\\AppData\\Local\\Programs\\Python\\Python311\\Lib\\site-packages\\sklearn\\ensemble\\_base.py:166: FutureWarning: `base_estimator` was renamed to `estimator` in version 1.2 and will be removed in 1.4.\n",
      "  warnings.warn(\n"
     ]
    },
    {
     "data": {
      "text/html": [
       "<style>#sk-container-id-2 {color: black;background-color: white;}#sk-container-id-2 pre{padding: 0;}#sk-container-id-2 div.sk-toggleable {background-color: white;}#sk-container-id-2 label.sk-toggleable__label {cursor: pointer;display: block;width: 100%;margin-bottom: 0;padding: 0.3em;box-sizing: border-box;text-align: center;}#sk-container-id-2 label.sk-toggleable__label-arrow:before {content: \"▸\";float: left;margin-right: 0.25em;color: #696969;}#sk-container-id-2 label.sk-toggleable__label-arrow:hover:before {color: black;}#sk-container-id-2 div.sk-estimator:hover label.sk-toggleable__label-arrow:before {color: black;}#sk-container-id-2 div.sk-toggleable__content {max-height: 0;max-width: 0;overflow: hidden;text-align: left;background-color: #f0f8ff;}#sk-container-id-2 div.sk-toggleable__content pre {margin: 0.2em;color: black;border-radius: 0.25em;background-color: #f0f8ff;}#sk-container-id-2 input.sk-toggleable__control:checked~div.sk-toggleable__content {max-height: 200px;max-width: 100%;overflow: auto;}#sk-container-id-2 input.sk-toggleable__control:checked~label.sk-toggleable__label-arrow:before {content: \"▾\";}#sk-container-id-2 div.sk-estimator input.sk-toggleable__control:checked~label.sk-toggleable__label {background-color: #d4ebff;}#sk-container-id-2 div.sk-label input.sk-toggleable__control:checked~label.sk-toggleable__label {background-color: #d4ebff;}#sk-container-id-2 input.sk-hidden--visually {border: 0;clip: rect(1px 1px 1px 1px);clip: rect(1px, 1px, 1px, 1px);height: 1px;margin: -1px;overflow: hidden;padding: 0;position: absolute;width: 1px;}#sk-container-id-2 div.sk-estimator {font-family: monospace;background-color: #f0f8ff;border: 1px dotted black;border-radius: 0.25em;box-sizing: border-box;margin-bottom: 0.5em;}#sk-container-id-2 div.sk-estimator:hover {background-color: #d4ebff;}#sk-container-id-2 div.sk-parallel-item::after {content: \"\";width: 100%;border-bottom: 1px solid gray;flex-grow: 1;}#sk-container-id-2 div.sk-label:hover label.sk-toggleable__label {background-color: #d4ebff;}#sk-container-id-2 div.sk-serial::before {content: \"\";position: absolute;border-left: 1px solid gray;box-sizing: border-box;top: 0;bottom: 0;left: 50%;z-index: 0;}#sk-container-id-2 div.sk-serial {display: flex;flex-direction: column;align-items: center;background-color: white;padding-right: 0.2em;padding-left: 0.2em;position: relative;}#sk-container-id-2 div.sk-item {position: relative;z-index: 1;}#sk-container-id-2 div.sk-parallel {display: flex;align-items: stretch;justify-content: center;background-color: white;position: relative;}#sk-container-id-2 div.sk-item::before, #sk-container-id-2 div.sk-parallel-item::before {content: \"\";position: absolute;border-left: 1px solid gray;box-sizing: border-box;top: 0;bottom: 0;left: 50%;z-index: -1;}#sk-container-id-2 div.sk-parallel-item {display: flex;flex-direction: column;z-index: 1;position: relative;background-color: white;}#sk-container-id-2 div.sk-parallel-item:first-child::after {align-self: flex-end;width: 50%;}#sk-container-id-2 div.sk-parallel-item:last-child::after {align-self: flex-start;width: 50%;}#sk-container-id-2 div.sk-parallel-item:only-child::after {width: 0;}#sk-container-id-2 div.sk-dashed-wrapped {border: 1px dashed gray;margin: 0 0.4em 0.5em 0.4em;box-sizing: border-box;padding-bottom: 0.4em;background-color: white;}#sk-container-id-2 div.sk-label label {font-family: monospace;font-weight: bold;display: inline-block;line-height: 1.2em;}#sk-container-id-2 div.sk-label-container {text-align: center;}#sk-container-id-2 div.sk-container {/* jupyter's `normalize.less` sets `[hidden] { display: none; }` but bootstrap.min.css set `[hidden] { display: none !important; }` so we also need the `!important` here to be able to override the default hidden behavior on the sphinx rendered scikit-learn.org. See: https://github.com/scikit-learn/scikit-learn/issues/21755 */display: inline-block !important;position: relative;}#sk-container-id-2 div.sk-text-repr-fallback {display: none;}</style><div id=\"sk-container-id-2\" class=\"sk-top-container\"><div class=\"sk-text-repr-fallback\"><pre>BaggingClassifier(base_estimator=DecisionTreeClassifier(), random_state=0)</pre><b>In a Jupyter environment, please rerun this cell to show the HTML representation or trust the notebook. <br />On GitHub, the HTML representation is unable to render, please try loading this page with nbviewer.org.</b></div><div class=\"sk-container\" hidden><div class=\"sk-item sk-dashed-wrapped\"><div class=\"sk-label-container\"><div class=\"sk-label sk-toggleable\"><input class=\"sk-toggleable__control sk-hidden--visually\" id=\"sk-estimator-id-2\" type=\"checkbox\" ><label for=\"sk-estimator-id-2\" class=\"sk-toggleable__label sk-toggleable__label-arrow\">BaggingClassifier</label><div class=\"sk-toggleable__content\"><pre>BaggingClassifier(base_estimator=DecisionTreeClassifier(), random_state=0)</pre></div></div></div><div class=\"sk-parallel\"><div class=\"sk-parallel-item\"><div class=\"sk-item\"><div class=\"sk-label-container\"><div class=\"sk-label sk-toggleable\"><input class=\"sk-toggleable__control sk-hidden--visually\" id=\"sk-estimator-id-3\" type=\"checkbox\" ><label for=\"sk-estimator-id-3\" class=\"sk-toggleable__label sk-toggleable__label-arrow\">base_estimator: DecisionTreeClassifier</label><div class=\"sk-toggleable__content\"><pre>DecisionTreeClassifier()</pre></div></div></div><div class=\"sk-serial\"><div class=\"sk-item\"><div class=\"sk-estimator sk-toggleable\"><input class=\"sk-toggleable__control sk-hidden--visually\" id=\"sk-estimator-id-4\" type=\"checkbox\" ><label for=\"sk-estimator-id-4\" class=\"sk-toggleable__label sk-toggleable__label-arrow\">DecisionTreeClassifier</label><div class=\"sk-toggleable__content\"><pre>DecisionTreeClassifier()</pre></div></div></div></div></div></div></div></div></div></div>"
      ],
      "text/plain": [
       "BaggingClassifier(base_estimator=DecisionTreeClassifier(), random_state=0)"
      ]
     },
     "execution_count": 92,
     "metadata": {},
     "output_type": "execute_result"
    }
   ],
   "source": [
    "clf1 = BaggingClassifier(base_estimator=DecisionTreeClassifier(), n_estimators=10, random_state=0)\n",
    "clf1.fit(Xbag_train, ybag_train)"
   ]
  },
  {
   "cell_type": "code",
   "execution_count": 93,
   "id": "0bfd256d",
   "metadata": {},
   "outputs": [
    {
     "name": "stderr",
     "output_type": "stream",
     "text": [
      "C:\\Users\\Kamil - IT\\AppData\\Local\\Programs\\Python\\Python311\\Lib\\site-packages\\sklearn\\base.py:432: UserWarning: X has feature names, but BaggingClassifier was fitted without feature names\n",
      "  warnings.warn(\n"
     ]
    },
    {
     "data": {
      "text/plain": [
       "array([0, 0, 0, 0, 0, 0, 0, 0, 0, 0, 0, 0, 0, 0, 0, 0, 0, 0, 0, 0, 0, 0,\n",
       "       0, 0, 0, 0, 0, 0, 0, 0, 0, 0, 0, 0, 0, 0, 0, 0, 0, 0, 0, 0, 0, 0,\n",
       "       0, 0, 0, 0, 0, 0, 0, 0, 0, 0, 0, 0, 0, 0, 0, 0, 0, 0, 0, 0, 0, 0,\n",
       "       0, 0, 0, 0, 0, 0, 0, 0, 0, 0, 0, 0, 0, 0, 0, 0, 0, 0, 0, 0, 0, 0,\n",
       "       0, 0, 0, 0, 0, 0, 0, 0, 0, 0, 0, 0, 0, 0, 0, 0, 0, 0, 0, 0, 0, 0,\n",
       "       0, 0, 0, 0, 0, 0, 0, 0, 0, 0, 0, 0, 0, 0, 0, 0, 0, 0, 0, 0, 0, 0,\n",
       "       0, 0, 0, 0, 0, 0, 0, 0, 0, 0, 0, 0, 0, 0, 0, 0, 0, 0, 0, 0, 0, 0,\n",
       "       0, 0, 0, 0, 0, 0, 0, 0, 0, 0, 0, 0, 0, 0, 0, 0, 0, 0, 0, 0, 0, 0,\n",
       "       0, 0, 0, 0, 0, 0, 0, 0, 0, 0, 0, 0, 0, 0, 0, 0, 0, 0, 0, 0, 0, 0,\n",
       "       0, 0, 0, 0, 0, 0, 0, 0, 0, 0, 0, 0, 0, 0, 0, 0, 0, 0, 0, 0, 0, 0,\n",
       "       0, 0, 0, 0, 0, 0, 0, 0, 0, 0, 0, 0, 0, 0, 0, 0, 0, 0, 0, 0, 0, 0,\n",
       "       0, 0, 0, 0, 0, 0, 0, 0, 0, 0, 0, 0, 0, 0, 0, 0, 0, 0, 0, 0, 0, 0,\n",
       "       0, 0, 0, 0, 0, 0, 0, 0, 0, 0, 0, 0, 0, 0, 0, 0, 0, 0, 0, 0, 0, 0,\n",
       "       0, 0, 0, 0, 0, 0, 0, 0, 0, 0, 0, 0, 0, 0, 0, 0, 0, 0, 0, 0, 0, 0,\n",
       "       0, 0, 0, 0, 0, 0, 0, 0, 0, 0, 0, 0, 0, 0, 0, 0, 0, 0, 0, 0, 0, 0,\n",
       "       0, 0, 0, 0, 0, 0, 0, 0, 0, 0, 0, 0, 0, 0, 0, 0, 0, 0, 0, 0, 0, 0,\n",
       "       0, 0, 0, 0, 0, 0, 0, 0, 0, 0, 0, 0, 0, 0, 0, 0, 0, 0, 0, 0, 0, 0,\n",
       "       0, 0, 0, 0, 0, 0, 0, 0, 0, 0, 0, 0, 0, 0, 0, 0, 0, 0, 0, 0, 0, 0,\n",
       "       0, 0, 0, 0, 0, 0, 0, 0, 0, 0, 0, 0, 0, 0, 0, 0, 0, 0, 0, 0, 0, 0,\n",
       "       0, 0, 0, 0, 0, 0, 0, 0, 0, 0, 0, 0, 0, 0, 0, 0, 0, 0, 0, 0, 0, 0,\n",
       "       0, 0, 0, 0, 0, 0, 0, 0, 0, 0, 0, 0, 0, 0, 0, 0, 0, 0, 0, 0, 0, 0,\n",
       "       0, 0, 0, 0, 0, 0, 0, 0, 0, 0, 0, 0, 0, 0, 0, 0, 0, 0, 0, 0, 0, 0,\n",
       "       0, 0, 0, 0, 0, 0, 0, 0, 0, 0, 0, 0, 0, 0, 0, 0, 0, 0, 0, 0, 0, 0,\n",
       "       0, 0, 0, 0, 0, 0, 0, 0, 0, 0, 0, 0, 0, 0, 0, 0, 0, 0, 0, 0, 0, 0,\n",
       "       0, 0, 0, 0, 0, 0, 0, 0, 0, 0, 0, 0, 0, 0, 0, 0, 0, 0, 0, 0, 0, 0,\n",
       "       0, 0, 0, 0, 0, 0, 0, 0, 0, 0, 0, 0, 0, 0, 0, 0, 0, 0, 0, 0, 0, 0,\n",
       "       0, 0, 0, 0, 0, 0, 0, 0, 0, 0, 0, 0, 0, 0, 0, 0, 0, 0, 0, 0, 0, 0,\n",
       "       0, 0, 0, 0, 0, 0])"
      ]
     },
     "execution_count": 93,
     "metadata": {},
     "output_type": "execute_result"
    }
   ],
   "source": [
    "pred_bag = clf1.predict(Xbag_test)\n",
    "pred_bag"
   ]
  },
  {
   "cell_type": "code",
   "execution_count": 94,
   "id": "3709445a",
   "metadata": {},
   "outputs": [
    {
     "name": "stdout",
     "output_type": "stream",
     "text": [
      "Results for Bagging\n",
      "----\n",
      "  Accuracy:  0.5316666666666666\n",
      "  Precision: 0.2658333333333333\n",
      "  Recall:    0.5\n",
      "  F1 score:  0.3471164309031556\n",
      "  Mislabeled 168600 out of 600\n",
      "\n",
      "\n"
     ]
    },
    {
     "name": "stderr",
     "output_type": "stream",
     "text": [
      "C:\\Users\\Kamil - IT\\AppData\\Local\\Programs\\Python\\Python311\\Lib\\site-packages\\sklearn\\metrics\\_classification.py:1344: UndefinedMetricWarning: Precision is ill-defined and being set to 0.0 in labels with no predicted samples. Use `zero_division` parameter to control this behavior.\n",
      "  _warn_prf(average, modifier, msg_start, len(result))\n",
      "C:\\Users\\Kamil - IT\\AppData\\Local\\Programs\\Python\\Python311\\Lib\\site-packages\\sklearn\\metrics\\_classification.py:1344: UndefinedMetricWarning: Precision is ill-defined and being set to 0.0 in labels with no predicted samples. Use `zero_division` parameter to control this behavior.\n",
      "  _warn_prf(average, modifier, msg_start, len(result))\n"
     ]
    }
   ],
   "source": [
    "BAGMetrics1 = calculate_metrics(ybag_test.values, pred_bag)\n",
    "BAGMetrics = print_results(calculate_metrics(ybag_test.values, pred_bag), 'Bagging')\n",
    "BAGMetrics"
   ]
  },
  {
   "cell_type": "code",
   "execution_count": 95,
   "id": "964bb349",
   "metadata": {},
   "outputs": [
    {
     "name": "stdout",
     "output_type": "stream",
     "text": [
      "[0]\n"
     ]
    }
   ],
   "source": [
    "print(clf.predict([[45, 23, 2, 2, 3, 3, 4, 2344, 2, 2, 3, 2, 24, 1, 2, 10, 5, 2, 0, 0, 1, 1, 0, 0, 0, 0, 1, 1, 0, 0, 1, 0, 1, 0, 0, 0, 0, 1, 0, 0, 0, 0, 0, 1, 1, 0]]))"
   ]
  },
  {
   "cell_type": "markdown",
   "id": "1946f114",
   "metadata": {},
   "source": []
  },
  {
   "cell_type": "markdown",
   "id": "db88d7a7",
   "metadata": {},
   "source": [
    "                                                   Random Forest"
   ]
  },
  {
   "cell_type": "markdown",
   "id": "bf3f9b2b",
   "metadata": {},
   "source": []
  },
  {
   "cell_type": "markdown",
   "id": "14e3efe9",
   "metadata": {},
   "source": [
    "  Random Forest (RF) to metoda, która polega na tworzeniu zespołu drzew decyzyjnych na różnych podzbiorach danych i łączeniu ich wyników za pomocą głosowania lub średniej. RF ma na celu poprawić dokładność i ogólność pojedynczego drzewa decyzyjnego, które noże być niestabilne lub podatne na nadmierne dopasowanie.\n",
    "  \n",
    "  Schemat działania:\n",
    "  \n",
    "  1. Wybieramy liczbę drzew do utworzenia.\n",
    "  \n",
    "  2. Dla każdego drzewa:\n",
    "  \n",
    "     - losujemy losowy podzbiór danych z powtózeniami,\n",
    "     \n",
    "     - budujemy drzewo decyzyjne na podstawie wylosowanego podzbioru, wybierając losowo pewną liczbę cech do rozważenia przy\n",
    "       każdym podziale (np. pierwiastek z liczby wszystkich cech).\n",
    "       \n",
    "   3. Dla nowej obserwacji do sklasyfikowania lub oszacowania:\n",
    "   \n",
    "     - stosujemy wszystkie drzewa do obserwacji i zbieramy ich wyniki,\n",
    "     \n",
    "     - zwracamy klasę, która otrzymała najwięcej głosów.\n",
    "     \n",
    "   Zalety RF:\n",
    "   \n",
    "     - zmniejsza ryzyko nadmiernego dopasowania i poprawia ogólność klasyfikatora, ponieważ uśrednia wyniki wielu drzew, któe\n",
    "       mogą się różnić między sobą,\n",
    "       \n",
    "     - jest łatwy do zaimplementowania i zrównoleglenia, ponieważ nie wymaga strojenia hiperparametrów ani przycinania drzew,\n",
    "     \n",
    "     - może radzić sobie z danymi o różnych typach i skalach, takimi jak liczby, kategorie, teksty czy obrazy,\n",
    "     \n",
    "    Wady RF:\n",
    "    \n",
    "     - zwiększa koszt obliczeniowy i pamięciowy, ponieważ wymaga tworzenia i przechowywania wielu drzew,\n",
    "     \n",
    "     - może nie poprawić dokładności klasyfikatora, jeśli dane są zaszumione lub niezrównoważone,\n",
    "     \n",
    "     - może mieć trudności z uchwyceniem złożonych zależności między zmiennymi lub nieliniowych funkcji.\n",
    "  "
   ]
  },
  {
   "cell_type": "code",
   "execution_count": 96,
   "id": "773104d4",
   "metadata": {},
   "outputs": [],
   "source": [
    "from sklearn.ensemble import RandomForestClassifier\n",
    "from sklearn.datasets import make_classification"
   ]
  },
  {
   "cell_type": "code",
   "execution_count": 97,
   "id": "c67cbfd0",
   "metadata": {},
   "outputs": [
    {
     "data": {
      "text/html": [
       "<div>\n",
       "<style scoped>\n",
       "    .dataframe tbody tr th:only-of-type {\n",
       "        vertical-align: middle;\n",
       "    }\n",
       "\n",
       "    .dataframe tbody tr th {\n",
       "        vertical-align: top;\n",
       "    }\n",
       "\n",
       "    .dataframe thead th {\n",
       "        text-align: right;\n",
       "    }\n",
       "</style>\n",
       "<table border=\"1\" class=\"dataframe\">\n",
       "  <thead>\n",
       "    <tr style=\"text-align: right;\">\n",
       "      <th></th>\n",
       "      <th>Age</th>\n",
       "      <th>DistanceFromHome</th>\n",
       "      <th>Education</th>\n",
       "      <th>EnvironmentSatisfaction</th>\n",
       "      <th>JobInvolvement</th>\n",
       "      <th>JobLevel</th>\n",
       "      <th>JobSatisfaction</th>\n",
       "      <th>MonthlyIncome</th>\n",
       "      <th>NumCompaniesWorked</th>\n",
       "      <th>PercentSalaryHike</th>\n",
       "      <th>...</th>\n",
       "      <th>JobRole_Manufacturing Director</th>\n",
       "      <th>JobRole_Research Director</th>\n",
       "      <th>JobRole_Research Scientist</th>\n",
       "      <th>JobRole_Sales Executive</th>\n",
       "      <th>JobRole_Sales Representative</th>\n",
       "      <th>MaritalStatus_Divorced</th>\n",
       "      <th>MaritalStatus_Married</th>\n",
       "      <th>MaritalStatus_Single</th>\n",
       "      <th>OverTime_No</th>\n",
       "      <th>OverTime_Yes</th>\n",
       "    </tr>\n",
       "  </thead>\n",
       "  <tbody>\n",
       "    <tr>\n",
       "      <th>0</th>\n",
       "      <td>30</td>\n",
       "      <td>1</td>\n",
       "      <td>1</td>\n",
       "      <td>4</td>\n",
       "      <td>2</td>\n",
       "      <td>2</td>\n",
       "      <td>4</td>\n",
       "      <td>5126</td>\n",
       "      <td>1</td>\n",
       "      <td>12</td>\n",
       "      <td>...</td>\n",
       "      <td>0</td>\n",
       "      <td>0</td>\n",
       "      <td>0</td>\n",
       "      <td>0</td>\n",
       "      <td>0</td>\n",
       "      <td>0</td>\n",
       "      <td>1</td>\n",
       "      <td>0</td>\n",
       "      <td>0</td>\n",
       "      <td>1</td>\n",
       "    </tr>\n",
       "    <tr>\n",
       "      <th>1</th>\n",
       "      <td>38</td>\n",
       "      <td>2</td>\n",
       "      <td>2</td>\n",
       "      <td>4</td>\n",
       "      <td>2</td>\n",
       "      <td>3</td>\n",
       "      <td>3</td>\n",
       "      <td>7756</td>\n",
       "      <td>3</td>\n",
       "      <td>19</td>\n",
       "      <td>...</td>\n",
       "      <td>1</td>\n",
       "      <td>0</td>\n",
       "      <td>0</td>\n",
       "      <td>0</td>\n",
       "      <td>0</td>\n",
       "      <td>0</td>\n",
       "      <td>1</td>\n",
       "      <td>0</td>\n",
       "      <td>0</td>\n",
       "      <td>1</td>\n",
       "    </tr>\n",
       "    <tr>\n",
       "      <th>2</th>\n",
       "      <td>26</td>\n",
       "      <td>6</td>\n",
       "      <td>3</td>\n",
       "      <td>3</td>\n",
       "      <td>2</td>\n",
       "      <td>1</td>\n",
       "      <td>2</td>\n",
       "      <td>2368</td>\n",
       "      <td>1</td>\n",
       "      <td>19</td>\n",
       "      <td>...</td>\n",
       "      <td>0</td>\n",
       "      <td>0</td>\n",
       "      <td>1</td>\n",
       "      <td>0</td>\n",
       "      <td>0</td>\n",
       "      <td>0</td>\n",
       "      <td>1</td>\n",
       "      <td>0</td>\n",
       "      <td>1</td>\n",
       "      <td>0</td>\n",
       "    </tr>\n",
       "    <tr>\n",
       "      <th>3</th>\n",
       "      <td>28</td>\n",
       "      <td>8</td>\n",
       "      <td>2</td>\n",
       "      <td>4</td>\n",
       "      <td>3</td>\n",
       "      <td>1</td>\n",
       "      <td>4</td>\n",
       "      <td>3310</td>\n",
       "      <td>1</td>\n",
       "      <td>21</td>\n",
       "      <td>...</td>\n",
       "      <td>0</td>\n",
       "      <td>0</td>\n",
       "      <td>1</td>\n",
       "      <td>0</td>\n",
       "      <td>0</td>\n",
       "      <td>0</td>\n",
       "      <td>0</td>\n",
       "      <td>1</td>\n",
       "      <td>1</td>\n",
       "      <td>0</td>\n",
       "    </tr>\n",
       "    <tr>\n",
       "      <th>4</th>\n",
       "      <td>35</td>\n",
       "      <td>4</td>\n",
       "      <td>2</td>\n",
       "      <td>3</td>\n",
       "      <td>3</td>\n",
       "      <td>1</td>\n",
       "      <td>4</td>\n",
       "      <td>1951</td>\n",
       "      <td>1</td>\n",
       "      <td>12</td>\n",
       "      <td>...</td>\n",
       "      <td>0</td>\n",
       "      <td>0</td>\n",
       "      <td>0</td>\n",
       "      <td>0</td>\n",
       "      <td>0</td>\n",
       "      <td>1</td>\n",
       "      <td>0</td>\n",
       "      <td>0</td>\n",
       "      <td>1</td>\n",
       "      <td>0</td>\n",
       "    </tr>\n",
       "  </tbody>\n",
       "</table>\n",
       "<p>5 rows × 47 columns</p>\n",
       "</div>"
      ],
      "text/plain": [
       "   Age  DistanceFromHome  Education  EnvironmentSatisfaction  JobInvolvement   \n",
       "0   30                 1          1                        4               2  \\\n",
       "1   38                 2          2                        4               2   \n",
       "2   26                 6          3                        3               2   \n",
       "3   28                 8          2                        4               3   \n",
       "4   35                 4          2                        3               3   \n",
       "\n",
       "   JobLevel  JobSatisfaction  MonthlyIncome  NumCompaniesWorked   \n",
       "0         2                4           5126                   1  \\\n",
       "1         3                3           7756                   3   \n",
       "2         1                2           2368                   1   \n",
       "3         1                4           3310                   1   \n",
       "4         1                4           1951                   1   \n",
       "\n",
       "   PercentSalaryHike  ...  JobRole_Manufacturing Director   \n",
       "0                 12  ...                               0  \\\n",
       "1                 19  ...                               1   \n",
       "2                 19  ...                               0   \n",
       "3                 21  ...                               0   \n",
       "4                 12  ...                               0   \n",
       "\n",
       "   JobRole_Research Director  JobRole_Research Scientist   \n",
       "0                          0                           0  \\\n",
       "1                          0                           0   \n",
       "2                          0                           1   \n",
       "3                          0                           1   \n",
       "4                          0                           0   \n",
       "\n",
       "   JobRole_Sales Executive  JobRole_Sales Representative   \n",
       "0                        0                             0  \\\n",
       "1                        0                             0   \n",
       "2                        0                             0   \n",
       "3                        0                             0   \n",
       "4                        0                             0   \n",
       "\n",
       "   MaritalStatus_Divorced  MaritalStatus_Married  MaritalStatus_Single   \n",
       "0                       0                      1                     0  \\\n",
       "1                       0                      1                     0   \n",
       "2                       0                      1                     0   \n",
       "3                       0                      0                     1   \n",
       "4                       1                      0                     0   \n",
       "\n",
       "   OverTime_No  OverTime_Yes  \n",
       "0            0             1  \n",
       "1            0             1  \n",
       "2            1             0  \n",
       "3            1             0  \n",
       "4            1             0  \n",
       "\n",
       "[5 rows x 47 columns]"
      ]
     },
     "execution_count": 97,
     "metadata": {},
     "output_type": "execute_result"
    }
   ],
   "source": [
    "ATTMod = pd.read_csv('Dane/ATTMod.csv')\n",
    "ATTMod.head()"
   ]
  },
  {
   "cell_type": "code",
   "execution_count": 98,
   "id": "7c12b37e",
   "metadata": {},
   "outputs": [],
   "source": [
    "train_data = ATTMod.drop('Attrition', axis=1)\n",
    "train_labels = ATTMod[['Attrition']]"
   ]
  },
  {
   "cell_type": "code",
   "execution_count": 99,
   "id": "ad7ec2de",
   "metadata": {},
   "outputs": [],
   "source": [
    "Xrf = train_data\n",
    "yrf = train_labels"
   ]
  },
  {
   "cell_type": "code",
   "execution_count": 100,
   "id": "5302efd8",
   "metadata": {},
   "outputs": [],
   "source": [
    "Xrf_train, Xrf_test, yrf_train, yrf_test = train_test_split(Xrf, yrf, test_size=0.2, stratify=yrf, random_state=42)"
   ]
  },
  {
   "cell_type": "code",
   "execution_count": 101,
   "id": "22f3655d",
   "metadata": {},
   "outputs": [
    {
     "data": {
      "text/html": [
       "<style>#sk-container-id-3 {color: black;background-color: white;}#sk-container-id-3 pre{padding: 0;}#sk-container-id-3 div.sk-toggleable {background-color: white;}#sk-container-id-3 label.sk-toggleable__label {cursor: pointer;display: block;width: 100%;margin-bottom: 0;padding: 0.3em;box-sizing: border-box;text-align: center;}#sk-container-id-3 label.sk-toggleable__label-arrow:before {content: \"▸\";float: left;margin-right: 0.25em;color: #696969;}#sk-container-id-3 label.sk-toggleable__label-arrow:hover:before {color: black;}#sk-container-id-3 div.sk-estimator:hover label.sk-toggleable__label-arrow:before {color: black;}#sk-container-id-3 div.sk-toggleable__content {max-height: 0;max-width: 0;overflow: hidden;text-align: left;background-color: #f0f8ff;}#sk-container-id-3 div.sk-toggleable__content pre {margin: 0.2em;color: black;border-radius: 0.25em;background-color: #f0f8ff;}#sk-container-id-3 input.sk-toggleable__control:checked~div.sk-toggleable__content {max-height: 200px;max-width: 100%;overflow: auto;}#sk-container-id-3 input.sk-toggleable__control:checked~label.sk-toggleable__label-arrow:before {content: \"▾\";}#sk-container-id-3 div.sk-estimator input.sk-toggleable__control:checked~label.sk-toggleable__label {background-color: #d4ebff;}#sk-container-id-3 div.sk-label input.sk-toggleable__control:checked~label.sk-toggleable__label {background-color: #d4ebff;}#sk-container-id-3 input.sk-hidden--visually {border: 0;clip: rect(1px 1px 1px 1px);clip: rect(1px, 1px, 1px, 1px);height: 1px;margin: -1px;overflow: hidden;padding: 0;position: absolute;width: 1px;}#sk-container-id-3 div.sk-estimator {font-family: monospace;background-color: #f0f8ff;border: 1px dotted black;border-radius: 0.25em;box-sizing: border-box;margin-bottom: 0.5em;}#sk-container-id-3 div.sk-estimator:hover {background-color: #d4ebff;}#sk-container-id-3 div.sk-parallel-item::after {content: \"\";width: 100%;border-bottom: 1px solid gray;flex-grow: 1;}#sk-container-id-3 div.sk-label:hover label.sk-toggleable__label {background-color: #d4ebff;}#sk-container-id-3 div.sk-serial::before {content: \"\";position: absolute;border-left: 1px solid gray;box-sizing: border-box;top: 0;bottom: 0;left: 50%;z-index: 0;}#sk-container-id-3 div.sk-serial {display: flex;flex-direction: column;align-items: center;background-color: white;padding-right: 0.2em;padding-left: 0.2em;position: relative;}#sk-container-id-3 div.sk-item {position: relative;z-index: 1;}#sk-container-id-3 div.sk-parallel {display: flex;align-items: stretch;justify-content: center;background-color: white;position: relative;}#sk-container-id-3 div.sk-item::before, #sk-container-id-3 div.sk-parallel-item::before {content: \"\";position: absolute;border-left: 1px solid gray;box-sizing: border-box;top: 0;bottom: 0;left: 50%;z-index: -1;}#sk-container-id-3 div.sk-parallel-item {display: flex;flex-direction: column;z-index: 1;position: relative;background-color: white;}#sk-container-id-3 div.sk-parallel-item:first-child::after {align-self: flex-end;width: 50%;}#sk-container-id-3 div.sk-parallel-item:last-child::after {align-self: flex-start;width: 50%;}#sk-container-id-3 div.sk-parallel-item:only-child::after {width: 0;}#sk-container-id-3 div.sk-dashed-wrapped {border: 1px dashed gray;margin: 0 0.4em 0.5em 0.4em;box-sizing: border-box;padding-bottom: 0.4em;background-color: white;}#sk-container-id-3 div.sk-label label {font-family: monospace;font-weight: bold;display: inline-block;line-height: 1.2em;}#sk-container-id-3 div.sk-label-container {text-align: center;}#sk-container-id-3 div.sk-container {/* jupyter's `normalize.less` sets `[hidden] { display: none; }` but bootstrap.min.css set `[hidden] { display: none !important; }` so we also need the `!important` here to be able to override the default hidden behavior on the sphinx rendered scikit-learn.org. See: https://github.com/scikit-learn/scikit-learn/issues/21755 */display: inline-block !important;position: relative;}#sk-container-id-3 div.sk-text-repr-fallback {display: none;}</style><div id=\"sk-container-id-3\" class=\"sk-top-container\"><div class=\"sk-text-repr-fallback\"><pre>RandomForestClassifier(max_depth=2, random_state=0)</pre><b>In a Jupyter environment, please rerun this cell to show the HTML representation or trust the notebook. <br />On GitHub, the HTML representation is unable to render, please try loading this page with nbviewer.org.</b></div><div class=\"sk-container\" hidden><div class=\"sk-item\"><div class=\"sk-estimator sk-toggleable\"><input class=\"sk-toggleable__control sk-hidden--visually\" id=\"sk-estimator-id-5\" type=\"checkbox\" checked><label for=\"sk-estimator-id-5\" class=\"sk-toggleable__label sk-toggleable__label-arrow\">RandomForestClassifier</label><div class=\"sk-toggleable__content\"><pre>RandomForestClassifier(max_depth=2, random_state=0)</pre></div></div></div></div></div>"
      ],
      "text/plain": [
       "RandomForestClassifier(max_depth=2, random_state=0)"
      ]
     },
     "execution_count": 101,
     "metadata": {},
     "output_type": "execute_result"
    }
   ],
   "source": [
    "Xrf_train, yrf_train = make_classification(n_samples=1000, n_features=46, n_informative=46, n_redundant=0, random_state=None, shuffle=True)\n",
    "\n",
    "# n_samples - liczba próbek\n",
    "# n_features - liczba cech\n",
    "# n_informative - liczba informacyjnych cech\n",
    "# n_redundant - liczba zbędnnych cech\n",
    "# random_state - losowość jest kontrolowana przez systemowy generator liczb losowych\n",
    "# shuffle - parametr, który określa czy dane treningowe powinny być tasowane przed podziałem na drzewa decyzyjne\n",
    "\n",
    "\n",
    "clf2 = RandomForestClassifier(max_depth=2, random_state=0)\n",
    "clf2.fit(Xrf_train, yrf_train)"
   ]
  },
  {
   "cell_type": "code",
   "execution_count": 102,
   "id": "ab3c1089",
   "metadata": {},
   "outputs": [
    {
     "name": "stderr",
     "output_type": "stream",
     "text": [
      "C:\\Users\\Kamil - IT\\AppData\\Local\\Programs\\Python\\Python311\\Lib\\site-packages\\sklearn\\base.py:432: UserWarning: X has feature names, but RandomForestClassifier was fitted without feature names\n",
      "  warnings.warn(\n"
     ]
    },
    {
     "data": {
      "text/plain": [
       "array([0, 0, 0, 0, 0, 0, 1, 0, 0, 0, 0, 0, 0, 0, 0, 0, 0, 0, 0, 0, 0, 0,\n",
       "       0, 0, 1, 0, 0, 0, 0, 0, 0, 0, 1, 0, 0, 0, 0, 0, 1, 0, 0, 0, 0, 0,\n",
       "       0, 0, 0, 0, 0, 0, 0, 0, 0, 0, 0, 0, 0, 0, 0, 0, 0, 0, 1, 0, 0, 0,\n",
       "       0, 1, 0, 0, 0, 0, 0, 0, 0, 1, 1, 0, 0, 0, 0, 0, 0, 0, 0, 0, 0, 0,\n",
       "       0, 0, 0, 0, 0, 0, 0, 1, 1, 0, 0, 0, 0, 0, 0, 0, 0, 0, 0, 0, 0, 1,\n",
       "       0, 1, 0, 0, 1, 0, 0, 0, 0, 1, 0, 0, 0, 0, 0, 0, 0, 0, 0, 0, 0, 0,\n",
       "       0, 1, 1, 0, 0, 0, 0, 0, 0, 0, 0, 0, 0, 0, 0, 0, 0, 0, 1, 0, 0, 0,\n",
       "       0, 0, 0, 0, 1, 0, 0, 0, 0, 0, 0, 1, 0, 1, 0, 0, 0, 0, 0, 0, 1, 1,\n",
       "       0, 0, 0, 0, 1, 0, 0, 0, 0, 0, 0, 0, 0, 0, 0, 0, 0, 0, 0, 0, 0, 0,\n",
       "       0, 0, 0, 0, 0, 0, 0, 0, 0, 0, 0, 0, 0, 0, 0, 0, 0, 0, 0, 0, 0, 0,\n",
       "       0, 0, 0, 0, 0, 0, 0, 0, 0, 1, 1, 0, 0, 0, 0, 0, 0, 0, 0, 0, 0, 0,\n",
       "       0, 0, 0, 0, 0, 0, 0, 0, 0, 0, 1, 0, 0, 0, 0, 0, 0, 0, 0, 0, 0, 0,\n",
       "       0, 0, 1, 0, 0, 0, 1, 0, 0, 0, 0, 0, 1, 0, 0, 0, 0, 0, 0, 0, 0, 0,\n",
       "       0, 0, 0, 0, 0, 0, 0, 0, 0, 0, 0, 0, 0, 0, 0, 0, 0, 0, 0, 0, 0, 0,\n",
       "       0, 0, 0, 0, 0, 0, 0, 0, 0, 0, 0, 0, 0, 0, 0, 0, 0, 0, 0, 0, 0, 0,\n",
       "       0, 0, 0, 0, 0, 0, 0, 0, 0, 0, 0, 0, 0, 0, 0, 0, 0, 0, 0, 0, 0, 0,\n",
       "       0, 0, 0, 0, 0, 1, 0, 0, 0, 0, 0, 0, 0, 0, 0, 0, 0, 0, 0, 0, 0, 0,\n",
       "       0, 0, 1, 0, 0, 0, 0, 0, 0, 0, 0, 0, 0, 0, 0, 0, 0, 0, 0, 0, 0, 0,\n",
       "       0, 0, 0, 0, 0, 0, 0, 0, 0, 0, 0, 0, 0, 0, 0, 0, 0, 0, 0, 0, 0, 0,\n",
       "       0, 0, 0, 0, 0, 0, 0, 0, 0, 0, 0, 0, 0, 0, 0, 0, 0, 0, 0, 0, 0, 0,\n",
       "       0, 1, 0, 0, 0, 0, 0, 0, 0, 0, 0, 0, 0, 0, 0, 0, 0, 0, 0, 0, 1, 0,\n",
       "       0, 0, 0, 0, 0, 0, 0, 0, 0, 0, 1, 0, 1, 0, 0, 0, 0, 0, 0, 0, 0, 0,\n",
       "       0, 0, 0, 0, 0, 0, 0, 0, 0, 0, 0, 0, 0, 0, 0, 0, 0, 0, 0, 0, 0, 0,\n",
       "       0, 0, 0, 0, 0, 0, 0, 0, 0, 0, 0, 0, 0, 0, 0, 0, 0, 0, 0, 0, 0, 0,\n",
       "       0, 0, 0, 0, 1, 0, 0, 0, 0, 0, 0, 0, 0, 0, 1, 0, 0, 0, 0, 0, 0, 0,\n",
       "       0, 0, 0, 0, 0, 0, 0, 0, 0, 0, 0, 0, 0, 0, 0, 0, 0, 0, 0, 0, 0, 0,\n",
       "       0, 0, 1, 0, 0, 0, 0, 0, 0, 0, 0, 0, 0, 0, 0, 0, 0, 0, 1, 0, 0, 0,\n",
       "       0, 0, 0, 1, 0, 0])"
      ]
     },
     "execution_count": 102,
     "metadata": {},
     "output_type": "execute_result"
    }
   ],
   "source": [
    "pred_rf = clf2.predict(Xrf_test)\n",
    "pred_rf"
   ]
  },
  {
   "cell_type": "code",
   "execution_count": 103,
   "id": "7dd2504c",
   "metadata": {},
   "outputs": [
    {
     "name": "stdout",
     "output_type": "stream",
     "text": [
      "Results for Random Forest\n",
      "----\n",
      "  Accuracy:  0.535\n",
      "  Precision: 0.5303571428571429\n",
      "  Recall:    0.5075859837793818\n",
      "  F1 score:  0.40671748907530864\n",
      "  Mislabeled 170120 out of 600\n",
      "\n",
      "\n"
     ]
    }
   ],
   "source": [
    "RFMetrics1 = calculate_metrics(yrf_test.values, pred_rf)\n",
    "RFMetrics = print_results(calculate_metrics(yrf_test.values, pred_rf), 'Random Forest')\n",
    "RFMetrics"
   ]
  },
  {
   "cell_type": "code",
   "execution_count": 104,
   "id": "2afb2440",
   "metadata": {},
   "outputs": [
    {
     "name": "stdout",
     "output_type": "stream",
     "text": [
      "[0]\n"
     ]
    }
   ],
   "source": [
    "print (clf1.predict([[45, 23, 2, 2, 3, 3, 4, 2344, 2, 2, 3, 2, 24, 1, 2, 10, 5, 2, 0, 0, 1, 1, 0, 0, 0, 0, 1, 1, 0, 0, 1, 0, 1, 0, 0, 0, 0, 1, 0, 0, 0, 0, 0, 1, 1, 0]]))"
   ]
  },
  {
   "cell_type": "markdown",
   "id": "7eb9ac5a",
   "metadata": {},
   "source": []
  },
  {
   "cell_type": "markdown",
   "id": "f2115026",
   "metadata": {},
   "source": [
    "                                                    Boosting"
   ]
  },
  {
   "cell_type": "markdown",
   "id": "0073f338",
   "metadata": {},
   "source": []
  },
  {
   "cell_type": "code",
   "execution_count": 105,
   "id": "0eb5362c",
   "metadata": {},
   "outputs": [],
   "source": [
    "from sklearn.ensemble import GradientBoostingClassifier"
   ]
  },
  {
   "cell_type": "code",
   "execution_count": 106,
   "id": "a3d925a9",
   "metadata": {},
   "outputs": [
    {
     "data": {
      "text/html": [
       "<div>\n",
       "<style scoped>\n",
       "    .dataframe tbody tr th:only-of-type {\n",
       "        vertical-align: middle;\n",
       "    }\n",
       "\n",
       "    .dataframe tbody tr th {\n",
       "        vertical-align: top;\n",
       "    }\n",
       "\n",
       "    .dataframe thead th {\n",
       "        text-align: right;\n",
       "    }\n",
       "</style>\n",
       "<table border=\"1\" class=\"dataframe\">\n",
       "  <thead>\n",
       "    <tr style=\"text-align: right;\">\n",
       "      <th></th>\n",
       "      <th>Age</th>\n",
       "      <th>DistanceFromHome</th>\n",
       "      <th>Education</th>\n",
       "      <th>EnvironmentSatisfaction</th>\n",
       "      <th>JobInvolvement</th>\n",
       "      <th>JobLevel</th>\n",
       "      <th>JobSatisfaction</th>\n",
       "      <th>MonthlyIncome</th>\n",
       "      <th>NumCompaniesWorked</th>\n",
       "      <th>PercentSalaryHike</th>\n",
       "      <th>...</th>\n",
       "      <th>JobRole_Manufacturing Director</th>\n",
       "      <th>JobRole_Research Director</th>\n",
       "      <th>JobRole_Research Scientist</th>\n",
       "      <th>JobRole_Sales Executive</th>\n",
       "      <th>JobRole_Sales Representative</th>\n",
       "      <th>MaritalStatus_Divorced</th>\n",
       "      <th>MaritalStatus_Married</th>\n",
       "      <th>MaritalStatus_Single</th>\n",
       "      <th>OverTime_No</th>\n",
       "      <th>OverTime_Yes</th>\n",
       "    </tr>\n",
       "  </thead>\n",
       "  <tbody>\n",
       "    <tr>\n",
       "      <th>0</th>\n",
       "      <td>30</td>\n",
       "      <td>1</td>\n",
       "      <td>1</td>\n",
       "      <td>4</td>\n",
       "      <td>2</td>\n",
       "      <td>2</td>\n",
       "      <td>4</td>\n",
       "      <td>5126</td>\n",
       "      <td>1</td>\n",
       "      <td>12</td>\n",
       "      <td>...</td>\n",
       "      <td>0</td>\n",
       "      <td>0</td>\n",
       "      <td>0</td>\n",
       "      <td>0</td>\n",
       "      <td>0</td>\n",
       "      <td>0</td>\n",
       "      <td>1</td>\n",
       "      <td>0</td>\n",
       "      <td>0</td>\n",
       "      <td>1</td>\n",
       "    </tr>\n",
       "    <tr>\n",
       "      <th>1</th>\n",
       "      <td>38</td>\n",
       "      <td>2</td>\n",
       "      <td>2</td>\n",
       "      <td>4</td>\n",
       "      <td>2</td>\n",
       "      <td>3</td>\n",
       "      <td>3</td>\n",
       "      <td>7756</td>\n",
       "      <td>3</td>\n",
       "      <td>19</td>\n",
       "      <td>...</td>\n",
       "      <td>1</td>\n",
       "      <td>0</td>\n",
       "      <td>0</td>\n",
       "      <td>0</td>\n",
       "      <td>0</td>\n",
       "      <td>0</td>\n",
       "      <td>1</td>\n",
       "      <td>0</td>\n",
       "      <td>0</td>\n",
       "      <td>1</td>\n",
       "    </tr>\n",
       "    <tr>\n",
       "      <th>2</th>\n",
       "      <td>26</td>\n",
       "      <td>6</td>\n",
       "      <td>3</td>\n",
       "      <td>3</td>\n",
       "      <td>2</td>\n",
       "      <td>1</td>\n",
       "      <td>2</td>\n",
       "      <td>2368</td>\n",
       "      <td>1</td>\n",
       "      <td>19</td>\n",
       "      <td>...</td>\n",
       "      <td>0</td>\n",
       "      <td>0</td>\n",
       "      <td>1</td>\n",
       "      <td>0</td>\n",
       "      <td>0</td>\n",
       "      <td>0</td>\n",
       "      <td>1</td>\n",
       "      <td>0</td>\n",
       "      <td>1</td>\n",
       "      <td>0</td>\n",
       "    </tr>\n",
       "    <tr>\n",
       "      <th>3</th>\n",
       "      <td>28</td>\n",
       "      <td>8</td>\n",
       "      <td>2</td>\n",
       "      <td>4</td>\n",
       "      <td>3</td>\n",
       "      <td>1</td>\n",
       "      <td>4</td>\n",
       "      <td>3310</td>\n",
       "      <td>1</td>\n",
       "      <td>21</td>\n",
       "      <td>...</td>\n",
       "      <td>0</td>\n",
       "      <td>0</td>\n",
       "      <td>1</td>\n",
       "      <td>0</td>\n",
       "      <td>0</td>\n",
       "      <td>0</td>\n",
       "      <td>0</td>\n",
       "      <td>1</td>\n",
       "      <td>1</td>\n",
       "      <td>0</td>\n",
       "    </tr>\n",
       "    <tr>\n",
       "      <th>4</th>\n",
       "      <td>35</td>\n",
       "      <td>4</td>\n",
       "      <td>2</td>\n",
       "      <td>3</td>\n",
       "      <td>3</td>\n",
       "      <td>1</td>\n",
       "      <td>4</td>\n",
       "      <td>1951</td>\n",
       "      <td>1</td>\n",
       "      <td>12</td>\n",
       "      <td>...</td>\n",
       "      <td>0</td>\n",
       "      <td>0</td>\n",
       "      <td>0</td>\n",
       "      <td>0</td>\n",
       "      <td>0</td>\n",
       "      <td>1</td>\n",
       "      <td>0</td>\n",
       "      <td>0</td>\n",
       "      <td>1</td>\n",
       "      <td>0</td>\n",
       "    </tr>\n",
       "  </tbody>\n",
       "</table>\n",
       "<p>5 rows × 47 columns</p>\n",
       "</div>"
      ],
      "text/plain": [
       "   Age  DistanceFromHome  Education  EnvironmentSatisfaction  JobInvolvement   \n",
       "0   30                 1          1                        4               2  \\\n",
       "1   38                 2          2                        4               2   \n",
       "2   26                 6          3                        3               2   \n",
       "3   28                 8          2                        4               3   \n",
       "4   35                 4          2                        3               3   \n",
       "\n",
       "   JobLevel  JobSatisfaction  MonthlyIncome  NumCompaniesWorked   \n",
       "0         2                4           5126                   1  \\\n",
       "1         3                3           7756                   3   \n",
       "2         1                2           2368                   1   \n",
       "3         1                4           3310                   1   \n",
       "4         1                4           1951                   1   \n",
       "\n",
       "   PercentSalaryHike  ...  JobRole_Manufacturing Director   \n",
       "0                 12  ...                               0  \\\n",
       "1                 19  ...                               1   \n",
       "2                 19  ...                               0   \n",
       "3                 21  ...                               0   \n",
       "4                 12  ...                               0   \n",
       "\n",
       "   JobRole_Research Director  JobRole_Research Scientist   \n",
       "0                          0                           0  \\\n",
       "1                          0                           0   \n",
       "2                          0                           1   \n",
       "3                          0                           1   \n",
       "4                          0                           0   \n",
       "\n",
       "   JobRole_Sales Executive  JobRole_Sales Representative   \n",
       "0                        0                             0  \\\n",
       "1                        0                             0   \n",
       "2                        0                             0   \n",
       "3                        0                             0   \n",
       "4                        0                             0   \n",
       "\n",
       "   MaritalStatus_Divorced  MaritalStatus_Married  MaritalStatus_Single   \n",
       "0                       0                      1                     0  \\\n",
       "1                       0                      1                     0   \n",
       "2                       0                      1                     0   \n",
       "3                       0                      0                     1   \n",
       "4                       1                      0                     0   \n",
       "\n",
       "   OverTime_No  OverTime_Yes  \n",
       "0            0             1  \n",
       "1            0             1  \n",
       "2            1             0  \n",
       "3            1             0  \n",
       "4            1             0  \n",
       "\n",
       "[5 rows x 47 columns]"
      ]
     },
     "execution_count": 106,
     "metadata": {},
     "output_type": "execute_result"
    }
   ],
   "source": [
    "ATTMod = pd.read_csv('Dane/ATTMod.csv')\n",
    "ATTMod.head()"
   ]
  },
  {
   "cell_type": "code",
   "execution_count": 107,
   "id": "3cd924d4",
   "metadata": {},
   "outputs": [],
   "source": [
    "train_data = ATTMod.drop('Attrition', axis=1)\n",
    "train_labels = ATTMod[['Attrition']]"
   ]
  },
  {
   "cell_type": "code",
   "execution_count": 108,
   "id": "2a454dd7",
   "metadata": {},
   "outputs": [],
   "source": [
    "Xboo = train_data\n",
    "yboo = train_labels"
   ]
  },
  {
   "cell_type": "code",
   "execution_count": 109,
   "id": "40fe1576",
   "metadata": {},
   "outputs": [],
   "source": [
    "Xboo_train, Xboo_test, yboo_train, yboo_test = train_test_split(Xboo, yboo, test_size=0.2, stratify=yboo, random_state=42)"
   ]
  },
  {
   "cell_type": "code",
   "execution_count": 110,
   "id": "0075b8c7",
   "metadata": {},
   "outputs": [],
   "source": [
    "gb_clf = GradientBoostingClassifier(n_estimators=100, learning_rate=1.0, max_depth=1, random_state=0)"
   ]
  },
  {
   "cell_type": "code",
   "execution_count": 111,
   "id": "85a04f09",
   "metadata": {},
   "outputs": [
    {
     "name": "stderr",
     "output_type": "stream",
     "text": [
      "C:\\Users\\Kamil - IT\\AppData\\Local\\Programs\\Python\\Python311\\Lib\\site-packages\\sklearn\\ensemble\\_gb.py:437: DataConversionWarning: A column-vector y was passed when a 1d array was expected. Please change the shape of y to (n_samples, ), for example using ravel().\n",
      "  y = column_or_1d(y, warn=True)\n"
     ]
    },
    {
     "data": {
      "text/html": [
       "<style>#sk-container-id-4 {color: black;background-color: white;}#sk-container-id-4 pre{padding: 0;}#sk-container-id-4 div.sk-toggleable {background-color: white;}#sk-container-id-4 label.sk-toggleable__label {cursor: pointer;display: block;width: 100%;margin-bottom: 0;padding: 0.3em;box-sizing: border-box;text-align: center;}#sk-container-id-4 label.sk-toggleable__label-arrow:before {content: \"▸\";float: left;margin-right: 0.25em;color: #696969;}#sk-container-id-4 label.sk-toggleable__label-arrow:hover:before {color: black;}#sk-container-id-4 div.sk-estimator:hover label.sk-toggleable__label-arrow:before {color: black;}#sk-container-id-4 div.sk-toggleable__content {max-height: 0;max-width: 0;overflow: hidden;text-align: left;background-color: #f0f8ff;}#sk-container-id-4 div.sk-toggleable__content pre {margin: 0.2em;color: black;border-radius: 0.25em;background-color: #f0f8ff;}#sk-container-id-4 input.sk-toggleable__control:checked~div.sk-toggleable__content {max-height: 200px;max-width: 100%;overflow: auto;}#sk-container-id-4 input.sk-toggleable__control:checked~label.sk-toggleable__label-arrow:before {content: \"▾\";}#sk-container-id-4 div.sk-estimator input.sk-toggleable__control:checked~label.sk-toggleable__label {background-color: #d4ebff;}#sk-container-id-4 div.sk-label input.sk-toggleable__control:checked~label.sk-toggleable__label {background-color: #d4ebff;}#sk-container-id-4 input.sk-hidden--visually {border: 0;clip: rect(1px 1px 1px 1px);clip: rect(1px, 1px, 1px, 1px);height: 1px;margin: -1px;overflow: hidden;padding: 0;position: absolute;width: 1px;}#sk-container-id-4 div.sk-estimator {font-family: monospace;background-color: #f0f8ff;border: 1px dotted black;border-radius: 0.25em;box-sizing: border-box;margin-bottom: 0.5em;}#sk-container-id-4 div.sk-estimator:hover {background-color: #d4ebff;}#sk-container-id-4 div.sk-parallel-item::after {content: \"\";width: 100%;border-bottom: 1px solid gray;flex-grow: 1;}#sk-container-id-4 div.sk-label:hover label.sk-toggleable__label {background-color: #d4ebff;}#sk-container-id-4 div.sk-serial::before {content: \"\";position: absolute;border-left: 1px solid gray;box-sizing: border-box;top: 0;bottom: 0;left: 50%;z-index: 0;}#sk-container-id-4 div.sk-serial {display: flex;flex-direction: column;align-items: center;background-color: white;padding-right: 0.2em;padding-left: 0.2em;position: relative;}#sk-container-id-4 div.sk-item {position: relative;z-index: 1;}#sk-container-id-4 div.sk-parallel {display: flex;align-items: stretch;justify-content: center;background-color: white;position: relative;}#sk-container-id-4 div.sk-item::before, #sk-container-id-4 div.sk-parallel-item::before {content: \"\";position: absolute;border-left: 1px solid gray;box-sizing: border-box;top: 0;bottom: 0;left: 50%;z-index: -1;}#sk-container-id-4 div.sk-parallel-item {display: flex;flex-direction: column;z-index: 1;position: relative;background-color: white;}#sk-container-id-4 div.sk-parallel-item:first-child::after {align-self: flex-end;width: 50%;}#sk-container-id-4 div.sk-parallel-item:last-child::after {align-self: flex-start;width: 50%;}#sk-container-id-4 div.sk-parallel-item:only-child::after {width: 0;}#sk-container-id-4 div.sk-dashed-wrapped {border: 1px dashed gray;margin: 0 0.4em 0.5em 0.4em;box-sizing: border-box;padding-bottom: 0.4em;background-color: white;}#sk-container-id-4 div.sk-label label {font-family: monospace;font-weight: bold;display: inline-block;line-height: 1.2em;}#sk-container-id-4 div.sk-label-container {text-align: center;}#sk-container-id-4 div.sk-container {/* jupyter's `normalize.less` sets `[hidden] { display: none; }` but bootstrap.min.css set `[hidden] { display: none !important; }` so we also need the `!important` here to be able to override the default hidden behavior on the sphinx rendered scikit-learn.org. See: https://github.com/scikit-learn/scikit-learn/issues/21755 */display: inline-block !important;position: relative;}#sk-container-id-4 div.sk-text-repr-fallback {display: none;}</style><div id=\"sk-container-id-4\" class=\"sk-top-container\"><div class=\"sk-text-repr-fallback\"><pre>GradientBoostingClassifier(learning_rate=1.0, max_depth=1, random_state=0)</pre><b>In a Jupyter environment, please rerun this cell to show the HTML representation or trust the notebook. <br />On GitHub, the HTML representation is unable to render, please try loading this page with nbviewer.org.</b></div><div class=\"sk-container\" hidden><div class=\"sk-item\"><div class=\"sk-estimator sk-toggleable\"><input class=\"sk-toggleable__control sk-hidden--visually\" id=\"sk-estimator-id-6\" type=\"checkbox\" checked><label for=\"sk-estimator-id-6\" class=\"sk-toggleable__label sk-toggleable__label-arrow\">GradientBoostingClassifier</label><div class=\"sk-toggleable__content\"><pre>GradientBoostingClassifier(learning_rate=1.0, max_depth=1, random_state=0)</pre></div></div></div></div></div>"
      ],
      "text/plain": [
       "GradientBoostingClassifier(learning_rate=1.0, max_depth=1, random_state=0)"
      ]
     },
     "execution_count": 111,
     "metadata": {},
     "output_type": "execute_result"
    }
   ],
   "source": [
    "gb_clf.fit(Xboo_train, yboo_train)"
   ]
  },
  {
   "cell_type": "code",
   "execution_count": 112,
   "id": "ed8ca122",
   "metadata": {},
   "outputs": [
    {
     "data": {
      "text/plain": [
       "array([0, 0, 0, 1, 0, 0, 0, 1, 0, 1, 1, 1, 1, 0, 1, 0, 0, 0, 1, 0, 1, 0,\n",
       "       1, 0, 1, 0, 1, 0, 0, 0, 1, 1, 0, 0, 0, 1, 0, 1, 1, 1, 1, 0, 1, 1,\n",
       "       1, 1, 1, 0, 0, 0, 1, 1, 0, 1, 1, 1, 0, 1, 1, 0, 0, 0, 0, 1, 0, 0,\n",
       "       1, 0, 0, 0, 0, 1, 0, 1, 1, 0, 0, 0, 0, 0, 0, 0, 0, 1, 0, 0, 0, 0,\n",
       "       1, 1, 0, 1, 1, 0, 1, 1, 1, 0, 1, 0, 0, 0, 0, 0, 0, 0, 0, 0, 0, 0,\n",
       "       1, 0, 0, 1, 1, 0, 1, 0, 0, 0, 0, 0, 1, 1, 0, 1, 0, 1, 1, 0, 0, 0,\n",
       "       0, 0, 0, 1, 1, 0, 0, 1, 0, 1, 0, 1, 1, 0, 1, 1, 0, 1, 1, 0, 0, 0,\n",
       "       0, 0, 1, 0, 1, 0, 0, 0, 0, 0, 1, 1, 0, 1, 0, 1, 0, 0, 0, 0, 1, 0,\n",
       "       1, 0, 1, 1, 0, 1, 0, 1, 0, 0, 1, 1, 0, 1, 0, 0, 0, 0, 1, 0, 0, 1,\n",
       "       0, 1, 0, 0, 0, 0, 0, 0, 0, 0, 1, 0, 1, 0, 1, 1, 1, 1, 1, 0, 0, 0,\n",
       "       0, 0, 0, 0, 0, 0, 1, 0, 0, 0, 1, 0, 0, 0, 0, 0, 0, 0, 0, 1, 1, 1,\n",
       "       0, 0, 1, 1, 1, 1, 1, 0, 0, 1, 0, 0, 1, 0, 0, 0, 1, 1, 0, 0, 0, 0,\n",
       "       0, 1, 0, 1, 0, 1, 1, 0, 0, 0, 0, 0, 0, 1, 0, 1, 0, 0, 0, 0, 0, 1,\n",
       "       1, 0, 0, 1, 0, 0, 0, 0, 0, 0, 1, 0, 1, 0, 1, 1, 0, 1, 0, 1, 1, 0,\n",
       "       1, 1, 0, 0, 0, 0, 0, 1, 1, 1, 0, 0, 1, 1, 1, 0, 0, 0, 0, 0, 0, 0,\n",
       "       0, 0, 0, 1, 1, 0, 1, 1, 1, 0, 0, 0, 1, 1, 0, 1, 1, 0, 0, 0, 1, 0,\n",
       "       0, 1, 0, 1, 0, 1, 0, 0, 0, 1, 0, 1, 0, 0, 0, 0, 0, 1, 1, 0, 1, 1,\n",
       "       1, 0, 1, 0, 0, 0, 0, 0, 1, 0, 0, 0, 0, 1, 0, 0, 0, 1, 0, 1, 1, 0,\n",
       "       0, 0, 0, 1, 0, 0, 1, 1, 1, 1, 0, 1, 0, 0, 0, 1, 1, 1, 0, 1, 0, 1,\n",
       "       1, 0, 1, 0, 0, 1, 1, 0, 0, 1, 1, 0, 1, 0, 1, 0, 1, 1, 1, 1, 0, 0,\n",
       "       1, 0, 1, 0, 0, 1, 0, 1, 1, 0, 1, 0, 0, 1, 1, 0, 1, 0, 0, 0, 1, 0,\n",
       "       1, 1, 1, 0, 1, 0, 1, 1, 0, 1, 0, 0, 0, 1, 1, 0, 0, 0, 0, 1, 1, 0,\n",
       "       0, 1, 0, 0, 1, 0, 1, 1, 0, 0, 0, 0, 0, 0, 1, 0, 0, 1, 1, 0, 0, 1,\n",
       "       0, 0, 0, 1, 1, 0, 0, 1, 0, 0, 0, 0, 1, 1, 0, 0, 1, 1, 0, 1, 1, 1,\n",
       "       1, 1, 1, 0, 0, 1, 0, 0, 0, 0, 0, 1, 0, 1, 1, 0, 0, 1, 0, 0, 1, 0,\n",
       "       0, 0, 0, 1, 0, 0, 1, 0, 1, 0, 0, 0, 0, 0, 1, 1, 1, 0, 0, 0, 0, 0,\n",
       "       0, 0, 0, 0, 1, 1, 0, 0, 1, 0, 0, 0, 0, 1, 0, 0, 0, 0, 0, 0, 1, 0,\n",
       "       0, 0, 1, 0, 1, 0], dtype=int64)"
      ]
     },
     "execution_count": 112,
     "metadata": {},
     "output_type": "execute_result"
    }
   ],
   "source": [
    "pred_boo = gb_clf.predict(Xboo_test)\n",
    "pred_boo"
   ]
  },
  {
   "cell_type": "code",
   "execution_count": 113,
   "id": "647ff817",
   "metadata": {},
   "outputs": [
    {
     "name": "stdout",
     "output_type": "stream",
     "text": [
      "Results for Boosting\n",
      "----\n",
      "  Accuracy:  0.5433333333333333\n",
      "  Precision: 0.5383757017819158\n",
      "  Recall:    0.5368310668347482\n",
      "  F1 score:  0.5346414701253411\n",
      "  Mislabeled 177606 out of 600\n",
      "\n",
      "\n"
     ]
    }
   ],
   "source": [
    "BooMetrics1 = calculate_metrics(yboo_test.values, pred_boo)\n",
    "BooMetrics = print_results(calculate_metrics(yboo_test.values, pred_boo), 'Boosting')\n",
    "BooMetrics"
   ]
  },
  {
   "cell_type": "code",
   "execution_count": 114,
   "id": "f32af9fd",
   "metadata": {},
   "outputs": [
    {
     "name": "stdout",
     "output_type": "stream",
     "text": [
      "[0]\n"
     ]
    },
    {
     "name": "stderr",
     "output_type": "stream",
     "text": [
      "C:\\Users\\Kamil - IT\\AppData\\Local\\Programs\\Python\\Python311\\Lib\\site-packages\\sklearn\\base.py:439: UserWarning: X does not have valid feature names, but GradientBoostingClassifier was fitted with feature names\n",
      "  warnings.warn(\n"
     ]
    }
   ],
   "source": [
    "print (gb_clf.predict([[45, 23, 2, 2, 3, 3, 4, 2344, 2, 2, 3, 2, 24, 1, 2, 10, 5, 2, 0, 0, 1, 1, 0, 0, 0, 0, 1, 1, 0, 0, 1, 0, 1, 0, 0, 0, 0, 1, 0, 0, 0, 0, 0, 1, 1, 0]]))"
   ]
  },
  {
   "cell_type": "markdown",
   "id": "8b03a022",
   "metadata": {},
   "source": []
  },
  {
   "cell_type": "markdown",
   "id": "1a93fa08",
   "metadata": {},
   "source": [
    "  Dotychczas pracowaliśmy z modelami z kręgu tzw. uczenia płytkiego, z których najlepsze wyniki osiągnęło Drzewo Decyzyjne. W następnych krokach wykorzystamy modele należące do grupy tzw. uczenia głębokiego (sieci neuronowe z wieloma warstwami), tj. sieci neuronowe gęsto połączone, rekurencyjne i konwolucyjne. "
   ]
  },
  {
   "cell_type": "markdown",
   "id": "59459977",
   "metadata": {},
   "source": []
  },
  {
   "cell_type": "markdown",
   "id": "a1633f1d",
   "metadata": {},
   "source": [
    "                                       Sieć neuronowa gęsto połączona"
   ]
  },
  {
   "cell_type": "markdown",
   "id": "d2203602",
   "metadata": {},
   "source": []
  },
  {
   "cell_type": "markdown",
   "id": "01951d7e",
   "metadata": {},
   "source": [
    "  To rodzaj sieci neuronowej, w której każdy neuron w warstwie wejściowej jest połączony z każdym neuronem w warstwie wyjściowej. Te modele są zwykle stosunkowo proste i łatwe do zrozumienia, ale mogą mieć ograniczoną zdolnośc do generalizacji. "
   ]
  },
  {
   "cell_type": "code",
   "execution_count": 115,
   "id": "f4743fe4",
   "metadata": {},
   "outputs": [],
   "source": [
    "from keras.models import Sequential\n",
    "from keras.layers import Dense"
   ]
  },
  {
   "cell_type": "code",
   "execution_count": 116,
   "id": "34291e83",
   "metadata": {},
   "outputs": [],
   "source": [
    "model = Sequential()\n",
    "model.add(Dense(12, input_dim=46, activation='relu'))\n",
    "model.add(Dense(8, activation='relu'))\n",
    "model.add(Dense(1, activation='sigmoid'))"
   ]
  },
  {
   "cell_type": "code",
   "execution_count": 117,
   "id": "3189da32",
   "metadata": {},
   "outputs": [],
   "source": [
    "model.compile(loss='binary_crossentropy', optimizer='adam', metrics=['accuracy'])"
   ]
  },
  {
   "cell_type": "code",
   "execution_count": 118,
   "id": "d1d0e193",
   "metadata": {},
   "outputs": [
    {
     "data": {
      "text/html": [
       "<div>\n",
       "<style scoped>\n",
       "    .dataframe tbody tr th:only-of-type {\n",
       "        vertical-align: middle;\n",
       "    }\n",
       "\n",
       "    .dataframe tbody tr th {\n",
       "        vertical-align: top;\n",
       "    }\n",
       "\n",
       "    .dataframe thead th {\n",
       "        text-align: right;\n",
       "    }\n",
       "</style>\n",
       "<table border=\"1\" class=\"dataframe\">\n",
       "  <thead>\n",
       "    <tr style=\"text-align: right;\">\n",
       "      <th></th>\n",
       "      <th>Age</th>\n",
       "      <th>DistanceFromHome</th>\n",
       "      <th>Education</th>\n",
       "      <th>EnvironmentSatisfaction</th>\n",
       "      <th>JobInvolvement</th>\n",
       "      <th>JobLevel</th>\n",
       "      <th>JobSatisfaction</th>\n",
       "      <th>MonthlyIncome</th>\n",
       "      <th>NumCompaniesWorked</th>\n",
       "      <th>PercentSalaryHike</th>\n",
       "      <th>...</th>\n",
       "      <th>JobRole_Manufacturing Director</th>\n",
       "      <th>JobRole_Research Director</th>\n",
       "      <th>JobRole_Research Scientist</th>\n",
       "      <th>JobRole_Sales Executive</th>\n",
       "      <th>JobRole_Sales Representative</th>\n",
       "      <th>MaritalStatus_Divorced</th>\n",
       "      <th>MaritalStatus_Married</th>\n",
       "      <th>MaritalStatus_Single</th>\n",
       "      <th>OverTime_No</th>\n",
       "      <th>OverTime_Yes</th>\n",
       "    </tr>\n",
       "  </thead>\n",
       "  <tbody>\n",
       "    <tr>\n",
       "      <th>0</th>\n",
       "      <td>30</td>\n",
       "      <td>1</td>\n",
       "      <td>1</td>\n",
       "      <td>4</td>\n",
       "      <td>2</td>\n",
       "      <td>2</td>\n",
       "      <td>4</td>\n",
       "      <td>5126</td>\n",
       "      <td>1</td>\n",
       "      <td>12</td>\n",
       "      <td>...</td>\n",
       "      <td>0</td>\n",
       "      <td>0</td>\n",
       "      <td>0</td>\n",
       "      <td>0</td>\n",
       "      <td>0</td>\n",
       "      <td>0</td>\n",
       "      <td>1</td>\n",
       "      <td>0</td>\n",
       "      <td>0</td>\n",
       "      <td>1</td>\n",
       "    </tr>\n",
       "    <tr>\n",
       "      <th>1</th>\n",
       "      <td>38</td>\n",
       "      <td>2</td>\n",
       "      <td>2</td>\n",
       "      <td>4</td>\n",
       "      <td>2</td>\n",
       "      <td>3</td>\n",
       "      <td>3</td>\n",
       "      <td>7756</td>\n",
       "      <td>3</td>\n",
       "      <td>19</td>\n",
       "      <td>...</td>\n",
       "      <td>1</td>\n",
       "      <td>0</td>\n",
       "      <td>0</td>\n",
       "      <td>0</td>\n",
       "      <td>0</td>\n",
       "      <td>0</td>\n",
       "      <td>1</td>\n",
       "      <td>0</td>\n",
       "      <td>0</td>\n",
       "      <td>1</td>\n",
       "    </tr>\n",
       "    <tr>\n",
       "      <th>2</th>\n",
       "      <td>26</td>\n",
       "      <td>6</td>\n",
       "      <td>3</td>\n",
       "      <td>3</td>\n",
       "      <td>2</td>\n",
       "      <td>1</td>\n",
       "      <td>2</td>\n",
       "      <td>2368</td>\n",
       "      <td>1</td>\n",
       "      <td>19</td>\n",
       "      <td>...</td>\n",
       "      <td>0</td>\n",
       "      <td>0</td>\n",
       "      <td>1</td>\n",
       "      <td>0</td>\n",
       "      <td>0</td>\n",
       "      <td>0</td>\n",
       "      <td>1</td>\n",
       "      <td>0</td>\n",
       "      <td>1</td>\n",
       "      <td>0</td>\n",
       "    </tr>\n",
       "    <tr>\n",
       "      <th>3</th>\n",
       "      <td>28</td>\n",
       "      <td>8</td>\n",
       "      <td>2</td>\n",
       "      <td>4</td>\n",
       "      <td>3</td>\n",
       "      <td>1</td>\n",
       "      <td>4</td>\n",
       "      <td>3310</td>\n",
       "      <td>1</td>\n",
       "      <td>21</td>\n",
       "      <td>...</td>\n",
       "      <td>0</td>\n",
       "      <td>0</td>\n",
       "      <td>1</td>\n",
       "      <td>0</td>\n",
       "      <td>0</td>\n",
       "      <td>0</td>\n",
       "      <td>0</td>\n",
       "      <td>1</td>\n",
       "      <td>1</td>\n",
       "      <td>0</td>\n",
       "    </tr>\n",
       "    <tr>\n",
       "      <th>4</th>\n",
       "      <td>35</td>\n",
       "      <td>4</td>\n",
       "      <td>2</td>\n",
       "      <td>3</td>\n",
       "      <td>3</td>\n",
       "      <td>1</td>\n",
       "      <td>4</td>\n",
       "      <td>1951</td>\n",
       "      <td>1</td>\n",
       "      <td>12</td>\n",
       "      <td>...</td>\n",
       "      <td>0</td>\n",
       "      <td>0</td>\n",
       "      <td>0</td>\n",
       "      <td>0</td>\n",
       "      <td>0</td>\n",
       "      <td>1</td>\n",
       "      <td>0</td>\n",
       "      <td>0</td>\n",
       "      <td>1</td>\n",
       "      <td>0</td>\n",
       "    </tr>\n",
       "  </tbody>\n",
       "</table>\n",
       "<p>5 rows × 47 columns</p>\n",
       "</div>"
      ],
      "text/plain": [
       "   Age  DistanceFromHome  Education  EnvironmentSatisfaction  JobInvolvement   \n",
       "0   30                 1          1                        4               2  \\\n",
       "1   38                 2          2                        4               2   \n",
       "2   26                 6          3                        3               2   \n",
       "3   28                 8          2                        4               3   \n",
       "4   35                 4          2                        3               3   \n",
       "\n",
       "   JobLevel  JobSatisfaction  MonthlyIncome  NumCompaniesWorked   \n",
       "0         2                4           5126                   1  \\\n",
       "1         3                3           7756                   3   \n",
       "2         1                2           2368                   1   \n",
       "3         1                4           3310                   1   \n",
       "4         1                4           1951                   1   \n",
       "\n",
       "   PercentSalaryHike  ...  JobRole_Manufacturing Director   \n",
       "0                 12  ...                               0  \\\n",
       "1                 19  ...                               1   \n",
       "2                 19  ...                               0   \n",
       "3                 21  ...                               0   \n",
       "4                 12  ...                               0   \n",
       "\n",
       "   JobRole_Research Director  JobRole_Research Scientist   \n",
       "0                          0                           0  \\\n",
       "1                          0                           0   \n",
       "2                          0                           1   \n",
       "3                          0                           1   \n",
       "4                          0                           0   \n",
       "\n",
       "   JobRole_Sales Executive  JobRole_Sales Representative   \n",
       "0                        0                             0  \\\n",
       "1                        0                             0   \n",
       "2                        0                             0   \n",
       "3                        0                             0   \n",
       "4                        0                             0   \n",
       "\n",
       "   MaritalStatus_Divorced  MaritalStatus_Married  MaritalStatus_Single   \n",
       "0                       0                      1                     0  \\\n",
       "1                       0                      1                     0   \n",
       "2                       0                      1                     0   \n",
       "3                       0                      0                     1   \n",
       "4                       1                      0                     0   \n",
       "\n",
       "   OverTime_No  OverTime_Yes  \n",
       "0            0             1  \n",
       "1            0             1  \n",
       "2            1             0  \n",
       "3            1             0  \n",
       "4            1             0  \n",
       "\n",
       "[5 rows x 47 columns]"
      ]
     },
     "execution_count": 118,
     "metadata": {},
     "output_type": "execute_result"
    }
   ],
   "source": [
    "ATTMod = pd.read_csv('Dane/ATTMod.csv')\n",
    "ATTMod.head()"
   ]
  },
  {
   "cell_type": "code",
   "execution_count": 119,
   "id": "dbb27662",
   "metadata": {},
   "outputs": [],
   "source": [
    "train_data = ATTMod.drop('Attrition', axis=1)\n",
    "train_labels = ATTMod[['Attrition']]"
   ]
  },
  {
   "cell_type": "code",
   "execution_count": 120,
   "id": "9a8cd800",
   "metadata": {},
   "outputs": [],
   "source": [
    "Xsn = train_data\n",
    "ysn = train_labels"
   ]
  },
  {
   "cell_type": "code",
   "execution_count": 121,
   "id": "4c0ce083",
   "metadata": {},
   "outputs": [],
   "source": [
    "Xsn_train, Xsn_test, ysn_train, ysn_test = train_test_split(Xsn, ysn, test_size=0.2, stratify=ysn, random_state=42)"
   ]
  },
  {
   "cell_type": "code",
   "execution_count": 122,
   "id": "387399b8",
   "metadata": {},
   "outputs": [
    {
     "name": "stdout",
     "output_type": "stream",
     "text": [
      "Epoch 1/10\n",
      "240/240 [==============================] - 2s 2ms/step - loss: 12.6815 - accuracy: 0.5040\n",
      "Epoch 2/10\n",
      "240/240 [==============================] - 0s 2ms/step - loss: 1.2068 - accuracy: 0.5190\n",
      "Epoch 3/10\n",
      "240/240 [==============================] - 1s 2ms/step - loss: 1.1853 - accuracy: 0.5323\n",
      "Epoch 4/10\n",
      "240/240 [==============================] - 0s 2ms/step - loss: 1.2531 - accuracy: 0.5252\n",
      "Epoch 5/10\n",
      "240/240 [==============================] - 1s 2ms/step - loss: 1.0912 - accuracy: 0.5315\n",
      "Epoch 6/10\n",
      "240/240 [==============================] - 0s 2ms/step - loss: 1.3487 - accuracy: 0.5169\n",
      "Epoch 7/10\n",
      "240/240 [==============================] - 0s 2ms/step - loss: 1.0834 - accuracy: 0.5144\n",
      "Epoch 8/10\n",
      "240/240 [==============================] - 1s 3ms/step - loss: 1.1473 - accuracy: 0.5474\n",
      "Epoch 9/10\n",
      "240/240 [==============================] - 1s 2ms/step - loss: 1.1386 - accuracy: 0.5123\n",
      "Epoch 10/10\n",
      "240/240 [==============================] - 0s 2ms/step - loss: 1.1217 - accuracy: 0.5173\n"
     ]
    },
    {
     "data": {
      "text/plain": [
       "<keras.src.callbacks.History at 0x23b61f62850>"
      ]
     },
     "execution_count": 122,
     "metadata": {},
     "output_type": "execute_result"
    }
   ],
   "source": [
    "model.fit(Xsn_train, ysn_train, epochs=10, batch_size=10 )"
   ]
  },
  {
   "cell_type": "code",
   "execution_count": 123,
   "id": "528ca68e",
   "metadata": {},
   "outputs": [
    {
     "name": "stdout",
     "output_type": "stream",
     "text": [
      "19/19 [==============================] - 0s 2ms/step\n"
     ]
    },
    {
     "data": {
      "text/plain": [
       "array([[4.93934727e-04],\n",
       "       [3.72886629e-04],\n",
       "       [7.78492214e-03],\n",
       "       [3.94258626e-09],\n",
       "       [4.74863831e-04],\n",
       "       [1.67097714e-05],\n",
       "       [2.64173341e-08],\n",
       "       [1.26569765e-04],\n",
       "       [3.10766222e-06],\n",
       "       [1.30329252e-04],\n",
       "       [7.11705184e-08],\n",
       "       [4.03712085e-03],\n",
       "       [1.20085280e-03],\n",
       "       [1.67097714e-05],\n",
       "       [3.87526639e-02],\n",
       "       [9.11208645e-06],\n",
       "       [1.09134867e-14],\n",
       "       [3.09729308e-04],\n",
       "       [9.59397177e-04],\n",
       "       [2.87098810e-05],\n",
       "       [3.73967481e-03],\n",
       "       [8.53755139e-03],\n",
       "       [3.93211934e-08],\n",
       "       [1.20202610e-02],\n",
       "       [1.79189510e-06],\n",
       "       [3.72886629e-04],\n",
       "       [2.98463628e-02],\n",
       "       [5.55129547e-04],\n",
       "       [1.68869970e-03],\n",
       "       [6.47503184e-04],\n",
       "       [4.94021463e-14],\n",
       "       [9.54490442e-09],\n",
       "       [1.01208985e-13],\n",
       "       [2.45614792e-03],\n",
       "       [3.62045888e-04],\n",
       "       [2.63615325e-02],\n",
       "       [3.21582454e-04],\n",
       "       [4.41905810e-03],\n",
       "       [7.48659368e-05],\n",
       "       [8.28910037e-04],\n",
       "       [2.01952122e-02],\n",
       "       [1.32937959e-04],\n",
       "       [7.93330546e-05],\n",
       "       [1.80198683e-08],\n",
       "       [3.67776980e-03],\n",
       "       [1.57919722e-08],\n",
       "       [4.35104070e-04],\n",
       "       [9.68180512e-15],\n",
       "       [2.21386249e-15],\n",
       "       [4.38361676e-05],\n",
       "       [1.20747703e-04],\n",
       "       [1.59237254e-02],\n",
       "       [3.72768191e-05],\n",
       "       [1.75593032e-05],\n",
       "       [2.62568392e-05],\n",
       "       [1.50808657e-10],\n",
       "       [5.05198805e-05],\n",
       "       [1.50954409e-04],\n",
       "       [1.18895452e-02],\n",
       "       [1.10233111e-06],\n",
       "       [1.93000417e-02],\n",
       "       [6.83697523e-04],\n",
       "       [8.53301783e-04],\n",
       "       [2.80377697e-02],\n",
       "       [7.92038215e-14],\n",
       "       [1.90236722e-03],\n",
       "       [1.05880707e-10],\n",
       "       [3.86807573e-04],\n",
       "       [2.81830318e-04],\n",
       "       [6.62317357e-09],\n",
       "       [6.08927920e-04],\n",
       "       [7.94612616e-02],\n",
       "       [1.17080681e-05],\n",
       "       [1.60715281e-08],\n",
       "       [5.75654162e-03],\n",
       "       [6.71793194e-03],\n",
       "       [7.69111153e-04],\n",
       "       [1.37940729e-02],\n",
       "       [2.15324899e-03],\n",
       "       [4.58663236e-03],\n",
       "       [3.80795286e-03],\n",
       "       [6.19567046e-03],\n",
       "       [1.10073192e-02],\n",
       "       [1.08834729e-02],\n",
       "       [6.52275745e-08],\n",
       "       [1.23950448e-12],\n",
       "       [1.27880136e-03],\n",
       "       [1.02302051e-13],\n",
       "       [1.70675181e-02],\n",
       "       [8.58464639e-14],\n",
       "       [7.87364040e-03],\n",
       "       [1.05920795e-03],\n",
       "       [1.41780246e-02],\n",
       "       [9.45701231e-06],\n",
       "       [2.65746105e-15],\n",
       "       [1.21248428e-10],\n",
       "       [6.64416188e-03],\n",
       "       [1.86505291e-04],\n",
       "       [5.41178160e-04],\n",
       "       [3.96158732e-03],\n",
       "       [2.94236761e-05],\n",
       "       [9.77695361e-03],\n",
       "       [2.10342817e-02],\n",
       "       [9.92976408e-03],\n",
       "       [1.26077048e-02],\n",
       "       [4.30302136e-03],\n",
       "       [2.07413009e-07],\n",
       "       [3.75502259e-06],\n",
       "       [1.74547182e-04],\n",
       "       [1.02305719e-04],\n",
       "       [2.82256282e-04],\n",
       "       [2.19645813e-07],\n",
       "       [1.74547182e-04],\n",
       "       [2.65204260e-04],\n",
       "       [2.47890739e-07],\n",
       "       [4.90694374e-10],\n",
       "       [2.39573978e-02],\n",
       "       [1.44189782e-13],\n",
       "       [1.05070074e-04],\n",
       "       [1.58653082e-03],\n",
       "       [1.21426452e-02],\n",
       "       [1.26077048e-02],\n",
       "       [1.95601780e-04],\n",
       "       [6.25955407e-03],\n",
       "       [7.80711183e-03],\n",
       "       [1.06112259e-02],\n",
       "       [1.29957675e-06],\n",
       "       [8.18714454e-07],\n",
       "       [2.04985589e-02],\n",
       "       [7.37216084e-08],\n",
       "       [8.83180655e-06],\n",
       "       [3.72886629e-04],\n",
       "       [4.44751931e-05],\n",
       "       [1.98322758e-02],\n",
       "       [9.40116239e-04],\n",
       "       [6.49025291e-02],\n",
       "       [1.33386106e-06],\n",
       "       [2.84013527e-06],\n",
       "       [1.55600603e-04],\n",
       "       [3.87526639e-02],\n",
       "       [7.69634353e-05],\n",
       "       [1.93956424e-03],\n",
       "       [6.85074273e-03],\n",
       "       [4.51252126e-04],\n",
       "       [3.54230590e-02],\n",
       "       [3.66063113e-03],\n",
       "       [1.31376870e-02],\n",
       "       [3.48442612e-04],\n",
       "       [2.32593247e-05],\n",
       "       [2.06930679e-03],\n",
       "       [1.32517758e-04],\n",
       "       [1.91186700e-04],\n",
       "       [2.57534111e-06],\n",
       "       [2.87098810e-05],\n",
       "       [4.58663236e-03],\n",
       "       [3.08769894e-15],\n",
       "       [3.16750047e-05],\n",
       "       [4.17997512e-08],\n",
       "       [6.46186324e-14],\n",
       "       [5.09586107e-09],\n",
       "       [4.29013569e-04],\n",
       "       [2.36236519e-06],\n",
       "       [4.29239390e-06],\n",
       "       [6.57470024e-04],\n",
       "       [2.64246087e-03],\n",
       "       [2.07389057e-01],\n",
       "       [7.08376263e-07],\n",
       "       [1.30482153e-10],\n",
       "       [4.97358646e-15],\n",
       "       [2.44701374e-02],\n",
       "       [8.73697536e-06],\n",
       "       [4.40620306e-06],\n",
       "       [2.91473977e-03],\n",
       "       [3.49400820e-14],\n",
       "       [2.47890739e-07],\n",
       "       [1.01208985e-13],\n",
       "       [7.86440745e-02],\n",
       "       [8.66251623e-13],\n",
       "       [7.80882234e-11],\n",
       "       [8.20205974e-15],\n",
       "       [2.54416790e-07],\n",
       "       [1.05442340e-02],\n",
       "       [3.34835022e-05],\n",
       "       [7.24063255e-04],\n",
       "       [1.64820754e-03],\n",
       "       [1.29653635e-02],\n",
       "       [1.39779950e-04],\n",
       "       [1.70675181e-02],\n",
       "       [2.61016074e-04],\n",
       "       [1.80699921e-04],\n",
       "       [1.90237444e-03],\n",
       "       [8.65782518e-03],\n",
       "       [7.89623373e-05],\n",
       "       [3.44479158e-05],\n",
       "       [1.71086881e-10],\n",
       "       [6.40680129e-03],\n",
       "       [1.00337013e-06],\n",
       "       [1.59237254e-02],\n",
       "       [2.81891005e-07],\n",
       "       [7.90599734e-05],\n",
       "       [5.12870292e-06],\n",
       "       [6.17227331e-03],\n",
       "       [2.45459320e-04],\n",
       "       [6.68562166e-07],\n",
       "       [9.84084886e-03],\n",
       "       [2.24457326e-05],\n",
       "       [1.76462252e-02],\n",
       "       [9.92976408e-03],\n",
       "       [4.48719038e-05],\n",
       "       [1.36796334e-05],\n",
       "       [5.34762755e-11],\n",
       "       [1.04900289e-04],\n",
       "       [4.03712085e-03],\n",
       "       [1.20747703e-04],\n",
       "       [2.35365866e-10],\n",
       "       [1.56812220e-07],\n",
       "       [9.94729926e-04],\n",
       "       [2.00539034e-08],\n",
       "       [3.07004637e-04],\n",
       "       [6.24281995e-07],\n",
       "       [4.54635476e-04],\n",
       "       [6.11055584e-05],\n",
       "       [4.82069051e-09],\n",
       "       [4.56656009e-04],\n",
       "       [4.79070485e-14],\n",
       "       [2.53457744e-02],\n",
       "       [8.24726466e-03],\n",
       "       [2.03022978e-07],\n",
       "       [1.68139184e-06],\n",
       "       [7.19579430e-06],\n",
       "       [9.28518772e-02],\n",
       "       [2.65363127e-08],\n",
       "       [6.72809896e-04],\n",
       "       [4.43705649e-04],\n",
       "       [1.01103545e-07],\n",
       "       [5.01183422e-05],\n",
       "       [2.03764765e-04],\n",
       "       [6.11055584e-05],\n",
       "       [1.96991268e-09],\n",
       "       [7.90599734e-05],\n",
       "       [3.49683705e-06],\n",
       "       [8.75193439e-03],\n",
       "       [8.69388133e-03],\n",
       "       [1.78352799e-09],\n",
       "       [7.39144826e-16],\n",
       "       [1.80289294e-06],\n",
       "       [2.62568392e-05],\n",
       "       [4.16872790e-03],\n",
       "       [6.59487117e-03],\n",
       "       [4.27712826e-03],\n",
       "       [1.33562018e-03],\n",
       "       [9.06472094e-03],\n",
       "       [1.54085783e-02],\n",
       "       [6.33532750e-07],\n",
       "       [3.47368569e-08],\n",
       "       [1.69882997e-11],\n",
       "       [8.95898484e-06],\n",
       "       [5.12870292e-06],\n",
       "       [2.16155965e-03],\n",
       "       [3.95447388e-03],\n",
       "       [8.31672864e-04],\n",
       "       [2.03022978e-07],\n",
       "       [5.16798173e-06],\n",
       "       [9.95710399e-03],\n",
       "       [3.41521673e-15],\n",
       "       [2.22567629e-04],\n",
       "       [8.98650178e-05],\n",
       "       [5.68711758e-03],\n",
       "       [3.32620781e-04],\n",
       "       [2.44701374e-02],\n",
       "       [2.10633175e-06],\n",
       "       [1.76337641e-02],\n",
       "       [1.39250709e-12],\n",
       "       [8.83191496e-14],\n",
       "       [4.37543681e-03],\n",
       "       [8.58035312e-15],\n",
       "       [2.30619821e-06],\n",
       "       [4.23351376e-05],\n",
       "       [1.23313238e-13],\n",
       "       [6.63145911e-03],\n",
       "       [5.77635262e-07],\n",
       "       [2.25335953e-06],\n",
       "       [2.39035785e-02],\n",
       "       [1.16382453e-05],\n",
       "       [4.11474291e-04],\n",
       "       [6.63145911e-03],\n",
       "       [3.81537757e-06],\n",
       "       [7.40858450e-05],\n",
       "       [7.78659713e-04],\n",
       "       [1.30765338e-15],\n",
       "       [5.97385639e-13],\n",
       "       [1.55600603e-04],\n",
       "       [1.78352799e-09],\n",
       "       [3.10944778e-15],\n",
       "       [9.89362670e-05],\n",
       "       [4.89616316e-14],\n",
       "       [5.43339411e-03],\n",
       "       [2.81114553e-05],\n",
       "       [6.14027446e-03],\n",
       "       [6.36223063e-04],\n",
       "       [2.50877146e-13],\n",
       "       [6.57428209e-11],\n",
       "       [2.55305972e-03],\n",
       "       [8.25333627e-05],\n",
       "       [9.00812574e-06],\n",
       "       [5.61599343e-11],\n",
       "       [8.48967375e-07],\n",
       "       [3.17302998e-04],\n",
       "       [1.10736709e-09],\n",
       "       [4.49138993e-09],\n",
       "       [4.40620306e-06],\n",
       "       [4.83280837e-06],\n",
       "       [7.80711183e-03],\n",
       "       [1.22069358e-03],\n",
       "       [1.17080681e-05],\n",
       "       [3.48442612e-04],\n",
       "       [1.08678236e-04],\n",
       "       [5.18103203e-15],\n",
       "       [1.97567348e-03],\n",
       "       [3.86536610e-03],\n",
       "       [3.16750047e-05],\n",
       "       [4.86054545e-04],\n",
       "       [2.49961731e-15],\n",
       "       [4.48071660e-04],\n",
       "       [1.69877810e-11],\n",
       "       [1.16117848e-02],\n",
       "       [1.35984701e-05],\n",
       "       [1.63287647e-11],\n",
       "       [7.31638011e-07],\n",
       "       [1.10011538e-02],\n",
       "       [5.92420169e-04],\n",
       "       [2.81114553e-05],\n",
       "       [7.83470983e-04],\n",
       "       [9.35055315e-03],\n",
       "       [6.25955407e-03],\n",
       "       [2.54105683e-13],\n",
       "       [1.25808592e-05],\n",
       "       [5.34748193e-04],\n",
       "       [5.90343261e-03],\n",
       "       [1.57897489e-07],\n",
       "       [8.58035312e-15],\n",
       "       [1.01429912e-04],\n",
       "       [2.30809906e-06],\n",
       "       [2.09653754e-05],\n",
       "       [2.56753596e-03],\n",
       "       [2.25998476e-04],\n",
       "       [1.11459205e-02],\n",
       "       [5.03629504e-04],\n",
       "       [1.36796334e-05],\n",
       "       [3.03905015e-03],\n",
       "       [1.05442740e-02],\n",
       "       [1.91151723e-02],\n",
       "       [9.28610267e-16],\n",
       "       [2.46833180e-13],\n",
       "       [2.02714823e-09],\n",
       "       [1.10107241e-02],\n",
       "       [1.06075975e-04],\n",
       "       [7.48659368e-05],\n",
       "       [9.08667687e-03],\n",
       "       [1.22690380e-09],\n",
       "       [2.03022978e-07],\n",
       "       [9.37983277e-04],\n",
       "       [3.06998449e-03],\n",
       "       [6.57428209e-11],\n",
       "       [3.38712052e-05],\n",
       "       [1.12537527e-03],\n",
       "       [6.36223063e-04],\n",
       "       [5.73230573e-05],\n",
       "       [1.53370987e-04],\n",
       "       [1.95570686e-03],\n",
       "       [3.95235009e-02],\n",
       "       [9.26879238e-06],\n",
       "       [1.82707129e-08],\n",
       "       [1.25682897e-15],\n",
       "       [1.07138790e-02],\n",
       "       [2.58122738e-02],\n",
       "       [6.68149012e-16],\n",
       "       [2.24457326e-05],\n",
       "       [6.24419702e-03],\n",
       "       [5.77635262e-07],\n",
       "       [9.96231288e-03],\n",
       "       [8.70936550e-04],\n",
       "       [2.06429340e-09],\n",
       "       [9.65920161e-04],\n",
       "       [5.56433914e-13],\n",
       "       [4.95503843e-03],\n",
       "       [2.84013527e-06],\n",
       "       [2.16824228e-05],\n",
       "       [2.39640212e-06],\n",
       "       [2.62640306e-13],\n",
       "       [3.34453732e-02],\n",
       "       [4.47816753e-08],\n",
       "       [2.64436705e-04],\n",
       "       [2.14533757e-05],\n",
       "       [3.55694880e-04],\n",
       "       [7.15489150e-04],\n",
       "       [4.19054473e-15],\n",
       "       [1.31601114e-02],\n",
       "       [6.64279969e-06],\n",
       "       [1.71701843e-03],\n",
       "       [8.17451900e-13],\n",
       "       [1.32143199e-02],\n",
       "       [4.71222177e-02],\n",
       "       [2.41836315e-05],\n",
       "       [9.66637543e-08],\n",
       "       [2.01270211e-15],\n",
       "       [6.79302914e-03],\n",
       "       [9.43231396e-04],\n",
       "       [5.14530075e-05],\n",
       "       [2.45459320e-04],\n",
       "       [9.94343427e-04],\n",
       "       [1.16287209e-10],\n",
       "       [1.21038340e-07],\n",
       "       [1.11567732e-02],\n",
       "       [2.42246129e-02],\n",
       "       [7.93312429e-05],\n",
       "       [4.05612309e-03],\n",
       "       [1.96366035e-03],\n",
       "       [1.61379054e-02],\n",
       "       [6.08927920e-04],\n",
       "       [8.38858783e-02],\n",
       "       [6.40680129e-03],\n",
       "       [1.50923561e-02],\n",
       "       [3.67776980e-03],\n",
       "       [6.76609852e-05],\n",
       "       [1.76337641e-02],\n",
       "       [1.96673787e-15],\n",
       "       [6.67049829e-03],\n",
       "       [9.50849223e-16],\n",
       "       [4.31329710e-03],\n",
       "       [7.91834574e-03],\n",
       "       [9.08736038e-05],\n",
       "       [3.11607700e-02],\n",
       "       [1.86903949e-03],\n",
       "       [4.01279507e-08],\n",
       "       [2.35443327e-08],\n",
       "       [2.65204260e-04],\n",
       "       [2.81296925e-05],\n",
       "       [6.45600376e-04],\n",
       "       [4.46329825e-03],\n",
       "       [8.99393546e-11],\n",
       "       [1.01208985e-13],\n",
       "       [1.53056509e-03],\n",
       "       [9.84084886e-03],\n",
       "       [6.75649247e-14],\n",
       "       [8.81659485e-15],\n",
       "       [6.52260823e-08],\n",
       "       [3.49675702e-06],\n",
       "       [4.52490462e-10],\n",
       "       [7.59675167e-09],\n",
       "       [5.88376547e-09],\n",
       "       [6.80917001e-04],\n",
       "       [5.35049003e-06],\n",
       "       [2.18291292e-12],\n",
       "       [3.41930799e-03],\n",
       "       [5.18109061e-07],\n",
       "       [9.64677866e-08],\n",
       "       [4.24484688e-06],\n",
       "       [1.90236722e-03],\n",
       "       [1.16797001e-03],\n",
       "       [4.74975305e-03],\n",
       "       [2.23787481e-15],\n",
       "       [1.93236738e-05],\n",
       "       [1.11459205e-02],\n",
       "       [1.33844873e-08],\n",
       "       [1.90350171e-02],\n",
       "       [8.62079833e-05],\n",
       "       [6.64279969e-06],\n",
       "       [4.93991309e-14],\n",
       "       [4.56622057e-02],\n",
       "       [2.32908619e-03],\n",
       "       [6.57931378e-04],\n",
       "       [5.63750518e-06],\n",
       "       [1.49436551e-03],\n",
       "       [2.30619821e-06],\n",
       "       [8.99393546e-11],\n",
       "       [1.55606512e-02],\n",
       "       [5.12870292e-06],\n",
       "       [1.02962682e-03],\n",
       "       [1.77976966e-04],\n",
       "       [6.97462157e-11],\n",
       "       [1.10735027e-02],\n",
       "       [2.14314717e-08],\n",
       "       [1.68961556e-09],\n",
       "       [5.92420169e-04],\n",
       "       [1.11459205e-02],\n",
       "       [4.40506090e-04],\n",
       "       [6.42909120e-13],\n",
       "       [7.86440745e-02],\n",
       "       [1.12537527e-03],\n",
       "       [3.49051993e-06],\n",
       "       [1.34795010e-02],\n",
       "       [1.16117848e-02],\n",
       "       [4.15076734e-04],\n",
       "       [2.58122738e-02],\n",
       "       [1.13357169e-06],\n",
       "       [4.41436097e-03],\n",
       "       [3.02773580e-04],\n",
       "       [5.80917904e-03],\n",
       "       [4.89616316e-14],\n",
       "       [4.50513931e-03],\n",
       "       [1.24288665e-03],\n",
       "       [3.01989465e-04],\n",
       "       [1.72067516e-08],\n",
       "       [2.86828930e-04],\n",
       "       [6.86417989e-05],\n",
       "       [1.85573264e-13],\n",
       "       [1.00635997e-08],\n",
       "       [2.23787481e-15],\n",
       "       [1.40154153e-01],\n",
       "       [1.10735856e-02],\n",
       "       [3.21420295e-08],\n",
       "       [4.34209454e-07],\n",
       "       [1.26522314e-02],\n",
       "       [4.02511284e-03],\n",
       "       [1.47710978e-07],\n",
       "       [1.74178684e-03],\n",
       "       [1.17003708e-06],\n",
       "       [1.03247550e-03],\n",
       "       [8.55421647e-04],\n",
       "       [3.95650277e-03],\n",
       "       [1.73419124e-07],\n",
       "       [8.44543247e-05],\n",
       "       [3.25935471e-05],\n",
       "       [9.69008729e-03],\n",
       "       [1.34428861e-04],\n",
       "       [3.23919323e-03],\n",
       "       [8.65680911e-03],\n",
       "       [3.38797458e-02],\n",
       "       [4.52490462e-10],\n",
       "       [2.00191848e-02],\n",
       "       [1.14912982e-03],\n",
       "       [2.75405915e-03],\n",
       "       [1.32771847e-05],\n",
       "       [1.82083864e-02],\n",
       "       [3.23829317e-06],\n",
       "       [2.34013912e-03],\n",
       "       [4.44044766e-11],\n",
       "       [2.90765133e-13],\n",
       "       [2.71069016e-02],\n",
       "       [3.33519978e-07],\n",
       "       [2.56916355e-08],\n",
       "       [4.34381073e-11],\n",
       "       [1.27788808e-05],\n",
       "       [9.01389794e-05],\n",
       "       [4.25561157e-04],\n",
       "       [4.48071660e-04],\n",
       "       [4.67259042e-06],\n",
       "       [5.51822164e-11],\n",
       "       [3.56521741e-05],\n",
       "       [3.42381671e-02],\n",
       "       [2.02997435e-05],\n",
       "       [2.94236761e-05],\n",
       "       [6.71477873e-10],\n",
       "       [1.24495737e-05],\n",
       "       [5.07702498e-05],\n",
       "       [8.65680911e-03],\n",
       "       [1.12069793e-01],\n",
       "       [8.24726466e-03],\n",
       "       [4.15076734e-04],\n",
       "       [1.86100824e-05],\n",
       "       [1.19683137e-12],\n",
       "       [2.47155111e-02],\n",
       "       [1.23950448e-12],\n",
       "       [6.97531970e-03],\n",
       "       [1.59818170e-04],\n",
       "       [9.18651652e-03],\n",
       "       [6.75578340e-05],\n",
       "       [6.56920820e-05],\n",
       "       [2.67565221e-04],\n",
       "       [6.92487508e-03],\n",
       "       [5.67006609e-05],\n",
       "       [3.81338087e-15],\n",
       "       [3.97550130e-13],\n",
       "       [3.46614434e-05],\n",
       "       [9.94354719e-04],\n",
       "       [3.15014366e-03],\n",
       "       [1.80448629e-02],\n",
       "       [2.40123292e-04],\n",
       "       [2.02714823e-09],\n",
       "       [3.11607700e-02],\n",
       "       [4.65385150e-04],\n",
       "       [4.43705649e-04],\n",
       "       [1.47710978e-07],\n",
       "       [5.77565562e-03],\n",
       "       [4.69761930e-04],\n",
       "       [8.56958593e-07],\n",
       "       [1.68961556e-09],\n",
       "       [3.05706635e-04],\n",
       "       [1.01103545e-07],\n",
       "       [1.21424161e-02],\n",
       "       [2.07353619e-08],\n",
       "       [1.87008642e-02],\n",
       "       [1.36450818e-03],\n",
       "       [6.01549061e-07],\n",
       "       [1.16577350e-04],\n",
       "       [1.81702003e-02],\n",
       "       [3.46622364e-05],\n",
       "       [1.07370290e-08],\n",
       "       [1.65928202e-06]], dtype=float32)"
      ]
     },
     "execution_count": 123,
     "metadata": {},
     "output_type": "execute_result"
    }
   ],
   "source": [
    "pred_sn = model.predict(Xsn_test)\n",
    "pred_sn\n"
   ]
  },
  {
   "cell_type": "code",
   "execution_count": 124,
   "id": "97cccc40",
   "metadata": {},
   "outputs": [],
   "source": [
    "from sklearn.metrics import mean_squared_error"
   ]
  },
  {
   "cell_type": "code",
   "execution_count": 125,
   "id": "765c1b64",
   "metadata": {},
   "outputs": [
    {
     "name": "stdout",
     "output_type": "stream",
     "text": [
      "Attrition    0.462366\n",
      "dtype: float64\n"
     ]
    }
   ],
   "source": [
    "# W przypadku oceny jakości sieci neuronowej gęsto połączonej warto zwrócić uwage na miarę straty, która określa jak dobrze \n",
    "# model radzi sobie z przewidywaniem wyników dla danych treningowych i testowych. Im mniejsza jej wartość, tym lepszy model.\n",
    "\n",
    "def mean_squared_error(act, pred_sn):\n",
    "    diff = pred_sn - act\n",
    "    differences_squared = diff ** 2\n",
    "    mean_diff = differences_squared.mean()\n",
    "    return mean_diff\n",
    "\n",
    "act = ysn_test\n",
    "pred_sn \n",
    "print(mean_squared_error(act, pred_sn))"
   ]
  },
  {
   "cell_type": "markdown",
   "id": "440bdb40",
   "metadata": {},
   "source": []
  },
  {
   "cell_type": "markdown",
   "id": "4a1d3188",
   "metadata": {},
   "source": [
    "                                     Sieć neuronowa rekurencyjna / konwolucyjna"
   ]
  },
  {
   "cell_type": "markdown",
   "id": "ac104f5c",
   "metadata": {},
   "source": []
  },
  {
   "cell_type": "markdown",
   "id": "7030275c",
   "metadata": {},
   "source": [
    "  Sieci neuronowe rekurencyjne (RNN) są przeznaczone do pracy z danymi sekwencyjnymi. W przciwieństwie do standardowych sieci typu MLP mają pamięć wewnętrzną, która pozwala im na przetwarzanie sekwencji danych o zmiennej długości. Każda wartswa ma swoją własną pamięć, która jest przekazywana do kolejnej iteracji. W ten sposób sieć może pamiętać informacje z poprzednich kroków i wykorzystać je w przyszłości. Najpopularniejsze trzy typy RNN to: RNN prosta, LSTM i GRU.\n",
    "  \n",
    "  Sieci neuronowe konwolucyjne (CNN) składają się z warstw konwolucyjnych, warstw łączących i warstw gęsto połączonych. Są stosowane m.in. w takich obszarach jak rozpoznawanie twarzy, mowy, analiza tekstu czy diagnostyka medyczna. Są szczególnie skuteczne w zadaniach związanym z przetwarzaniem obrazów.\n",
    "  \n",
    "  Zarówno RNN jak i CNN nie są wykorzystywane w przypadku danych \"płaskich\", reprezentujących cechy liczbowe pojedynczych obserwacji, więc ich implementcja w niniejszym projekcie nie ma większego sensu. Szczególnie RNN wymagają sekwencji czasowych danych, a tych w zbiorze ATTMod - brak."
   ]
  },
  {
   "cell_type": "markdown",
   "id": "915ad62d",
   "metadata": {},
   "source": []
  },
  {
   "cell_type": "markdown",
   "id": "8b95d814",
   "metadata": {},
   "source": [
    "                                                  PODSUMOWANIE"
   ]
  },
  {
   "cell_type": "markdown",
   "id": "befda94d",
   "metadata": {},
   "source": []
  },
  {
   "cell_type": "code",
   "execution_count": 126,
   "id": "340e0bed",
   "metadata": {},
   "outputs": [
    {
     "data": {
      "text/plain": [
       "(0.5653333333333334, 0.5612674235479398, 0.55583402951824, 0.5501015721603957)"
      ]
     },
     "execution_count": 126,
     "metadata": {},
     "output_type": "execute_result"
    }
   ],
   "source": [
    "data1 = LogMetrics1\n",
    "data1 = data1[:-2]\n",
    "data1Name = \"Regresja logistyczna\"\n",
    "data1"
   ]
  },
  {
   "cell_type": "code",
   "execution_count": 127,
   "id": "610aea1f",
   "metadata": {},
   "outputs": [
    {
     "data": {
      "text/plain": [
       "(0.505, 0.5007918552036199, 0.5007809100949363, 0.5001668915261178)"
      ]
     },
     "execution_count": 127,
     "metadata": {},
     "output_type": "execute_result"
    }
   ],
   "source": [
    "data2 = GNBMetricsBayes1\n",
    "data2 = data2[:-2]\n",
    "data2Name = \"Bayes-Gaussian\"\n",
    "data2"
   ]
  },
  {
   "cell_type": "code",
   "execution_count": 128,
   "id": "b51192da",
   "metadata": {},
   "outputs": [
    {
     "data": {
      "text/plain": [
       "(0.5766666666666667,\n",
       " 0.5735720375106564,\n",
       " 0.5722062941353652,\n",
       " 0.5717946412515734)"
      ]
     },
     "execution_count": 128,
     "metadata": {},
     "output_type": "execute_result"
    }
   ],
   "source": [
    "data3 = MNBMetricsBayes1\n",
    "data3 = data3[:-2]\n",
    "data3Name = \"Bayes-Multinomial\"\n",
    "data3"
   ]
  },
  {
   "cell_type": "code",
   "execution_count": 129,
   "id": "5e7d514d",
   "metadata": {},
   "outputs": [
    {
     "data": {
      "text/plain": [
       "(0.5316666666666666, 0.529874213836478, 0.5298865449190643, 0.5298789005969924)"
      ]
     },
     "execution_count": 129,
     "metadata": {},
     "output_type": "execute_result"
    }
   ],
   "source": [
    "data4 = KNNMetrics1\n",
    "data4 = data4[:-2]\n",
    "data4Name = \"KNN\"\n",
    "data4"
   ]
  },
  {
   "cell_type": "code",
   "execution_count": 130,
   "id": "3e831d8b",
   "metadata": {},
   "outputs": [
    {
     "data": {
      "text/plain": [
       "(0.5583333333333333,\n",
       " 0.5558594421215419,\n",
       " 0.5435190040049531,\n",
       " 0.5240646673391623)"
      ]
     },
     "execution_count": 130,
     "metadata": {},
     "output_type": "execute_result"
    }
   ],
   "source": [
    "data5 = SVMMetrics1\n",
    "data5 = data5[:-2]\n",
    "data5Name = \"SVM\"\n",
    "data5"
   ]
  },
  {
   "cell_type": "code",
   "execution_count": 131,
   "id": "10dec20d",
   "metadata": {},
   "outputs": [
    {
     "data": {
      "text/plain": [
       "(0.818523153942428, 0.8251271977611454, 0.8133453952611724, 0.8152718981448263)"
      ]
     },
     "execution_count": 131,
     "metadata": {},
     "output_type": "execute_result"
    }
   ],
   "source": [
    "data6 = DDMetrics1\n",
    "data6 = data6[:-2]\n",
    "data6Name = \"Drzewo Decyzyjne\"\n",
    "data6"
   ]
  },
  {
   "cell_type": "code",
   "execution_count": 132,
   "id": "fafb8278",
   "metadata": {},
   "outputs": [
    {
     "data": {
      "text/plain": [
       "(0.5316666666666666, 0.2658333333333333, 0.5, 0.3471164309031556)"
      ]
     },
     "execution_count": 132,
     "metadata": {},
     "output_type": "execute_result"
    }
   ],
   "source": [
    "data7 = BAGMetrics1\n",
    "data7 = data7[:-2]\n",
    "data7Name = \"Bagging\"\n",
    "data7"
   ]
  },
  {
   "cell_type": "code",
   "execution_count": 133,
   "id": "c8a86c39",
   "metadata": {},
   "outputs": [
    {
     "data": {
      "text/plain": [
       "(0.535, 0.5303571428571429, 0.5075859837793818, 0.40671748907530864)"
      ]
     },
     "execution_count": 133,
     "metadata": {},
     "output_type": "execute_result"
    }
   ],
   "source": [
    "data8 = RFMetrics1\n",
    "data8 = data8[:-2]\n",
    "data8Name = \"Random Forest\"\n",
    "data8"
   ]
  },
  {
   "cell_type": "code",
   "execution_count": 134,
   "id": "fe5ad0e6",
   "metadata": {},
   "outputs": [
    {
     "data": {
      "text/plain": [
       "(0.5433333333333333,\n",
       " 0.5383757017819158,\n",
       " 0.5368310668347482,\n",
       " 0.5346414701253411)"
      ]
     },
     "execution_count": 134,
     "metadata": {},
     "output_type": "execute_result"
    }
   ],
   "source": [
    "data9 = BooMetrics1\n",
    "data9 = data9[:-2]\n",
    "data9Name = \"Boosting\"\n",
    "data9"
   ]
  },
  {
   "cell_type": "code",
   "execution_count": 135,
   "id": "f4c462f8",
   "metadata": {},
   "outputs": [
    {
     "data": {
      "text/html": [
       "<div>\n",
       "<style scoped>\n",
       "    .dataframe tbody tr th:only-of-type {\n",
       "        vertical-align: middle;\n",
       "    }\n",
       "\n",
       "    .dataframe tbody tr th {\n",
       "        vertical-align: top;\n",
       "    }\n",
       "\n",
       "    .dataframe thead th {\n",
       "        text-align: right;\n",
       "    }\n",
       "</style>\n",
       "<table border=\"1\" class=\"dataframe\">\n",
       "  <thead>\n",
       "    <tr style=\"text-align: right;\">\n",
       "      <th></th>\n",
       "      <th>Regresja logistyczna</th>\n",
       "      <th>Bayes-Gaussian</th>\n",
       "      <th>Bayes-Multinomial</th>\n",
       "      <th>KNN</th>\n",
       "      <th>SVM</th>\n",
       "      <th>Drzewo Decyzyjne</th>\n",
       "      <th>Bagging</th>\n",
       "      <th>Random Forest</th>\n",
       "      <th>Boosting</th>\n",
       "    </tr>\n",
       "  </thead>\n",
       "  <tbody>\n",
       "    <tr>\n",
       "      <th>Accuracy</th>\n",
       "      <td>0.565333</td>\n",
       "      <td>0.505000</td>\n",
       "      <td>0.576667</td>\n",
       "      <td>0.531667</td>\n",
       "      <td>0.558333</td>\n",
       "      <td>0.818523</td>\n",
       "      <td>0.531667</td>\n",
       "      <td>0.535000</td>\n",
       "      <td>0.543333</td>\n",
       "    </tr>\n",
       "    <tr>\n",
       "      <th>Precision</th>\n",
       "      <td>0.561267</td>\n",
       "      <td>0.500792</td>\n",
       "      <td>0.573572</td>\n",
       "      <td>0.529874</td>\n",
       "      <td>0.555859</td>\n",
       "      <td>0.825127</td>\n",
       "      <td>0.265833</td>\n",
       "      <td>0.530357</td>\n",
       "      <td>0.538376</td>\n",
       "    </tr>\n",
       "    <tr>\n",
       "      <th>Recall</th>\n",
       "      <td>0.555834</td>\n",
       "      <td>0.500781</td>\n",
       "      <td>0.572206</td>\n",
       "      <td>0.529887</td>\n",
       "      <td>0.543519</td>\n",
       "      <td>0.813345</td>\n",
       "      <td>0.500000</td>\n",
       "      <td>0.507586</td>\n",
       "      <td>0.536831</td>\n",
       "    </tr>\n",
       "    <tr>\n",
       "      <th>F1-Score</th>\n",
       "      <td>0.550102</td>\n",
       "      <td>0.500167</td>\n",
       "      <td>0.571795</td>\n",
       "      <td>0.529879</td>\n",
       "      <td>0.524065</td>\n",
       "      <td>0.815272</td>\n",
       "      <td>0.347116</td>\n",
       "      <td>0.406717</td>\n",
       "      <td>0.534641</td>\n",
       "    </tr>\n",
       "  </tbody>\n",
       "</table>\n",
       "</div>"
      ],
      "text/plain": [
       "           Regresja logistyczna  Bayes-Gaussian  Bayes-Multinomial       KNN   \n",
       "Accuracy               0.565333        0.505000           0.576667  0.531667  \\\n",
       "Precision              0.561267        0.500792           0.573572  0.529874   \n",
       "Recall                 0.555834        0.500781           0.572206  0.529887   \n",
       "F1-Score               0.550102        0.500167           0.571795  0.529879   \n",
       "\n",
       "                SVM  Drzewo Decyzyjne   Bagging  Random Forest  Boosting  \n",
       "Accuracy   0.558333          0.818523  0.531667       0.535000  0.543333  \n",
       "Precision  0.555859          0.825127  0.265833       0.530357  0.538376  \n",
       "Recall     0.543519          0.813345  0.500000       0.507586  0.536831  \n",
       "F1-Score   0.524065          0.815272  0.347116       0.406717  0.534641  "
      ]
     },
     "execution_count": 135,
     "metadata": {},
     "output_type": "execute_result"
    }
   ],
   "source": [
    "data = {'Regresja logistyczna': data1, 'Bayes-Gaussian': data2, 'Bayes-Multinomial': data3, 'KNN': data4, 'SVM': data5, \n",
    "        'Drzewo Decyzyjne': data6, 'Bagging': data7, 'Random Forest': data8, 'Boosting': data9 }\n",
    "df = pd.DataFrame(data)\n",
    "df.index = ['Accuracy', 'Precision', 'Recall', 'F1-Score']\n",
    "df"
   ]
  },
  {
   "cell_type": "code",
   "execution_count": 136,
   "id": "169a6ac7",
   "metadata": {},
   "outputs": [
    {
     "data": {
      "image/png": "[encoded data removed]",
      "text/plain": [
       "<Figure size 1100x600 with 1 Axes>"
      ]
     },
     "metadata": {},
     "output_type": "display_data"
    }
   ],
   "source": [
    "ax = df.plot(kind='bar', figsize=(11, 6), width=0.75)\n",
    "ax.set_xlabel('Metryka')\n",
    "ax.set_xticklabels(ax.get_xticklabels(), rotation=45)\n",
    "ax.set_ylabel('Wartość metryk')\n",
    "ax.legend(loc='lower right')\n",
    "plt.show()"
   ]
  },
  {
   "cell_type": "markdown",
   "id": "a4d26ac9",
   "metadata": {},
   "source": []
  },
  {
   "cell_type": "markdown",
   "id": "9dc93a1f",
   "metadata": {},
   "source": [
    "  Wśród analizowanych modeli uczenia maszynowego najlepsze wyniki osiągnęło Drzewo Decyzyjne (F-1 ok. 81%), co należy uznać za wynik dobry / bardzo dobry. Najsłabiej wypada Bagging, pozostałe osiągają podobne wartości na poziomie ok. 50 - 55%, co jednak znacznie ogranicza ich przydatność do użytku produkcyjnego.  \n",
    "  \n",
    "  Wśród rekomendacji dla dalszego rozwoju projektu należałoby wyróżnić:\n",
    "  \n",
    "  1. Poprawa jakościowa systemu zbierania danych. \n",
    "  \n",
    "  2. Pobór danych z różnych okresów czasowych - porównanie danych z różnych okresów ułatwiłoby wyodrębnienie tych czynników,        które najszybciej wpływają, w przypadku niniejszego projektu, na decyzje o dalszym przebiegu kariery zawodowej. \n",
    "  \n",
    "  3. Konteneryzacja modelu - przy wykorzystaniu narzędzia Docker. Jest to system, który pozwala uruchamiać aplikacje w                                      wyizolowanych środowiskach, tzw. kontenerach. Dostarcza aplikacjom zasoby warstwy sprzętowej\n",
    "                             i systemowej, jednocześnie pozwala je wyizolować od innych aplikacji, dzięki czemu możemy\n",
    "                             kontrolować konfigurację środowiska, w którym działa nasz kod (m.in. odpowiednie wersje bibliotek\n",
    "                             dla modeli ML)."
   ]
  },
  {
   "cell_type": "code",
   "execution_count": null,
   "id": "3fba6eaa",
   "metadata": {},
   "outputs": [],
   "source": []
  },
  {
   "cell_type": "code",
   "execution_count": null,
   "id": "c0ae0668",
   "metadata": {},
   "outputs": [],
   "source": []
  },
  {
   "cell_type": "code",
   "execution_count": null,
   "id": "af11e012",
   "metadata": {},
   "outputs": [],
   "source": []
  },
  {
   "cell_type": "code",
   "execution_count": null,
   "id": "f6ec4770",
   "metadata": {},
   "outputs": [],
   "source": []
  },
  {
   "cell_type": "code",
   "execution_count": null,
   "id": "f08c65bc",
   "metadata": {},
   "outputs": [],
   "source": []
  },
  {
   "cell_type": "code",
   "execution_count": null,
   "id": "ca2506aa",
   "metadata": {},
   "outputs": [],
   "source": []
  },
  {
   "cell_type": "code",
   "execution_count": null,
   "id": "aec18966",
   "metadata": {},
   "outputs": [],
   "source": []
  },
  {
   "cell_type": "code",
   "execution_count": null,
   "id": "0dc59bb0",
   "metadata": {},
   "outputs": [],
   "source": []
  },
  {
   "cell_type": "code",
   "execution_count": null,
   "id": "02afc1d0",
   "metadata": {},
   "outputs": [],
   "source": []
  },
  {
   "cell_type": "code",
   "execution_count": null,
   "id": "04616467",
   "metadata": {},
   "outputs": [],
   "source": []
  },
  {
   "cell_type": "code",
   "execution_count": null,
   "id": "3f9c19e4",
   "metadata": {},
   "outputs": [],
   "source": []
  },
  {
   "cell_type": "code",
   "execution_count": null,
   "id": "354b7124",
   "metadata": {},
   "outputs": [],
   "source": []
  },
  {
   "cell_type": "code",
   "execution_count": null,
   "id": "f3846be0",
   "metadata": {},
   "outputs": [],
   "source": []
  },
  {
   "cell_type": "code",
   "execution_count": null,
   "id": "53787d7e",
   "metadata": {},
   "outputs": [],
   "source": []
  }
 ],
 "metadata": {
  "kernelspec": {
   "display_name": "Python 3 (ipykernel)",
   "language": "python",
   "name": "python3"
  },
  "language_info": {
   "codemirror_mode": {
    "name": "ipython",
    "version": 3
   },
   "file_extension": ".py",
   "mimetype": "text/x-python",
   "name": "python",
   "nbconvert_exporter": "python",
   "pygments_lexer": "ipython3",
   "version": "3.11.2"
  }
 },
 "nbformat": 4,
 "nbformat_minor": 5
}
