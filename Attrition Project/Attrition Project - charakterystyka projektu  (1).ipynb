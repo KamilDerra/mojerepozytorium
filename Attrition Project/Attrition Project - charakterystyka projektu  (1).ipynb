{
 "cells": [
  {
   "cell_type": "markdown",
   "id": "f40ec88b",
   "metadata": {},
   "source": [
    "#                 Attrition  Projekt  -  czyli  Uczenie  Maszynowe  w  służbie  HR"
   ]
  },
  {
   "cell_type": "markdown",
   "id": "76a90d06",
   "metadata": {},
   "source": [
    "#                                            \n",
    "                                               Współczesne wyzwania HR.\n",
    "\n",
    "  Otoczenie społeczno-ekonomiczne, w którym działa każdy podmiot gospodarczy, staje się coraz bardziej złożone. Generuje to nowe problemy, a więc i wyzwania, którym należy sprostać, aby zapewnić organizacji sprawne fukcjonowanie. Dotyczy to m.in. gospodarowania zasobami ludzki, uważanymi często za jeden z najważniejszych zasobów przedsiębiorstwa.  \n",
    "  \n",
    "  Do głównych problemów / wyzwań tego obszaru można zaliczyć m.in.:\n",
    "  \n",
    "  - deficyt wykwalifikowanych specjalistów (jak przyciągnąć najlepszych),\n",
    "  \n",
    "  - rotacja, generująca koszty - ci najlepsi najczęściej odchodzą \"na swoje\", albo do konkurencji. Firma najpierw inwestuje w     ich rozwój, a potem znów musi znaleźć kogoś na ich miejsce, znów zainwestować w ich rozwój, itd;\n",
    "  \n",
    "  - często dział HR nie potrafi zidentyfikować problemu, np. czy narasta konflikt między pracownikami jednego działu, lub           konflikt \"międzydziałowy\" w związku z czym brakuje działań naprawczych,\n",
    "  \n",
    "  - motywowanie - pieniądze to nie wszystko. Jak skutecznie motywować pracowników do efektywnej pracy i pozostania w firmie na     dłużej? \n",
    "  \n",
    "  - niska umiejętność wykazania skuteczności działań rozwojowych, m.in. szkoleń i ich przełożenia na wyniki biznesowe,\n",
    "  \n",
    "  - dostępność elastycznych form zatrudnienia.\n",
    "  \n",
    "  Według raportu Ernst&Young (\"Cała Polska tworzy idealne miejsce pracy\") przed działami HR stoi wyzwanie polegające na integracji i utrzymywaniu motywacji zdalnych zespołów poprzez m.in. dbanie o samopoczucie pracowników. Jak wskazują badania, ci zadowoleni są o 43% bardziej produktywni oraz o 26-61% mniej rotują.\n"
   ]
  },
  {
   "cell_type": "markdown",
   "id": "c2d49498",
   "metadata": {},
   "source": [
    "                                                    O projekcie.\n",
    "\n",
    "  Niniejsze opracowanie jest próbą odpowiedzi na niektóre z powyższych zagadnień. Bazuje na tabelarycznym zbiorze danych składającym się z 26 cech (ilościowe i jakościowe) o liczebności 2997 każda. Generuje to wybór warsztatu analitycznego, a więc metod statystycznych (analiza) i algorytmów uczenia maszynowego (modelowanie). (Ręczne opracowywanie przy tak dużej skali badania, np. poprzez bezpośrednie ankiety z wszystkimi pracownikami byłoby zbyt czaso- i pracochłonne. Komputer pracujący z odpowiednimi algorytmami zrobi to szybciej, a nadto będzie w stanie wynajdywać ukryte zależności). \n",
    "  \n",
    "  Projekt składa się z 3 części:\n",
    "  \n",
    "  1. Preprocessing danych - przygotowanie danych do dalszej analizy (czyszczenie danych, łączenie różnych podzbiorów, itp.).\n",
    "  \n",
    "  2. Analiza danych (EDA).\n",
    "  \n",
    "  3. Modelowanie.\n",
    "  \n",
    "  Cel projektu: stworzenie narzędzia, które bedzie potrafiło oszacować prawdopodobieństwo zachowań pracownika, a więc czy pracownik o danych cechach (odwzorowanych w kategoriach) będzie skłonny do pozostania w firmie czy też do odejścia. Może to pomóc kierownictwu w odpowiednim kształtowaniu polityki personalnej firmy.   \n",
    "  "
   ]
  },
  {
   "cell_type": "markdown",
   "id": "002c8e9e",
   "metadata": {},
   "source": []
  },
  {
   "cell_type": "markdown",
   "id": "7d9a4171",
   "metadata": {},
   "source": []
  },
  {
   "cell_type": "markdown",
   "id": "c4f499fa",
   "metadata": {},
   "source": [
    "#            Attrition Project  -  Machine learning in the service of HR"
   ]
  },
  {
   "cell_type": "markdown",
   "id": "0e1beef6",
   "metadata": {},
   "source": []
  },
  {
   "cell_type": "markdown",
   "id": "745575a2",
   "metadata": {},
   "source": [
    "                                         Contemporary HR challenges"
   ]
  },
  {
   "cell_type": "markdown",
   "id": "7318d52a",
   "metadata": {},
   "source": [
    "   The socio-economic environment in which every business entity operates is becoming more and more complex. This generates new problems and therefore challenges that must be met to ensure the smooth functioning of the organisation. This includes, among others: management of human resources, often considered one of the most important resources of an enterprise. \n",
    "   \n",
    "   The main problems / challenges in this area include:\n",
    "   \n",
    "   - shortage of qualified specialists (how to attract the best),\n",
    "   \n",
    "   - rotation generating costs - the best ones most often leave for their own companies or for competitors. The company first      invests in their development, and then has to find someone to replace them, invest in their development again, etc.,\n",
    "   \n",
    "   - the HR department is often unable to identify the problem, e.g. whether there is a growing conflict between employees of\n",
    "     one department, or an \"inter-department\" conflict, and therefore no corrective actions are taken,\n",
    "     \n",
    "   - motivating - money is not everything. How to effectively motivate employees to work effectively and stay in the company \n",
    "     for longer?\n",
    "     \n",
    "   - low ability to demonstrate the effectiveness of development activities, including: training and its impact on business\n",
    "     results,\n",
    "     \n",
    "   - availability of flexible forms of employment.\n",
    "   \n",
    "   Accorging to the Ernst&Young report (\"All of Poland creates an ideal workplace\"), HR departments face the challenge of integrating and maintaining the motivation of remote teams through, among others, taking care of employees' well-being. Research shows that satisfied employees are 43% more productive and have 26-61% less turnover. \n",
    "   "
   ]
  },
  {
   "cell_type": "markdown",
   "id": "a6e6ecf3",
   "metadata": {},
   "source": []
  },
  {
   "cell_type": "markdown",
   "id": "87319018",
   "metadata": {},
   "source": [
    "                                                About the project"
   ]
  },
  {
   "cell_type": "markdown",
   "id": "afab4692",
   "metadata": {},
   "source": [
    "   This study is an attempt to answer some of the above issues. It is based on a tabular data set consisting of 26 features (quantitative and qualitative) with a count of 2997 each. This generates the choice of analytical techniques, i.e. statistical methods (analysis) and machine learning algorithms (modeling). (\"Manual\" preparation of such a large-scale study, e.g. through direct surveys with all employees, would be too time- and labor-consuming. A computer working with appropriate algorithms will do it faster and will also be able to find hidden dependencies).\n",
    "   \n",
    "   The project consists of 3 parts:\n",
    "   \n",
    "   1. Data preprocessing - preparing data for further analysis (data cleaning, combining different subsets, etc.).\n",
    "   \n",
    "   2. Data analysis (EDA).\n",
    "   \n",
    "   3. Modeling.\n",
    "   \n",
    "   Project goal: to create a tool that will be able to estimate the probability of an employee's behaviour, i.e. whether an employee with given characteristics (mapped in categories) will be willing to stay in the company or leave. This may help management in appropriately shaping the company's personnel policy.\n",
    "   "
   ]
  },
  {
   "cell_type": "code",
   "execution_count": null,
   "id": "5930d006",
   "metadata": {},
   "outputs": [],
   "source": []
  },
  {
   "cell_type": "code",
   "execution_count": null,
   "id": "7a342df7",
   "metadata": {},
   "outputs": [],
   "source": []
  }
 ],
 "metadata": {
  "kernelspec": {
   "display_name": "Python 3 (ipykernel)",
   "language": "python",
   "name": "python3"
  },
  "language_info": {
   "codemirror_mode": {
    "name": "ipython",
    "version": 3
   },
   "file_extension": ".py",
   "mimetype": "text/x-python",
   "name": "python",
   "nbconvert_exporter": "python",
   "pygments_lexer": "ipython3",
   "version": "3.12.3"
  }
 },
 "nbformat": 4,
 "nbformat_minor": 5
}
