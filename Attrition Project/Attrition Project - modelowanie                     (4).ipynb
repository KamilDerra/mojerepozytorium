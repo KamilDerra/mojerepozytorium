{
 "cells": [
  {
   "cell_type": "markdown",
   "id": "92d05bf7",
   "metadata": {},
   "source": [
    "                                                          \n",
    "                                                       WSTĘP\n",
    "                                                                                                                    "
   ]
  },
  {
   "cell_type": "markdown",
   "id": "0ef147dd",
   "metadata": {},
   "source": [
    "Uczenie maszynowe - dziedzina nauki zajmująca się programowaniem komputerów w sposób umożliwiający im uczenie się z danych\n",
    "                    bez konieczności ich jawnego programowania."
   ]
  },
  {
   "cell_type": "markdown",
   "id": "5d4d3f52",
   "metadata": {},
   "source": [
    "Zastosowanie uczenia maszynowego (ML):\n",
    "     \n",
    " - problemy, których rozwiązanie wymaga częstego dostrajania algorytmu lub korzystania z długich list reguł\n",
    "   (model ML upraszcza aplikację i poprawia jej szybkość w stosunku do podejścia tradycyjnego),\n",
    "                    \n",
    " - problemy złożone, których nie można rozwiązać tradycyjnymi metodami (najlepsze algorytmy ML są w stanie\n",
    "   znaleźć rozwiązanie),\n",
    "                    \n",
    " - przy zmiennych środowiskach (mechanizm ML można z łatwością wytrenować za pomocą nowych danych i aktualizować\n",
    "   w dowolnym momencie),\n",
    "                    \n",
    " - analiza skompikowanych zagadnień i olbrzymich ilości danych.\n",
    "        "
   ]
  },
  {
   "cell_type": "markdown",
   "id": "c22083d2",
   "metadata": {},
   "source": [
    "Rodzaje systemów ML - podział wg kryteriów:\n",
    " \n",
    "  - sposób ich nadzorowania w fazie uczenia (uczenie nadzorowane, niezadzorowane, półnadzorowane,                                   samonadzorowane.),\n",
    "                  \n",
    "  - możliwość uczenia się w czasie rzeczywistym (uczenie przyrostowe i wsadowe),\n",
    "                  \n",
    "  - sposób pracy: porównywanie nowych punktów danych ze znanymi punktami lub wykrywanie wzorców w danych \n",
    "                  i tworzenie modelu predykcyjnego.\n"
   ]
  },
  {
   "cell_type": "markdown",
   "id": "9fa0682c",
   "metadata": {},
   "source": [
    "  Niniejsze opracowanie bazuje na uczeniu nadzorowanym - dane uczące przekazywane algorytmowi zawierają dołączone rozwiązania problemu, tzw. etykiety (tutaj: \"0\" i \"1\"). Zadaniem wykorzystanych algorytmów jest klasyfikacja.  Model jest trenowany za pomocą dużej liczby przykładowych cech ilościowych należących do danej klasy (tu: \"0\" i \"1\"), dzięki którym powinien być w stanie klasyfikować nowe obiekty (tu: pracownik odchodzący z pracy lub pozostający).  \n",
    "  \n",
    "  Wykorzystano różne rodzaje powszechnie stosowanych algorytmów uczenia maszynowego celem porównania skuteczności działania każdego z nich na bazie dostępnego zbioru danych \"Attrition\".\n"
   ]
  },
  {
   "cell_type": "markdown",
   "id": "c98fa38e",
   "metadata": {},
   "source": []
  },
  {
   "cell_type": "markdown",
   "id": "06caeb25",
   "metadata": {},
   "source": [
    "                                                         Entry"
   ]
  },
  {
   "cell_type": "markdown",
   "id": "30da4386",
   "metadata": {},
   "source": [
    "Machine Learning - a field of science that deals with programming computers in a way that allows them to learn from data\n",
    "                   without having to program them explicity."
   ]
  },
  {
   "cell_type": "markdown",
   "id": "640dec5c",
   "metadata": {},
   "source": [
    "Application of machine learninng (ML):\n",
    "\n",
    " - problems that require frequent algorithm tuning or long losts of rules to solve (ML model simplifies the application and\n",
    "   improves its speed compared to the traditional approach),\n",
    "\n",
    " - complex problems that cannot be solved by traditional methods (the best ML algorithms are able to find a solution),\n",
    " \n",
    " - in changing environments (ML mechanism can be easily trained with new data and updated at any time),\n",
    " \n",
    " - analysis of complex issues and huge amounts of data."
   ]
  },
  {
   "cell_type": "markdown",
   "id": "72f007d9",
   "metadata": {},
   "source": [
    "Types of ML systems - division according to criteria:\n",
    "\n",
    " - the method of supervising them in the learning phase (supervised, unsupervised, semi-supervised, self-supervised learning),\n",
    " \n",
    " - ability to learn in real time (incremental and batch learning),\n",
    " \n",
    " - way of working: comparing new data points with known points or detecting patterns in data and creating a predictive model."
   ]
  },
  {
   "cell_type": "markdown",
   "id": "90ed2e57",
   "metadata": {},
   "source": [
    "  This study is based on supervised learning - the training data provided to the algorithm contains attached solutions to the problem, the so-called labels (here: \"0\" and \"1\"). The task of the algorithms used is classification. The model is trained using a large number of sample quantitative features belonging to a given class (here: \"0\" and \"1\"), thanks to which it should be able to classify new objects (here: an employee leaving or staying).\n",
    "  \n",
    "  Various types of commonly used machine learning algorithms were used to compare the effectiveness of each of them based on the available \"Attrition\" data set."
   ]
  },
  {
   "cell_type": "markdown",
   "id": "bcd3b7a4",
   "metadata": {},
   "source": [
    "                                             REGRESJA  LOGISTYCZNA:\n",
    "                                             \n",
    "                                              Logistic regression"
   ]
  },
  {
   "cell_type": "markdown",
   "id": "5640ec35",
   "metadata": {},
   "source": []
  },
  {
   "cell_type": "markdown",
   "id": "2f90371d",
   "metadata": {},
   "source": [
    "   Algorytm regresji logistycznej (RL) to metoda statystyczna, która słuzy do przewidywania prawdopodobieństwa zmiennej zależnej na skali tzw. dychotomicznej (np. tak/nie, 0/1) na podstawie jednej lub więcej zmiennych niezależnych. RL wykorzystuje fukcję logistyczną (sigmoidalną), która przekształca dowolną wartość wejściwą do wartości z przedziału (0, 1). Do jej zalet można zaliczyć m.in. łatwość interpretacji, szybkość obliczeń i odporność na szum. Do słabych stron: trudność w modelowaniu zależności nieliniowych, wielowymiarowych lub skomplikowanych. "
   ]
  },
  {
   "cell_type": "markdown",
   "id": "49ab66ed",
   "metadata": {},
   "source": [
    "   The logistic regression algorithm (RL) is a statistical method that is used to predict the probability of a dependent variable on the so-called scale, dichotomous (e.g. yes/no, 0/1) based on one or more independent variables. RL uses a logistic (sigmoidal) function that transforms any input value to a value in the interval (0, 1). Its advantages include, among others: ease of interpretation, speed of calculation and resistance to noise. Weaknesses: difficulty in modeling non-linear, multi-dimensional or complex relationships."
   ]
  },
  {
   "cell_type": "code",
   "execution_count": 1,
   "id": "23a8c073",
   "metadata": {},
   "outputs": [],
   "source": [
    "import numpy as np\n",
    "import pandas as pd\n",
    "import matplotlib.pyplot as plt\n",
    "import seaborn as sns"
   ]
  },
  {
   "cell_type": "code",
   "execution_count": 2,
   "id": "856c69d2",
   "metadata": {},
   "outputs": [
    {
     "data": {
      "text/html": [
       "<div>\n",
       "<style scoped>\n",
       "    .dataframe tbody tr th:only-of-type {\n",
       "        vertical-align: middle;\n",
       "    }\n",
       "\n",
       "    .dataframe tbody tr th {\n",
       "        vertical-align: top;\n",
       "    }\n",
       "\n",
       "    .dataframe thead th {\n",
       "        text-align: right;\n",
       "    }\n",
       "</style>\n",
       "<table border=\"1\" class=\"dataframe\">\n",
       "  <thead>\n",
       "    <tr style=\"text-align: right;\">\n",
       "      <th></th>\n",
       "      <th>Age</th>\n",
       "      <th>DistanceFromHome</th>\n",
       "      <th>Education</th>\n",
       "      <th>EnvironmentSatisfaction</th>\n",
       "      <th>JobInvolvement</th>\n",
       "      <th>JobLevel</th>\n",
       "      <th>JobSatisfaction</th>\n",
       "      <th>MonthlyIncome</th>\n",
       "      <th>NumCompaniesWorked</th>\n",
       "      <th>PercentSalaryHike</th>\n",
       "      <th>...</th>\n",
       "      <th>JobRole_Manufacturing Director</th>\n",
       "      <th>JobRole_Research Director</th>\n",
       "      <th>JobRole_Research Scientist</th>\n",
       "      <th>JobRole_Sales Executive</th>\n",
       "      <th>JobRole_Sales Representative</th>\n",
       "      <th>MaritalStatus_Divorced</th>\n",
       "      <th>MaritalStatus_Married</th>\n",
       "      <th>MaritalStatus_Single</th>\n",
       "      <th>OverTime_No</th>\n",
       "      <th>OverTime_Yes</th>\n",
       "    </tr>\n",
       "  </thead>\n",
       "  <tbody>\n",
       "    <tr>\n",
       "      <th>0</th>\n",
       "      <td>30</td>\n",
       "      <td>1</td>\n",
       "      <td>1</td>\n",
       "      <td>4</td>\n",
       "      <td>2</td>\n",
       "      <td>2</td>\n",
       "      <td>4</td>\n",
       "      <td>5126</td>\n",
       "      <td>1</td>\n",
       "      <td>12</td>\n",
       "      <td>...</td>\n",
       "      <td>0</td>\n",
       "      <td>0</td>\n",
       "      <td>0</td>\n",
       "      <td>0</td>\n",
       "      <td>0</td>\n",
       "      <td>0</td>\n",
       "      <td>1</td>\n",
       "      <td>0</td>\n",
       "      <td>0</td>\n",
       "      <td>1</td>\n",
       "    </tr>\n",
       "    <tr>\n",
       "      <th>1</th>\n",
       "      <td>38</td>\n",
       "      <td>2</td>\n",
       "      <td>2</td>\n",
       "      <td>4</td>\n",
       "      <td>2</td>\n",
       "      <td>3</td>\n",
       "      <td>3</td>\n",
       "      <td>7756</td>\n",
       "      <td>3</td>\n",
       "      <td>19</td>\n",
       "      <td>...</td>\n",
       "      <td>1</td>\n",
       "      <td>0</td>\n",
       "      <td>0</td>\n",
       "      <td>0</td>\n",
       "      <td>0</td>\n",
       "      <td>0</td>\n",
       "      <td>1</td>\n",
       "      <td>0</td>\n",
       "      <td>0</td>\n",
       "      <td>1</td>\n",
       "    </tr>\n",
       "    <tr>\n",
       "      <th>2</th>\n",
       "      <td>26</td>\n",
       "      <td>6</td>\n",
       "      <td>3</td>\n",
       "      <td>3</td>\n",
       "      <td>2</td>\n",
       "      <td>1</td>\n",
       "      <td>2</td>\n",
       "      <td>2368</td>\n",
       "      <td>1</td>\n",
       "      <td>19</td>\n",
       "      <td>...</td>\n",
       "      <td>0</td>\n",
       "      <td>0</td>\n",
       "      <td>1</td>\n",
       "      <td>0</td>\n",
       "      <td>0</td>\n",
       "      <td>0</td>\n",
       "      <td>1</td>\n",
       "      <td>0</td>\n",
       "      <td>1</td>\n",
       "      <td>0</td>\n",
       "    </tr>\n",
       "    <tr>\n",
       "      <th>3</th>\n",
       "      <td>28</td>\n",
       "      <td>8</td>\n",
       "      <td>2</td>\n",
       "      <td>4</td>\n",
       "      <td>3</td>\n",
       "      <td>1</td>\n",
       "      <td>4</td>\n",
       "      <td>3310</td>\n",
       "      <td>1</td>\n",
       "      <td>21</td>\n",
       "      <td>...</td>\n",
       "      <td>0</td>\n",
       "      <td>0</td>\n",
       "      <td>1</td>\n",
       "      <td>0</td>\n",
       "      <td>0</td>\n",
       "      <td>0</td>\n",
       "      <td>0</td>\n",
       "      <td>1</td>\n",
       "      <td>1</td>\n",
       "      <td>0</td>\n",
       "    </tr>\n",
       "    <tr>\n",
       "      <th>4</th>\n",
       "      <td>35</td>\n",
       "      <td>4</td>\n",
       "      <td>2</td>\n",
       "      <td>3</td>\n",
       "      <td>3</td>\n",
       "      <td>1</td>\n",
       "      <td>4</td>\n",
       "      <td>1951</td>\n",
       "      <td>1</td>\n",
       "      <td>12</td>\n",
       "      <td>...</td>\n",
       "      <td>0</td>\n",
       "      <td>0</td>\n",
       "      <td>0</td>\n",
       "      <td>0</td>\n",
       "      <td>0</td>\n",
       "      <td>1</td>\n",
       "      <td>0</td>\n",
       "      <td>0</td>\n",
       "      <td>1</td>\n",
       "      <td>0</td>\n",
       "    </tr>\n",
       "  </tbody>\n",
       "</table>\n",
       "<p>5 rows × 47 columns</p>\n",
       "</div>"
      ],
      "text/plain": [
       "   Age  DistanceFromHome  Education  EnvironmentSatisfaction  JobInvolvement   \n",
       "0   30                 1          1                        4               2  \\\n",
       "1   38                 2          2                        4               2   \n",
       "2   26                 6          3                        3               2   \n",
       "3   28                 8          2                        4               3   \n",
       "4   35                 4          2                        3               3   \n",
       "\n",
       "   JobLevel  JobSatisfaction  MonthlyIncome  NumCompaniesWorked   \n",
       "0         2                4           5126                   1  \\\n",
       "1         3                3           7756                   3   \n",
       "2         1                2           2368                   1   \n",
       "3         1                4           3310                   1   \n",
       "4         1                4           1951                   1   \n",
       "\n",
       "   PercentSalaryHike  ...  JobRole_Manufacturing Director   \n",
       "0                 12  ...                               0  \\\n",
       "1                 19  ...                               1   \n",
       "2                 19  ...                               0   \n",
       "3                 21  ...                               0   \n",
       "4                 12  ...                               0   \n",
       "\n",
       "   JobRole_Research Director  JobRole_Research Scientist   \n",
       "0                          0                           0  \\\n",
       "1                          0                           0   \n",
       "2                          0                           1   \n",
       "3                          0                           1   \n",
       "4                          0                           0   \n",
       "\n",
       "   JobRole_Sales Executive  JobRole_Sales Representative   \n",
       "0                        0                             0  \\\n",
       "1                        0                             0   \n",
       "2                        0                             0   \n",
       "3                        0                             0   \n",
       "4                        0                             0   \n",
       "\n",
       "   MaritalStatus_Divorced  MaritalStatus_Married  MaritalStatus_Single   \n",
       "0                       0                      1                     0  \\\n",
       "1                       0                      1                     0   \n",
       "2                       0                      1                     0   \n",
       "3                       0                      0                     1   \n",
       "4                       1                      0                     0   \n",
       "\n",
       "   OverTime_No  OverTime_Yes  \n",
       "0            0             1  \n",
       "1            0             1  \n",
       "2            1             0  \n",
       "3            1             0  \n",
       "4            1             0  \n",
       "\n",
       "[5 rows x 47 columns]"
      ]
     },
     "execution_count": 2,
     "metadata": {},
     "output_type": "execute_result"
    }
   ],
   "source": [
    "ATTMod = pd.read_csv('Dane/ATTMod.csv')\n",
    "ATTMod.head()"
   ]
  },
  {
   "cell_type": "code",
   "execution_count": 3,
   "id": "fd21fcf0",
   "metadata": {},
   "outputs": [],
   "source": [
    "train_data = ATTMod.drop('Attrition', axis=1)\n",
    "train_labels = ATTMod[['Attrition']]\n"
   ]
  },
  {
   "cell_type": "code",
   "execution_count": 4,
   "id": "5a388f4d",
   "metadata": {},
   "outputs": [],
   "source": [
    "import sklearn\n",
    "from sklearn.model_selection import train_test_split\n",
    "from sklearn.linear_model import LogisticRegression"
   ]
  },
  {
   "cell_type": "code",
   "execution_count": 5,
   "id": "85aa75e6",
   "metadata": {},
   "outputs": [],
   "source": [
    "# Predyktory:\n",
    "Xlog = train_data\n",
    "\n",
    "# Target:\n",
    "ylog = train_labels"
   ]
  },
  {
   "cell_type": "code",
   "execution_count": 6,
   "id": "d26ad267",
   "metadata": {},
   "outputs": [
    {
     "data": {
      "text/html": [
       "<div>\n",
       "<style scoped>\n",
       "    .dataframe tbody tr th:only-of-type {\n",
       "        vertical-align: middle;\n",
       "    }\n",
       "\n",
       "    .dataframe tbody tr th {\n",
       "        vertical-align: top;\n",
       "    }\n",
       "\n",
       "    .dataframe thead th {\n",
       "        text-align: right;\n",
       "    }\n",
       "</style>\n",
       "<table border=\"1\" class=\"dataframe\">\n",
       "  <thead>\n",
       "    <tr style=\"text-align: right;\">\n",
       "      <th></th>\n",
       "      <th>Age</th>\n",
       "      <th>DistanceFromHome</th>\n",
       "      <th>Education</th>\n",
       "      <th>EnvironmentSatisfaction</th>\n",
       "      <th>JobInvolvement</th>\n",
       "      <th>JobLevel</th>\n",
       "      <th>JobSatisfaction</th>\n",
       "      <th>MonthlyIncome</th>\n",
       "      <th>NumCompaniesWorked</th>\n",
       "      <th>PercentSalaryHike</th>\n",
       "      <th>...</th>\n",
       "      <th>JobRole_Manufacturing Director</th>\n",
       "      <th>JobRole_Research Director</th>\n",
       "      <th>JobRole_Research Scientist</th>\n",
       "      <th>JobRole_Sales Executive</th>\n",
       "      <th>JobRole_Sales Representative</th>\n",
       "      <th>MaritalStatus_Divorced</th>\n",
       "      <th>MaritalStatus_Married</th>\n",
       "      <th>MaritalStatus_Single</th>\n",
       "      <th>OverTime_No</th>\n",
       "      <th>OverTime_Yes</th>\n",
       "    </tr>\n",
       "  </thead>\n",
       "  <tbody>\n",
       "    <tr>\n",
       "      <th>0</th>\n",
       "      <td>30</td>\n",
       "      <td>1</td>\n",
       "      <td>1</td>\n",
       "      <td>4</td>\n",
       "      <td>2</td>\n",
       "      <td>2</td>\n",
       "      <td>4</td>\n",
       "      <td>5126</td>\n",
       "      <td>1</td>\n",
       "      <td>12</td>\n",
       "      <td>...</td>\n",
       "      <td>0</td>\n",
       "      <td>0</td>\n",
       "      <td>0</td>\n",
       "      <td>0</td>\n",
       "      <td>0</td>\n",
       "      <td>0</td>\n",
       "      <td>1</td>\n",
       "      <td>0</td>\n",
       "      <td>0</td>\n",
       "      <td>1</td>\n",
       "    </tr>\n",
       "    <tr>\n",
       "      <th>1</th>\n",
       "      <td>38</td>\n",
       "      <td>2</td>\n",
       "      <td>2</td>\n",
       "      <td>4</td>\n",
       "      <td>2</td>\n",
       "      <td>3</td>\n",
       "      <td>3</td>\n",
       "      <td>7756</td>\n",
       "      <td>3</td>\n",
       "      <td>19</td>\n",
       "      <td>...</td>\n",
       "      <td>1</td>\n",
       "      <td>0</td>\n",
       "      <td>0</td>\n",
       "      <td>0</td>\n",
       "      <td>0</td>\n",
       "      <td>0</td>\n",
       "      <td>1</td>\n",
       "      <td>0</td>\n",
       "      <td>0</td>\n",
       "      <td>1</td>\n",
       "    </tr>\n",
       "    <tr>\n",
       "      <th>2</th>\n",
       "      <td>26</td>\n",
       "      <td>6</td>\n",
       "      <td>3</td>\n",
       "      <td>3</td>\n",
       "      <td>2</td>\n",
       "      <td>1</td>\n",
       "      <td>2</td>\n",
       "      <td>2368</td>\n",
       "      <td>1</td>\n",
       "      <td>19</td>\n",
       "      <td>...</td>\n",
       "      <td>0</td>\n",
       "      <td>0</td>\n",
       "      <td>1</td>\n",
       "      <td>0</td>\n",
       "      <td>0</td>\n",
       "      <td>0</td>\n",
       "      <td>1</td>\n",
       "      <td>0</td>\n",
       "      <td>1</td>\n",
       "      <td>0</td>\n",
       "    </tr>\n",
       "    <tr>\n",
       "      <th>3</th>\n",
       "      <td>28</td>\n",
       "      <td>8</td>\n",
       "      <td>2</td>\n",
       "      <td>4</td>\n",
       "      <td>3</td>\n",
       "      <td>1</td>\n",
       "      <td>4</td>\n",
       "      <td>3310</td>\n",
       "      <td>1</td>\n",
       "      <td>21</td>\n",
       "      <td>...</td>\n",
       "      <td>0</td>\n",
       "      <td>0</td>\n",
       "      <td>1</td>\n",
       "      <td>0</td>\n",
       "      <td>0</td>\n",
       "      <td>0</td>\n",
       "      <td>0</td>\n",
       "      <td>1</td>\n",
       "      <td>1</td>\n",
       "      <td>0</td>\n",
       "    </tr>\n",
       "    <tr>\n",
       "      <th>4</th>\n",
       "      <td>35</td>\n",
       "      <td>4</td>\n",
       "      <td>2</td>\n",
       "      <td>3</td>\n",
       "      <td>3</td>\n",
       "      <td>1</td>\n",
       "      <td>4</td>\n",
       "      <td>1951</td>\n",
       "      <td>1</td>\n",
       "      <td>12</td>\n",
       "      <td>...</td>\n",
       "      <td>0</td>\n",
       "      <td>0</td>\n",
       "      <td>0</td>\n",
       "      <td>0</td>\n",
       "      <td>0</td>\n",
       "      <td>1</td>\n",
       "      <td>0</td>\n",
       "      <td>0</td>\n",
       "      <td>1</td>\n",
       "      <td>0</td>\n",
       "    </tr>\n",
       "  </tbody>\n",
       "</table>\n",
       "<p>5 rows × 46 columns</p>\n",
       "</div>"
      ],
      "text/plain": [
       "   Age  DistanceFromHome  Education  EnvironmentSatisfaction  JobInvolvement   \n",
       "0   30                 1          1                        4               2  \\\n",
       "1   38                 2          2                        4               2   \n",
       "2   26                 6          3                        3               2   \n",
       "3   28                 8          2                        4               3   \n",
       "4   35                 4          2                        3               3   \n",
       "\n",
       "   JobLevel  JobSatisfaction  MonthlyIncome  NumCompaniesWorked   \n",
       "0         2                4           5126                   1  \\\n",
       "1         3                3           7756                   3   \n",
       "2         1                2           2368                   1   \n",
       "3         1                4           3310                   1   \n",
       "4         1                4           1951                   1   \n",
       "\n",
       "   PercentSalaryHike  ...  JobRole_Manufacturing Director   \n",
       "0                 12  ...                               0  \\\n",
       "1                 19  ...                               1   \n",
       "2                 19  ...                               0   \n",
       "3                 21  ...                               0   \n",
       "4                 12  ...                               0   \n",
       "\n",
       "   JobRole_Research Director  JobRole_Research Scientist   \n",
       "0                          0                           0  \\\n",
       "1                          0                           0   \n",
       "2                          0                           1   \n",
       "3                          0                           1   \n",
       "4                          0                           0   \n",
       "\n",
       "   JobRole_Sales Executive  JobRole_Sales Representative   \n",
       "0                        0                             0  \\\n",
       "1                        0                             0   \n",
       "2                        0                             0   \n",
       "3                        0                             0   \n",
       "4                        0                             0   \n",
       "\n",
       "   MaritalStatus_Divorced  MaritalStatus_Married  MaritalStatus_Single   \n",
       "0                       0                      1                     0  \\\n",
       "1                       0                      1                     0   \n",
       "2                       0                      1                     0   \n",
       "3                       0                      0                     1   \n",
       "4                       1                      0                     0   \n",
       "\n",
       "   OverTime_No  OverTime_Yes  \n",
       "0            0             1  \n",
       "1            0             1  \n",
       "2            1             0  \n",
       "3            1             0  \n",
       "4            1             0  \n",
       "\n",
       "[5 rows x 46 columns]"
      ]
     },
     "execution_count": 6,
     "metadata": {},
     "output_type": "execute_result"
    }
   ],
   "source": [
    "Xlog.head()"
   ]
  },
  {
   "cell_type": "code",
   "execution_count": 7,
   "id": "78019750",
   "metadata": {},
   "outputs": [
    {
     "data": {
      "text/plain": [
       "Attrition\n",
       "0            1595\n",
       "1            1402\n",
       "Name: count, dtype: int64"
      ]
     },
     "execution_count": 7,
     "metadata": {},
     "output_type": "execute_result"
    }
   ],
   "source": [
    "ylog.value_counts()"
   ]
  },
  {
   "cell_type": "code",
   "execution_count": 8,
   "id": "13ef1d5f",
   "metadata": {},
   "outputs": [],
   "source": [
    "# Dzielimy zbiór X na treningowy i testowy:\n",
    "\n",
    "# We divide the set X into training and testing:\n",
    "\n",
    "Xlog_train, Xlog_test, ylog_train, ylog_test = train_test_split(Xlog, ylog, stratify=ylog)"
   ]
  },
  {
   "cell_type": "code",
   "execution_count": 9,
   "id": "07aaf06c",
   "metadata": {},
   "outputs": [
    {
     "data": {
      "text/html": [
       "<style>#sk-container-id-1 {color: black;background-color: white;}#sk-container-id-1 pre{padding: 0;}#sk-container-id-1 div.sk-toggleable {background-color: white;}#sk-container-id-1 label.sk-toggleable__label {cursor: pointer;display: block;width: 100%;margin-bottom: 0;padding: 0.3em;box-sizing: border-box;text-align: center;}#sk-container-id-1 label.sk-toggleable__label-arrow:before {content: \"▸\";float: left;margin-right: 0.25em;color: #696969;}#sk-container-id-1 label.sk-toggleable__label-arrow:hover:before {color: black;}#sk-container-id-1 div.sk-estimator:hover label.sk-toggleable__label-arrow:before {color: black;}#sk-container-id-1 div.sk-toggleable__content {max-height: 0;max-width: 0;overflow: hidden;text-align: left;background-color: #f0f8ff;}#sk-container-id-1 div.sk-toggleable__content pre {margin: 0.2em;color: black;border-radius: 0.25em;background-color: #f0f8ff;}#sk-container-id-1 input.sk-toggleable__control:checked~div.sk-toggleable__content {max-height: 200px;max-width: 100%;overflow: auto;}#sk-container-id-1 input.sk-toggleable__control:checked~label.sk-toggleable__label-arrow:before {content: \"▾\";}#sk-container-id-1 div.sk-estimator input.sk-toggleable__control:checked~label.sk-toggleable__label {background-color: #d4ebff;}#sk-container-id-1 div.sk-label input.sk-toggleable__control:checked~label.sk-toggleable__label {background-color: #d4ebff;}#sk-container-id-1 input.sk-hidden--visually {border: 0;clip: rect(1px 1px 1px 1px);clip: rect(1px, 1px, 1px, 1px);height: 1px;margin: -1px;overflow: hidden;padding: 0;position: absolute;width: 1px;}#sk-container-id-1 div.sk-estimator {font-family: monospace;background-color: #f0f8ff;border: 1px dotted black;border-radius: 0.25em;box-sizing: border-box;margin-bottom: 0.5em;}#sk-container-id-1 div.sk-estimator:hover {background-color: #d4ebff;}#sk-container-id-1 div.sk-parallel-item::after {content: \"\";width: 100%;border-bottom: 1px solid gray;flex-grow: 1;}#sk-container-id-1 div.sk-label:hover label.sk-toggleable__label {background-color: #d4ebff;}#sk-container-id-1 div.sk-serial::before {content: \"\";position: absolute;border-left: 1px solid gray;box-sizing: border-box;top: 0;bottom: 0;left: 50%;z-index: 0;}#sk-container-id-1 div.sk-serial {display: flex;flex-direction: column;align-items: center;background-color: white;padding-right: 0.2em;padding-left: 0.2em;position: relative;}#sk-container-id-1 div.sk-item {position: relative;z-index: 1;}#sk-container-id-1 div.sk-parallel {display: flex;align-items: stretch;justify-content: center;background-color: white;position: relative;}#sk-container-id-1 div.sk-item::before, #sk-container-id-1 div.sk-parallel-item::before {content: \"\";position: absolute;border-left: 1px solid gray;box-sizing: border-box;top: 0;bottom: 0;left: 50%;z-index: -1;}#sk-container-id-1 div.sk-parallel-item {display: flex;flex-direction: column;z-index: 1;position: relative;background-color: white;}#sk-container-id-1 div.sk-parallel-item:first-child::after {align-self: flex-end;width: 50%;}#sk-container-id-1 div.sk-parallel-item:last-child::after {align-self: flex-start;width: 50%;}#sk-container-id-1 div.sk-parallel-item:only-child::after {width: 0;}#sk-container-id-1 div.sk-dashed-wrapped {border: 1px dashed gray;margin: 0 0.4em 0.5em 0.4em;box-sizing: border-box;padding-bottom: 0.4em;background-color: white;}#sk-container-id-1 div.sk-label label {font-family: monospace;font-weight: bold;display: inline-block;line-height: 1.2em;}#sk-container-id-1 div.sk-label-container {text-align: center;}#sk-container-id-1 div.sk-container {/* jupyter's `normalize.less` sets `[hidden] { display: none; }` but bootstrap.min.css set `[hidden] { display: none !important; }` so we also need the `!important` here to be able to override the default hidden behavior on the sphinx rendered scikit-learn.org. See: https://github.com/scikit-learn/scikit-learn/issues/21755 */display: inline-block !important;position: relative;}#sk-container-id-1 div.sk-text-repr-fallback {display: none;}</style><div id=\"sk-container-id-1\" class=\"sk-top-container\"><div class=\"sk-text-repr-fallback\"><pre>LogisticRegression(max_iter=1000, random_state=30)</pre><b>In a Jupyter environment, please rerun this cell to show the HTML representation or trust the notebook. <br />On GitHub, the HTML representation is unable to render, please try loading this page with nbviewer.org.</b></div><div class=\"sk-container\" hidden><div class=\"sk-item\"><div class=\"sk-estimator sk-toggleable\"><input class=\"sk-toggleable__control sk-hidden--visually\" id=\"sk-estimator-id-1\" type=\"checkbox\" checked><label for=\"sk-estimator-id-1\" class=\"sk-toggleable__label sk-toggleable__label-arrow\">LogisticRegression</label><div class=\"sk-toggleable__content\"><pre>LogisticRegression(max_iter=1000, random_state=30)</pre></div></div></div></div></div>"
      ],
      "text/plain": [
       "LogisticRegression(max_iter=1000, random_state=30)"
      ]
     },
     "execution_count": 9,
     "metadata": {},
     "output_type": "execute_result"
    }
   ],
   "source": [
    "# Trenujemy model na danych treningowych:\n",
    "\n",
    "# We train the model on training data:\n",
    "\n",
    "from sklearn.datasets import make_classification\n",
    "\n",
    "model = LogisticRegression(random_state=30, max_iter=1000)\n",
    "\n",
    "# Parametr 'random_state' służy do ustawienia ziarna losowego dla algorytmu optymalizacji. Ustawienie go na stałą liczbę\n",
    "# zapewnia, że model będzie dawał takie same wyniki przy każdym uruchomieniu (bez tego model będzie używał różnych ziaren \n",
    "# losowych za każdym razem, co może prowadzić do różnych wyników).\n",
    "\n",
    "model.fit(Xlog_train, ylog_train.values.ravel())"
   ]
  },
  {
   "cell_type": "code",
   "execution_count": 10,
   "id": "4d5bed6c",
   "metadata": {},
   "outputs": [
    {
     "name": "stdout",
     "output_type": "stream",
     "text": [
      "[0 1 0 0 0 1 0 0 0 0 0 0 0 0 1 1 0 1 1 1 0 1 0 1 0 0 1 0 0 1 1 0 0 0 0 0 0\n",
      " 0 1 0 0 0 0 0 0 1 0 0 0 0 1 0 1 1 0 1 1 0 0 0 0 1 0 0 0 0 1 1 1 1 1 0 0 0\n",
      " 0 0 0 1 0 0 1 0 0 1 1 1 1 1 0 0 1 0 0 0 0 0 1 1 1 0 1 0 0 0 1 0 0 0 1 0 1\n",
      " 0 1 0 1 1 0 0 0 0 0 1 0 0 1 1 1 0 1 1 0 1 0 0 1 0 0 0 1 0 0 0 0 1 0 0 0 0\n",
      " 1 0 0 0 0 1 0 0 0 1 1 0 0 0 1 0 0 0 0 0 1 0 0 1 0 0 0 0 1 0 1 1 1 0 0 0 1\n",
      " 0 0 0 1 1 0 0 0 1 0 0 0 1 1 0 1 0 1 0 1 0 1 1 1 1 0 0 0 1 1 0 1 0 1 1 0 1\n",
      " 0 0 1 1 0 0 1 0 1 1 0 1 0 1 0 1 1 0 0 1 1 0 1 0 0 1 0 1 1 0 0 1 0 1 1 0 1\n",
      " 0 1 0 0 0 0 0 0 1 0 0 0 0 0 1 1 0 1 0 0 1 0 0 0 0 1 0 0 1 1 0 1 0 0 0 1 0\n",
      " 0 0 0 0 0 1 0 1 0 0 0 0 0 0 0 0 1 0 0 0 1 0 0 0 1 0 1 1 1 0 1 0 1 0 1 0 0\n",
      " 0 0 0 1 0 0 1 0 1 1 0 0 0 0 1 1 0 0 1 1 0 0 1 0 1 0 1 1 0 1 0 0 1 0 0 1 1\n",
      " 1 1 0 1 0 1 0 0 0 1 1 0 0 1 0 0 0 0 0 0 1 1 1 1 1 0 0 1 0 0 0 0 0 0 0 0 0\n",
      " 0 1 1 0 0 0 1 0 0 1 1 1 0 0 0 0 0 0 0 1 0 0 1 1 0 0 0 1 0 1 1 1 0 1 1 0 1\n",
      " 0 0 0 0 0 0 0 0 1 0 0 0 0 0 1 1 0 1 0 1 0 0 0 1 0 0 1 0 0 0 0 0 0 0 0 1 0\n",
      " 0 0 0 0 0 0 0 1 1 0 0 1 0 0 0 1 0 0 1 0 0 0 1 1 0 1 0 1 1 1 0 1 0 0 1 1 1\n",
      " 1 0 0 0 0 1 1 0 1 1 1 0 0 1 0 0 0 1 0 0 0 1 0 1 1 1 0 1 0 0 0 1 0 0 0 0 1\n",
      " 0 1 0 0 0 1 0 1 1 0 0 1 0 1 1 1 0 1 0 0 1 1 0 0 0 0 0 0 0 1 0 1 0 1 1 0 1\n",
      " 1 1 0 0 0 0 1 1 1 1 0 0 0 0 0 0 1 0 0 0 0 0 0 0 0 1 1 1 0 0 0 0 0 0 0 0 0\n",
      " 0 0 0 0 1 0 1 0 0 0 0 0 0 0 0 0 1 1 0 1 0 1 1 1 0 1 0 0 0 0 0 0 1 0 0 1 1\n",
      " 1 0 0 0 1 0 0 0 1 0 1 0 0 0 1 0 0 0 0 1 0 0 0 0 1 1 0 1 0 0 0 0 0 0 0 1 1\n",
      " 1 0 0 1 0 1 1 1 1 0 0 0 0 1 0 0 0 0 0 1 0 1 1 0 1 1 1 1 0 0 0 0 0 1 0 0 0\n",
      " 1 1 0 1 1 1 0 0 0 0]\n"
     ]
    }
   ],
   "source": [
    "y_pred_train = model.predict(Xlog_train)\n",
    "y_pred = model.predict(Xlog_test)\n",
    "print(y_pred)\n",
    "# print(ylog_test.values)"
   ]
  },
  {
   "cell_type": "code",
   "execution_count": 11,
   "id": "84b69f3f",
   "metadata": {},
   "outputs": [
    {
     "data": {
      "image/png": "[encoded data removed]",
      "text/plain": [
       "<Figure size 640x480 with 2 Axes>"
      ]
     },
     "metadata": {},
     "output_type": "display_data"
    }
   ],
   "source": [
    "# Metryki klasyfikacji:\n",
    "\n",
    "# Classification metrics:\n",
    "\n",
    "from sklearn.metrics import confusion_matrix\n",
    "\n",
    "cmlog_train = confusion_matrix(ylog_train, y_pred_train)\n",
    "sns.heatmap(cmlog_train, annot=True, fmt='d')\n",
    "plt.show()\n"
   ]
  },
  {
   "cell_type": "markdown",
   "id": "222eb977",
   "metadata": {},
   "source": [
    "Macierz pomyłek (ang. confusion matrix) jest narzędziem do oceny jakości modelu klasyfikacji. Pokazuje liczbę prawdziwie pozytywnych,fałszywie negatywnych, fałszywie pozytywnych i prawdziwie negatywnych przewidywań modelu. \n",
    "\n",
    "TP - prawdziwie pozytywne \n",
    "FP - fałszywie pozytywne \n",
    "FN - fałszywie negatywne \n",
    "TN - prawdziwie negatywne"
   ]
  },
  {
   "cell_type": "markdown",
   "id": "db4876bc",
   "metadata": {},
   "source": [
    "The confusion matrix is a tool for assessing the quality of a classification model. Shows the number of true positive (TP), false negative (FN), false positive (FP) and true negative (TN) predictions of the model."
   ]
  },
  {
   "cell_type": "code",
   "execution_count": 12,
   "id": "ae5d543c",
   "metadata": {},
   "outputs": [
    {
     "data": {
      "text/plain": [
       "array([[880, 316],\n",
       "       [591, 460]], dtype=int64)"
      ]
     },
     "execution_count": 12,
     "metadata": {},
     "output_type": "execute_result"
    }
   ],
   "source": [
    "cmlog_train"
   ]
  },
  {
   "cell_type": "code",
   "execution_count": 13,
   "id": "d9f5999e",
   "metadata": {},
   "outputs": [
    {
     "data": {
      "text/plain": [
       "<Axes: >"
      ]
     },
     "execution_count": 13,
     "metadata": {},
     "output_type": "execute_result"
    },
    {
     "data": {
      "image/png": "[encoded data removed]",
      "text/plain": [
       "<Figure size 640x480 with 2 Axes>"
      ]
     },
     "metadata": {},
     "output_type": "display_data"
    }
   ],
   "source": [
    "cmlog = confusion_matrix(ylog_test, y_pred)\n",
    "sns.heatmap(cmlog, annot=True, fmt='d')"
   ]
  },
  {
   "cell_type": "code",
   "execution_count": 14,
   "id": "8d47e86a",
   "metadata": {},
   "outputs": [
    {
     "data": {
      "text/plain": [
       "array([[256, 143],\n",
       "       [218, 133]], dtype=int64)"
      ]
     },
     "execution_count": 14,
     "metadata": {},
     "output_type": "execute_result"
    }
   ],
   "source": [
    "cmlog"
   ]
  },
  {
   "cell_type": "markdown",
   "id": "e1fc9b5e",
   "metadata": {},
   "source": [
    "Inne metryki klasyfikacji:\n",
    "\n",
    "Accuracy: tj. dokładność, oznacza stosunek liczby poprawnych przewidywań modelu do całkowitej liczby przewidywań. Metryka ta\n",
    "                          jest użyteczna, gdy wszystkie klasy są równie ważne i zrównoważone. Jednak może być myląca przy\n",
    "                          niezrównoważonych zbiorach danych lub gdy koszt błędu jest różny dla różnych klas.\n",
    "\n",
    "Precision: tj. precyzja, określa proporcję poprawnych przewidywań wśród wszystkich przewidywań pozytywnych. Jest to\n",
    "                         stosunek liczby prawdziwie pozytywnych przewidywań do sumy prawdziwie pozytywnych i fałszywie\n",
    "                         pozytywnych przewidywań. \n",
    "                         Metryka ta jest użyteczna, gdy chcemy zmniejszyć liczbę fałszywych alarmów (fałszywie pozytywne\n",
    "                         przewidywania, które obniżają jej wartość) lub gdy koszt fałszywie pozytywnego błędu jest wysoki.                              Jeśli jednak chcemy zmaksymalizować liczbę poprawnie wykrytych przypadków pozytywnych lub gdy koszt                            fałszywie negatywnego błędu jest wysoki, lepiej użyć metryki 'Recall' (czułość).\n",
    "                         \n",
    "Recall: tj. czułość, określa proporcję poprawnych przewidywań wśród wszystkich przypadków pozytywnych. Jest to stosunek liczby\n",
    "                     prawdziwie pozytywnych przewidywań do sumy prawdziwie pozytywnych i fałszywie negatywnych przewidywań. \n",
    "                     \n",
    "F1-Score: tj. współczynnik F1, łączy w sobie metryki 'Precision' i 'Recall', obliczając ich średnią harmoniczną. Jest to\n",
    "              stosunek dwukrotności iloczynu precision i recall do sumy precision i recall.\n",
    "              F1-Score jest użyteczne, gdy chcemy zrównoważyć obie metryki i ocenić model pod kątem jego zdolności do \n",
    "              poprawnego przewidywania przypadków pozytywnych. Im wyższe F1-Score, tym lepszy jest model. F1-Score nie \n",
    "              uwzględnia prawdziwie negatywnych przewidywań, więc może być myląca w przypadku niezrównoważonych zbiorów danych.\n"
   ]
  },
  {
   "cell_type": "markdown",
   "id": "d93df45b",
   "metadata": {},
   "source": [
    "Other classification metrics:\n",
    "\n",
    "Accuracy: is the ratio of the number of correct model predictions to the total number of predictions. This metric is useful \n",
    "          when all classes are equally important and balanced. However, it can be misleading at unbalanced data sets or when \n",
    "          the cost of error is different for different classes.\n",
    "          \n",
    "Precision: determines the proportion of correct predictions among all positive predictions. It is the ratio of the number of \n",
    "           true positive predictions to the sum of true positives and false positives predictions. This metric is useful when\n",
    "           we want to reduce the number of false alarms (false positives predictions that reduce its value) or when the cost of\n",
    "           a false positive error is high. However, if we want to maximize the number of correctly detected positive cases or\n",
    "           if thee cost of a false negative error is high, it is better to use 'Recall' metric.\n",
    "           \n",
    "Recall: sensitivity, determines the proportion of correct predictions among all positive cases. It is a ratio of a number true\n",
    "        positive predictions to the sum of true positive and false negative predictions.\n",
    "        \n",
    "F1-Score: the F1 factor, combines the 'Precision' and 'Recall' metrics by calculating their harmonic mean. It is the ratio of\n",
    "          twice the product of precision and recall to the sum of precision and recall. F1-Score is useful when we want to \n",
    "          balance both metrics and evaluate the model for its ability to correctly predicting positive cases. The higher \n",
    "          the F1-Score, the better the model is. F1-Score no takes into account true negative predictions, so it may be\n",
    "          misleading in unbalanced datasets."
   ]
  },
  {
   "cell_type": "code",
   "execution_count": 15,
   "id": "f9b2693d",
   "metadata": {},
   "outputs": [],
   "source": [
    "from sklearn.metrics import accuracy_score, precision_score, recall_score, f1_score"
   ]
  },
  {
   "cell_type": "code",
   "execution_count": 16,
   "id": "1868ee15",
   "metadata": {},
   "outputs": [],
   "source": [
    "def calculate_metrics(target, prediction, average='macro'):\n",
    "    accuracy = accuracy_score(target, prediction)\n",
    "    precision = precision_score(target, prediction, average=average)\n",
    "    recall = recall_score(target, prediction, average=average)\n",
    "    f1 = f1_score(target, prediction, average=average)\n",
    "    mislabeled = (target != prediction).sum()\n",
    "    total = len(target)\n",
    "    return accuracy, precision, recall, f1, mislabeled, total\n",
    "def print_results(metrics, classifier_id='classifier'):\n",
    "    print(f'Results for {classifier_id}')\n",
    "    print('----')\n",
    "    print(f'  Accuracy:  {metrics[0]}')\n",
    "    print(f'  Precision: {metrics[1]}')\n",
    "    print(f'  Recall:    {metrics[2]}')\n",
    "    print(f'  F1 score:  {metrics[3]}')\n",
    "    print(f'  Mislabeled {metrics[4]} out of {metrics[5]}')\n",
    "    print('\\n')"
   ]
  },
  {
   "cell_type": "code",
   "execution_count": 17,
   "id": "6cc60cba",
   "metadata": {},
   "outputs": [
    {
     "name": "stdout",
     "output_type": "stream",
     "text": [
      "Results for Log\n",
      "----\n",
      "  Accuracy:  0.5186666666666667\n",
      "  Precision: 0.5109842230783342\n",
      "  Recall:    0.5102606944712208\n",
      "  F1 score:  0.5053629074247631\n",
      "  Mislabeled 276498 out of 750\n",
      "\n",
      "\n"
     ]
    }
   ],
   "source": [
    "LogMetrics1 = calculate_metrics(ylog_test.values, y_pred)\n",
    "LogMetrics = print_results(calculate_metrics(ylog_test.values, y_pred), 'Log')\n",
    "LogMetrics"
   ]
  },
  {
   "cell_type": "markdown",
   "id": "43c536d4",
   "metadata": {},
   "source": [
    "  Niska wartość współczynnika F1 może świadczyć o tzw. niedotrenowaniu modelu, czyli sytuacji gdy model nie nauczył się wystarczająco dobrze z danych treningowych i ma przez to duży błąd dopasowania. Oznacza to, że jest zbyt prosty lub ma zbyt mało parametrów, aby dobrze odwzorować zależności w danych. Ma niską zdolność generalizacji i nie potrafi poradzić sobie z danymi, których dotąd nie widział. Sposobami na rozwiązanie tego problemu mogą być:\n",
    "\n",
    "  - wybór bardziej złożonego modelu, który wykorzystuje większą liczbę parametrów (tu: w kolejnych etapach projektu),\n",
    "  - Feature Engineering, czyli dołączenie większej liczby cech do algorytmu uczącego,\n",
    "  - zwiększenie liczby danych treningowych,\n",
    "  - optymalizacja hiperparametrów."
   ]
  },
  {
   "cell_type": "markdown",
   "id": "c5364ec3",
   "metadata": {},
   "source": [
    "  A low value of the F1 coefficient may indicate the so-called undertraining of the model, i.e. a situation where the model has not learned well enough from the taining data and therefore has a large fitting error. This means that it is too simple or has too few parameters to properly represent the relationships in the data. He has low generalization ability and cannot deal with data hehas not seen before. Ways to solve this problem may be:\n",
    "  \n",
    "  - selection of a more complex model that uses a larger number of parameters (here: in subsequent stages of the project),\n",
    "  \n",
    "  - Feature Engineering, i.e. adding more features to the training algorithm,\n",
    "  \n",
    "  - increasing the number of training data,\n",
    "  \n",
    "  - hyperparameter optimization.  "
   ]
  },
  {
   "cell_type": "markdown",
   "id": "72cea51e",
   "metadata": {},
   "source": []
  },
  {
   "cell_type": "markdown",
   "id": "109e1d55",
   "metadata": {},
   "source": [
    "                                        NAIWNY KLASYFIKATOR BAYESOWSKI:\n",
    "                                        \n",
    "                                          Naive Bayesian classifier"
   ]
  },
  {
   "cell_type": "markdown",
   "id": "6711c225",
   "metadata": {},
   "source": []
  },
  {
   "cell_type": "markdown",
   "id": "64c1d02b",
   "metadata": {},
   "source": [
    "  Naiwny klasyfikator bayesowski to klasyfikator probabilistyczny, który opiera się na twierdzeniu Bayesa o prawdopodobieństwie warunkowym. Zakłada, że cechy (zmienne niezależne) są wzajemnie niezależne i nie mają wpływu na siebie nawzajem. To założenie jest często niespełnione w rzeczywistości, dlatego nazywa się je naiwnym. Klasyfikator jest prosty w implementacji i często daje dobre wyniki, zwłaszcza przy dużym zbiorze danych i wielu wymiarach."
   ]
  },
  {
   "cell_type": "markdown",
   "id": "95ac9901",
   "metadata": {},
   "source": [
    "  A naive Bayesian classifier is a probabilistic classifier that is based on Bayes' condditional probability theorem. It assumes that the features (independent variables) are mutually independent and do not influence each other. This assumption is often not fulfilled in reality, which is why it is called naive. The classifier is simple to implement and often produces good results, especially with a large dataset and many dimensions."
   ]
  },
  {
   "cell_type": "code",
   "execution_count": 18,
   "id": "913153a2",
   "metadata": {},
   "outputs": [],
   "source": [
    "import numpy as np\n",
    "import pandas as pd\n",
    "import sklearn\n",
    "from sklearn.model_selection import train_test_split\n",
    "from sklearn.metrics import accuracy_score, precision_score, recall_score, f1_score, confusion_matrix\n",
    "from sklearn.metrics import confusion_matrix\n",
    "import matplotlib.pyplot as plt\n",
    "import seaborn as sns"
   ]
  },
  {
   "cell_type": "code",
   "execution_count": 19,
   "id": "fc51ccec",
   "metadata": {},
   "outputs": [
    {
     "data": {
      "text/html": [
       "<div>\n",
       "<style scoped>\n",
       "    .dataframe tbody tr th:only-of-type {\n",
       "        vertical-align: middle;\n",
       "    }\n",
       "\n",
       "    .dataframe tbody tr th {\n",
       "        vertical-align: top;\n",
       "    }\n",
       "\n",
       "    .dataframe thead th {\n",
       "        text-align: right;\n",
       "    }\n",
       "</style>\n",
       "<table border=\"1\" class=\"dataframe\">\n",
       "  <thead>\n",
       "    <tr style=\"text-align: right;\">\n",
       "      <th></th>\n",
       "      <th>Age</th>\n",
       "      <th>DistanceFromHome</th>\n",
       "      <th>Education</th>\n",
       "      <th>EnvironmentSatisfaction</th>\n",
       "      <th>JobInvolvement</th>\n",
       "      <th>JobLevel</th>\n",
       "      <th>JobSatisfaction</th>\n",
       "      <th>MonthlyIncome</th>\n",
       "      <th>NumCompaniesWorked</th>\n",
       "      <th>PercentSalaryHike</th>\n",
       "      <th>...</th>\n",
       "      <th>JobRole_Manufacturing Director</th>\n",
       "      <th>JobRole_Research Director</th>\n",
       "      <th>JobRole_Research Scientist</th>\n",
       "      <th>JobRole_Sales Executive</th>\n",
       "      <th>JobRole_Sales Representative</th>\n",
       "      <th>MaritalStatus_Divorced</th>\n",
       "      <th>MaritalStatus_Married</th>\n",
       "      <th>MaritalStatus_Single</th>\n",
       "      <th>OverTime_No</th>\n",
       "      <th>OverTime_Yes</th>\n",
       "    </tr>\n",
       "  </thead>\n",
       "  <tbody>\n",
       "    <tr>\n",
       "      <th>0</th>\n",
       "      <td>30</td>\n",
       "      <td>1</td>\n",
       "      <td>1</td>\n",
       "      <td>4</td>\n",
       "      <td>2</td>\n",
       "      <td>2</td>\n",
       "      <td>4</td>\n",
       "      <td>5126</td>\n",
       "      <td>1</td>\n",
       "      <td>12</td>\n",
       "      <td>...</td>\n",
       "      <td>0</td>\n",
       "      <td>0</td>\n",
       "      <td>0</td>\n",
       "      <td>0</td>\n",
       "      <td>0</td>\n",
       "      <td>0</td>\n",
       "      <td>1</td>\n",
       "      <td>0</td>\n",
       "      <td>0</td>\n",
       "      <td>1</td>\n",
       "    </tr>\n",
       "    <tr>\n",
       "      <th>1</th>\n",
       "      <td>38</td>\n",
       "      <td>2</td>\n",
       "      <td>2</td>\n",
       "      <td>4</td>\n",
       "      <td>2</td>\n",
       "      <td>3</td>\n",
       "      <td>3</td>\n",
       "      <td>7756</td>\n",
       "      <td>3</td>\n",
       "      <td>19</td>\n",
       "      <td>...</td>\n",
       "      <td>1</td>\n",
       "      <td>0</td>\n",
       "      <td>0</td>\n",
       "      <td>0</td>\n",
       "      <td>0</td>\n",
       "      <td>0</td>\n",
       "      <td>1</td>\n",
       "      <td>0</td>\n",
       "      <td>0</td>\n",
       "      <td>1</td>\n",
       "    </tr>\n",
       "    <tr>\n",
       "      <th>2</th>\n",
       "      <td>26</td>\n",
       "      <td>6</td>\n",
       "      <td>3</td>\n",
       "      <td>3</td>\n",
       "      <td>2</td>\n",
       "      <td>1</td>\n",
       "      <td>2</td>\n",
       "      <td>2368</td>\n",
       "      <td>1</td>\n",
       "      <td>19</td>\n",
       "      <td>...</td>\n",
       "      <td>0</td>\n",
       "      <td>0</td>\n",
       "      <td>1</td>\n",
       "      <td>0</td>\n",
       "      <td>0</td>\n",
       "      <td>0</td>\n",
       "      <td>1</td>\n",
       "      <td>0</td>\n",
       "      <td>1</td>\n",
       "      <td>0</td>\n",
       "    </tr>\n",
       "    <tr>\n",
       "      <th>3</th>\n",
       "      <td>28</td>\n",
       "      <td>8</td>\n",
       "      <td>2</td>\n",
       "      <td>4</td>\n",
       "      <td>3</td>\n",
       "      <td>1</td>\n",
       "      <td>4</td>\n",
       "      <td>3310</td>\n",
       "      <td>1</td>\n",
       "      <td>21</td>\n",
       "      <td>...</td>\n",
       "      <td>0</td>\n",
       "      <td>0</td>\n",
       "      <td>1</td>\n",
       "      <td>0</td>\n",
       "      <td>0</td>\n",
       "      <td>0</td>\n",
       "      <td>0</td>\n",
       "      <td>1</td>\n",
       "      <td>1</td>\n",
       "      <td>0</td>\n",
       "    </tr>\n",
       "    <tr>\n",
       "      <th>4</th>\n",
       "      <td>35</td>\n",
       "      <td>4</td>\n",
       "      <td>2</td>\n",
       "      <td>3</td>\n",
       "      <td>3</td>\n",
       "      <td>1</td>\n",
       "      <td>4</td>\n",
       "      <td>1951</td>\n",
       "      <td>1</td>\n",
       "      <td>12</td>\n",
       "      <td>...</td>\n",
       "      <td>0</td>\n",
       "      <td>0</td>\n",
       "      <td>0</td>\n",
       "      <td>0</td>\n",
       "      <td>0</td>\n",
       "      <td>1</td>\n",
       "      <td>0</td>\n",
       "      <td>0</td>\n",
       "      <td>1</td>\n",
       "      <td>0</td>\n",
       "    </tr>\n",
       "  </tbody>\n",
       "</table>\n",
       "<p>5 rows × 47 columns</p>\n",
       "</div>"
      ],
      "text/plain": [
       "   Age  DistanceFromHome  Education  EnvironmentSatisfaction  JobInvolvement   \n",
       "0   30                 1          1                        4               2  \\\n",
       "1   38                 2          2                        4               2   \n",
       "2   26                 6          3                        3               2   \n",
       "3   28                 8          2                        4               3   \n",
       "4   35                 4          2                        3               3   \n",
       "\n",
       "   JobLevel  JobSatisfaction  MonthlyIncome  NumCompaniesWorked   \n",
       "0         2                4           5126                   1  \\\n",
       "1         3                3           7756                   3   \n",
       "2         1                2           2368                   1   \n",
       "3         1                4           3310                   1   \n",
       "4         1                4           1951                   1   \n",
       "\n",
       "   PercentSalaryHike  ...  JobRole_Manufacturing Director   \n",
       "0                 12  ...                               0  \\\n",
       "1                 19  ...                               1   \n",
       "2                 19  ...                               0   \n",
       "3                 21  ...                               0   \n",
       "4                 12  ...                               0   \n",
       "\n",
       "   JobRole_Research Director  JobRole_Research Scientist   \n",
       "0                          0                           0  \\\n",
       "1                          0                           0   \n",
       "2                          0                           1   \n",
       "3                          0                           1   \n",
       "4                          0                           0   \n",
       "\n",
       "   JobRole_Sales Executive  JobRole_Sales Representative   \n",
       "0                        0                             0  \\\n",
       "1                        0                             0   \n",
       "2                        0                             0   \n",
       "3                        0                             0   \n",
       "4                        0                             0   \n",
       "\n",
       "   MaritalStatus_Divorced  MaritalStatus_Married  MaritalStatus_Single   \n",
       "0                       0                      1                     0  \\\n",
       "1                       0                      1                     0   \n",
       "2                       0                      1                     0   \n",
       "3                       0                      0                     1   \n",
       "4                       1                      0                     0   \n",
       "\n",
       "   OverTime_No  OverTime_Yes  \n",
       "0            0             1  \n",
       "1            0             1  \n",
       "2            1             0  \n",
       "3            1             0  \n",
       "4            1             0  \n",
       "\n",
       "[5 rows x 47 columns]"
      ]
     },
     "execution_count": 19,
     "metadata": {},
     "output_type": "execute_result"
    }
   ],
   "source": [
    "ATTMod = pd.read_csv('Dane/ATTMod.csv')\n",
    "ATTMod.head()"
   ]
  },
  {
   "cell_type": "code",
   "execution_count": 20,
   "id": "6a5160a6",
   "metadata": {},
   "outputs": [],
   "source": [
    "train_data = ATTMod.drop('Attrition', axis=1)\n",
    "train_labels = ATTMod[['Attrition']]"
   ]
  },
  {
   "cell_type": "code",
   "execution_count": 21,
   "id": "340efe1f",
   "metadata": {},
   "outputs": [],
   "source": [
    "from sklearn.naive_bayes import MultinomialNB, GaussianNB"
   ]
  },
  {
   "cell_type": "code",
   "execution_count": 22,
   "id": "e79a83d9",
   "metadata": {},
   "outputs": [],
   "source": [
    "XBay = train_data\n",
    "yBay = train_labels"
   ]
  },
  {
   "cell_type": "code",
   "execution_count": 23,
   "id": "b6cde3b5",
   "metadata": {},
   "outputs": [],
   "source": [
    "XBay_train, XBay_test, yBay_train, yBay_test = train_test_split(XBay, yBay, test_size=0.2, stratify=yBay)"
   ]
  },
  {
   "cell_type": "code",
   "execution_count": 24,
   "id": "fbe54483",
   "metadata": {},
   "outputs": [
    {
     "name": "stdout",
     "output_type": "stream",
     "text": [
      "[0 0 1 1 0 1 1 1 0 1 0 1 0 0 0 0 0 0 0 0 0 0 0 0 0 0 1 1 0 1 0 0 0 1 0 1 0\n",
      " 0 1 0 1 0 0 1 0 0 1 0 0 0 1 0 1 0 0 0 1 1 1 0 0 0 0 1 1 1 1 0 1 0 0 0 1 0\n",
      " 0 0 0 1 1 1 1 1 0 0 1 1 1 1 0 0 0 1 1 0 1 1 1 0 1 0 0 1 1 1 0 1 0 1 1 0 0\n",
      " 0 1 0 1 0 0 1 1 0 0 0 1 1 0 0 1 0 1 1 1 0 0 0 1 0 0 1 1 1 0 1 0 1 0 0 1 0\n",
      " 0 0 1 0 1 1 1 1 0 0 0 1 0 0 1 0 0 0 0 1 0 1 1 0 1 0 0 0 1 1 1 0 1 1 0 0 0\n",
      " 0 0 0 0 1 1 0 1 0 1 0 1 0 1 0 0 0 0 1 0 0 1 1 1 0 0 0 0 0 1 1 0 0 1 0 1 0\n",
      " 0 1 1 1 0 1 1 1 1 1 1 1 0 0 1 1 0 1 0 0 1 0 1 0 1 0 0 1 0 1 1 0 1 0 0 1 1\n",
      " 1 0 1 0 1 1 1 0 0 1 1 1 0 0 1 0 0 0 0 0 1 1 1 0 1 0 1 0 0 0 1 0 1 0 0 0 0\n",
      " 0 0 0 0 0 1 0 0 0 0 0 0 0 0 1 0 0 1 1 1 1 0 0 1 1 0 1 0 1 0 0 0 0 1 0 0 0\n",
      " 0 1 0 1 1 1 1 0 1 0 1 0 0 0 0 0 0 0 0 1 1 0 0 0 0 0 0 0 1 0 1 0 0 1 0 0 0\n",
      " 0 1 1 0 1 1 0 0 1 1 1 1 0 1 0 1 0 1 1 1 1 1 0 1 0 1 0 1 1 0 0 0 1 1 1 1 0\n",
      " 0 0 0 1 1 0 0 1 0 0 0 0 0 1 1 0 0 1 1 1 1 1 0 0 1 0 0 1 0 0 1 1 1 0 0 1 1\n",
      " 0 0 1 0 0 0 1 0 0 1 0 0 1 1 1 0 0 1 1 1 0 1 0 0 0 0 0 0 1 1 0 1 1 1 1 1 1\n",
      " 0 1 1 1 1 0 1 0 0 0 1 0 0 1 1 1 0 0 1 1 1 1 0 0 1 0 0 0 0 0 1 1 1 0 1 0 0\n",
      " 0 0 0 0 0 0 0 0 1 0 1 1 1 1 0 0 0 0 1 1 1 1 0 0 1 0 1 0 0 1 1 1 1 0 1 0 0\n",
      " 0 1 1 0 1 0 1 0 0 1 1 1 0 1 0 0 0 0 0 0 0 0 1 1 0 0 1 0 1 1 0 0 0 0 1 1 1\n",
      " 1 0 1 0 1 0 1 1]\n",
      "[[178 141]\n",
      " [153 128]]\n"
     ]
    },
    {
     "name": "stderr",
     "output_type": "stream",
     "text": [
      "C:\\Users\\Kamil - IT\\AppData\\Local\\Programs\\Python\\Python311\\Lib\\site-packages\\sklearn\\utils\\validation.py:1143: DataConversionWarning: A column-vector y was passed when a 1d array was expected. Please change the shape of y to (n_samples, ), for example using ravel().\n",
      "  y = column_or_1d(y, warn=True)\n"
     ]
    }
   ],
   "source": [
    "# Klasyfikator Gaussowski lepiej nadaje się do danych ciągłych: \n",
    "# (dane, które mogą przyjmować dowolną wartość z pewnego przedziału)\n",
    "\n",
    "# The Gaussian classifier is better suited for continuous data (data that can take on any value within a certain range):\n",
    "\n",
    "gnb = GaussianNB()  \n",
    "gnb.fit(XBay_train, yBay_train)\n",
    "y_gnb = gnb.predict(XBay_test)\n",
    "# print(yBay_test.values)\n",
    "print(y_gnb)\n",
    "print(confusion_matrix(yBay_test,y_gnb))"
   ]
  },
  {
   "cell_type": "code",
   "execution_count": 25,
   "id": "34b7a938",
   "metadata": {},
   "outputs": [
    {
     "name": "stdout",
     "output_type": "stream",
     "text": [
      "Results for GNB\n",
      "----\n",
      "  Accuracy:  0.51\n",
      "  Precision: 0.506800390839969\n",
      "  Recall:    0.5067548723211994\n",
      "  F1 score:  0.5065734265734265\n",
      "  Mislabeled 178822 out of 600\n",
      "\n",
      "\n"
     ]
    }
   ],
   "source": [
    "GNBMetricsBayes1 = calculate_metrics(yBay_test.values, y_gnb)\n",
    "GNBMetricsBayes = print_results(calculate_metrics(yBay_test.values, y_gnb), 'GNB')\n",
    "GNBMetricsBayes"
   ]
  },
  {
   "cell_type": "code",
   "execution_count": 26,
   "id": "82d5d339",
   "metadata": {},
   "outputs": [
    {
     "name": "stdout",
     "output_type": "stream",
     "text": [
      "[[178 141]\n",
      " [153 128]]\n"
     ]
    }
   ],
   "source": [
    "cm_gnbBay = confusion_matrix(yBay_test, y_gnb)\n",
    "print(cm_gnbBay)"
   ]
  },
  {
   "cell_type": "code",
   "execution_count": 27,
   "id": "73b1726a",
   "metadata": {},
   "outputs": [
    {
     "data": {
      "text/plain": [
       "<Axes: >"
      ]
     },
     "execution_count": 27,
     "metadata": {},
     "output_type": "execute_result"
    },
    {
     "data": {
      "image/png": "[encoded data removed]",
      "text/plain": [
       "<Figure size 640x480 with 2 Axes>"
      ]
     },
     "metadata": {},
     "output_type": "display_data"
    }
   ],
   "source": [
    "cm_gnbBay = confusion_matrix(yBay_test, y_gnb)\n",
    "sns.heatmap(cm_gnbBay, annot=True, fmt='d')"
   ]
  },
  {
   "cell_type": "code",
   "execution_count": 29,
   "id": "085d6244",
   "metadata": {},
   "outputs": [],
   "source": [
    "# Sprawdźmy jak poradzi sobie nasz model po dyskretyzacji danych (przekształcenie zmiennej ciągłej na dyskretną - taka, która\n",
    "# przyjmuje wartości ze skończonego zbioru wartości):\n",
    "\n",
    "# Let's check how our model will cope after data discretization (transforming a continuous variable into a discrete one -\n",
    "# one that accepts values from a finite set of values):"
   ]
  },
  {
   "cell_type": "code",
   "execution_count": 28,
   "id": "3b326b11",
   "metadata": {},
   "outputs": [
    {
     "name": "stdout",
     "output_type": "stream",
     "text": [
      "bin edges: \n",
      " [array([19. , 23.1, 27.2, 31.3, 35.4, 39.5, 43.6, 47.7, 51.8, 55.9, 60. ])\n",
      " array([ 1. ,  3.8,  6.6,  9.4, 12.2, 15. , 17.8, 20.6, 23.4, 26.2, 29. ])\n",
      " array([1. , 1.4, 1.8, 2.2, 2.6, 3. , 3.4, 3.8, 4.2, 4.6, 5. ])\n",
      " array([1. , 1.3, 1.6, 1.9, 2.2, 2.5, 2.8, 3.1, 3.4, 3.7, 4. ])\n",
      " array([1. , 1.3, 1.6, 1.9, 2.2, 2.5, 2.8, 3.1, 3.4, 3.7, 4. ])\n",
      " array([1. , 1.4, 1.8, 2.2, 2.6, 3. , 3.4, 3.8, 4.2, 4.6, 5. ])\n",
      " array([1. , 1.3, 1.6, 1.9, 2.2, 2.5, 2.8, 3.1, 3.4, 3.7, 4. ])\n",
      " array([ 1009.,  2908.,  4807.,  6706.,  8605., 10504., 12403., 14302.,\n",
      "        16201., 18100., 19999.])\n",
      " array([0. , 0.9, 1.8, 2.7, 3.6, 4.5, 5.4, 6.3, 7.2, 8.1, 9. ])\n",
      " array([11. , 12.4, 13.8, 15.2, 16.6, 18. , 19.4, 20.8, 22.2, 23.6, 25. ])\n",
      " array([1. , 1.3, 1.6, 1.9, 2.2, 2.5, 2.8, 3.1, 3.4, 3.7, 4. ])\n",
      " array([0. , 0.3, 0.6, 0.9, 1.2, 1.5, 1.8, 2.1, 2.4, 2.7, 3. ])\n",
      " array([ 1. ,  4.9,  8.8, 12.7, 16.6, 20.5, 24.4, 28.3, 32.2, 36.1, 40. ])\n",
      " array([0. , 0.6, 1.2, 1.8, 2.4, 3. , 3.6, 4.2, 4.8, 5.4, 6. ])\n",
      " array([1. , 1.3, 1.6, 1.9, 2.2, 2.5, 2.8, 3.1, 3.4, 3.7, 4. ])\n",
      " array([ 1. ,  4.9,  8.8, 12.7, 16.6, 20.5, 24.4, 28.3, 32.2, 36.1, 40. ])\n",
      " array([ 0. ,  1.7,  3.4,  5.1,  6.8,  8.5, 10.2, 11.9, 13.6, 15.3, 17. ])\n",
      " array([ 0. ,  1.6,  3.2,  4.8,  6.4,  8. ,  9.6, 11.2, 12.8, 14.4, 16. ])\n",
      " array([0. , 0.1, 0.2, 0.3, 0.4, 0.5, 0.6, 0.7, 0.8, 0.9, 1. ])\n",
      " array([0. , 0.1, 0.2, 0.3, 0.4, 0.5, 0.6, 0.7, 0.8, 0.9, 1. ])\n",
      " array([0. , 0.1, 0.2, 0.3, 0.4, 0.5, 0.6, 0.7, 0.8, 0.9, 1. ])\n",
      " array([0. , 0.1, 0.2, 0.3, 0.4, 0.5, 0.6, 0.7, 0.8, 0.9, 1. ])\n",
      " array([0. , 0.1, 0.2, 0.3, 0.4, 0.5, 0.6, 0.7, 0.8, 0.9, 1. ])\n",
      " array([0. , 0.1, 0.2, 0.3, 0.4, 0.5, 0.6, 0.7, 0.8, 0.9, 1. ])\n",
      " array([0. , 0.1, 0.2, 0.3, 0.4, 0.5, 0.6, 0.7, 0.8, 0.9, 1. ])\n",
      " array([0. , 0.1, 0.2, 0.3, 0.4, 0.5, 0.6, 0.7, 0.8, 0.9, 1. ])\n",
      " array([0. , 0.1, 0.2, 0.3, 0.4, 0.5, 0.6, 0.7, 0.8, 0.9, 1. ])\n",
      " array([0. , 0.1, 0.2, 0.3, 0.4, 0.5, 0.6, 0.7, 0.8, 0.9, 1. ])\n",
      " array([0. , 0.1, 0.2, 0.3, 0.4, 0.5, 0.6, 0.7, 0.8, 0.9, 1. ])\n",
      " array([0. , 0.1, 0.2, 0.3, 0.4, 0.5, 0.6, 0.7, 0.8, 0.9, 1. ])\n",
      " array([0. , 0.1, 0.2, 0.3, 0.4, 0.5, 0.6, 0.7, 0.8, 0.9, 1. ])\n",
      " array([0. , 0.1, 0.2, 0.3, 0.4, 0.5, 0.6, 0.7, 0.8, 0.9, 1. ])\n",
      " array([0. , 0.1, 0.2, 0.3, 0.4, 0.5, 0.6, 0.7, 0.8, 0.9, 1. ])\n",
      " array([0. , 0.1, 0.2, 0.3, 0.4, 0.5, 0.6, 0.7, 0.8, 0.9, 1. ])\n",
      " array([0. , 0.1, 0.2, 0.3, 0.4, 0.5, 0.6, 0.7, 0.8, 0.9, 1. ])\n",
      " array([0. , 0.1, 0.2, 0.3, 0.4, 0.5, 0.6, 0.7, 0.8, 0.9, 1. ])\n",
      " array([0. , 0.1, 0.2, 0.3, 0.4, 0.5, 0.6, 0.7, 0.8, 0.9, 1. ])\n",
      " array([0. , 0.1, 0.2, 0.3, 0.4, 0.5, 0.6, 0.7, 0.8, 0.9, 1. ])\n",
      " array([0. , 0.1, 0.2, 0.3, 0.4, 0.5, 0.6, 0.7, 0.8, 0.9, 1. ])\n",
      " array([0. , 0.1, 0.2, 0.3, 0.4, 0.5, 0.6, 0.7, 0.8, 0.9, 1. ])\n",
      " array([0. , 0.1, 0.2, 0.3, 0.4, 0.5, 0.6, 0.7, 0.8, 0.9, 1. ])\n",
      " array([0. , 0.1, 0.2, 0.3, 0.4, 0.5, 0.6, 0.7, 0.8, 0.9, 1. ])\n",
      " array([0. , 0.1, 0.2, 0.3, 0.4, 0.5, 0.6, 0.7, 0.8, 0.9, 1. ])\n",
      " array([0. , 0.1, 0.2, 0.3, 0.4, 0.5, 0.6, 0.7, 0.8, 0.9, 1. ])\n",
      " array([0. , 0.1, 0.2, 0.3, 0.4, 0.5, 0.6, 0.7, 0.8, 0.9, 1. ])\n",
      " array([0. , 0.1, 0.2, 0.3, 0.4, 0.5, 0.6, 0.7, 0.8, 0.9, 1. ])]\n"
     ]
    }
   ],
   "source": [
    "from sklearn.preprocessing import KBinsDiscretizer\n",
    "\n",
    "kb = KBinsDiscretizer(n_bins=10, strategy='uniform')\n",
    "kb.fit(XBay)\n",
    "print(\"bin edges: \\n\", kb.bin_edges_)"
   ]
  },
  {
   "cell_type": "code",
   "execution_count": 29,
   "id": "4ca24c44",
   "metadata": {},
   "outputs": [
    {
     "data": {
      "text/plain": [
       "<2997x460 sparse matrix of type '<class 'numpy.float64'>'\n",
       "\twith 137862 stored elements in Compressed Sparse Row format>"
      ]
     },
     "execution_count": 29,
     "metadata": {},
     "output_type": "execute_result"
    }
   ],
   "source": [
    "X_binned = kb.transform(XBay)\n",
    "X_binned"
   ]
  },
  {
   "cell_type": "code",
   "execution_count": 30,
   "id": "59f8ef88",
   "metadata": {},
   "outputs": [
    {
     "name": "stdout",
     "output_type": "stream",
     "text": [
      "   Age  DistanceFromHome  Education  EnvironmentSatisfaction  JobInvolvement   \n",
      "0   30                 1          1                        4               2  \\\n",
      "1   38                 2          2                        4               2   \n",
      "2   26                 6          3                        3               2   \n",
      "3   28                 8          2                        4               3   \n",
      "4   35                 4          2                        3               3   \n",
      "5   34                 9          4                        1               3   \n",
      "6   32                 3          2                        3               3   \n",
      "7   42                 2          3                        4               2   \n",
      "8   34                 6          2                        4               1   \n",
      "9   40                 4          1                        4               3   \n",
      "\n",
      "   JobLevel  JobSatisfaction  MonthlyIncome  NumCompaniesWorked   \n",
      "0         2                4           5126                   1  \\\n",
      "1         3                3           7756                   3   \n",
      "2         1                2           2368                   1   \n",
      "3         1                4           3310                   1   \n",
      "4         1                4           1951                   1   \n",
      "5         1                3           2742                   1   \n",
      "6         3                4          11159                   3   \n",
      "7         1                1           2593                   0   \n",
      "8         1                3           2351                   0   \n",
      "9         5                3          19033                   1   \n",
      "\n",
      "   PercentSalaryHike  ...  JobRole_Manufacturing Director   \n",
      "0                 12  ...                               0  \\\n",
      "1                 19  ...                               1   \n",
      "2                 19  ...                               0   \n",
      "3                 21  ...                               0   \n",
      "4                 12  ...                               0   \n",
      "5                 15  ...                               0   \n",
      "6                 15  ...                               0   \n",
      "7                 11  ...                               0   \n",
      "8                 16  ...                               0   \n",
      "9                 14  ...                               0   \n",
      "\n",
      "   JobRole_Research Director  JobRole_Research Scientist   \n",
      "0                          0                           0  \\\n",
      "1                          0                           0   \n",
      "2                          0                           1   \n",
      "3                          0                           1   \n",
      "4                          0                           0   \n",
      "5                          0                           0   \n",
      "6                          1                           0   \n",
      "7                          0                           0   \n",
      "8                          0                           0   \n",
      "9                          0                           0   \n",
      "\n",
      "   JobRole_Sales Executive  JobRole_Sales Representative   \n",
      "0                        0                             0  \\\n",
      "1                        0                             0   \n",
      "2                        0                             0   \n",
      "3                        0                             0   \n",
      "4                        0                             0   \n",
      "5                        0                             0   \n",
      "6                        0                             0   \n",
      "7                        0                             0   \n",
      "8                        0                             1   \n",
      "9                        0                             0   \n",
      "\n",
      "   MaritalStatus_Divorced  MaritalStatus_Married  MaritalStatus_Single   \n",
      "0                       0                      1                     0  \\\n",
      "1                       0                      1                     0   \n",
      "2                       0                      1                     0   \n",
      "3                       0                      0                     1   \n",
      "4                       1                      0                     0   \n",
      "5                       0                      1                     0   \n",
      "6                       0                      0                     1   \n",
      "7                       1                      0                     0   \n",
      "8                       1                      0                     0   \n",
      "9                       0                      1                     0   \n",
      "\n",
      "   OverTime_No  OverTime_Yes  \n",
      "0            0             1  \n",
      "1            0             1  \n",
      "2            1             0  \n",
      "3            1             0  \n",
      "4            1             0  \n",
      "5            1             0  \n",
      "6            1             0  \n",
      "7            0             1  \n",
      "8            1             0  \n",
      "9            1             0  \n",
      "\n",
      "[10 rows x 46 columns]\n"
     ]
    },
    {
     "data": {
      "text/plain": [
       "array([[0., 0., 1., ..., 0., 0., 1.],\n",
       "       [0., 0., 0., ..., 0., 0., 1.],\n",
       "       [0., 1., 0., ..., 0., 0., 0.],\n",
       "       ...,\n",
       "       [0., 0., 0., ..., 0., 0., 1.],\n",
       "       [0., 0., 0., ..., 0., 0., 0.],\n",
       "       [0., 0., 0., ..., 0., 0., 0.]])"
      ]
     },
     "execution_count": 30,
     "metadata": {},
     "output_type": "execute_result"
    }
   ],
   "source": [
    "print(XBay[:10])\n",
    "X_binned.toarray()[:10]"
   ]
  },
  {
   "cell_type": "code",
   "execution_count": 31,
   "id": "550d31c0",
   "metadata": {},
   "outputs": [],
   "source": [
    "X_binned_train, X_binned_test, yBay_train, yBay_test = train_test_split(X_binned, yBay, test_size=0.2, stratify=yBay)"
   ]
  },
  {
   "cell_type": "code",
   "execution_count": 32,
   "id": "9d2c9884",
   "metadata": {},
   "outputs": [
    {
     "name": "stdout",
     "output_type": "stream",
     "text": [
      "[0 0 1 0 0 0 0 1 0 0 0 0 0 1 0 0 0 1 0 1 1 1 0 1 0 0 0 0 1 0 1 1 0 1 0 1 0\n",
      " 1 0 0 0 0 1 1 1 0 1 1 1 1 0 1 0 0 0 0 1 1 0 0 1 0 1 0 0 0 1 1 0 0 0 0 0 0\n",
      " 0 0 1 1 1 1 0 0 0 1 1 0 0 0 0 1 0 1 0 0 1 1 1 1 0 0 0 1 0 0 1 0 0 0 1 1 0\n",
      " 1 0 1 1 0 0 1 1 0 0 1 1 1 0 1 1 0 0 0 1 1 0 0 0 0 1 0 0 0 0 1 1 0 1 1 0 0\n",
      " 0 1 0 1 0 1 0 1 1 0 0 1 0 0 1 1 0 0 1 0 0 1 1 0 1 1 0 1 0 1 0 0 0 1 0 1 0\n",
      " 0 1 0 0 1 0 0 0 0 0 0 1 0 0 1 0 1 0 0 0 0 0 1 1 0 1 1 0 0 0 1 0 0 0 1 0 0\n",
      " 0 0 1 0 0 1 0 0 1 1 1 0 0 0 1 1 0 0 1 1 1 1 1 0 0 1 0 1 0 0 0 0 1 1 1 0 1\n",
      " 0 0 1 0 1 0 0 1 1 0 1 0 1 0 0 1 1 0 1 0 1 0 0 0 1 0 0 0 0 1 1 1 0 0 0 0 0\n",
      " 0 1 0 0 0 0 0 1 1 1 0 1 0 0 1 1 0 1 0 1 0 0 0 0 0 1 0 0 0 1 1 1 0 0 0 1 0\n",
      " 1 1 1 1 1 1 0 0 1 1 0 1 0 0 1 1 0 0 0 1 1 0 1 0 1 0 1 1 1 0 0 0 1 0 0 0 0\n",
      " 1 1 0 1 0 1 0 0 0 1 1 1 1 0 0 0 1 1 0 0 1 0 0 0 0 1 0 0 0 0 1 1 0 1 1 0 1\n",
      " 1 1 0 1 1 0 1 1 1 0 0 1 1 0 0 0 1 1 0 1 0 0 1 0 0 1 1 0 1 0 1 1 0 1 0 0 1\n",
      " 1 0 0 0 0 1 0 0 1 1 1 0 0 0 1 0 1 0 0 0 0 1 0 1 1 0 1 1 0 0 1 0 0 1 0 0 0\n",
      " 1 0 1 1 0 0 0 1 1 0 0 0 0 0 1 0 0 1 0 0 1 1 1 1 0 1 1 0 1 0 0 0 0 0 0 1 0\n",
      " 0 0 1 0 1 0 0 0 0 0 0 1 1 0 0 1 1 0 1 1 0 1 0 0 1 1 0 1 0 1 1 1 0 0 0 0 0\n",
      " 0 1 0 0 1 0 1 1 1 0 0 0 0 0 1 1 1 1 1 1 1 0 0 0 0 0 0 0 0 0 1 1 1 0 1 1 1\n",
      " 1 0 1 0 0 0 0 1]\n",
      "[[208 111]\n",
      " [136 145]]\n"
     ]
    },
    {
     "name": "stderr",
     "output_type": "stream",
     "text": [
      "C:\\Users\\Kamil - IT\\AppData\\Local\\Programs\\Python\\Python311\\Lib\\site-packages\\sklearn\\utils\\validation.py:1143: DataConversionWarning: A column-vector y was passed when a 1d array was expected. Please change the shape of y to (n_samples, ), for example using ravel().\n",
      "  y = column_or_1d(y, warn=True)\n"
     ]
    }
   ],
   "source": [
    "# Mamy dane dyskretne, więc lepiej sprawdzi się tu Klasyfikator Multinomialny:\n",
    "\n",
    "# We have discrete data, so the Multinomial Classifier will work better here:\n",
    "\n",
    "mnb = MultinomialNB()\n",
    "\n",
    "mnb.fit(X_binned_train, yBay_train)\n",
    "y_mnb = mnb.predict(X_binned_test)\n",
    "# print(yBay_test.values)\n",
    "print(y_mnb)\n",
    "print(confusion_matrix(yBay_test,y_mnb))\n"
   ]
  },
  {
   "cell_type": "code",
   "execution_count": 33,
   "id": "f8ada38e",
   "metadata": {},
   "outputs": [
    {
     "name": "stdout",
     "output_type": "stream",
     "text": [
      "Results for MNB\n",
      "----\n",
      "  Accuracy:  0.5883333333333334\n",
      "  Precision: 0.5855287063953488\n",
      "  Recall:    0.5840259262151519\n",
      "  F1 score:  0.5837441121700075\n",
      "  Mislabeled 178328 out of 600\n",
      "\n",
      "\n"
     ]
    }
   ],
   "source": [
    "MNBMetricsBayes1 = calculate_metrics(yBay_test.values, y_mnb)\n",
    "MNBMetricsBayes = print_results(calculate_metrics(yBay_test.values, y_mnb), 'MNB')\n",
    "MNBMetricsBayes"
   ]
  },
  {
   "cell_type": "code",
   "execution_count": 36,
   "id": "8ce026b8",
   "metadata": {},
   "outputs": [],
   "source": [
    "# Wynik F1-Score dla 'MNB' nieznacznie lepszy niż dla 'GNB'.\n",
    "\n",
    "# F1-Score for 'MNB' slightly better than for 'GNB'."
   ]
  },
  {
   "cell_type": "code",
   "execution_count": 34,
   "id": "c08c696d",
   "metadata": {},
   "outputs": [
    {
     "name": "stdout",
     "output_type": "stream",
     "text": [
      "[[208 111]\n",
      " [136 145]]\n"
     ]
    }
   ],
   "source": [
    "cm_mnbBay = confusion_matrix(yBay_test, y_mnb)\n",
    "print(cm_mnbBay)"
   ]
  },
  {
   "cell_type": "code",
   "execution_count": 35,
   "id": "90061056",
   "metadata": {},
   "outputs": [
    {
     "data": {
      "text/plain": [
       "<Axes: >"
      ]
     },
     "execution_count": 35,
     "metadata": {},
     "output_type": "execute_result"
    },
    {
     "data": {
      "image/png": "[encoded data removed]",
      "text/plain": [
       "<Figure size 640x480 with 2 Axes>"
      ]
     },
     "metadata": {},
     "output_type": "display_data"
    }
   ],
   "source": [
    "cm_mnbBay = confusion_matrix(yBay_test, y_mnb)\n",
    "sns.heatmap(cm_mnbBay, annot=True, fmt='d')"
   ]
  },
  {
   "cell_type": "markdown",
   "id": "064e342f",
   "metadata": {},
   "source": []
  },
  {
   "cell_type": "markdown",
   "id": "1c95035e",
   "metadata": {},
   "source": [
    "                                         KNN (k-najbliższych sąsiadów)\n",
    "                                         \n",
    "                                              K-nearest neighbors"
   ]
  },
  {
   "cell_type": "markdown",
   "id": "b3a7d4ff",
   "metadata": {},
   "source": []
  },
  {
   "cell_type": "markdown",
   "id": "d1538b33",
   "metadata": {},
   "source": [
    "  Algorytm KNN (k-najbliższych sąsiadów) polega na tym, że każdy punkt danych jest przypisywany do klasy lub wartości, która jest najczęstsza lub średnia wśród jego k najbliższych sąsiadów, gdzie k jest parametrem, który określa liczbę sąsiadów branych pod uwagę. Aby znaleźć k najbliższych sąsiadów, KNN używa miary odległości, takiej jak odległość euklidesowa lub manhattanowska."
   ]
  },
  {
   "cell_type": "markdown",
   "id": "fe01ade0",
   "metadata": {},
   "source": [
    "  The KNN (k-nearest neighbors) algorithm works by assigning each data point to the class or value that is the most common or average among its k nearest neighbors, where k is a parameter that determines the number of neighbors to take into account. To find the k nearest neighbors, KNN uses a distance measure such as Euclidean or Manhattan distance."
   ]
  },
  {
   "cell_type": "markdown",
   "id": "0933bb99",
   "metadata": {},
   "source": []
  },
  {
   "cell_type": "code",
   "execution_count": 36,
   "id": "0bc25f3e",
   "metadata": {},
   "outputs": [],
   "source": [
    "import numpy as np\n",
    "import pandas as pd\n",
    "import sklearn\n",
    "from sklearn.model_selection import train_test_split\n",
    "from sklearn.metrics import accuracy_score, precision_score, recall_score, f1_score, confusion_matrix\n",
    "from sklearn.metrics import confusion_matrix\n",
    "import matplotlib.pyplot as plt\n",
    "import seaborn as sns"
   ]
  },
  {
   "cell_type": "code",
   "execution_count": 37,
   "id": "c9fc7586",
   "metadata": {},
   "outputs": [
    {
     "data": {
      "text/html": [
       "<div>\n",
       "<style scoped>\n",
       "    .dataframe tbody tr th:only-of-type {\n",
       "        vertical-align: middle;\n",
       "    }\n",
       "\n",
       "    .dataframe tbody tr th {\n",
       "        vertical-align: top;\n",
       "    }\n",
       "\n",
       "    .dataframe thead th {\n",
       "        text-align: right;\n",
       "    }\n",
       "</style>\n",
       "<table border=\"1\" class=\"dataframe\">\n",
       "  <thead>\n",
       "    <tr style=\"text-align: right;\">\n",
       "      <th></th>\n",
       "      <th>Age</th>\n",
       "      <th>DistanceFromHome</th>\n",
       "      <th>Education</th>\n",
       "      <th>EnvironmentSatisfaction</th>\n",
       "      <th>JobInvolvement</th>\n",
       "      <th>JobLevel</th>\n",
       "      <th>JobSatisfaction</th>\n",
       "      <th>MonthlyIncome</th>\n",
       "      <th>NumCompaniesWorked</th>\n",
       "      <th>PercentSalaryHike</th>\n",
       "      <th>...</th>\n",
       "      <th>JobRole_Manufacturing Director</th>\n",
       "      <th>JobRole_Research Director</th>\n",
       "      <th>JobRole_Research Scientist</th>\n",
       "      <th>JobRole_Sales Executive</th>\n",
       "      <th>JobRole_Sales Representative</th>\n",
       "      <th>MaritalStatus_Divorced</th>\n",
       "      <th>MaritalStatus_Married</th>\n",
       "      <th>MaritalStatus_Single</th>\n",
       "      <th>OverTime_No</th>\n",
       "      <th>OverTime_Yes</th>\n",
       "    </tr>\n",
       "  </thead>\n",
       "  <tbody>\n",
       "    <tr>\n",
       "      <th>0</th>\n",
       "      <td>30</td>\n",
       "      <td>1</td>\n",
       "      <td>1</td>\n",
       "      <td>4</td>\n",
       "      <td>2</td>\n",
       "      <td>2</td>\n",
       "      <td>4</td>\n",
       "      <td>5126</td>\n",
       "      <td>1</td>\n",
       "      <td>12</td>\n",
       "      <td>...</td>\n",
       "      <td>0</td>\n",
       "      <td>0</td>\n",
       "      <td>0</td>\n",
       "      <td>0</td>\n",
       "      <td>0</td>\n",
       "      <td>0</td>\n",
       "      <td>1</td>\n",
       "      <td>0</td>\n",
       "      <td>0</td>\n",
       "      <td>1</td>\n",
       "    </tr>\n",
       "    <tr>\n",
       "      <th>1</th>\n",
       "      <td>38</td>\n",
       "      <td>2</td>\n",
       "      <td>2</td>\n",
       "      <td>4</td>\n",
       "      <td>2</td>\n",
       "      <td>3</td>\n",
       "      <td>3</td>\n",
       "      <td>7756</td>\n",
       "      <td>3</td>\n",
       "      <td>19</td>\n",
       "      <td>...</td>\n",
       "      <td>1</td>\n",
       "      <td>0</td>\n",
       "      <td>0</td>\n",
       "      <td>0</td>\n",
       "      <td>0</td>\n",
       "      <td>0</td>\n",
       "      <td>1</td>\n",
       "      <td>0</td>\n",
       "      <td>0</td>\n",
       "      <td>1</td>\n",
       "    </tr>\n",
       "    <tr>\n",
       "      <th>2</th>\n",
       "      <td>26</td>\n",
       "      <td>6</td>\n",
       "      <td>3</td>\n",
       "      <td>3</td>\n",
       "      <td>2</td>\n",
       "      <td>1</td>\n",
       "      <td>2</td>\n",
       "      <td>2368</td>\n",
       "      <td>1</td>\n",
       "      <td>19</td>\n",
       "      <td>...</td>\n",
       "      <td>0</td>\n",
       "      <td>0</td>\n",
       "      <td>1</td>\n",
       "      <td>0</td>\n",
       "      <td>0</td>\n",
       "      <td>0</td>\n",
       "      <td>1</td>\n",
       "      <td>0</td>\n",
       "      <td>1</td>\n",
       "      <td>0</td>\n",
       "    </tr>\n",
       "    <tr>\n",
       "      <th>3</th>\n",
       "      <td>28</td>\n",
       "      <td>8</td>\n",
       "      <td>2</td>\n",
       "      <td>4</td>\n",
       "      <td>3</td>\n",
       "      <td>1</td>\n",
       "      <td>4</td>\n",
       "      <td>3310</td>\n",
       "      <td>1</td>\n",
       "      <td>21</td>\n",
       "      <td>...</td>\n",
       "      <td>0</td>\n",
       "      <td>0</td>\n",
       "      <td>1</td>\n",
       "      <td>0</td>\n",
       "      <td>0</td>\n",
       "      <td>0</td>\n",
       "      <td>0</td>\n",
       "      <td>1</td>\n",
       "      <td>1</td>\n",
       "      <td>0</td>\n",
       "    </tr>\n",
       "    <tr>\n",
       "      <th>4</th>\n",
       "      <td>35</td>\n",
       "      <td>4</td>\n",
       "      <td>2</td>\n",
       "      <td>3</td>\n",
       "      <td>3</td>\n",
       "      <td>1</td>\n",
       "      <td>4</td>\n",
       "      <td>1951</td>\n",
       "      <td>1</td>\n",
       "      <td>12</td>\n",
       "      <td>...</td>\n",
       "      <td>0</td>\n",
       "      <td>0</td>\n",
       "      <td>0</td>\n",
       "      <td>0</td>\n",
       "      <td>0</td>\n",
       "      <td>1</td>\n",
       "      <td>0</td>\n",
       "      <td>0</td>\n",
       "      <td>1</td>\n",
       "      <td>0</td>\n",
       "    </tr>\n",
       "  </tbody>\n",
       "</table>\n",
       "<p>5 rows × 47 columns</p>\n",
       "</div>"
      ],
      "text/plain": [
       "   Age  DistanceFromHome  Education  EnvironmentSatisfaction  JobInvolvement   \n",
       "0   30                 1          1                        4               2  \\\n",
       "1   38                 2          2                        4               2   \n",
       "2   26                 6          3                        3               2   \n",
       "3   28                 8          2                        4               3   \n",
       "4   35                 4          2                        3               3   \n",
       "\n",
       "   JobLevel  JobSatisfaction  MonthlyIncome  NumCompaniesWorked   \n",
       "0         2                4           5126                   1  \\\n",
       "1         3                3           7756                   3   \n",
       "2         1                2           2368                   1   \n",
       "3         1                4           3310                   1   \n",
       "4         1                4           1951                   1   \n",
       "\n",
       "   PercentSalaryHike  ...  JobRole_Manufacturing Director   \n",
       "0                 12  ...                               0  \\\n",
       "1                 19  ...                               1   \n",
       "2                 19  ...                               0   \n",
       "3                 21  ...                               0   \n",
       "4                 12  ...                               0   \n",
       "\n",
       "   JobRole_Research Director  JobRole_Research Scientist   \n",
       "0                          0                           0  \\\n",
       "1                          0                           0   \n",
       "2                          0                           1   \n",
       "3                          0                           1   \n",
       "4                          0                           0   \n",
       "\n",
       "   JobRole_Sales Executive  JobRole_Sales Representative   \n",
       "0                        0                             0  \\\n",
       "1                        0                             0   \n",
       "2                        0                             0   \n",
       "3                        0                             0   \n",
       "4                        0                             0   \n",
       "\n",
       "   MaritalStatus_Divorced  MaritalStatus_Married  MaritalStatus_Single   \n",
       "0                       0                      1                     0  \\\n",
       "1                       0                      1                     0   \n",
       "2                       0                      1                     0   \n",
       "3                       0                      0                     1   \n",
       "4                       1                      0                     0   \n",
       "\n",
       "   OverTime_No  OverTime_Yes  \n",
       "0            0             1  \n",
       "1            0             1  \n",
       "2            1             0  \n",
       "3            1             0  \n",
       "4            1             0  \n",
       "\n",
       "[5 rows x 47 columns]"
      ]
     },
     "execution_count": 37,
     "metadata": {},
     "output_type": "execute_result"
    }
   ],
   "source": [
    "ATTMod = pd.read_csv('Dane/ATTMod.csv')\n",
    "ATTMod.head()"
   ]
  },
  {
   "cell_type": "code",
   "execution_count": 38,
   "id": "9e89943d",
   "metadata": {},
   "outputs": [],
   "source": [
    "train_data = ATTMod.drop('Attrition', axis=1)\n",
    "train_labels = ATTMod[['Attrition']]\n",
    "\n",
    "XkNN = train_data\n",
    "ykNN = train_labels"
   ]
  },
  {
   "cell_type": "code",
   "execution_count": 39,
   "id": "e3a04f13",
   "metadata": {},
   "outputs": [],
   "source": [
    "# W przypadku KNN dobrą praktyką jest standaryzacja danych:\n",
    "\n",
    "# In the case of KNN, it is good practice to standardize the data:"
   ]
  },
  {
   "cell_type": "code",
   "execution_count": 40,
   "id": "c8af1a5e",
   "metadata": {},
   "outputs": [
    {
     "name": "stdout",
     "output_type": "stream",
     "text": [
      "[[-0.78272417 -1.00899073 -1.86321492 ... -0.66972073 -1.61044254\n",
      "   1.61044254]\n",
      " [ 0.10103353 -0.88497215 -0.89106048 ... -0.66972073 -1.61044254\n",
      "   1.61044254]\n",
      " [-1.22460301 -0.38889779  0.08109396 ... -0.66972073  0.62094733\n",
      "  -0.62094733]\n",
      " ...\n",
      " [-0.23037561 -0.14086062  1.05324841 ... -0.66972073  0.62094733\n",
      "  -0.62094733]\n",
      " [ 0.43244266  2.33951114  1.05324841 ... -0.66972073  0.62094733\n",
      "  -0.62094733]\n",
      " [ 0.43244266  2.33951114  1.05324841 ... -0.66972073  0.62094733\n",
      "  -0.62094733]]\n"
     ]
    }
   ],
   "source": [
    "from sklearn.preprocessing import StandardScaler\n",
    "\n",
    "scaler = StandardScaler()\n",
    "\n",
    "XkNN = scaler.fit_transform(XkNN)\n",
    "\n",
    "print(XkNN)"
   ]
  },
  {
   "cell_type": "code",
   "execution_count": 41,
   "id": "6b8e0b68",
   "metadata": {},
   "outputs": [],
   "source": [
    "XkNN_train, XkNN_test, ykNN_train, ykNN_test = train_test_split(XkNN, ykNN, test_size=0.2, stratify=ykNN)"
   ]
  },
  {
   "cell_type": "code",
   "execution_count": 42,
   "id": "a7bb72d0",
   "metadata": {},
   "outputs": [],
   "source": [
    "from sklearn.neighbors import KNeighborsClassifier\n",
    "\n",
    "knn = KNeighborsClassifier(n_neighbors=5, metric='chebyshev')\n",
    "knn.fit(XkNN_train, ykNN_train.values.ravel())\n",
    "\n",
    "pred_knn = knn.predict(XkNN_test)"
   ]
  },
  {
   "cell_type": "code",
   "execution_count": 43,
   "id": "f8fb6b7e",
   "metadata": {},
   "outputs": [
    {
     "data": {
      "text/plain": [
       "array([0, 1, 1, 0, 0, 0, 1, 0, 1, 0, 0, 1, 0, 0, 0, 0, 0, 0, 1, 0, 1, 0,\n",
       "       0, 0, 0, 0, 0, 0, 0, 0, 0, 1, 1, 0, 0, 0, 0, 1, 1, 0, 1, 0, 0, 1,\n",
       "       0, 0, 1, 1, 1, 0, 1, 1, 0, 0, 0, 0, 0, 1, 0, 0, 0, 0, 0, 1, 0, 0,\n",
       "       1, 0, 0, 1, 0, 0, 0, 1, 1, 1, 0, 1, 0, 0, 1, 0, 1, 1, 0, 0, 0, 1,\n",
       "       0, 1, 0, 0, 0, 1, 0, 0, 0, 1, 1, 1, 0, 0, 0, 0, 1, 1, 1, 1, 0, 0,\n",
       "       0, 1, 1, 0, 1, 1, 1, 0, 0, 1, 0, 0, 1, 0, 1, 0, 1, 0, 1, 1, 1, 0,\n",
       "       0, 1, 1, 1, 1, 0, 0, 1, 1, 0, 1, 1, 1, 0, 1, 0, 1, 1, 0, 1, 0, 0,\n",
       "       0, 0, 1, 0, 1, 0, 0, 0, 1, 0, 1, 0, 0, 1, 0, 0, 1, 1, 0, 0, 0, 0,\n",
       "       1, 0, 1, 0, 0, 0, 1, 1, 1, 1, 0, 1, 1, 1, 0, 0, 1, 1, 1, 1, 1, 0,\n",
       "       0, 0, 1, 0, 0, 1, 0, 0, 1, 1, 0, 0, 0, 0, 0, 0, 1, 1, 0, 1, 1, 0,\n",
       "       1, 0, 1, 1, 1, 0, 0, 1, 1, 1, 1, 1, 1, 1, 0, 1, 1, 0, 1, 0, 0, 0,\n",
       "       0, 1, 0, 0, 0, 0, 1, 0, 1, 0, 1, 0, 0, 0, 0, 0, 1, 0, 1, 1, 0, 0,\n",
       "       1, 0, 1, 0, 0, 0, 0, 0, 0, 0, 0, 0, 1, 0, 0, 0, 0, 0, 1, 1, 1, 1,\n",
       "       1, 1, 1, 0, 1, 0, 0, 0, 0, 0, 1, 0, 1, 1, 0, 0, 0, 1, 1, 0, 0, 0,\n",
       "       0, 1, 1, 0, 1, 0, 0, 1, 0, 0, 1, 0, 0, 0, 1, 0, 0, 1, 1, 1, 1, 0,\n",
       "       1, 0, 0, 1, 0, 0, 0, 0, 0, 0, 0, 1, 1, 0, 0, 1, 0, 1, 0, 1, 1, 1,\n",
       "       0, 0, 0, 0, 1, 1, 1, 1, 1, 0, 1, 0, 1, 0, 0, 0, 0, 0, 1, 0, 0, 1,\n",
       "       0, 0, 0, 0, 1, 1, 0, 1, 1, 1, 1, 1, 0, 1, 0, 1, 0, 1, 0, 0, 1, 0,\n",
       "       1, 0, 1, 1, 0, 0, 0, 1, 0, 0, 1, 0, 1, 1, 1, 1, 0, 0, 1, 1, 0, 0,\n",
       "       1, 0, 0, 1, 0, 0, 1, 0, 1, 1, 0, 0, 0, 0, 1, 1, 0, 1, 0, 0, 0, 0,\n",
       "       0, 0, 0, 0, 1, 0, 0, 0, 0, 0, 1, 1, 0, 0, 0, 0, 0, 0, 1, 1, 1, 1,\n",
       "       1, 1, 0, 1, 1, 0, 0, 1, 0, 1, 1, 1, 1, 1, 1, 0, 0, 1, 1, 1, 0, 0,\n",
       "       0, 1, 1, 0, 0, 1, 0, 0, 0, 1, 0, 0, 0, 0, 1, 0, 1, 0, 1, 0, 1, 0,\n",
       "       1, 0, 0, 0, 1, 0, 1, 1, 1, 0, 0, 0, 1, 1, 0, 1, 0, 0, 1, 0, 1, 0,\n",
       "       1, 0, 0, 1, 1, 0, 0, 0, 0, 0, 0, 0, 0, 1, 1, 0, 1, 0, 1, 0, 0, 0,\n",
       "       0, 1, 1, 1, 0, 1, 1, 1, 0, 0, 0, 1, 1, 0, 1, 1, 1, 1, 1, 0, 1, 1,\n",
       "       0, 1, 1, 0, 1, 0, 1, 1, 0, 1, 0, 0, 1, 0, 0, 0, 1, 1, 0, 1, 0, 1,\n",
       "       0, 1, 1, 1, 0, 1], dtype=int64)"
      ]
     },
     "execution_count": 43,
     "metadata": {},
     "output_type": "execute_result"
    }
   ],
   "source": [
    "pred_knn"
   ]
  },
  {
   "cell_type": "code",
   "execution_count": 44,
   "id": "943f6545",
   "metadata": {},
   "outputs": [
    {
     "data": {
      "text/plain": [
       "600"
      ]
     },
     "execution_count": 44,
     "metadata": {},
     "output_type": "execute_result"
    }
   ],
   "source": [
    "len(ykNN_test)"
   ]
  },
  {
   "cell_type": "code",
   "execution_count": 45,
   "id": "f3cdddd9",
   "metadata": {},
   "outputs": [
    {
     "data": {
      "text/plain": [
       "pandas.core.frame.DataFrame"
      ]
     },
     "execution_count": 45,
     "metadata": {},
     "output_type": "execute_result"
    }
   ],
   "source": [
    "type(ykNN_test)"
   ]
  },
  {
   "cell_type": "code",
   "execution_count": 46,
   "id": "d0d1a7fe",
   "metadata": {},
   "outputs": [
    {
     "data": {
      "text/plain": [
       "600"
      ]
     },
     "execution_count": 46,
     "metadata": {},
     "output_type": "execute_result"
    }
   ],
   "source": [
    "len(pred_knn)"
   ]
  },
  {
   "cell_type": "code",
   "execution_count": 47,
   "id": "61756c92",
   "metadata": {},
   "outputs": [
    {
     "data": {
      "text/plain": [
       "numpy.ndarray"
      ]
     },
     "execution_count": 47,
     "metadata": {},
     "output_type": "execute_result"
    }
   ],
   "source": [
    "type(pred_knn)"
   ]
  },
  {
   "cell_type": "code",
   "execution_count": 48,
   "id": "9a1eb00d",
   "metadata": {},
   "outputs": [],
   "source": [
    "ykNN_test = ykNN_test.to_numpy()"
   ]
  },
  {
   "cell_type": "code",
   "execution_count": 49,
   "id": "d2fe0ea6",
   "metadata": {},
   "outputs": [
    {
     "data": {
      "text/plain": [
       "numpy.ndarray"
      ]
     },
     "execution_count": 49,
     "metadata": {},
     "output_type": "execute_result"
    }
   ],
   "source": [
    "type(ykNN_test)"
   ]
  },
  {
   "cell_type": "code",
   "execution_count": 50,
   "id": "deceef5b",
   "metadata": {},
   "outputs": [
    {
     "name": "stdout",
     "output_type": "stream",
     "text": [
      "Results for kNN\n",
      "----\n",
      "  Accuracy:  0.5383333333333333\n",
      "  Precision: 0.5350378787878788\n",
      "  Recall:    0.5346724082151741\n",
      "  F1 score:  0.5344211779536383\n",
      "  Mislabeled 178632 out of 600\n",
      "\n",
      "\n"
     ]
    }
   ],
   "source": [
    "KNNMetrics1 = calculate_metrics(ykNN_test, pred_knn)\n",
    "KNNMetrics = print_results(calculate_metrics(ykNN_test, pred_knn), 'kNN')\n",
    "KNNMetrics"
   ]
  },
  {
   "cell_type": "markdown",
   "id": "c5da0ce7",
   "metadata": {},
   "source": [
    "Na wpływ wyników mogą mieć wpływ różne czynniki, m.in.: wpływ kroswalidacji, normalizacji, ilości sąsiadów, metody mierzenia odległości (Euklidesa, Manhattan, Czebyszewa, Mińkowskiego), sposobu głosowania (większościowe, ważone, ważone do kwadratu)."
   ]
  },
  {
   "cell_type": "markdown",
   "id": "3bba44cd",
   "metadata": {},
   "source": [
    "The results may be influenced by various factors, including: the influence of cross-validation, normalization, the number of neighbors, the distance measurement method (Euclidean, Manhattan, Chebyshev, Mińkowski), and the method of voiting (majority, weighted, weighted square)."
   ]
  },
  {
   "cell_type": "code",
   "execution_count": 51,
   "id": "b17df35e",
   "metadata": {},
   "outputs": [
    {
     "data": {
      "image/png": "[encoded data removed]",
      "text/plain": [
       "<Figure size 640x480 with 2 Axes>"
      ]
     },
     "metadata": {},
     "output_type": "display_data"
    }
   ],
   "source": [
    "cmkNN_train = confusion_matrix(ykNN_test, pred_knn)\n",
    "sns.heatmap(cmkNN_train, annot=True, fmt='d')\n",
    "plt.show()"
   ]
  },
  {
   "cell_type": "code",
   "execution_count": 52,
   "id": "9737aef2",
   "metadata": {},
   "outputs": [
    {
     "data": {
      "text/plain": [
       "array([[189, 130],\n",
       "       [147, 134]], dtype=int64)"
      ]
     },
     "execution_count": 52,
     "metadata": {},
     "output_type": "execute_result"
    }
   ],
   "source": [
    "cmkNN_train"
   ]
  },
  {
   "cell_type": "code",
   "execution_count": 53,
   "id": "4d19ef18",
   "metadata": {},
   "outputs": [
    {
     "data": {
      "text/plain": [
       "<Axes: >"
      ]
     },
     "execution_count": 53,
     "metadata": {},
     "output_type": "execute_result"
    },
    {
     "data": {
      "image/png": "[encoded data removed]",
      "text/plain": [
       "<Figure size 640x480 with 2 Axes>"
      ]
     },
     "metadata": {},
     "output_type": "display_data"
    }
   ],
   "source": [
    "cmkNN = confusion_matrix(ykNN_test, pred_knn)\n",
    "sns.heatmap(cmkNN, annot=True, fmt='d')"
   ]
  },
  {
   "cell_type": "markdown",
   "id": "def78a1b",
   "metadata": {},
   "source": []
  },
  {
   "cell_type": "markdown",
   "id": "03dffb70",
   "metadata": {},
   "source": [
    "                                          SVM (Maszyna Wektorów Nośnych)\n",
    "                                          \n",
    "                                             Support Vector Machine"
   ]
  },
  {
   "cell_type": "markdown",
   "id": "9eea6fa9",
   "metadata": {},
   "source": []
  },
  {
   "cell_type": "markdown",
   "id": "1c2116a0",
   "metadata": {},
   "source": [
    "  Maszyna Wektorów Nośnych (SVM) polega na znalezieniu hiperpłaszczyzny, która najlepiej oddziela dane na różne klasy z maksymalnym marginesem. Hiperpłaszczyzna to płaszczyzna o wymiarze o jeden mniejszym niż przestrzeń, w której się znajduje. SVM wykorzystuje wektory nośne, które są punktami danymi najbliższymi hiperpłaszczyźnie, do określenia położenia i kształtu hiperpłaszczyzny. \n",
    "  \n",
    "  Zalety SVM:\n",
    "  \n",
    "  - odporny na szumy i nieliniowość danych, dzięki czemu może generować dokładne wyniki klasyfikacji,\n",
    "  - wydajny pod względem pamięci, ponieważ wykorzystuje tylko podzbiór punktów danych zwanych wektorami nośnymi do \n",
    "    określeia hiperpłaszczyzny.\n",
    "    \n",
    "  Wady SVM:\n",
    "  \n",
    "  - może być trudny do zrozumienia i interpretacji, ponieważ nie daje jasnego wglądu w to, jak dane są rozdzielane,\n",
    "  - może być czasochłonny i wymagać dużej mocy obliczeniowej, zwłaszcza gdy dane są bardzo duże lub mają wiele wymiarów.\n",
    "  "
   ]
  },
  {
   "cell_type": "markdown",
   "id": "67763b06",
   "metadata": {},
   "source": [
    "  Support Vector Machine is about finding the hyperplane that best separates data into different classes with maximum margin. A hyperplane is a plane with a dimension one smaller than the space in which it is located. SVM uses support vectors, which are the data points closest to the hyperplane, to determine the position and shape of the hyperplane.\n",
    "  \n",
    "  Advantages of SVM:\n",
    "  \n",
    "  - resistant to noise and data non-linearity, so it can generate accurate classification results,\n",
    "  \n",
    "  - memory efficient because it uses only a subset of data points called support vectors to defines hyperplanes.\n",
    "  \n",
    "  Disadvantages of SVM:\n",
    "  \n",
    "  - can be difficult to understand and interpret because it does not provide clear insight into how data is distributed,\n",
    "  \n",
    "  - can be time-consuming and require a lot of computing power, especially when the data is very large or has many dimensions.    "
   ]
  },
  {
   "cell_type": "code",
   "execution_count": 54,
   "id": "eeddbf95",
   "metadata": {},
   "outputs": [],
   "source": [
    "import numpy as np\n",
    "import pandas as pd\n",
    "import sklearn\n",
    "from sklearn.model_selection import train_test_split\n",
    "from sklearn.metrics import accuracy_score, precision_score, recall_score, f1_score, confusion_matrix\n",
    "from sklearn.metrics import confusion_matrix\n",
    "import matplotlib.pyplot as plt\n",
    "import seaborn as sns"
   ]
  },
  {
   "cell_type": "code",
   "execution_count": 55,
   "id": "df6f1f9d",
   "metadata": {},
   "outputs": [
    {
     "data": {
      "text/html": [
       "<div>\n",
       "<style scoped>\n",
       "    .dataframe tbody tr th:only-of-type {\n",
       "        vertical-align: middle;\n",
       "    }\n",
       "\n",
       "    .dataframe tbody tr th {\n",
       "        vertical-align: top;\n",
       "    }\n",
       "\n",
       "    .dataframe thead th {\n",
       "        text-align: right;\n",
       "    }\n",
       "</style>\n",
       "<table border=\"1\" class=\"dataframe\">\n",
       "  <thead>\n",
       "    <tr style=\"text-align: right;\">\n",
       "      <th></th>\n",
       "      <th>Age</th>\n",
       "      <th>DistanceFromHome</th>\n",
       "      <th>Education</th>\n",
       "      <th>EnvironmentSatisfaction</th>\n",
       "      <th>JobInvolvement</th>\n",
       "      <th>JobLevel</th>\n",
       "      <th>JobSatisfaction</th>\n",
       "      <th>MonthlyIncome</th>\n",
       "      <th>NumCompaniesWorked</th>\n",
       "      <th>PercentSalaryHike</th>\n",
       "      <th>...</th>\n",
       "      <th>JobRole_Manufacturing Director</th>\n",
       "      <th>JobRole_Research Director</th>\n",
       "      <th>JobRole_Research Scientist</th>\n",
       "      <th>JobRole_Sales Executive</th>\n",
       "      <th>JobRole_Sales Representative</th>\n",
       "      <th>MaritalStatus_Divorced</th>\n",
       "      <th>MaritalStatus_Married</th>\n",
       "      <th>MaritalStatus_Single</th>\n",
       "      <th>OverTime_No</th>\n",
       "      <th>OverTime_Yes</th>\n",
       "    </tr>\n",
       "  </thead>\n",
       "  <tbody>\n",
       "    <tr>\n",
       "      <th>0</th>\n",
       "      <td>30</td>\n",
       "      <td>1</td>\n",
       "      <td>1</td>\n",
       "      <td>4</td>\n",
       "      <td>2</td>\n",
       "      <td>2</td>\n",
       "      <td>4</td>\n",
       "      <td>5126</td>\n",
       "      <td>1</td>\n",
       "      <td>12</td>\n",
       "      <td>...</td>\n",
       "      <td>0</td>\n",
       "      <td>0</td>\n",
       "      <td>0</td>\n",
       "      <td>0</td>\n",
       "      <td>0</td>\n",
       "      <td>0</td>\n",
       "      <td>1</td>\n",
       "      <td>0</td>\n",
       "      <td>0</td>\n",
       "      <td>1</td>\n",
       "    </tr>\n",
       "    <tr>\n",
       "      <th>1</th>\n",
       "      <td>38</td>\n",
       "      <td>2</td>\n",
       "      <td>2</td>\n",
       "      <td>4</td>\n",
       "      <td>2</td>\n",
       "      <td>3</td>\n",
       "      <td>3</td>\n",
       "      <td>7756</td>\n",
       "      <td>3</td>\n",
       "      <td>19</td>\n",
       "      <td>...</td>\n",
       "      <td>1</td>\n",
       "      <td>0</td>\n",
       "      <td>0</td>\n",
       "      <td>0</td>\n",
       "      <td>0</td>\n",
       "      <td>0</td>\n",
       "      <td>1</td>\n",
       "      <td>0</td>\n",
       "      <td>0</td>\n",
       "      <td>1</td>\n",
       "    </tr>\n",
       "    <tr>\n",
       "      <th>2</th>\n",
       "      <td>26</td>\n",
       "      <td>6</td>\n",
       "      <td>3</td>\n",
       "      <td>3</td>\n",
       "      <td>2</td>\n",
       "      <td>1</td>\n",
       "      <td>2</td>\n",
       "      <td>2368</td>\n",
       "      <td>1</td>\n",
       "      <td>19</td>\n",
       "      <td>...</td>\n",
       "      <td>0</td>\n",
       "      <td>0</td>\n",
       "      <td>1</td>\n",
       "      <td>0</td>\n",
       "      <td>0</td>\n",
       "      <td>0</td>\n",
       "      <td>1</td>\n",
       "      <td>0</td>\n",
       "      <td>1</td>\n",
       "      <td>0</td>\n",
       "    </tr>\n",
       "    <tr>\n",
       "      <th>3</th>\n",
       "      <td>28</td>\n",
       "      <td>8</td>\n",
       "      <td>2</td>\n",
       "      <td>4</td>\n",
       "      <td>3</td>\n",
       "      <td>1</td>\n",
       "      <td>4</td>\n",
       "      <td>3310</td>\n",
       "      <td>1</td>\n",
       "      <td>21</td>\n",
       "      <td>...</td>\n",
       "      <td>0</td>\n",
       "      <td>0</td>\n",
       "      <td>1</td>\n",
       "      <td>0</td>\n",
       "      <td>0</td>\n",
       "      <td>0</td>\n",
       "      <td>0</td>\n",
       "      <td>1</td>\n",
       "      <td>1</td>\n",
       "      <td>0</td>\n",
       "    </tr>\n",
       "    <tr>\n",
       "      <th>4</th>\n",
       "      <td>35</td>\n",
       "      <td>4</td>\n",
       "      <td>2</td>\n",
       "      <td>3</td>\n",
       "      <td>3</td>\n",
       "      <td>1</td>\n",
       "      <td>4</td>\n",
       "      <td>1951</td>\n",
       "      <td>1</td>\n",
       "      <td>12</td>\n",
       "      <td>...</td>\n",
       "      <td>0</td>\n",
       "      <td>0</td>\n",
       "      <td>0</td>\n",
       "      <td>0</td>\n",
       "      <td>0</td>\n",
       "      <td>1</td>\n",
       "      <td>0</td>\n",
       "      <td>0</td>\n",
       "      <td>1</td>\n",
       "      <td>0</td>\n",
       "    </tr>\n",
       "  </tbody>\n",
       "</table>\n",
       "<p>5 rows × 47 columns</p>\n",
       "</div>"
      ],
      "text/plain": [
       "   Age  DistanceFromHome  Education  EnvironmentSatisfaction  JobInvolvement   \n",
       "0   30                 1          1                        4               2  \\\n",
       "1   38                 2          2                        4               2   \n",
       "2   26                 6          3                        3               2   \n",
       "3   28                 8          2                        4               3   \n",
       "4   35                 4          2                        3               3   \n",
       "\n",
       "   JobLevel  JobSatisfaction  MonthlyIncome  NumCompaniesWorked   \n",
       "0         2                4           5126                   1  \\\n",
       "1         3                3           7756                   3   \n",
       "2         1                2           2368                   1   \n",
       "3         1                4           3310                   1   \n",
       "4         1                4           1951                   1   \n",
       "\n",
       "   PercentSalaryHike  ...  JobRole_Manufacturing Director   \n",
       "0                 12  ...                               0  \\\n",
       "1                 19  ...                               1   \n",
       "2                 19  ...                               0   \n",
       "3                 21  ...                               0   \n",
       "4                 12  ...                               0   \n",
       "\n",
       "   JobRole_Research Director  JobRole_Research Scientist   \n",
       "0                          0                           0  \\\n",
       "1                          0                           0   \n",
       "2                          0                           1   \n",
       "3                          0                           1   \n",
       "4                          0                           0   \n",
       "\n",
       "   JobRole_Sales Executive  JobRole_Sales Representative   \n",
       "0                        0                             0  \\\n",
       "1                        0                             0   \n",
       "2                        0                             0   \n",
       "3                        0                             0   \n",
       "4                        0                             0   \n",
       "\n",
       "   MaritalStatus_Divorced  MaritalStatus_Married  MaritalStatus_Single   \n",
       "0                       0                      1                     0  \\\n",
       "1                       0                      1                     0   \n",
       "2                       0                      1                     0   \n",
       "3                       0                      0                     1   \n",
       "4                       1                      0                     0   \n",
       "\n",
       "   OverTime_No  OverTime_Yes  \n",
       "0            0             1  \n",
       "1            0             1  \n",
       "2            1             0  \n",
       "3            1             0  \n",
       "4            1             0  \n",
       "\n",
       "[5 rows x 47 columns]"
      ]
     },
     "execution_count": 55,
     "metadata": {},
     "output_type": "execute_result"
    }
   ],
   "source": [
    "ATTMod = pd.read_csv('Dane/ATTMod.csv')\n",
    "ATTMod.head()"
   ]
  },
  {
   "cell_type": "code",
   "execution_count": 56,
   "id": "7fd3932c",
   "metadata": {},
   "outputs": [],
   "source": [
    "train_data = ATTMod.drop('Attrition', axis=1)\n",
    "train_labels = ATTMod[['Attrition']]"
   ]
  },
  {
   "cell_type": "code",
   "execution_count": 57,
   "id": "693b7902",
   "metadata": {},
   "outputs": [],
   "source": [
    "from sklearn import svm\n",
    "\n",
    "X = train_data\n",
    "y = train_labels\n",
    "\n",
    "Xsvm = X\n",
    "ysvm = y"
   ]
  },
  {
   "cell_type": "code",
   "execution_count": 58,
   "id": "661f2db0",
   "metadata": {},
   "outputs": [
    {
     "name": "stdout",
     "output_type": "stream",
     "text": [
      "[[-0.78272417 -1.00899073 -1.86321492 ... -0.66972073 -1.61044254\n",
      "   1.61044254]\n",
      " [ 0.10103353 -0.88497215 -0.89106048 ... -0.66972073 -1.61044254\n",
      "   1.61044254]\n",
      " [-1.22460301 -0.38889779  0.08109396 ... -0.66972073  0.62094733\n",
      "  -0.62094733]\n",
      " ...\n",
      " [-0.23037561 -0.14086062  1.05324841 ... -0.66972073  0.62094733\n",
      "  -0.62094733]\n",
      " [ 0.43244266  2.33951114  1.05324841 ... -0.66972073  0.62094733\n",
      "  -0.62094733]\n",
      " [ 0.43244266  2.33951114  1.05324841 ... -0.66972073  0.62094733\n",
      "  -0.62094733]]\n"
     ]
    }
   ],
   "source": [
    "# Również dla SVM wykonujemy standaryzację:\n",
    "\n",
    "# We also  standardize for SVM:\n",
    "\n",
    "from sklearn.preprocessing import StandardScaler\n",
    "\n",
    "scaler = StandardScaler()\n",
    "\n",
    "Xsvm = scaler.fit_transform(Xsvm)\n",
    "\n",
    "print(Xsvm)"
   ]
  },
  {
   "cell_type": "code",
   "execution_count": 59,
   "id": "5504b3de",
   "metadata": {},
   "outputs": [],
   "source": [
    "Xsvm_train, Xsvm_test, ysvm_train, ysvm_test = train_test_split(Xsvm, ysvm, test_size=0.2, stratify=ysvm)"
   ]
  },
  {
   "cell_type": "code",
   "execution_count": 60,
   "id": "c21c99a3",
   "metadata": {},
   "outputs": [
    {
     "name": "stdout",
     "output_type": "stream",
     "text": [
      "Dokładność klasyfikacji: 0.5583333333333333\n"
     ]
    }
   ],
   "source": [
    "from sklearn import datasets\n",
    "from sklearn.datasets import make_classification\n",
    "from sklearn.svm import SVC\n",
    "from sklearn.metrics import accuracy_score\n",
    "\n",
    "\n",
    "clf = SVC(kernel='linear')\n",
    "\n",
    "clf.fit(Xsvm_train, ysvm_train.values.ravel())\n",
    "\n",
    "ysvm_pred = clf.predict(Xsvm_test)\n",
    "\n",
    "accuracy = accuracy_score(ysvm_test, ysvm_pred)\n",
    "\n",
    "print(f\"Dokładność klasyfikacji: {accuracy}\")\n"
   ]
  },
  {
   "cell_type": "code",
   "execution_count": 61,
   "id": "8a206cdc",
   "metadata": {},
   "outputs": [],
   "source": [
    "def calculate_metricsSVM(target, prediction, average='macro'):\n",
    "    accuracy = accuracy_score(target.ravel(), prediction.ravel())\n",
    "    precision = precision_score(target.ravel(), prediction.ravel(), average=average)\n",
    "    recall = recall_score(target.ravel(), prediction.ravel(), average=average)\n",
    "    f1 = f1_score(target.ravel(), prediction.ravel(), average=average)\n",
    "    mislabeled = (target.ravel() != prediction.ravel()).sum()\n",
    "    total = len(target.ravel())\n",
    "    return accuracy, precision, recall, f1, mislabeled, total\n",
    "def print_resultsSVM(metrics, classifier_id='classifier'):\n",
    "    print(f'Results for {classifier_id}')\n",
    "    print('----')\n",
    "    print(f'  Accuracy:  {metrics[0]}')\n",
    "    print(f'  Precision: {metrics[1]}')\n",
    "    print(f'  Recall:    {metrics[2]}')\n",
    "    print(f'  F1 score:  {metrics[3]}')\n",
    "    print(f'  Mislabeled {metrics[4]} out of {metrics[5]}')\n",
    "    print('\\n')"
   ]
  },
  {
   "cell_type": "code",
   "execution_count": 62,
   "id": "6e51725f",
   "metadata": {},
   "outputs": [
    {
     "name": "stdout",
     "output_type": "stream",
     "text": [
      "Results for svm\n",
      "----\n",
      "  Accuracy:  0.5583333333333333\n",
      "  Precision: 0.5538697882281245\n",
      "  Recall:    0.5473343076116423\n",
      "  F1 score:  0.5382940108892922\n",
      "  Mislabeled 265 out of 600\n",
      "\n",
      "\n"
     ]
    }
   ],
   "source": [
    "SVMMetrics1 = calculate_metricsSVM(ysvm_test.values, ysvm_pred)\n",
    "SVMMetrics = print_resultsSVM(calculate_metricsSVM(ysvm_test.values, ysvm_pred), 'svm')\n",
    "SVMMetrics"
   ]
  },
  {
   "cell_type": "code",
   "execution_count": 63,
   "id": "6e634d64",
   "metadata": {},
   "outputs": [
    {
     "data": {
      "image/png": "[encoded data removed]",
      "text/plain": [
       "<Figure size 640x480 with 2 Axes>"
      ]
     },
     "metadata": {},
     "output_type": "display_data"
    }
   ],
   "source": [
    "cmsvm_train = confusion_matrix(ysvm_test, ysvm_pred)\n",
    "sns.heatmap(cmsvm_train, annot=True, fmt='d')\n",
    "plt.show()"
   ]
  },
  {
   "cell_type": "code",
   "execution_count": 64,
   "id": "f6fb2ee2",
   "metadata": {},
   "outputs": [
    {
     "data": {
      "text/plain": [
       "<Axes: >"
      ]
     },
     "execution_count": 64,
     "metadata": {},
     "output_type": "execute_result"
    },
    {
     "data": {
      "image/png": "[encoded data removed]",
      "text/plain": [
       "<Figure size 640x480 with 2 Axes>"
      ]
     },
     "metadata": {},
     "output_type": "display_data"
    }
   ],
   "source": [
    "cmsvm = confusion_matrix(ysvm_test, ysvm_pred)\n",
    "sns.heatmap(cmsvm, annot=True, fmt='d')"
   ]
  },
  {
   "cell_type": "markdown",
   "id": "597d7544",
   "metadata": {},
   "source": []
  },
  {
   "cell_type": "markdown",
   "id": "706bf939",
   "metadata": {},
   "source": [
    "                                                DRZEWO DECYZYJNE\n",
    "                                                \n",
    "                                                 Decision Tree"
   ]
  },
  {
   "cell_type": "markdown",
   "id": "87afd403",
   "metadata": {},
   "source": []
  },
  {
   "cell_type": "markdown",
   "id": "e02c5bc6",
   "metadata": {},
   "source": [
    "  Drzewa decyzyjne (DD) to metoda polegająca na tworzeniu modeli klasyfikacji (lub regresji) w postaci hierarchicznej struktury graficznej. Drzewa decyzyjne skłądają się z węzłów, które reprezentują atrybuty lub zmienne, i gałęzi, które reprezentują wartości lub przedziały tych atrybutów. Każdy węzeł podzielony jest na podwęzły wg danego kryterium, takiego jak entropia, przyrost informacji czy indeks Giniego. Każdy liść drzewa oznacza klasę lub wartość docelową, do której należy przykład, który dotarł do tego liścia. \n",
    "  \n",
    "  Zalety:\n",
    "  \n",
    "  - łatwe do zrozumienia i interpretacji, ponieważ odzwierciedlają naturalny sposób myślenia ludzkiego,\n",
    "  \n",
    "  - szybkie i efektywne w działaniu, ponieważ wymagają niewiele obliczeń i pamięci,\n",
    "  \n",
    "  - zdolne do radzenia sobie z danymi o różnych typach i skalach, takimi jak liczby, kategorie, teksty czy obrazy,\n",
    "  \n",
    "  - wrażliwe na zmiany danych i mogą się dostosowywać do nowych sytuacji.\n",
    "  \n",
    "  Wady:\n",
    "  \n",
    "  - podatne na nadmierne dopasowanie do danych treningowych, jeśli nie są odpowiednio przycięte lub walidowane,\n",
    "  \n",
    "  - mogą być niestabilne i zmieniać się znacznie przy niewielkich zmianach danych,\n",
    "  \n",
    "  - mogą mieć trudności z uchwyceniem złożonych zależności między atrybutami lub liniowych funkcji.\n",
    "  \n",
    "  "
   ]
  },
  {
   "cell_type": "markdown",
   "id": "3eb19c68",
   "metadata": {},
   "source": [
    "  Decision Tree (DD) is a method of creating classification (or regression) models in the form of a hierarchical graphical structure. Decision trees consist of nodes, which represent attributes or variables, and branches, which represent values or ranges of these attributes. Each node is divided into subnodes according to a given criterion, such as entropy, information gain or Gini index. Each leaf of the tree represents the class or target value to which the exmple that reached that leaf belongs.\n",
    "  \n",
    "  Advantages of DD:\n",
    "  \n",
    "  - easy to understand and interpret because they reflect the natural way of human thinking,\n",
    "  \n",
    "  - fast and effective in operation because they require little calculations and memory,\n",
    "  \n",
    "  - capable of dealing with data of different types and scales, such as numbers, categories, texts and images,\n",
    "  \n",
    "  - sensitive to data changes and can adapt to new situations.\n",
    "  \n",
    "  Disadvantages:\n",
    "  \n",
    "  - prone to overfitting training data if not properly trimmed or validated,\n",
    "  \n",
    "  - may be unstable and change significantly with small changes to data,\n",
    "  \n",
    "  - may have difficulty grasping complex relationships between attributes or linear functions. \n",
    "  \n",
    "  "
   ]
  },
  {
   "cell_type": "markdown",
   "id": "f9e3c54e",
   "metadata": {},
   "source": []
  },
  {
   "cell_type": "code",
   "execution_count": 65,
   "id": "68a3e14d",
   "metadata": {},
   "outputs": [],
   "source": [
    "import numpy as np\n",
    "import pandas as pd\n",
    "import sklearn\n",
    "from sklearn.tree import DecisionTreeClassifier\n",
    "from sklearn.model_selection import train_test_split\n",
    "from sklearn.metrics import accuracy_score, precision_score, recall_score, f1_score, confusion_matrix\n",
    "from sklearn.metrics import confusion_matrix\n",
    "from sklearn.tree import plot_tree\n",
    "import matplotlib.pyplot as plt\n",
    "import seaborn as sns"
   ]
  },
  {
   "cell_type": "code",
   "execution_count": 66,
   "id": "d74f6e18",
   "metadata": {},
   "outputs": [
    {
     "data": {
      "text/html": [
       "<div>\n",
       "<style scoped>\n",
       "    .dataframe tbody tr th:only-of-type {\n",
       "        vertical-align: middle;\n",
       "    }\n",
       "\n",
       "    .dataframe tbody tr th {\n",
       "        vertical-align: top;\n",
       "    }\n",
       "\n",
       "    .dataframe thead th {\n",
       "        text-align: right;\n",
       "    }\n",
       "</style>\n",
       "<table border=\"1\" class=\"dataframe\">\n",
       "  <thead>\n",
       "    <tr style=\"text-align: right;\">\n",
       "      <th></th>\n",
       "      <th>Age</th>\n",
       "      <th>DistanceFromHome</th>\n",
       "      <th>Education</th>\n",
       "      <th>EnvironmentSatisfaction</th>\n",
       "      <th>JobInvolvement</th>\n",
       "      <th>JobLevel</th>\n",
       "      <th>JobSatisfaction</th>\n",
       "      <th>MonthlyIncome</th>\n",
       "      <th>NumCompaniesWorked</th>\n",
       "      <th>PercentSalaryHike</th>\n",
       "      <th>...</th>\n",
       "      <th>JobRole_Manufacturing Director</th>\n",
       "      <th>JobRole_Research Director</th>\n",
       "      <th>JobRole_Research Scientist</th>\n",
       "      <th>JobRole_Sales Executive</th>\n",
       "      <th>JobRole_Sales Representative</th>\n",
       "      <th>MaritalStatus_Divorced</th>\n",
       "      <th>MaritalStatus_Married</th>\n",
       "      <th>MaritalStatus_Single</th>\n",
       "      <th>OverTime_No</th>\n",
       "      <th>OverTime_Yes</th>\n",
       "    </tr>\n",
       "  </thead>\n",
       "  <tbody>\n",
       "    <tr>\n",
       "      <th>0</th>\n",
       "      <td>30</td>\n",
       "      <td>1</td>\n",
       "      <td>1</td>\n",
       "      <td>4</td>\n",
       "      <td>2</td>\n",
       "      <td>2</td>\n",
       "      <td>4</td>\n",
       "      <td>5126</td>\n",
       "      <td>1</td>\n",
       "      <td>12</td>\n",
       "      <td>...</td>\n",
       "      <td>0</td>\n",
       "      <td>0</td>\n",
       "      <td>0</td>\n",
       "      <td>0</td>\n",
       "      <td>0</td>\n",
       "      <td>0</td>\n",
       "      <td>1</td>\n",
       "      <td>0</td>\n",
       "      <td>0</td>\n",
       "      <td>1</td>\n",
       "    </tr>\n",
       "    <tr>\n",
       "      <th>1</th>\n",
       "      <td>38</td>\n",
       "      <td>2</td>\n",
       "      <td>2</td>\n",
       "      <td>4</td>\n",
       "      <td>2</td>\n",
       "      <td>3</td>\n",
       "      <td>3</td>\n",
       "      <td>7756</td>\n",
       "      <td>3</td>\n",
       "      <td>19</td>\n",
       "      <td>...</td>\n",
       "      <td>1</td>\n",
       "      <td>0</td>\n",
       "      <td>0</td>\n",
       "      <td>0</td>\n",
       "      <td>0</td>\n",
       "      <td>0</td>\n",
       "      <td>1</td>\n",
       "      <td>0</td>\n",
       "      <td>0</td>\n",
       "      <td>1</td>\n",
       "    </tr>\n",
       "    <tr>\n",
       "      <th>2</th>\n",
       "      <td>26</td>\n",
       "      <td>6</td>\n",
       "      <td>3</td>\n",
       "      <td>3</td>\n",
       "      <td>2</td>\n",
       "      <td>1</td>\n",
       "      <td>2</td>\n",
       "      <td>2368</td>\n",
       "      <td>1</td>\n",
       "      <td>19</td>\n",
       "      <td>...</td>\n",
       "      <td>0</td>\n",
       "      <td>0</td>\n",
       "      <td>1</td>\n",
       "      <td>0</td>\n",
       "      <td>0</td>\n",
       "      <td>0</td>\n",
       "      <td>1</td>\n",
       "      <td>0</td>\n",
       "      <td>1</td>\n",
       "      <td>0</td>\n",
       "    </tr>\n",
       "    <tr>\n",
       "      <th>3</th>\n",
       "      <td>28</td>\n",
       "      <td>8</td>\n",
       "      <td>2</td>\n",
       "      <td>4</td>\n",
       "      <td>3</td>\n",
       "      <td>1</td>\n",
       "      <td>4</td>\n",
       "      <td>3310</td>\n",
       "      <td>1</td>\n",
       "      <td>21</td>\n",
       "      <td>...</td>\n",
       "      <td>0</td>\n",
       "      <td>0</td>\n",
       "      <td>1</td>\n",
       "      <td>0</td>\n",
       "      <td>0</td>\n",
       "      <td>0</td>\n",
       "      <td>0</td>\n",
       "      <td>1</td>\n",
       "      <td>1</td>\n",
       "      <td>0</td>\n",
       "    </tr>\n",
       "    <tr>\n",
       "      <th>4</th>\n",
       "      <td>35</td>\n",
       "      <td>4</td>\n",
       "      <td>2</td>\n",
       "      <td>3</td>\n",
       "      <td>3</td>\n",
       "      <td>1</td>\n",
       "      <td>4</td>\n",
       "      <td>1951</td>\n",
       "      <td>1</td>\n",
       "      <td>12</td>\n",
       "      <td>...</td>\n",
       "      <td>0</td>\n",
       "      <td>0</td>\n",
       "      <td>0</td>\n",
       "      <td>0</td>\n",
       "      <td>0</td>\n",
       "      <td>1</td>\n",
       "      <td>0</td>\n",
       "      <td>0</td>\n",
       "      <td>1</td>\n",
       "      <td>0</td>\n",
       "    </tr>\n",
       "  </tbody>\n",
       "</table>\n",
       "<p>5 rows × 47 columns</p>\n",
       "</div>"
      ],
      "text/plain": [
       "   Age  DistanceFromHome  Education  EnvironmentSatisfaction  JobInvolvement   \n",
       "0   30                 1          1                        4               2  \\\n",
       "1   38                 2          2                        4               2   \n",
       "2   26                 6          3                        3               2   \n",
       "3   28                 8          2                        4               3   \n",
       "4   35                 4          2                        3               3   \n",
       "\n",
       "   JobLevel  JobSatisfaction  MonthlyIncome  NumCompaniesWorked   \n",
       "0         2                4           5126                   1  \\\n",
       "1         3                3           7756                   3   \n",
       "2         1                2           2368                   1   \n",
       "3         1                4           3310                   1   \n",
       "4         1                4           1951                   1   \n",
       "\n",
       "   PercentSalaryHike  ...  JobRole_Manufacturing Director   \n",
       "0                 12  ...                               0  \\\n",
       "1                 19  ...                               1   \n",
       "2                 19  ...                               0   \n",
       "3                 21  ...                               0   \n",
       "4                 12  ...                               0   \n",
       "\n",
       "   JobRole_Research Director  JobRole_Research Scientist   \n",
       "0                          0                           0  \\\n",
       "1                          0                           0   \n",
       "2                          0                           1   \n",
       "3                          0                           1   \n",
       "4                          0                           0   \n",
       "\n",
       "   JobRole_Sales Executive  JobRole_Sales Representative   \n",
       "0                        0                             0  \\\n",
       "1                        0                             0   \n",
       "2                        0                             0   \n",
       "3                        0                             0   \n",
       "4                        0                             0   \n",
       "\n",
       "   MaritalStatus_Divorced  MaritalStatus_Married  MaritalStatus_Single   \n",
       "0                       0                      1                     0  \\\n",
       "1                       0                      1                     0   \n",
       "2                       0                      1                     0   \n",
       "3                       0                      0                     1   \n",
       "4                       1                      0                     0   \n",
       "\n",
       "   OverTime_No  OverTime_Yes  \n",
       "0            0             1  \n",
       "1            0             1  \n",
       "2            1             0  \n",
       "3            1             0  \n",
       "4            1             0  \n",
       "\n",
       "[5 rows x 47 columns]"
      ]
     },
     "execution_count": 66,
     "metadata": {},
     "output_type": "execute_result"
    }
   ],
   "source": [
    "ATTMod = pd.read_csv('Dane/ATTMod.csv')\n",
    "ATTMod.head()"
   ]
  },
  {
   "cell_type": "code",
   "execution_count": 67,
   "id": "7bd9a45e",
   "metadata": {},
   "outputs": [],
   "source": [
    "train_data = ATTMod.drop('Attrition', axis=1)\n",
    "train_labels = ATTMod[['Attrition']]"
   ]
  },
  {
   "cell_type": "code",
   "execution_count": 68,
   "id": "ee4fce86",
   "metadata": {},
   "outputs": [],
   "source": [
    "XDD = train_data\n",
    "yDD = train_labels"
   ]
  },
  {
   "cell_type": "code",
   "execution_count": 69,
   "id": "a011b493",
   "metadata": {},
   "outputs": [],
   "source": [
    "XDD_train, XDD_test, yDD_train, yDD_test = train_test_split(XDD, yDD, test_size=0.2, stratify=yDD, random_state=42)"
   ]
  },
  {
   "cell_type": "code",
   "execution_count": 70,
   "id": "938fd742",
   "metadata": {},
   "outputs": [],
   "source": [
    "dd = DecisionTreeClassifier()\n",
    "dd.fit(XDD_train, yDD_train)\n",
    "pred = dd.predict(XDD_test)"
   ]
  },
  {
   "cell_type": "code",
   "execution_count": 71,
   "id": "071ea140",
   "metadata": {},
   "outputs": [],
   "source": [
    "yDD_pred_train = dd.predict(XDD_train)"
   ]
  },
  {
   "cell_type": "code",
   "execution_count": 72,
   "id": "1df1f41e",
   "metadata": {},
   "outputs": [
    {
     "name": "stdout",
     "output_type": "stream",
     "text": [
      "Results for Decision Tree Train\n",
      "----\n",
      "  Accuracy:  0.818523153942428\n",
      "  Precision: 0.8251271977611454\n",
      "  Recall:    0.8133453952611724\n",
      "  F1 score:  0.8152718981448263\n",
      "  Mislabeled 2835527 out of 2397\n",
      "\n",
      "\n"
     ]
    }
   ],
   "source": [
    "DDMetrics1 = calculate_metrics(yDD_train.values, yDD_pred_train)\n",
    "DDMetrics = print_results(calculate_metrics(yDD_train.values, yDD_pred_train), 'Decision Tree Train')\n",
    "DDMetrics"
   ]
  },
  {
   "cell_type": "code",
   "execution_count": 76,
   "id": "fcf03474",
   "metadata": {},
   "outputs": [],
   "source": [
    "# Wynik F1-Score jest już znacznie lepszy niż w przypadku poprzednich algorytmów.\n",
    "\n",
    "# F1-Score is already much better than previous algorithms."
   ]
  },
  {
   "cell_type": "code",
   "execution_count": 73,
   "id": "7fe691f5",
   "metadata": {},
   "outputs": [
    {
     "data": {
      "image/png": "[encoded data removed]",
      "text/plain": [
       "<Figure size 640x480 with 2 Axes>"
      ]
     },
     "metadata": {},
     "output_type": "display_data"
    }
   ],
   "source": [
    "cmDD_train = confusion_matrix(yDD_test, pred)\n",
    "sns.heatmap(cmDD_train, annot=True, fmt='d')\n",
    "plt.show()"
   ]
  },
  {
   "cell_type": "code",
   "execution_count": 74,
   "id": "89e40515",
   "metadata": {},
   "outputs": [
    {
     "data": {
      "text/plain": [
       "array([[198, 121],\n",
       "       [158, 123]], dtype=int64)"
      ]
     },
     "execution_count": 74,
     "metadata": {},
     "output_type": "execute_result"
    }
   ],
   "source": [
    "cmDD_train"
   ]
  },
  {
   "cell_type": "code",
   "execution_count": 75,
   "id": "edb7cbb0",
   "metadata": {},
   "outputs": [
    {
     "data": {
      "text/plain": [
       "<Axes: >"
      ]
     },
     "execution_count": 75,
     "metadata": {},
     "output_type": "execute_result"
    },
    {
     "data": {
      "image/png": "[encoded data removed]",
      "text/plain": [
       "<Figure size 640x480 with 2 Axes>"
      ]
     },
     "metadata": {},
     "output_type": "display_data"
    }
   ],
   "source": [
    "cmDD = confusion_matrix(yDD_test, pred)\n",
    "sns.heatmap(cmDD, annot=True, fmt='d')"
   ]
  },
  {
   "cell_type": "code",
   "execution_count": 76,
   "id": "d477b318",
   "metadata": {},
   "outputs": [
    {
     "data": {
      "image/png": "[encoded data removed]",
      "text/plain": [
       "<Figure size 1000x1000 with 1 Axes>"
      ]
     },
     "metadata": {},
     "output_type": "display_data"
    }
   ],
   "source": [
    "plt.figure(figsize=(10, 10))\n",
    "plot_tree(dd, feature_names=list(XDD))\n",
    "plt.show()"
   ]
  },
  {
   "cell_type": "markdown",
   "id": "02178365",
   "metadata": {},
   "source": []
  },
  {
   "cell_type": "markdown",
   "id": "01519581",
   "metadata": {},
   "source": [
    "                                              ZESPOŁY KLASYFIKATORÓW\n",
    "                                              \n",
    "                                               Multiple Classifiers "
   ]
  },
  {
   "cell_type": "markdown",
   "id": "b70ba3f1",
   "metadata": {},
   "source": []
  },
  {
   "cell_type": "markdown",
   "id": "7b1eb06d",
   "metadata": {},
   "source": [
    "  Zespoły klasyfikatorów to techniki, które łączą wiele modeli uczenia się w celu uzyskania lepszej dokładności niż pojedynczy model. Mogą być podzielone na dwie główne kategorie: metody agregacji i metody wzmacniania.\n",
    "  \n",
    "  Metody agregacji - polegają na tworzeniu wielu modeli uczenia się z różnymi podzbiorami danych lub różnymi algorytmami, a następnie łączeniu ich wyników za pomocą głosowania, średniej lub innej reguły. Przykłady: bagging, bootstrap, random forest.\n",
    "  \n",
    "  Metody wzmacniania - polegają na iteracyjnym tworzeniu modeli uczenia się, któe poprawiają się na podstawie błędów poprzednich modeli. Przykłady: boosting, adaptive boosting, gradient boosting.\n",
    "  \n",
    "  Zalety:\n",
    "  \n",
    "  - zmniejszają ryzyko nadmiernego dopasowania do danych treningowych, ponieważ wykorzystują wiele modeli z różnymi cechami\n",
    "    i parametrami,\n",
    "   \n",
    "  - zwiększają stabilność i niezawodność wyników, ponieważ redukują wpływ losowych błędów lub szumów danych,\n",
    "  \n",
    "  - poprawiają wydajność skalowalność, ponieważ mogą być łatwo zrównoleglone i rozproszone na wielu maszynach lub platformach.\n",
    "  \n",
    "  Wady:\n",
    "  \n",
    "  - zwiększają złożoność i koszt obliczeniowy, ponieważ wymagają więcej czasu i zasobów do trenowania i testowania wielu \n",
    "    modeli,\n",
    "    \n",
    "  - utrudniają interpretację i wyjaśnianie wyników, ponieważ trudno jest prześledzić, jak poszczególne modele wpływają na \n",
    "    ostateczną decyzję.\n",
    "  "
   ]
  },
  {
   "cell_type": "markdown",
   "id": "8314517a",
   "metadata": {},
   "source": [
    "  Multiple classifiers are techniques that combine multiple learning models to achieve better accuracy than a single model. They can be divided into two main categories: aggregation methods and amplification methods. \n",
    "  \n",
    "  Aggregation methods - involve creating multiple learning models with different subsets of data or different algorithms, and then combining their results using voting, an average, or another rule. Examples: bagging, bootstrap, random forest.\n",
    "  \n",
    "  Reinforcement methods - involve the iterative creation of learning models that improve based on the errors of previous models. Examples: boosting, adaptive boosting, gradient boosting.\n",
    "  \n",
    "  Advantages:\n",
    "  \n",
    "  - reduce risk of overfitting the training data because they use multiple models with different features and parameters,\n",
    "  \n",
    "  - increase the stability and reliability of results because they reduce the impact of random errors or data noise,\n",
    "  \n",
    "  - improve performance and scalability because they can be easily parallelized and distributed across multiple machines or \n",
    "    platforms,\n",
    "    \n",
    "  Disadvantages:\n",
    "  \n",
    "  - they increase complexity and computational cost because they require more time and resources to train and test many \n",
    "    models,\n",
    "    \n",
    "  - make it difficult to interpret and explain the results because it is difficult to trace how individual models influence \n",
    "    final decision. \n",
    "  "
   ]
  },
  {
   "cell_type": "code",
   "execution_count": 77,
   "id": "1a4a4ca4",
   "metadata": {},
   "outputs": [],
   "source": [
    "import numpy as np\n",
    "import pandas as pd\n",
    "import sklearn\n",
    "from sklearn.model_selection import train_test_split\n",
    "from sklearn.metrics import accuracy_score, precision_score, recall_score, f1_score, confusion_matrix\n",
    "from sklearn.metrics import confusion_matrix\n",
    "import matplotlib.pyplot as plt\n",
    "import seaborn as sns"
   ]
  },
  {
   "cell_type": "markdown",
   "id": "09fd89f8",
   "metadata": {},
   "source": []
  },
  {
   "cell_type": "markdown",
   "id": "3c351e79",
   "metadata": {},
   "source": [
    "                                                  Bootstrap"
   ]
  },
  {
   "cell_type": "markdown",
   "id": "e299568b",
   "metadata": {},
   "source": []
  },
  {
   "cell_type": "markdown",
   "id": "086a567d",
   "metadata": {},
   "source": [
    "  Algorytm Bootstrap to metoda statystyczna, która polega na wielokrotnym losowaniu próbek z danego zbioru danych z powtórzeniami i obliczaniu na nich żądanej statystyki, takiej jak średnia, mediana, odchylenie standardowe czy przedział ufności. Algorytm pozwala na oszacowanie niepewności i błędu statystyki bez założeń o rozkładzie danych lub modelu."
   ]
  },
  {
   "cell_type": "markdown",
   "id": "1005d3e3",
   "metadata": {},
   "source": [
    "  The Bootstrap algorithm is a statistical method that involves repeatedly drawing samples from a given data set with repetitions and calculating the desired statistics on them, such as the mean, median, standard deviation or confidence interval. The algorithm allows for the estimation of statistical uncertainty and error without assumptions about the distribution of data or the model."
   ]
  },
  {
   "cell_type": "code",
   "execution_count": 78,
   "id": "a8c99a63",
   "metadata": {},
   "outputs": [
    {
     "data": {
      "text/html": [
       "<div>\n",
       "<style scoped>\n",
       "    .dataframe tbody tr th:only-of-type {\n",
       "        vertical-align: middle;\n",
       "    }\n",
       "\n",
       "    .dataframe tbody tr th {\n",
       "        vertical-align: top;\n",
       "    }\n",
       "\n",
       "    .dataframe thead th {\n",
       "        text-align: right;\n",
       "    }\n",
       "</style>\n",
       "<table border=\"1\" class=\"dataframe\">\n",
       "  <thead>\n",
       "    <tr style=\"text-align: right;\">\n",
       "      <th></th>\n",
       "      <th>Age</th>\n",
       "      <th>DistanceFromHome</th>\n",
       "      <th>Education</th>\n",
       "      <th>EnvironmentSatisfaction</th>\n",
       "      <th>JobInvolvement</th>\n",
       "      <th>JobLevel</th>\n",
       "      <th>JobSatisfaction</th>\n",
       "      <th>MonthlyIncome</th>\n",
       "      <th>NumCompaniesWorked</th>\n",
       "      <th>PercentSalaryHike</th>\n",
       "      <th>...</th>\n",
       "      <th>JobRole_Manufacturing Director</th>\n",
       "      <th>JobRole_Research Director</th>\n",
       "      <th>JobRole_Research Scientist</th>\n",
       "      <th>JobRole_Sales Executive</th>\n",
       "      <th>JobRole_Sales Representative</th>\n",
       "      <th>MaritalStatus_Divorced</th>\n",
       "      <th>MaritalStatus_Married</th>\n",
       "      <th>MaritalStatus_Single</th>\n",
       "      <th>OverTime_No</th>\n",
       "      <th>OverTime_Yes</th>\n",
       "    </tr>\n",
       "  </thead>\n",
       "  <tbody>\n",
       "    <tr>\n",
       "      <th>0</th>\n",
       "      <td>30</td>\n",
       "      <td>1</td>\n",
       "      <td>1</td>\n",
       "      <td>4</td>\n",
       "      <td>2</td>\n",
       "      <td>2</td>\n",
       "      <td>4</td>\n",
       "      <td>5126</td>\n",
       "      <td>1</td>\n",
       "      <td>12</td>\n",
       "      <td>...</td>\n",
       "      <td>0</td>\n",
       "      <td>0</td>\n",
       "      <td>0</td>\n",
       "      <td>0</td>\n",
       "      <td>0</td>\n",
       "      <td>0</td>\n",
       "      <td>1</td>\n",
       "      <td>0</td>\n",
       "      <td>0</td>\n",
       "      <td>1</td>\n",
       "    </tr>\n",
       "    <tr>\n",
       "      <th>1</th>\n",
       "      <td>38</td>\n",
       "      <td>2</td>\n",
       "      <td>2</td>\n",
       "      <td>4</td>\n",
       "      <td>2</td>\n",
       "      <td>3</td>\n",
       "      <td>3</td>\n",
       "      <td>7756</td>\n",
       "      <td>3</td>\n",
       "      <td>19</td>\n",
       "      <td>...</td>\n",
       "      <td>1</td>\n",
       "      <td>0</td>\n",
       "      <td>0</td>\n",
       "      <td>0</td>\n",
       "      <td>0</td>\n",
       "      <td>0</td>\n",
       "      <td>1</td>\n",
       "      <td>0</td>\n",
       "      <td>0</td>\n",
       "      <td>1</td>\n",
       "    </tr>\n",
       "    <tr>\n",
       "      <th>2</th>\n",
       "      <td>26</td>\n",
       "      <td>6</td>\n",
       "      <td>3</td>\n",
       "      <td>3</td>\n",
       "      <td>2</td>\n",
       "      <td>1</td>\n",
       "      <td>2</td>\n",
       "      <td>2368</td>\n",
       "      <td>1</td>\n",
       "      <td>19</td>\n",
       "      <td>...</td>\n",
       "      <td>0</td>\n",
       "      <td>0</td>\n",
       "      <td>1</td>\n",
       "      <td>0</td>\n",
       "      <td>0</td>\n",
       "      <td>0</td>\n",
       "      <td>1</td>\n",
       "      <td>0</td>\n",
       "      <td>1</td>\n",
       "      <td>0</td>\n",
       "    </tr>\n",
       "    <tr>\n",
       "      <th>3</th>\n",
       "      <td>28</td>\n",
       "      <td>8</td>\n",
       "      <td>2</td>\n",
       "      <td>4</td>\n",
       "      <td>3</td>\n",
       "      <td>1</td>\n",
       "      <td>4</td>\n",
       "      <td>3310</td>\n",
       "      <td>1</td>\n",
       "      <td>21</td>\n",
       "      <td>...</td>\n",
       "      <td>0</td>\n",
       "      <td>0</td>\n",
       "      <td>1</td>\n",
       "      <td>0</td>\n",
       "      <td>0</td>\n",
       "      <td>0</td>\n",
       "      <td>0</td>\n",
       "      <td>1</td>\n",
       "      <td>1</td>\n",
       "      <td>0</td>\n",
       "    </tr>\n",
       "    <tr>\n",
       "      <th>4</th>\n",
       "      <td>35</td>\n",
       "      <td>4</td>\n",
       "      <td>2</td>\n",
       "      <td>3</td>\n",
       "      <td>3</td>\n",
       "      <td>1</td>\n",
       "      <td>4</td>\n",
       "      <td>1951</td>\n",
       "      <td>1</td>\n",
       "      <td>12</td>\n",
       "      <td>...</td>\n",
       "      <td>0</td>\n",
       "      <td>0</td>\n",
       "      <td>0</td>\n",
       "      <td>0</td>\n",
       "      <td>0</td>\n",
       "      <td>1</td>\n",
       "      <td>0</td>\n",
       "      <td>0</td>\n",
       "      <td>1</td>\n",
       "      <td>0</td>\n",
       "    </tr>\n",
       "  </tbody>\n",
       "</table>\n",
       "<p>5 rows × 47 columns</p>\n",
       "</div>"
      ],
      "text/plain": [
       "   Age  DistanceFromHome  Education  EnvironmentSatisfaction  JobInvolvement   \n",
       "0   30                 1          1                        4               2  \\\n",
       "1   38                 2          2                        4               2   \n",
       "2   26                 6          3                        3               2   \n",
       "3   28                 8          2                        4               3   \n",
       "4   35                 4          2                        3               3   \n",
       "\n",
       "   JobLevel  JobSatisfaction  MonthlyIncome  NumCompaniesWorked   \n",
       "0         2                4           5126                   1  \\\n",
       "1         3                3           7756                   3   \n",
       "2         1                2           2368                   1   \n",
       "3         1                4           3310                   1   \n",
       "4         1                4           1951                   1   \n",
       "\n",
       "   PercentSalaryHike  ...  JobRole_Manufacturing Director   \n",
       "0                 12  ...                               0  \\\n",
       "1                 19  ...                               1   \n",
       "2                 19  ...                               0   \n",
       "3                 21  ...                               0   \n",
       "4                 12  ...                               0   \n",
       "\n",
       "   JobRole_Research Director  JobRole_Research Scientist   \n",
       "0                          0                           0  \\\n",
       "1                          0                           0   \n",
       "2                          0                           1   \n",
       "3                          0                           1   \n",
       "4                          0                           0   \n",
       "\n",
       "   JobRole_Sales Executive  JobRole_Sales Representative   \n",
       "0                        0                             0  \\\n",
       "1                        0                             0   \n",
       "2                        0                             0   \n",
       "3                        0                             0   \n",
       "4                        0                             0   \n",
       "\n",
       "   MaritalStatus_Divorced  MaritalStatus_Married  MaritalStatus_Single   \n",
       "0                       0                      1                     0  \\\n",
       "1                       0                      1                     0   \n",
       "2                       0                      1                     0   \n",
       "3                       0                      0                     1   \n",
       "4                       1                      0                     0   \n",
       "\n",
       "   OverTime_No  OverTime_Yes  \n",
       "0            0             1  \n",
       "1            0             1  \n",
       "2            1             0  \n",
       "3            1             0  \n",
       "4            1             0  \n",
       "\n",
       "[5 rows x 47 columns]"
      ]
     },
     "execution_count": 78,
     "metadata": {},
     "output_type": "execute_result"
    }
   ],
   "source": [
    "ATTMod = pd.read_csv('Dane/ATTMod.csv')\n",
    "ATTMod.head()"
   ]
  },
  {
   "cell_type": "code",
   "execution_count": 79,
   "id": "4ba428e4",
   "metadata": {},
   "outputs": [],
   "source": [
    "train_data = ATTMod.drop('Attrition', axis=1)\n",
    "train_labels = ATTMod[['Attrition']]"
   ]
  },
  {
   "cell_type": "code",
   "execution_count": 80,
   "id": "ddf5e20d",
   "metadata": {},
   "outputs": [],
   "source": [
    "Xboot = train_data\n",
    "yboot = train_labels"
   ]
  },
  {
   "cell_type": "code",
   "execution_count": 81,
   "id": "69da03f0",
   "metadata": {},
   "outputs": [
    {
     "data": {
      "text/plain": [
       "array([8.0000e-01, 8.0000e-01, 1.4000e+00, 2.2000e+00, 2.0000e-01,\n",
       "       2.6000e+00, 6.0000e-01, 1.4000e+00, 4.0000e-01, 2.0000e+00,\n",
       "       1.1600e+01, 1.0000e+00, 8.0000e-01, 4.0000e+00, 4.6440e+02,\n",
       "       1.4000e+00, 7.6000e+00, 8.0820e+02, 9.0000e+00, 5.6000e+00,\n",
       "       1.0000e+00, 1.5600e+01, 1.2000e+00, 6.0000e-01, 6.0000e-01,\n",
       "       1.2000e+00, 2.8000e+00, 1.8000e+00, 6.6460e+02, 1.2000e+00,\n",
       "       4.0000e+00, 5.4000e+00, 5.6000e+00, 1.2000e+00, 9.6000e+00,\n",
       "       5.8000e+00, 1.4000e+00, 4.0000e-01, 1.2000e+00, 4.1940e+02,\n",
       "       1.2000e+00, 6.0000e-01, 8.6260e+02, 8.0000e-01, 1.0000e+00,\n",
       "       1.6000e+00, 4.0000e+00, 1.6000e+00, 1.0000e+00, 1.2000e+00,\n",
       "       1.8000e+00, 0.0000e+00, 1.9836e+03, 4.0000e-01, 0.0000e+00,\n",
       "       2.0000e-01, 2.1298e+03, 9.8000e+00, 0.0000e+00, 4.2000e+00,\n",
       "       6.8000e+00, 8.4000e+00, 2.0000e+00, 4.0000e-01, 6.0000e-01,\n",
       "       1.6000e+00, 1.0000e+00, 2.4000e+00, 4.0000e-01, 3.0000e+00,\n",
       "       1.4000e+00, 8.0000e-01, 1.0000e+01, 1.4000e+00, 6.3260e+02,\n",
       "       4.0000e-01, 4.0000e-01, 3.5736e+03, 1.0820e+03, 1.4000e+00,\n",
       "       6.6000e+00, 4.0120e+02, 6.0000e-01, 3.8000e+00, 6.4000e+00,\n",
       "       9.8120e+02, 4.8000e+00, 1.4000e+00, 0.0000e+00, 8.0000e-01,\n",
       "       1.0074e+03, 2.0920e+03, 1.1200e+01, 3.8416e+03, 5.4000e+00,\n",
       "       1.2600e+01, 3.4000e+00, 7.4000e+00, 3.4000e+00, 1.4000e+00,\n",
       "       8.0000e-01, 8.0000e-01, 4.2000e+00, 4.0000e-01, 6.0000e-01,\n",
       "       1.2000e+00, 2.0000e-01, 3.4000e+00, 3.8000e+00, 7.2000e+00,\n",
       "       1.2000e+00, 6.6000e+00, 5.7840e+02, 2.0000e-01, 2.4000e+00,\n",
       "       4.0000e-01, 3.2000e+00, 4.0000e-01, 7.4000e+00, 4.0000e-01,\n",
       "       1.8000e+00, 1.0000e+00, 5.8980e+02, 6.0000e+00, 9.2000e+00,\n",
       "       6.0000e-01, 1.0000e+00, 4.6000e+00, 3.2000e+00, 3.2000e+00,\n",
       "       2.0000e-01, 8.0000e-01, 1.2000e+00, 2.0000e-01, 4.0000e-01,\n",
       "       1.2000e+00, 1.0800e+01, 3.4000e+00, 1.6000e+00, 6.0000e-01,\n",
       "       8.0000e-01, 3.4000e+00, 3.0000e+00, 1.8000e+00, 6.0000e-01,\n",
       "       1.0400e+01, 1.6000e+00, 3.2000e+00, 1.0000e+00, 4.0000e-01,\n",
       "       1.2000e+00, 6.0000e-01, 1.0000e+00, 1.1200e+01, 1.0000e+00,\n",
       "       1.4000e+00, 1.4000e+00, 5.0000e+00, 7.6000e+00, 1.2762e+03,\n",
       "       2.0000e-01, 6.0000e-01, 1.0000e+00, 5.8080e+02, 6.0000e-01,\n",
       "       1.8000e+00, 1.0000e+00, 8.0000e-01, 8.4100e+02, 1.7400e+01,\n",
       "       1.6000e+00, 7.7960e+02, 1.8000e+00, 2.0000e-01, 6.4000e+00,\n",
       "       7.4000e+00, 1.2600e+01, 4.0000e-01, 0.0000e+00, 2.0000e-01,\n",
       "       1.0000e+00, 1.1400e+01, 1.5800e+01, 4.2000e+00, 2.6000e+00,\n",
       "       2.0000e-01, 8.4000e+00, 6.2000e+00, 1.8000e+00, 2.0000e-01,\n",
       "       8.2000e+00, 2.0000e+00, 1.4000e+00, 1.4000e+00, 7.0000e+00,\n",
       "       2.0480e+03, 6.6000e+00, 6.8940e+02, 1.2000e+00, 8.2060e+02,\n",
       "       0.0000e+00, 4.0000e+00, 2.2000e+00, 3.8000e+00, 2.0000e+00,\n",
       "       4.8540e+02, 2.0000e+00, 1.2000e+00, 8.0000e-01, 1.0000e+01,\n",
       "       1.0000e+00, 8.0000e-01, 2.0000e-01, 5.1900e+02, 1.2898e+03,\n",
       "       8.0000e-01, 6.0000e-01, 7.4000e+00, 6.0000e-01, 1.2000e+00,\n",
       "       1.0000e+00, 8.0000e-01, 1.0000e+00, 4.0000e-01, 1.0000e+00,\n",
       "       1.2000e+00, 5.6000e+00, 2.2000e+00, 2.6000e+00, 1.8000e+00,\n",
       "       3.6000e+00, 1.1240e+03, 2.4000e+00, 4.2000e+00, 1.2000e+00,\n",
       "       2.8000e+00, 2.6000e+00, 1.0000e+00, 1.1400e+01, 6.0000e-01,\n",
       "       4.0000e-01, 5.8720e+02, 1.6000e+00, 2.0000e-01, 2.0000e-01,\n",
       "       1.2000e+00, 1.0000e+00, 1.6000e+00, 1.6000e+00, 2.0000e+00,\n",
       "       4.0000e-01, 6.0000e-01, 6.0000e-01, 2.3028e+03, 1.0800e+01,\n",
       "       1.4000e+00, 1.2000e+00, 4.0000e+00, 2.6880e+03, 7.6000e+00,\n",
       "       4.4640e+02, 4.0000e-01, 1.2000e+00, 1.4000e+00, 1.6000e+00,\n",
       "       1.0000e+00, 1.2000e+00, 5.7280e+02, 1.2200e+01, 1.0000e+00,\n",
       "       1.4000e+00, 5.8000e+00, 8.4000e+00, 4.0000e-01, 6.0000e-01,\n",
       "       4.0000e-01, 3.4000e+00, 9.4600e+02, 3.8000e+00, 6.0000e-01,\n",
       "       3.6000e+00, 0.0000e+00, 1.6000e+00, 8.0000e-01, 3.4000e+00,\n",
       "       2.0000e+00, 4.0000e-01, 2.0000e-01, 1.8000e+00, 1.2128e+03,\n",
       "       5.4100e+02, 4.0000e-01, 2.0000e-01, 6.0000e-01, 8.0000e-01,\n",
       "       1.8000e+00, 6.0000e-01, 4.2000e+00, 1.1192e+03, 8.0000e-01,\n",
       "       2.0000e-01, 4.0000e-01, 6.0000e-01, 1.8000e+00, 6.0000e-01,\n",
       "       2.0000e-01, 8.0000e-01, 1.0000e+00, 1.0000e+00, 4.0000e-01,\n",
       "       8.4000e+00, 1.4000e+00, 6.0000e-01, 1.8000e+00, 1.0000e+00,\n",
       "       2.0000e-01, 7.9680e+02, 4.0000e-01, 6.0000e-01, 5.9120e+02,\n",
       "       2.0766e+03, 8.0000e-01, 4.0000e-01, 1.2000e+00, 2.4000e+00,\n",
       "       1.6000e+00, 2.0346e+03, 5.6000e+00, 4.0000e-01, 1.2000e+00,\n",
       "       8.0000e-01, 4.0000e-01, 1.2000e+00, 0.0000e+00, 1.8000e+00,\n",
       "       1.0000e+00, 6.0000e-01, 1.8000e+00, 3.2000e+00, 7.2000e+00,\n",
       "       2.0000e+00, 5.2000e+00, 2.0000e-01, 1.8000e+00, 1.1400e+01,\n",
       "       6.0000e-01, 8.0000e-01, 8.2000e+00, 1.6000e+00, 2.8000e+00,\n",
       "       4.0000e-01, 6.4000e+00, 6.0000e-01, 4.2000e+00, 6.0000e-01,\n",
       "       6.0000e-01, 2.2000e+00, 8.0000e-01, 1.7600e+01, 2.8000e+00,\n",
       "       1.4000e+00, 4.5140e+02, 2.6000e+00, 2.8000e+00, 2.2000e+00,\n",
       "       2.8000e+00, 5.0000e+00, 8.0000e-01, 3.0000e+00, 8.0000e-01,\n",
       "       4.1880e+02, 1.4000e+00, 1.1200e+01, 0.0000e+00, 1.4000e+00,\n",
       "       8.0000e-01, 2.0000e-01, 1.4000e+00, 7.0000e+00, 1.8000e+00,\n",
       "       4.0000e-01, 5.7360e+02, 4.6000e+00, 1.0000e+00, 2.8000e+00,\n",
       "       8.0000e-01, 2.0590e+03, 2.8000e+00, 4.0000e-01, 3.3516e+03,\n",
       "       1.2400e+01, 0.0000e+00, 1.8000e+00, 1.8000e+00, 0.0000e+00,\n",
       "       1.6000e+00, 6.0000e-01, 2.0000e-01, 8.0000e-01, 2.4000e+00,\n",
       "       1.2000e+00, 6.0000e-01, 2.0000e-01, 1.8000e+00, 1.0000e+00,\n",
       "       8.0000e-01, 5.2000e+00, 4.0000e-01, 6.0000e-01, 1.0000e+00,\n",
       "       9.2000e+00, 1.0000e+00, 6.0000e-01, 1.0000e+00, 3.6000e+00,\n",
       "       0.0000e+00, 0.0000e+00, 1.0200e+01, 4.0000e-01, 6.0000e-01,\n",
       "       2.4000e+00, 3.2000e+00, 1.6000e+00, 2.8000e+00, 2.2000e+00,\n",
       "       2.0000e+00, 2.4000e+00, 8.0000e-01, 9.2000e+00, 1.0000e+00,\n",
       "       2.2000e+00, 4.0000e-01, 1.4000e+00, 2.6000e+00, 3.4000e+00,\n",
       "       1.6000e+00, 4.0000e-01, 1.1600e+01, 3.0000e+00, 2.0000e-01,\n",
       "       1.4000e+00, 1.8000e+00, 4.4000e+00, 8.6000e+00, 4.2000e+00,\n",
       "       1.4000e+00, 1.6000e+00, 2.6000e+00, 1.8000e+00, 6.0000e-01,\n",
       "       2.4560e+02, 5.4000e+00, 4.0000e-01, 1.0000e+00, 1.3290e+03,\n",
       "       8.2000e+00, 8.0000e-01, 1.2000e+00, 2.0000e-01, 5.6000e+00,\n",
       "       4.8000e+00, 1.2408e+03, 4.3160e+02, 1.3194e+03, 1.4000e+00,\n",
       "       2.0000e-01, 1.6000e+00, 1.2000e+00, 5.4000e+00, 2.0000e-01,\n",
       "       5.7800e+02, 1.2000e+00, 4.0000e+00, 8.0000e-01, 1.0400e+01,\n",
       "       1.6000e+00, 4.0000e-01, 1.4000e+00, 7.9700e+02, 1.0000e+00,\n",
       "       5.6000e+00, 2.4000e+00, 8.0000e-01, 1.6000e+00, 3.6000e+00,\n",
       "       1.3026e+03, 6.0000e-01, 2.4000e+00, 1.9242e+03, 3.4144e+03,\n",
       "       8.0000e-01, 1.0000e+00, 9.4000e+00, 1.4000e+00, 1.5536e+03,\n",
       "       4.8000e+00, 4.0000e-01, 1.0000e+00, 1.0000e+01, 9.4000e+00,\n",
       "       4.0000e+00, 0.0000e+00, 1.0000e+00, 2.0000e-01, 1.4000e+00,\n",
       "       3.4000e+00, 4.0000e-01, 3.6000e+00, 1.2000e+00, 4.0000e-01,\n",
       "       2.2000e+00, 6.0000e-01, 6.6000e+00, 8.0000e-01, 1.0000e+00,\n",
       "       1.6000e+00, 8.8000e+00, 1.2000e+01, 4.4000e+00, 1.0000e+00,\n",
       "       2.0000e-01, 9.2000e+00, 2.0000e+00, 1.2000e+00, 1.0000e+00,\n",
       "       1.0000e+00, 1.4000e+00, 1.8000e+00, 8.0000e-01, 4.0000e-01,\n",
       "       0.0000e+00, 1.6000e+00, 0.0000e+00, 2.6000e+00, 2.8000e+00,\n",
       "       8.0000e-01, 2.8000e+00, 2.4000e+00, 3.2000e+00, 3.2000e+00,\n",
       "       4.0000e-01, 4.0000e-01, 1.2000e+00, 1.2000e+00, 1.2000e+00,\n",
       "       8.0000e-01, 2.4000e+00, 2.0000e-01, 6.6000e+00, 5.4000e+00,\n",
       "       3.8000e+00, 2.6000e+00, 3.2000e+00, 2.4000e+00, 0.0000e+00,\n",
       "       6.0000e-01, 1.2000e+00, 1.2000e+00, 2.0000e+00, 6.6000e+00,\n",
       "       1.0000e+00, 3.4000e+00, 4.4000e+00, 2.4000e+00, 1.0000e+00,\n",
       "       1.6000e+00, 6.0000e-01, 1.8000e+00, 3.4000e+00, 2.8000e+00,\n",
       "       1.0000e+00, 2.4000e+00, 1.4000e+00, 2.7518e+03, 1.6000e+00,\n",
       "       1.0600e+01, 2.0000e-01, 3.4000e+00, 2.6000e+00, 6.2000e+00,\n",
       "       6.0000e-01, 4.0000e+00, 1.2000e+00, 2.0000e-01, 3.0000e+00,\n",
       "       2.2000e+00, 3.4000e+00, 0.0000e+00, 1.0000e+00, 9.6200e+02,\n",
       "       1.0400e+01, 5.9120e+02, 7.0000e+00, 0.0000e+00, 2.2000e+00,\n",
       "       4.0000e-01, 6.4000e+00, 1.2000e+00, 1.2000e+00, 0.0000e+00,\n",
       "       1.2000e+00, 8.0000e-01, 1.0000e+00, 1.0000e+01, 2.0000e-01,\n",
       "       3.6000e+00, 3.6000e+00, 1.4200e+01, 2.0000e+00, 8.0000e-01,\n",
       "       3.8000e+00, 1.8000e+00, 6.0000e-01, 2.0000e-01, 6.0000e-01,\n",
       "       2.2000e+00, 4.0000e-01, 8.2160e+02, 4.0000e-01, 6.0000e-01,\n",
       "       1.8000e+00, 1.6000e+00, 1.0000e+00, 1.3200e+01, 6.0000e-01,\n",
       "       1.0000e+00, 1.2000e+00, 4.6000e+00, 1.8000e+00, 1.6000e+00,\n",
       "       8.2000e+00, 1.8000e+00, 1.0000e+00, 6.6000e+00, 2.8000e+00,\n",
       "       2.0000e-01, 8.0000e-01, 1.0026e+03, 2.0000e-01, 4.0000e+00,\n",
       "       1.1400e+01, 6.0000e+00, 6.0000e-01, 4.0000e-01, 1.8000e+00,\n",
       "       1.0000e+00, 1.0000e+00, 6.8000e+00, 1.1000e+01, 6.0000e-01,\n",
       "       7.0000e+00, 6.0000e-01, 2.6000e+00, 3.0000e+00, 8.0000e-01,\n",
       "       8.8000e+00, 6.0000e-01, 1.2000e+00, 4.0000e-01, 1.2000e+00,\n",
       "       4.1868e+03, 1.6000e+00, 1.0200e+01, 4.6900e+02, 1.9986e+03,\n",
       "       1.2000e+00, 1.2000e+00, 4.2000e+00, 0.0000e+00, 6.0000e-01,\n",
       "       1.0000e+00, 4.0000e-01, 3.0000e+00, 1.0000e+00, 4.0000e+00,\n",
       "       1.9172e+03, 1.0000e+00, 6.0780e+02, 1.4000e+00, 5.6000e+00,\n",
       "       7.4000e+00, 8.0000e-01, 8.0000e-01, 0.0000e+00, 0.0000e+00,\n",
       "       4.0000e-01, 2.8000e+00, 2.0000e-01, 0.0000e+00, 4.6000e+00,\n",
       "       1.2000e+00, 2.0000e-01, 1.0600e+01, 4.0000e-01, 2.0000e+00,\n",
       "       1.6600e+01, 1.4000e+00, 6.6000e+00, 1.4000e+00, 2.0000e-01,\n",
       "       5.6620e+02, 1.0800e+01, 1.8000e+00, 2.8000e+00, 4.0000e-01,\n",
       "       3.2000e+00, 1.2000e+00, 5.2000e+00, 1.2000e+00, 2.0784e+03,\n",
       "       1.6000e+00, 1.0200e+03, 2.4000e+00, 8.0000e-01, 1.4000e+00,\n",
       "       8.0000e-01, 2.8000e+00, 8.0000e-01, 3.2000e+00, 4.0000e-01,\n",
       "       1.4000e+00, 1.4000e+00, 6.0000e-01, 1.0000e+00, 1.8000e+00,\n",
       "       6.0000e-01, 8.0000e-01, 1.0000e+00, 1.2000e+00, 4.0000e-01,\n",
       "       2.0000e+00, 1.2000e+00, 2.0000e-01, 1.2000e+00, 8.2000e+00,\n",
       "       3.2000e+00, 5.6000e+00, 1.4000e+00, 1.2200e+01, 1.0000e+00,\n",
       "       5.8000e+00, 7.5848e+03, 1.4000e+00, 2.0000e-01, 1.2000e+00,\n",
       "       1.2492e+03, 1.6000e+00, 1.2000e+00, 0.0000e+00, 4.0000e-01,\n",
       "       2.0794e+03, 8.0000e-01, 0.0000e+00, 2.0000e+00, 6.0000e-01,\n",
       "       8.0000e-01, 3.8000e+00, 7.1020e+02, 4.0000e-01, 8.0000e-01,\n",
       "       4.0000e-01, 1.6000e+00, 3.2000e+00, 1.4000e+00, 2.6000e+00,\n",
       "       2.0000e+00, 5.6000e+00, 4.0000e-01, 5.2000e+00, 1.0000e+00,\n",
       "       8.6000e+00, 3.8000e+00, 2.0000e-01, 3.8000e+00, 1.0000e+00,\n",
       "       4.2000e+00, 1.0000e+00, 2.6000e+00, 2.6000e+00, 1.2000e+00,\n",
       "       2.6000e+00, 4.8000e+00, 1.4000e+00, 4.0000e-01, 1.2000e+00,\n",
       "       8.0000e-01, 1.6000e+00, 6.0000e-01, 1.0000e+00, 1.1192e+03,\n",
       "       4.2000e+00, 1.2588e+03, 2.3284e+03, 1.2000e+00, 1.0000e+00,\n",
       "       0.0000e+00, 4.5540e+02, 3.8000e+00, 1.2000e+00, 1.0000e+00,\n",
       "       1.0000e+00, 7.2000e+00, 6.8000e+00, 8.8000e+00, 4.7900e+02,\n",
       "       6.0000e-01, 2.0000e-01, 2.0000e+00, 1.0000e+00, 3.6000e+00,\n",
       "       1.2000e+00, 8.0000e+00, 2.2000e+00, 4.0000e+00, 4.0000e-01,\n",
       "       4.0000e-01, 1.0000e+00, 3.6000e+00, 3.6000e+00, 1.0000e+00,\n",
       "       3.4000e+00, 0.0000e+00, 1.4000e+00, 4.0000e-01, 1.2000e+00,\n",
       "       5.0000e+00, 4.1420e+02, 1.6000e+00, 4.8000e+00, 8.0000e-01,\n",
       "       1.4600e+01, 1.4000e+00, 6.0000e-01, 4.6000e+00, 1.8000e+00,\n",
       "       2.6000e+00, 1.0000e+00, 1.2000e+00, 2.0200e+02, 6.4000e+00,\n",
       "       4.6000e+00, 1.4000e+00, 5.6000e+00, 9.2000e+00, 2.8000e+00,\n",
       "       8.0000e-01, 1.0304e+03, 7.2000e+00, 1.2000e+01, 1.6000e+00,\n",
       "       4.6000e+00, 5.0000e+00, 6.0000e-01, 1.8000e+00, 1.6000e+00,\n",
       "       8.0000e-01, 8.0000e-01, 3.2000e+00, 2.8000e+00, 1.4000e+00,\n",
       "       1.0000e+00, 8.0000e-01, 4.0000e-01, 1.4800e+01, 1.1400e+01,\n",
       "       1.0000e+00, 1.5252e+03, 4.8000e+00, 4.0000e-01, 1.6000e+00,\n",
       "       7.0000e+00, 4.0000e-01, 4.2000e+00, 1.0680e+03, 8.0000e-01,\n",
       "       1.1600e+01, 8.6000e+00, 2.2000e+00, 1.8000e+00, 1.8000e+00,\n",
       "       4.0000e-01, 1.6000e+00, 7.6000e+00, 6.0000e-01, 3.2000e+00,\n",
       "       2.0844e+03, 8.0000e-01, 8.0000e-01, 4.8000e+00, 2.0000e-01,\n",
       "       3.0000e+00, 1.1400e+01, 2.8000e+00, 2.0000e-01, 2.2000e+00,\n",
       "       1.0000e+00, 1.0000e+00, 2.4000e+00, 1.6000e+00, 6.0000e-01,\n",
       "       7.0940e+02, 4.0000e-01, 1.4000e+00, 6.0000e-01, 1.0000e+01,\n",
       "       1.4000e+00, 7.8000e+00, 2.2000e+00, 1.2000e+00, 8.8200e+02,\n",
       "       2.7030e+03, 6.0000e-01, 2.0000e-01, 0.0000e+00, 1.0000e+00,\n",
       "       2.0000e-01, 1.4000e+00, 6.0000e-01, 8.0000e-01, 6.0000e-01,\n",
       "       3.3244e+03, 2.0000e+00, 1.4000e+00, 6.0000e-01, 2.8000e+00,\n",
       "       4.0000e-01, 8.0000e-01, 1.8000e+00, 1.0000e+00, 6.0000e-01,\n",
       "       6.0000e-01, 6.2000e+00, 1.2000e+00, 3.3214e+03, 3.8000e+00,\n",
       "       5.2000e+00, 1.4000e+00, 4.4000e+00, 1.0200e+01, 1.2000e+00,\n",
       "       9.6000e+00, 7.2000e+00, 1.4000e+00, 4.0000e-01, 3.2000e+00,\n",
       "       2.0000e+00, 6.0000e-01, 3.6000e+00, 8.0000e-01, 8.0000e-01,\n",
       "       2.0000e+00, 4.4000e+00, 6.0000e-01, 5.4000e+00, 8.0000e-01,\n",
       "       7.2000e+00, 2.0000e-01, 1.4000e+00, 5.0000e+00, 2.8000e+00,\n",
       "       2.0000e+00, 5.6000e+00, 1.8000e+00, 2.0000e-01, 1.0000e+00,\n",
       "       1.2000e+00, 1.2000e+00, 6.2000e+00, 1.0000e+00, 2.0000e+00,\n",
       "       8.0000e-01, 2.0000e-01, 2.0000e-01, 9.2000e+00, 3.2000e+00,\n",
       "       2.6000e+00, 1.4000e+00, 8.0000e-01, 2.0000e-01, 1.2000e+00,\n",
       "       2.0000e+00, 1.0000e+00, 2.2000e+00, 8.0000e-01, 6.0000e-01,\n",
       "       4.2000e+00, 4.2000e+00, 6.6000e+00, 0.0000e+00, 4.4000e+00,\n",
       "       0.0000e+00, 6.0000e-01, 2.0000e-01, 2.0000e+00, 8.0000e-01,\n",
       "       6.0000e-01, 6.0000e-01, 1.2000e+00, 5.4000e+00, 1.0000e+00])"
      ]
     },
     "execution_count": 81,
     "metadata": {},
     "output_type": "execute_result"
    }
   ],
   "source": [
    "data = Xboot\n",
    "data = data.values.flatten()\n",
    "\n",
    "def bootstrap(data, num_samples, sample_size, statistic):\n",
    "    \n",
    "    statistics = np.empty(num_samples)\n",
    "    \n",
    "    for i in range(num_samples):\n",
    "        sample = np.random.choice(data, size=sample_size, replace=True)\n",
    "        statistics[i] = statistic(sample)\n",
    "    return statistics\n",
    "    \n",
    "bootstrap(data, num_samples=1000, sample_size=5, statistic=np.mean)"
   ]
  },
  {
   "cell_type": "markdown",
   "id": "fe707bb5",
   "metadata": {},
   "source": []
  },
  {
   "cell_type": "markdown",
   "id": "340b7335",
   "metadata": {},
   "source": [
    "                                                   Bagging"
   ]
  },
  {
   "cell_type": "markdown",
   "id": "0a808e1e",
   "metadata": {},
   "source": []
  },
  {
   "cell_type": "markdown",
   "id": "7a2b0dbe",
   "metadata": {},
   "source": [
    "  Algorytm Bagging to metoda, która polega na tworzeniu zespołu klasyfikatorów z różnych podpróbek danych uczących i łączeniu ich wyników za pomocą głosowania lub średniej. Algorytm ma na celu zmniejszenie wariancji i poprawienie dokładności pojedynczego klasyfikatora, który może być niestabilny lub podatny na nadmierne dopasowanie. \n",
    "  \n",
    "  Schemat działania:\n",
    "  \n",
    "  1. Wybieramy liczbę klasyfikatorów do utworzenia.\n",
    "  \n",
    "  2. Dla każdego klasyfikatora:\n",
    "  \n",
    "     - losujemy losową próbkę danych uczących z powtórzeniami,\n",
    "     \n",
    "     - budujemy klasyfikator na podstawie wylosowanej podpróbki (np. drzewo decyzyjne).\n",
    "     \n",
    "  3. Dla nowej obserwacji do sklasyfikowania:\n",
    "  \n",
    "     - stosujemy wszystkie klasyfikatory do obserwacji i zbieramy ich wyniki,\n",
    "     \n",
    "     - zwracamy klasę, która otrzymałą najwięcej głosów (dla klasyfikacji) lub średnią z wyników (dla regresji).\n",
    "     \n",
    "  Zalety:\n",
    "  \n",
    "     - zmniejsza ryzyko nadmiernego dopasowania i poprawia ogólność kasyfikatora,\n",
    "     \n",
    "     - jest łatwy do zaimplementowania i zrównoleglenia,\n",
    "     \n",
    "     - nie wymaga strojenia hiperparametrów ani przycinania klasyfikatorów bazowych.\n",
    "     \n",
    "   Wady:\n",
    "   \n",
    "     - zwiększa koszt obliczeniowy i pamięciowy, ponieważ wymaga tworzenia i przechowywania wielu klasyfikatorów,\n",
    "     \n",
    "     - może nie poprawić dokładności klasyfikatora, jeśli dane są zaszumione lub niezrównoważone,\n",
    "     \n",
    "     - może nie radzić sobie dobrze z zależnościami między zmiennymi lub nieliniowymi funkcjami.\n",
    "  \n",
    "  "
   ]
  },
  {
   "cell_type": "markdown",
   "id": "7df58ee1",
   "metadata": {},
   "source": [
    "  The Bagging algorithm is a method that involves creating an ensemble of classifiers from different subsamples of training data and combining their results using voting or an average. The algorithm aims to reduce the variance and improve the accuracy of a single classifier, which may be unstable or prone to overfitting. \n",
    "  \n",
    "  Scheme of peration:\n",
    "  \n",
    "  1. We choose the number of classifiers to create.\n",
    "  \n",
    "  2. For each classifier:\n",
    "  \n",
    "     - we draw a random sample of training data with repetitions,\n",
    "     \n",
    "     - we build a classifier based on a randomly selected subsample (e.g. decision tree).\n",
    "     \n",
    "  3. For a new observation to classify:\n",
    "  \n",
    "     - we apply all classifiers to observations and collect their results,\n",
    "     \n",
    "     - we return the class that received the most votes (for classification) or the average of the results (regression).\n",
    "     \n",
    "  Advantages:\n",
    "  \n",
    "     - reduces the risk of overfitting and improvves the generality of the validator,\n",
    "     \n",
    "     - it is easy to implement and parallelize,\n",
    "     \n",
    "     - does not require hyperparameter tuning or pruning of base classifiers.\n",
    "     \n",
    "   Disadvantages:\n",
    "   \n",
    "     - increases computational and memory costs because it requires creating and storing many classifiers,\n",
    "     \n",
    "     - may not improve classifier accuracy if data is noisy or unbalanced,\n",
    "     \n",
    "     - may not deal well with dependencies between variables or non-linear functions.\n",
    "    "
   ]
  },
  {
   "cell_type": "code",
   "execution_count": 82,
   "id": "e8e526d9",
   "metadata": {},
   "outputs": [],
   "source": [
    "from sklearn.ensemble import BaggingClassifier\n",
    "from sklearn.datasets import make_classification\n",
    "from sklearn.tree import DecisionTreeClassifier"
   ]
  },
  {
   "cell_type": "code",
   "execution_count": 83,
   "id": "6ce72fe8",
   "metadata": {},
   "outputs": [
    {
     "data": {
      "text/html": [
       "<div>\n",
       "<style scoped>\n",
       "    .dataframe tbody tr th:only-of-type {\n",
       "        vertical-align: middle;\n",
       "    }\n",
       "\n",
       "    .dataframe tbody tr th {\n",
       "        vertical-align: top;\n",
       "    }\n",
       "\n",
       "    .dataframe thead th {\n",
       "        text-align: right;\n",
       "    }\n",
       "</style>\n",
       "<table border=\"1\" class=\"dataframe\">\n",
       "  <thead>\n",
       "    <tr style=\"text-align: right;\">\n",
       "      <th></th>\n",
       "      <th>Age</th>\n",
       "      <th>DistanceFromHome</th>\n",
       "      <th>Education</th>\n",
       "      <th>EnvironmentSatisfaction</th>\n",
       "      <th>JobInvolvement</th>\n",
       "      <th>JobLevel</th>\n",
       "      <th>JobSatisfaction</th>\n",
       "      <th>MonthlyIncome</th>\n",
       "      <th>NumCompaniesWorked</th>\n",
       "      <th>PercentSalaryHike</th>\n",
       "      <th>...</th>\n",
       "      <th>JobRole_Manufacturing Director</th>\n",
       "      <th>JobRole_Research Director</th>\n",
       "      <th>JobRole_Research Scientist</th>\n",
       "      <th>JobRole_Sales Executive</th>\n",
       "      <th>JobRole_Sales Representative</th>\n",
       "      <th>MaritalStatus_Divorced</th>\n",
       "      <th>MaritalStatus_Married</th>\n",
       "      <th>MaritalStatus_Single</th>\n",
       "      <th>OverTime_No</th>\n",
       "      <th>OverTime_Yes</th>\n",
       "    </tr>\n",
       "  </thead>\n",
       "  <tbody>\n",
       "    <tr>\n",
       "      <th>0</th>\n",
       "      <td>30</td>\n",
       "      <td>1</td>\n",
       "      <td>1</td>\n",
       "      <td>4</td>\n",
       "      <td>2</td>\n",
       "      <td>2</td>\n",
       "      <td>4</td>\n",
       "      <td>5126</td>\n",
       "      <td>1</td>\n",
       "      <td>12</td>\n",
       "      <td>...</td>\n",
       "      <td>0</td>\n",
       "      <td>0</td>\n",
       "      <td>0</td>\n",
       "      <td>0</td>\n",
       "      <td>0</td>\n",
       "      <td>0</td>\n",
       "      <td>1</td>\n",
       "      <td>0</td>\n",
       "      <td>0</td>\n",
       "      <td>1</td>\n",
       "    </tr>\n",
       "    <tr>\n",
       "      <th>1</th>\n",
       "      <td>38</td>\n",
       "      <td>2</td>\n",
       "      <td>2</td>\n",
       "      <td>4</td>\n",
       "      <td>2</td>\n",
       "      <td>3</td>\n",
       "      <td>3</td>\n",
       "      <td>7756</td>\n",
       "      <td>3</td>\n",
       "      <td>19</td>\n",
       "      <td>...</td>\n",
       "      <td>1</td>\n",
       "      <td>0</td>\n",
       "      <td>0</td>\n",
       "      <td>0</td>\n",
       "      <td>0</td>\n",
       "      <td>0</td>\n",
       "      <td>1</td>\n",
       "      <td>0</td>\n",
       "      <td>0</td>\n",
       "      <td>1</td>\n",
       "    </tr>\n",
       "    <tr>\n",
       "      <th>2</th>\n",
       "      <td>26</td>\n",
       "      <td>6</td>\n",
       "      <td>3</td>\n",
       "      <td>3</td>\n",
       "      <td>2</td>\n",
       "      <td>1</td>\n",
       "      <td>2</td>\n",
       "      <td>2368</td>\n",
       "      <td>1</td>\n",
       "      <td>19</td>\n",
       "      <td>...</td>\n",
       "      <td>0</td>\n",
       "      <td>0</td>\n",
       "      <td>1</td>\n",
       "      <td>0</td>\n",
       "      <td>0</td>\n",
       "      <td>0</td>\n",
       "      <td>1</td>\n",
       "      <td>0</td>\n",
       "      <td>1</td>\n",
       "      <td>0</td>\n",
       "    </tr>\n",
       "    <tr>\n",
       "      <th>3</th>\n",
       "      <td>28</td>\n",
       "      <td>8</td>\n",
       "      <td>2</td>\n",
       "      <td>4</td>\n",
       "      <td>3</td>\n",
       "      <td>1</td>\n",
       "      <td>4</td>\n",
       "      <td>3310</td>\n",
       "      <td>1</td>\n",
       "      <td>21</td>\n",
       "      <td>...</td>\n",
       "      <td>0</td>\n",
       "      <td>0</td>\n",
       "      <td>1</td>\n",
       "      <td>0</td>\n",
       "      <td>0</td>\n",
       "      <td>0</td>\n",
       "      <td>0</td>\n",
       "      <td>1</td>\n",
       "      <td>1</td>\n",
       "      <td>0</td>\n",
       "    </tr>\n",
       "    <tr>\n",
       "      <th>4</th>\n",
       "      <td>35</td>\n",
       "      <td>4</td>\n",
       "      <td>2</td>\n",
       "      <td>3</td>\n",
       "      <td>3</td>\n",
       "      <td>1</td>\n",
       "      <td>4</td>\n",
       "      <td>1951</td>\n",
       "      <td>1</td>\n",
       "      <td>12</td>\n",
       "      <td>...</td>\n",
       "      <td>0</td>\n",
       "      <td>0</td>\n",
       "      <td>0</td>\n",
       "      <td>0</td>\n",
       "      <td>0</td>\n",
       "      <td>1</td>\n",
       "      <td>0</td>\n",
       "      <td>0</td>\n",
       "      <td>1</td>\n",
       "      <td>0</td>\n",
       "    </tr>\n",
       "  </tbody>\n",
       "</table>\n",
       "<p>5 rows × 47 columns</p>\n",
       "</div>"
      ],
      "text/plain": [
       "   Age  DistanceFromHome  Education  EnvironmentSatisfaction  JobInvolvement   \n",
       "0   30                 1          1                        4               2  \\\n",
       "1   38                 2          2                        4               2   \n",
       "2   26                 6          3                        3               2   \n",
       "3   28                 8          2                        4               3   \n",
       "4   35                 4          2                        3               3   \n",
       "\n",
       "   JobLevel  JobSatisfaction  MonthlyIncome  NumCompaniesWorked   \n",
       "0         2                4           5126                   1  \\\n",
       "1         3                3           7756                   3   \n",
       "2         1                2           2368                   1   \n",
       "3         1                4           3310                   1   \n",
       "4         1                4           1951                   1   \n",
       "\n",
       "   PercentSalaryHike  ...  JobRole_Manufacturing Director   \n",
       "0                 12  ...                               0  \\\n",
       "1                 19  ...                               1   \n",
       "2                 19  ...                               0   \n",
       "3                 21  ...                               0   \n",
       "4                 12  ...                               0   \n",
       "\n",
       "   JobRole_Research Director  JobRole_Research Scientist   \n",
       "0                          0                           0  \\\n",
       "1                          0                           0   \n",
       "2                          0                           1   \n",
       "3                          0                           1   \n",
       "4                          0                           0   \n",
       "\n",
       "   JobRole_Sales Executive  JobRole_Sales Representative   \n",
       "0                        0                             0  \\\n",
       "1                        0                             0   \n",
       "2                        0                             0   \n",
       "3                        0                             0   \n",
       "4                        0                             0   \n",
       "\n",
       "   MaritalStatus_Divorced  MaritalStatus_Married  MaritalStatus_Single   \n",
       "0                       0                      1                     0  \\\n",
       "1                       0                      1                     0   \n",
       "2                       0                      1                     0   \n",
       "3                       0                      0                     1   \n",
       "4                       1                      0                     0   \n",
       "\n",
       "   OverTime_No  OverTime_Yes  \n",
       "0            0             1  \n",
       "1            0             1  \n",
       "2            1             0  \n",
       "3            1             0  \n",
       "4            1             0  \n",
       "\n",
       "[5 rows x 47 columns]"
      ]
     },
     "execution_count": 83,
     "metadata": {},
     "output_type": "execute_result"
    }
   ],
   "source": [
    "ATTMod = pd.read_csv('Dane/ATTMod.csv')\n",
    "ATTMod.head()"
   ]
  },
  {
   "cell_type": "code",
   "execution_count": 84,
   "id": "10725568",
   "metadata": {},
   "outputs": [],
   "source": [
    "train_data = ATTMod.drop('Attrition', axis=1)\n",
    "train_labels = ATTMod[['Attrition']]"
   ]
  },
  {
   "cell_type": "code",
   "execution_count": 85,
   "id": "443981a2",
   "metadata": {},
   "outputs": [],
   "source": [
    "Xbag = train_data\n",
    "ybag = train_labels"
   ]
  },
  {
   "cell_type": "code",
   "execution_count": 86,
   "id": "e1a3bba1",
   "metadata": {},
   "outputs": [],
   "source": [
    "Xbag_train, Xbag_test, ybag_train, ybag_test = train_test_split(Xbag, ybag, test_size=0.2, stratify=ybag, random_state=42)"
   ]
  },
  {
   "cell_type": "code",
   "execution_count": 87,
   "id": "b1f3a01d",
   "metadata": {},
   "outputs": [],
   "source": [
    "Xbag_train, ybag_train = make_classification(n_samples=100, n_features=46, n_informative=46, n_redundant=0, random_state=0, shuffle=True)"
   ]
  },
  {
   "cell_type": "code",
   "execution_count": 88,
   "id": "26046c99",
   "metadata": {},
   "outputs": [
    {
     "name": "stderr",
     "output_type": "stream",
     "text": [
      "C:\\Users\\Kamil - IT\\AppData\\Local\\Programs\\Python\\Python311\\Lib\\site-packages\\sklearn\\ensemble\\_base.py:166: FutureWarning: `base_estimator` was renamed to `estimator` in version 1.2 and will be removed in 1.4.\n",
      "  warnings.warn(\n"
     ]
    },
    {
     "data": {
      "text/html": [
       "<style>#sk-container-id-2 {color: black;background-color: white;}#sk-container-id-2 pre{padding: 0;}#sk-container-id-2 div.sk-toggleable {background-color: white;}#sk-container-id-2 label.sk-toggleable__label {cursor: pointer;display: block;width: 100%;margin-bottom: 0;padding: 0.3em;box-sizing: border-box;text-align: center;}#sk-container-id-2 label.sk-toggleable__label-arrow:before {content: \"▸\";float: left;margin-right: 0.25em;color: #696969;}#sk-container-id-2 label.sk-toggleable__label-arrow:hover:before {color: black;}#sk-container-id-2 div.sk-estimator:hover label.sk-toggleable__label-arrow:before {color: black;}#sk-container-id-2 div.sk-toggleable__content {max-height: 0;max-width: 0;overflow: hidden;text-align: left;background-color: #f0f8ff;}#sk-container-id-2 div.sk-toggleable__content pre {margin: 0.2em;color: black;border-radius: 0.25em;background-color: #f0f8ff;}#sk-container-id-2 input.sk-toggleable__control:checked~div.sk-toggleable__content {max-height: 200px;max-width: 100%;overflow: auto;}#sk-container-id-2 input.sk-toggleable__control:checked~label.sk-toggleable__label-arrow:before {content: \"▾\";}#sk-container-id-2 div.sk-estimator input.sk-toggleable__control:checked~label.sk-toggleable__label {background-color: #d4ebff;}#sk-container-id-2 div.sk-label input.sk-toggleable__control:checked~label.sk-toggleable__label {background-color: #d4ebff;}#sk-container-id-2 input.sk-hidden--visually {border: 0;clip: rect(1px 1px 1px 1px);clip: rect(1px, 1px, 1px, 1px);height: 1px;margin: -1px;overflow: hidden;padding: 0;position: absolute;width: 1px;}#sk-container-id-2 div.sk-estimator {font-family: monospace;background-color: #f0f8ff;border: 1px dotted black;border-radius: 0.25em;box-sizing: border-box;margin-bottom: 0.5em;}#sk-container-id-2 div.sk-estimator:hover {background-color: #d4ebff;}#sk-container-id-2 div.sk-parallel-item::after {content: \"\";width: 100%;border-bottom: 1px solid gray;flex-grow: 1;}#sk-container-id-2 div.sk-label:hover label.sk-toggleable__label {background-color: #d4ebff;}#sk-container-id-2 div.sk-serial::before {content: \"\";position: absolute;border-left: 1px solid gray;box-sizing: border-box;top: 0;bottom: 0;left: 50%;z-index: 0;}#sk-container-id-2 div.sk-serial {display: flex;flex-direction: column;align-items: center;background-color: white;padding-right: 0.2em;padding-left: 0.2em;position: relative;}#sk-container-id-2 div.sk-item {position: relative;z-index: 1;}#sk-container-id-2 div.sk-parallel {display: flex;align-items: stretch;justify-content: center;background-color: white;position: relative;}#sk-container-id-2 div.sk-item::before, #sk-container-id-2 div.sk-parallel-item::before {content: \"\";position: absolute;border-left: 1px solid gray;box-sizing: border-box;top: 0;bottom: 0;left: 50%;z-index: -1;}#sk-container-id-2 div.sk-parallel-item {display: flex;flex-direction: column;z-index: 1;position: relative;background-color: white;}#sk-container-id-2 div.sk-parallel-item:first-child::after {align-self: flex-end;width: 50%;}#sk-container-id-2 div.sk-parallel-item:last-child::after {align-self: flex-start;width: 50%;}#sk-container-id-2 div.sk-parallel-item:only-child::after {width: 0;}#sk-container-id-2 div.sk-dashed-wrapped {border: 1px dashed gray;margin: 0 0.4em 0.5em 0.4em;box-sizing: border-box;padding-bottom: 0.4em;background-color: white;}#sk-container-id-2 div.sk-label label {font-family: monospace;font-weight: bold;display: inline-block;line-height: 1.2em;}#sk-container-id-2 div.sk-label-container {text-align: center;}#sk-container-id-2 div.sk-container {/* jupyter's `normalize.less` sets `[hidden] { display: none; }` but bootstrap.min.css set `[hidden] { display: none !important; }` so we also need the `!important` here to be able to override the default hidden behavior on the sphinx rendered scikit-learn.org. See: https://github.com/scikit-learn/scikit-learn/issues/21755 */display: inline-block !important;position: relative;}#sk-container-id-2 div.sk-text-repr-fallback {display: none;}</style><div id=\"sk-container-id-2\" class=\"sk-top-container\"><div class=\"sk-text-repr-fallback\"><pre>BaggingClassifier(base_estimator=DecisionTreeClassifier(), random_state=0)</pre><b>In a Jupyter environment, please rerun this cell to show the HTML representation or trust the notebook. <br />On GitHub, the HTML representation is unable to render, please try loading this page with nbviewer.org.</b></div><div class=\"sk-container\" hidden><div class=\"sk-item sk-dashed-wrapped\"><div class=\"sk-label-container\"><div class=\"sk-label sk-toggleable\"><input class=\"sk-toggleable__control sk-hidden--visually\" id=\"sk-estimator-id-2\" type=\"checkbox\" ><label for=\"sk-estimator-id-2\" class=\"sk-toggleable__label sk-toggleable__label-arrow\">BaggingClassifier</label><div class=\"sk-toggleable__content\"><pre>BaggingClassifier(base_estimator=DecisionTreeClassifier(), random_state=0)</pre></div></div></div><div class=\"sk-parallel\"><div class=\"sk-parallel-item\"><div class=\"sk-item\"><div class=\"sk-label-container\"><div class=\"sk-label sk-toggleable\"><input class=\"sk-toggleable__control sk-hidden--visually\" id=\"sk-estimator-id-3\" type=\"checkbox\" ><label for=\"sk-estimator-id-3\" class=\"sk-toggleable__label sk-toggleable__label-arrow\">base_estimator: DecisionTreeClassifier</label><div class=\"sk-toggleable__content\"><pre>DecisionTreeClassifier()</pre></div></div></div><div class=\"sk-serial\"><div class=\"sk-item\"><div class=\"sk-estimator sk-toggleable\"><input class=\"sk-toggleable__control sk-hidden--visually\" id=\"sk-estimator-id-4\" type=\"checkbox\" ><label for=\"sk-estimator-id-4\" class=\"sk-toggleable__label sk-toggleable__label-arrow\">DecisionTreeClassifier</label><div class=\"sk-toggleable__content\"><pre>DecisionTreeClassifier()</pre></div></div></div></div></div></div></div></div></div></div>"
      ],
      "text/plain": [
       "BaggingClassifier(base_estimator=DecisionTreeClassifier(), random_state=0)"
      ]
     },
     "execution_count": 88,
     "metadata": {},
     "output_type": "execute_result"
    }
   ],
   "source": [
    "clf1 = BaggingClassifier(base_estimator=DecisionTreeClassifier(), n_estimators=10, random_state=0)\n",
    "clf1.fit(Xbag_train, ybag_train)"
   ]
  },
  {
   "cell_type": "code",
   "execution_count": 89,
   "id": "0bfd256d",
   "metadata": {},
   "outputs": [
    {
     "name": "stderr",
     "output_type": "stream",
     "text": [
      "C:\\Users\\Kamil - IT\\AppData\\Local\\Programs\\Python\\Python311\\Lib\\site-packages\\sklearn\\base.py:432: UserWarning: X has feature names, but BaggingClassifier was fitted without feature names\n",
      "  warnings.warn(\n"
     ]
    },
    {
     "data": {
      "text/plain": [
       "array([0, 0, 0, 0, 0, 0, 0, 0, 0, 0, 0, 0, 0, 0, 0, 0, 0, 0, 0, 0, 0, 0,\n",
       "       0, 0, 0, 0, 0, 0, 0, 0, 0, 0, 0, 0, 0, 0, 0, 0, 0, 0, 0, 0, 0, 0,\n",
       "       0, 0, 0, 0, 0, 0, 0, 0, 0, 0, 0, 0, 0, 0, 0, 0, 0, 0, 0, 0, 0, 0,\n",
       "       0, 0, 0, 0, 0, 0, 0, 0, 0, 0, 0, 0, 0, 0, 0, 0, 0, 0, 0, 0, 0, 0,\n",
       "       0, 0, 0, 0, 0, 0, 0, 0, 0, 0, 0, 0, 0, 0, 0, 0, 0, 0, 0, 0, 0, 0,\n",
       "       0, 0, 0, 0, 0, 0, 0, 0, 0, 0, 0, 0, 0, 0, 0, 0, 0, 0, 0, 0, 0, 0,\n",
       "       0, 0, 0, 0, 0, 0, 0, 0, 0, 0, 0, 0, 0, 0, 0, 0, 0, 0, 0, 0, 0, 0,\n",
       "       0, 0, 0, 0, 0, 0, 0, 0, 0, 0, 0, 0, 0, 0, 0, 0, 0, 0, 0, 0, 0, 0,\n",
       "       0, 0, 0, 0, 0, 0, 0, 0, 0, 0, 0, 0, 0, 0, 0, 0, 0, 0, 0, 0, 0, 0,\n",
       "       0, 0, 0, 0, 0, 0, 0, 0, 0, 0, 0, 0, 0, 0, 0, 0, 0, 0, 0, 0, 0, 0,\n",
       "       0, 0, 0, 0, 0, 0, 0, 0, 0, 0, 0, 0, 0, 0, 0, 0, 0, 0, 0, 0, 0, 0,\n",
       "       0, 0, 0, 0, 0, 0, 0, 0, 0, 0, 0, 0, 0, 0, 0, 0, 0, 0, 0, 0, 0, 0,\n",
       "       0, 0, 0, 0, 0, 0, 0, 0, 0, 0, 0, 0, 0, 0, 0, 0, 0, 0, 0, 0, 0, 0,\n",
       "       0, 0, 0, 0, 0, 0, 0, 0, 0, 0, 0, 0, 0, 0, 0, 0, 0, 0, 0, 0, 0, 0,\n",
       "       0, 0, 0, 0, 0, 0, 0, 0, 0, 0, 0, 0, 0, 0, 0, 0, 0, 0, 0, 0, 0, 0,\n",
       "       0, 0, 0, 0, 0, 0, 0, 0, 0, 0, 0, 0, 0, 0, 0, 0, 0, 0, 0, 0, 0, 0,\n",
       "       0, 0, 0, 0, 0, 0, 0, 0, 0, 0, 0, 0, 0, 0, 0, 0, 0, 0, 0, 0, 0, 0,\n",
       "       0, 0, 0, 0, 0, 0, 0, 0, 0, 0, 0, 0, 0, 0, 0, 0, 0, 0, 0, 0, 0, 0,\n",
       "       0, 0, 0, 0, 0, 0, 0, 0, 0, 0, 0, 0, 0, 0, 0, 0, 0, 0, 0, 0, 0, 0,\n",
       "       0, 0, 0, 0, 0, 0, 0, 0, 0, 0, 0, 0, 0, 0, 0, 0, 0, 0, 0, 0, 0, 0,\n",
       "       0, 0, 0, 0, 0, 0, 0, 0, 0, 0, 0, 0, 0, 0, 0, 0, 0, 0, 0, 0, 0, 0,\n",
       "       0, 0, 0, 0, 0, 0, 0, 0, 0, 0, 0, 0, 0, 0, 0, 0, 0, 0, 0, 0, 0, 0,\n",
       "       0, 0, 0, 0, 0, 0, 0, 0, 0, 0, 0, 0, 0, 0, 0, 0, 0, 0, 0, 0, 0, 0,\n",
       "       0, 0, 0, 0, 0, 0, 0, 0, 0, 0, 0, 0, 0, 0, 0, 0, 0, 0, 0, 0, 0, 0,\n",
       "       0, 0, 0, 0, 0, 0, 0, 0, 0, 0, 0, 0, 0, 0, 0, 0, 0, 0, 0, 0, 0, 0,\n",
       "       0, 0, 0, 0, 0, 0, 0, 0, 0, 0, 0, 0, 0, 0, 0, 0, 0, 0, 0, 0, 0, 0,\n",
       "       0, 0, 0, 0, 0, 0, 0, 0, 0, 0, 0, 0, 0, 0, 0, 0, 0, 0, 0, 0, 0, 0,\n",
       "       0, 0, 0, 0, 0, 0])"
      ]
     },
     "execution_count": 89,
     "metadata": {},
     "output_type": "execute_result"
    }
   ],
   "source": [
    "pred_bag = clf1.predict(Xbag_test)\n",
    "pred_bag"
   ]
  },
  {
   "cell_type": "code",
   "execution_count": 90,
   "id": "3709445a",
   "metadata": {},
   "outputs": [
    {
     "name": "stdout",
     "output_type": "stream",
     "text": [
      "Results for Bagging\n",
      "----\n",
      "  Accuracy:  0.5316666666666666\n",
      "  Precision: 0.2658333333333333\n",
      "  Recall:    0.5\n",
      "  F1 score:  0.3471164309031556\n",
      "  Mislabeled 168600 out of 600\n",
      "\n",
      "\n"
     ]
    },
    {
     "name": "stderr",
     "output_type": "stream",
     "text": [
      "C:\\Users\\Kamil - IT\\AppData\\Local\\Programs\\Python\\Python311\\Lib\\site-packages\\sklearn\\metrics\\_classification.py:1344: UndefinedMetricWarning: Precision is ill-defined and being set to 0.0 in labels with no predicted samples. Use `zero_division` parameter to control this behavior.\n",
      "  _warn_prf(average, modifier, msg_start, len(result))\n",
      "C:\\Users\\Kamil - IT\\AppData\\Local\\Programs\\Python\\Python311\\Lib\\site-packages\\sklearn\\metrics\\_classification.py:1344: UndefinedMetricWarning: Precision is ill-defined and being set to 0.0 in labels with no predicted samples. Use `zero_division` parameter to control this behavior.\n",
      "  _warn_prf(average, modifier, msg_start, len(result))\n"
     ]
    }
   ],
   "source": [
    "BAGMetrics1 = calculate_metrics(ybag_test.values, pred_bag)\n",
    "BAGMetrics = print_results(calculate_metrics(ybag_test.values, pred_bag), 'Bagging')\n",
    "BAGMetrics"
   ]
  },
  {
   "cell_type": "code",
   "execution_count": 91,
   "id": "964bb349",
   "metadata": {},
   "outputs": [
    {
     "name": "stdout",
     "output_type": "stream",
     "text": [
      "[0]\n"
     ]
    }
   ],
   "source": [
    "print(clf.predict([[45, 23, 2, 2, 3, 3, 4, 2344, 2, 2, 3, 2, 24, 1, 2, 10, 5, 2, 0, 0, 1, 1, 0, 0, 0, 0, 1, 1, 0, 0, 1, 0, 1, 0, 0, 0, 0, 1, 0, 0, 0, 0, 0, 1, 1, 0]]))"
   ]
  },
  {
   "cell_type": "markdown",
   "id": "1946f114",
   "metadata": {},
   "source": []
  },
  {
   "cell_type": "markdown",
   "id": "db88d7a7",
   "metadata": {},
   "source": [
    "                                                   Random Forest"
   ]
  },
  {
   "cell_type": "markdown",
   "id": "bf3f9b2b",
   "metadata": {},
   "source": []
  },
  {
   "cell_type": "markdown",
   "id": "14e3efe9",
   "metadata": {},
   "source": [
    "  Random Forest (RF) to metoda, która polega na tworzeniu zespołu drzew decyzyjnych na różnych podzbiorach danych i łączeniu ich wyników za pomocą głosowania lub średniej. RF ma na celu poprawić dokładność i ogólność pojedynczego drzewa decyzyjnego, które noże być niestabilne lub podatne na nadmierne dopasowanie.\n",
    "  \n",
    "  Schemat działania:\n",
    "  \n",
    "  1. Wybieramy liczbę drzew do utworzenia.\n",
    "  \n",
    "  2. Dla każdego drzewa:\n",
    "  \n",
    "     - losujemy losowy podzbiór danych z powtózeniami,\n",
    "     \n",
    "     - budujemy drzewo decyzyjne na podstawie wylosowanego podzbioru, wybierając losowo pewną liczbę cech do rozważenia przy\n",
    "       każdym podziale (np. pierwiastek z liczby wszystkich cech).\n",
    "       \n",
    "  3. Dla nowej obserwacji do sklasyfikowania lub oszacowania:\n",
    "   \n",
    "     - stosujemy wszystkie drzewa do obserwacji i zbieramy ich wyniki,\n",
    "     \n",
    "     - zwracamy klasę, która otrzymała najwięcej głosów.\n",
    "     \n",
    "   Zalety RF:\n",
    "   \n",
    "   - zmniejsza ryzyko nadmiernego dopasowania i poprawia ogólność klasyfikatora, ponieważ uśrednia wyniki wielu drzew, które\n",
    "     mogą się różnić między sobą,\n",
    "       \n",
    "   - jest łatwy do zaimplementowania i zrównoleglenia, ponieważ nie wymaga strojenia hiperparametrów ani przycinania drzew,\n",
    "     \n",
    "   - może radzić sobie z danymi o różnych typach i skalach, takimi jak liczby, kategorie, teksty czy obrazy.\n",
    "     \n",
    "   Wady RF:\n",
    "    \n",
    "   - zwiększa koszt obliczeniowy i pamięciowy, ponieważ wymaga tworzenia i przechowywania wielu drzew,\n",
    "     \n",
    "   - może nie poprawić dokładności klasyfikatora, jeśli dane są zaszumione lub niezrównoważone,\n",
    "     \n",
    "   - może mieć trudności z uchwyceniem złożonych zależności między zmiennymi lub nieliniowych funkcji.\n",
    "  "
   ]
  },
  {
   "cell_type": "markdown",
   "id": "36ac5772",
   "metadata": {},
   "source": [
    "  Random Forest (RF) is a method that involves creating a set of decision trees on different subsets of data and combining their results using voting or an average. RF aims to improve the accuracy and generality of a single decision tree, which can be unstable or prone to overfitting.\n",
    "  \n",
    "  Scheme of operation:\n",
    "  \n",
    "  1. Select the number of trees to create.\n",
    "  \n",
    "  2. For each tree:\n",
    "  \n",
    "     - we draw a random subset of data with repetitions,\n",
    "     \n",
    "     - we build a decision tree based on a randomly selected  subset, randomly selecting a certain number of features to be \n",
    "       considered each division (e.g. square root of the number of all features).\n",
    "       \n",
    "  3. For a new observation to classify or estimate:\n",
    "  \n",
    "     - we use all trees for observations and collect their results,\n",
    "     \n",
    "     - we return the class that received the most votes.\n",
    "     \n",
    "  Advantages of RF:\n",
    "  \n",
    "     - reduces the risk of overfitting and improves the generality of the classifier because it averages the results of many\n",
    "       trees that may differ from each other,\n",
    "       \n",
    "     - it is easy to implement and parallelize because it does not require hyperparameter tuning or tree pruning,\n",
    "     \n",
    "     - can deal with data of different types and scales, such as numbers, categories, text and images.\n",
    "  \n",
    "  Disadvantages of RF:\n",
    "  \n",
    "     - increases computational and memory costs because it requires creating and storing many trees,\n",
    "     \n",
    "     - may not improve classifier accuracy if data is noisy or unbalanced,\n",
    "     \n",
    "     - may have difficulty grasping complex relationships between variables or non-linear functions.  \n",
    "  "
   ]
  },
  {
   "cell_type": "code",
   "execution_count": 92,
   "id": "773104d4",
   "metadata": {},
   "outputs": [],
   "source": [
    "from sklearn.ensemble import RandomForestClassifier\n",
    "from sklearn.datasets import make_classification"
   ]
  },
  {
   "cell_type": "code",
   "execution_count": 93,
   "id": "c67cbfd0",
   "metadata": {},
   "outputs": [
    {
     "data": {
      "text/html": [
       "<div>\n",
       "<style scoped>\n",
       "    .dataframe tbody tr th:only-of-type {\n",
       "        vertical-align: middle;\n",
       "    }\n",
       "\n",
       "    .dataframe tbody tr th {\n",
       "        vertical-align: top;\n",
       "    }\n",
       "\n",
       "    .dataframe thead th {\n",
       "        text-align: right;\n",
       "    }\n",
       "</style>\n",
       "<table border=\"1\" class=\"dataframe\">\n",
       "  <thead>\n",
       "    <tr style=\"text-align: right;\">\n",
       "      <th></th>\n",
       "      <th>Age</th>\n",
       "      <th>DistanceFromHome</th>\n",
       "      <th>Education</th>\n",
       "      <th>EnvironmentSatisfaction</th>\n",
       "      <th>JobInvolvement</th>\n",
       "      <th>JobLevel</th>\n",
       "      <th>JobSatisfaction</th>\n",
       "      <th>MonthlyIncome</th>\n",
       "      <th>NumCompaniesWorked</th>\n",
       "      <th>PercentSalaryHike</th>\n",
       "      <th>...</th>\n",
       "      <th>JobRole_Manufacturing Director</th>\n",
       "      <th>JobRole_Research Director</th>\n",
       "      <th>JobRole_Research Scientist</th>\n",
       "      <th>JobRole_Sales Executive</th>\n",
       "      <th>JobRole_Sales Representative</th>\n",
       "      <th>MaritalStatus_Divorced</th>\n",
       "      <th>MaritalStatus_Married</th>\n",
       "      <th>MaritalStatus_Single</th>\n",
       "      <th>OverTime_No</th>\n",
       "      <th>OverTime_Yes</th>\n",
       "    </tr>\n",
       "  </thead>\n",
       "  <tbody>\n",
       "    <tr>\n",
       "      <th>0</th>\n",
       "      <td>30</td>\n",
       "      <td>1</td>\n",
       "      <td>1</td>\n",
       "      <td>4</td>\n",
       "      <td>2</td>\n",
       "      <td>2</td>\n",
       "      <td>4</td>\n",
       "      <td>5126</td>\n",
       "      <td>1</td>\n",
       "      <td>12</td>\n",
       "      <td>...</td>\n",
       "      <td>0</td>\n",
       "      <td>0</td>\n",
       "      <td>0</td>\n",
       "      <td>0</td>\n",
       "      <td>0</td>\n",
       "      <td>0</td>\n",
       "      <td>1</td>\n",
       "      <td>0</td>\n",
       "      <td>0</td>\n",
       "      <td>1</td>\n",
       "    </tr>\n",
       "    <tr>\n",
       "      <th>1</th>\n",
       "      <td>38</td>\n",
       "      <td>2</td>\n",
       "      <td>2</td>\n",
       "      <td>4</td>\n",
       "      <td>2</td>\n",
       "      <td>3</td>\n",
       "      <td>3</td>\n",
       "      <td>7756</td>\n",
       "      <td>3</td>\n",
       "      <td>19</td>\n",
       "      <td>...</td>\n",
       "      <td>1</td>\n",
       "      <td>0</td>\n",
       "      <td>0</td>\n",
       "      <td>0</td>\n",
       "      <td>0</td>\n",
       "      <td>0</td>\n",
       "      <td>1</td>\n",
       "      <td>0</td>\n",
       "      <td>0</td>\n",
       "      <td>1</td>\n",
       "    </tr>\n",
       "    <tr>\n",
       "      <th>2</th>\n",
       "      <td>26</td>\n",
       "      <td>6</td>\n",
       "      <td>3</td>\n",
       "      <td>3</td>\n",
       "      <td>2</td>\n",
       "      <td>1</td>\n",
       "      <td>2</td>\n",
       "      <td>2368</td>\n",
       "      <td>1</td>\n",
       "      <td>19</td>\n",
       "      <td>...</td>\n",
       "      <td>0</td>\n",
       "      <td>0</td>\n",
       "      <td>1</td>\n",
       "      <td>0</td>\n",
       "      <td>0</td>\n",
       "      <td>0</td>\n",
       "      <td>1</td>\n",
       "      <td>0</td>\n",
       "      <td>1</td>\n",
       "      <td>0</td>\n",
       "    </tr>\n",
       "    <tr>\n",
       "      <th>3</th>\n",
       "      <td>28</td>\n",
       "      <td>8</td>\n",
       "      <td>2</td>\n",
       "      <td>4</td>\n",
       "      <td>3</td>\n",
       "      <td>1</td>\n",
       "      <td>4</td>\n",
       "      <td>3310</td>\n",
       "      <td>1</td>\n",
       "      <td>21</td>\n",
       "      <td>...</td>\n",
       "      <td>0</td>\n",
       "      <td>0</td>\n",
       "      <td>1</td>\n",
       "      <td>0</td>\n",
       "      <td>0</td>\n",
       "      <td>0</td>\n",
       "      <td>0</td>\n",
       "      <td>1</td>\n",
       "      <td>1</td>\n",
       "      <td>0</td>\n",
       "    </tr>\n",
       "    <tr>\n",
       "      <th>4</th>\n",
       "      <td>35</td>\n",
       "      <td>4</td>\n",
       "      <td>2</td>\n",
       "      <td>3</td>\n",
       "      <td>3</td>\n",
       "      <td>1</td>\n",
       "      <td>4</td>\n",
       "      <td>1951</td>\n",
       "      <td>1</td>\n",
       "      <td>12</td>\n",
       "      <td>...</td>\n",
       "      <td>0</td>\n",
       "      <td>0</td>\n",
       "      <td>0</td>\n",
       "      <td>0</td>\n",
       "      <td>0</td>\n",
       "      <td>1</td>\n",
       "      <td>0</td>\n",
       "      <td>0</td>\n",
       "      <td>1</td>\n",
       "      <td>0</td>\n",
       "    </tr>\n",
       "  </tbody>\n",
       "</table>\n",
       "<p>5 rows × 47 columns</p>\n",
       "</div>"
      ],
      "text/plain": [
       "   Age  DistanceFromHome  Education  EnvironmentSatisfaction  JobInvolvement   \n",
       "0   30                 1          1                        4               2  \\\n",
       "1   38                 2          2                        4               2   \n",
       "2   26                 6          3                        3               2   \n",
       "3   28                 8          2                        4               3   \n",
       "4   35                 4          2                        3               3   \n",
       "\n",
       "   JobLevel  JobSatisfaction  MonthlyIncome  NumCompaniesWorked   \n",
       "0         2                4           5126                   1  \\\n",
       "1         3                3           7756                   3   \n",
       "2         1                2           2368                   1   \n",
       "3         1                4           3310                   1   \n",
       "4         1                4           1951                   1   \n",
       "\n",
       "   PercentSalaryHike  ...  JobRole_Manufacturing Director   \n",
       "0                 12  ...                               0  \\\n",
       "1                 19  ...                               1   \n",
       "2                 19  ...                               0   \n",
       "3                 21  ...                               0   \n",
       "4                 12  ...                               0   \n",
       "\n",
       "   JobRole_Research Director  JobRole_Research Scientist   \n",
       "0                          0                           0  \\\n",
       "1                          0                           0   \n",
       "2                          0                           1   \n",
       "3                          0                           1   \n",
       "4                          0                           0   \n",
       "\n",
       "   JobRole_Sales Executive  JobRole_Sales Representative   \n",
       "0                        0                             0  \\\n",
       "1                        0                             0   \n",
       "2                        0                             0   \n",
       "3                        0                             0   \n",
       "4                        0                             0   \n",
       "\n",
       "   MaritalStatus_Divorced  MaritalStatus_Married  MaritalStatus_Single   \n",
       "0                       0                      1                     0  \\\n",
       "1                       0                      1                     0   \n",
       "2                       0                      1                     0   \n",
       "3                       0                      0                     1   \n",
       "4                       1                      0                     0   \n",
       "\n",
       "   OverTime_No  OverTime_Yes  \n",
       "0            0             1  \n",
       "1            0             1  \n",
       "2            1             0  \n",
       "3            1             0  \n",
       "4            1             0  \n",
       "\n",
       "[5 rows x 47 columns]"
      ]
     },
     "execution_count": 93,
     "metadata": {},
     "output_type": "execute_result"
    }
   ],
   "source": [
    "ATTMod = pd.read_csv('Dane/ATTMod.csv')\n",
    "ATTMod.head()"
   ]
  },
  {
   "cell_type": "code",
   "execution_count": 94,
   "id": "7c12b37e",
   "metadata": {},
   "outputs": [],
   "source": [
    "train_data = ATTMod.drop('Attrition', axis=1)\n",
    "train_labels = ATTMod[['Attrition']]"
   ]
  },
  {
   "cell_type": "code",
   "execution_count": 95,
   "id": "ad7ec2de",
   "metadata": {},
   "outputs": [],
   "source": [
    "Xrf = train_data\n",
    "yrf = train_labels"
   ]
  },
  {
   "cell_type": "code",
   "execution_count": 96,
   "id": "5302efd8",
   "metadata": {},
   "outputs": [],
   "source": [
    "Xrf_train, Xrf_test, yrf_train, yrf_test = train_test_split(Xrf, yrf, test_size=0.2, stratify=yrf, random_state=42)"
   ]
  },
  {
   "cell_type": "code",
   "execution_count": 97,
   "id": "22f3655d",
   "metadata": {},
   "outputs": [
    {
     "data": {
      "text/html": [
       "<style>#sk-container-id-3 {color: black;background-color: white;}#sk-container-id-3 pre{padding: 0;}#sk-container-id-3 div.sk-toggleable {background-color: white;}#sk-container-id-3 label.sk-toggleable__label {cursor: pointer;display: block;width: 100%;margin-bottom: 0;padding: 0.3em;box-sizing: border-box;text-align: center;}#sk-container-id-3 label.sk-toggleable__label-arrow:before {content: \"▸\";float: left;margin-right: 0.25em;color: #696969;}#sk-container-id-3 label.sk-toggleable__label-arrow:hover:before {color: black;}#sk-container-id-3 div.sk-estimator:hover label.sk-toggleable__label-arrow:before {color: black;}#sk-container-id-3 div.sk-toggleable__content {max-height: 0;max-width: 0;overflow: hidden;text-align: left;background-color: #f0f8ff;}#sk-container-id-3 div.sk-toggleable__content pre {margin: 0.2em;color: black;border-radius: 0.25em;background-color: #f0f8ff;}#sk-container-id-3 input.sk-toggleable__control:checked~div.sk-toggleable__content {max-height: 200px;max-width: 100%;overflow: auto;}#sk-container-id-3 input.sk-toggleable__control:checked~label.sk-toggleable__label-arrow:before {content: \"▾\";}#sk-container-id-3 div.sk-estimator input.sk-toggleable__control:checked~label.sk-toggleable__label {background-color: #d4ebff;}#sk-container-id-3 div.sk-label input.sk-toggleable__control:checked~label.sk-toggleable__label {background-color: #d4ebff;}#sk-container-id-3 input.sk-hidden--visually {border: 0;clip: rect(1px 1px 1px 1px);clip: rect(1px, 1px, 1px, 1px);height: 1px;margin: -1px;overflow: hidden;padding: 0;position: absolute;width: 1px;}#sk-container-id-3 div.sk-estimator {font-family: monospace;background-color: #f0f8ff;border: 1px dotted black;border-radius: 0.25em;box-sizing: border-box;margin-bottom: 0.5em;}#sk-container-id-3 div.sk-estimator:hover {background-color: #d4ebff;}#sk-container-id-3 div.sk-parallel-item::after {content: \"\";width: 100%;border-bottom: 1px solid gray;flex-grow: 1;}#sk-container-id-3 div.sk-label:hover label.sk-toggleable__label {background-color: #d4ebff;}#sk-container-id-3 div.sk-serial::before {content: \"\";position: absolute;border-left: 1px solid gray;box-sizing: border-box;top: 0;bottom: 0;left: 50%;z-index: 0;}#sk-container-id-3 div.sk-serial {display: flex;flex-direction: column;align-items: center;background-color: white;padding-right: 0.2em;padding-left: 0.2em;position: relative;}#sk-container-id-3 div.sk-item {position: relative;z-index: 1;}#sk-container-id-3 div.sk-parallel {display: flex;align-items: stretch;justify-content: center;background-color: white;position: relative;}#sk-container-id-3 div.sk-item::before, #sk-container-id-3 div.sk-parallel-item::before {content: \"\";position: absolute;border-left: 1px solid gray;box-sizing: border-box;top: 0;bottom: 0;left: 50%;z-index: -1;}#sk-container-id-3 div.sk-parallel-item {display: flex;flex-direction: column;z-index: 1;position: relative;background-color: white;}#sk-container-id-3 div.sk-parallel-item:first-child::after {align-self: flex-end;width: 50%;}#sk-container-id-3 div.sk-parallel-item:last-child::after {align-self: flex-start;width: 50%;}#sk-container-id-3 div.sk-parallel-item:only-child::after {width: 0;}#sk-container-id-3 div.sk-dashed-wrapped {border: 1px dashed gray;margin: 0 0.4em 0.5em 0.4em;box-sizing: border-box;padding-bottom: 0.4em;background-color: white;}#sk-container-id-3 div.sk-label label {font-family: monospace;font-weight: bold;display: inline-block;line-height: 1.2em;}#sk-container-id-3 div.sk-label-container {text-align: center;}#sk-container-id-3 div.sk-container {/* jupyter's `normalize.less` sets `[hidden] { display: none; }` but bootstrap.min.css set `[hidden] { display: none !important; }` so we also need the `!important` here to be able to override the default hidden behavior on the sphinx rendered scikit-learn.org. See: https://github.com/scikit-learn/scikit-learn/issues/21755 */display: inline-block !important;position: relative;}#sk-container-id-3 div.sk-text-repr-fallback {display: none;}</style><div id=\"sk-container-id-3\" class=\"sk-top-container\"><div class=\"sk-text-repr-fallback\"><pre>RandomForestClassifier(max_depth=2, random_state=0)</pre><b>In a Jupyter environment, please rerun this cell to show the HTML representation or trust the notebook. <br />On GitHub, the HTML representation is unable to render, please try loading this page with nbviewer.org.</b></div><div class=\"sk-container\" hidden><div class=\"sk-item\"><div class=\"sk-estimator sk-toggleable\"><input class=\"sk-toggleable__control sk-hidden--visually\" id=\"sk-estimator-id-5\" type=\"checkbox\" checked><label for=\"sk-estimator-id-5\" class=\"sk-toggleable__label sk-toggleable__label-arrow\">RandomForestClassifier</label><div class=\"sk-toggleable__content\"><pre>RandomForestClassifier(max_depth=2, random_state=0)</pre></div></div></div></div></div>"
      ],
      "text/plain": [
       "RandomForestClassifier(max_depth=2, random_state=0)"
      ]
     },
     "execution_count": 97,
     "metadata": {},
     "output_type": "execute_result"
    }
   ],
   "source": [
    "Xrf_train, yrf_train = make_classification(n_samples=1000, n_features=46, n_informative=46, n_redundant=0, random_state=None, shuffle=True)\n",
    "\n",
    "# n_samples - liczba próbek\n",
    "# n_features - liczba cech\n",
    "# n_informative - liczba informacyjnych cech\n",
    "# n_redundant - liczba zbędnnych cech\n",
    "# random_state - losowość jest kontrolowana przez systemowy generator liczb losowych\n",
    "# shuffle - parametr, który określa czy dane treningowe powinny być tasowane przed podziałem na drzewa decyzyjne\n",
    "\n",
    "\n",
    "clf2 = RandomForestClassifier(max_depth=2, random_state=0)\n",
    "clf2.fit(Xrf_train, yrf_train)"
   ]
  },
  {
   "cell_type": "code",
   "execution_count": 98,
   "id": "ab3c1089",
   "metadata": {},
   "outputs": [
    {
     "name": "stderr",
     "output_type": "stream",
     "text": [
      "C:\\Users\\Kamil - IT\\AppData\\Local\\Programs\\Python\\Python311\\Lib\\site-packages\\sklearn\\base.py:432: UserWarning: X has feature names, but RandomForestClassifier was fitted without feature names\n",
      "  warnings.warn(\n"
     ]
    },
    {
     "data": {
      "text/plain": [
       "array([0, 0, 0, 0, 0, 0, 0, 0, 0, 0, 0, 1, 0, 0, 0, 0, 0, 0, 0, 0, 0, 0,\n",
       "       1, 0, 0, 0, 0, 0, 0, 0, 0, 0, 0, 0, 0, 0, 0, 1, 0, 0, 0, 0, 0, 1,\n",
       "       0, 0, 0, 0, 0, 0, 0, 0, 0, 0, 0, 0, 0, 0, 1, 0, 0, 0, 0, 0, 0, 0,\n",
       "       0, 0, 0, 0, 0, 0, 0, 0, 0, 0, 0, 0, 1, 0, 0, 0, 0, 1, 0, 0, 0, 0,\n",
       "       0, 0, 0, 0, 1, 0, 0, 0, 0, 0, 0, 0, 0, 1, 0, 0, 0, 1, 0, 0, 1, 0,\n",
       "       0, 0, 1, 0, 0, 0, 0, 0, 0, 0, 0, 0, 0, 0, 0, 1, 0, 0, 0, 0, 0, 0,\n",
       "       0, 0, 0, 0, 0, 0, 0, 0, 0, 0, 0, 0, 1, 0, 0, 0, 0, 0, 0, 0, 0, 0,\n",
       "       0, 0, 0, 0, 0, 0, 0, 0, 0, 0, 0, 1, 0, 0, 0, 0, 0, 0, 0, 0, 0, 0,\n",
       "       0, 0, 0, 0, 0, 0, 0, 0, 0, 0, 0, 0, 0, 0, 0, 0, 0, 0, 0, 0, 0, 0,\n",
       "       0, 0, 0, 0, 0, 0, 0, 0, 0, 0, 0, 0, 0, 0, 1, 0, 0, 0, 0, 0, 0, 0,\n",
       "       0, 0, 0, 0, 0, 0, 0, 0, 0, 0, 1, 0, 0, 0, 0, 0, 0, 0, 0, 0, 0, 0,\n",
       "       0, 0, 0, 0, 0, 0, 0, 0, 0, 0, 0, 0, 0, 0, 0, 0, 1, 0, 0, 0, 0, 0,\n",
       "       0, 0, 0, 0, 0, 0, 0, 0, 0, 0, 0, 0, 0, 0, 0, 0, 0, 0, 0, 0, 0, 0,\n",
       "       0, 0, 0, 0, 0, 0, 0, 0, 0, 0, 0, 0, 0, 0, 0, 0, 0, 0, 0, 0, 0, 0,\n",
       "       0, 0, 0, 0, 0, 0, 0, 0, 0, 0, 0, 0, 0, 0, 0, 0, 0, 0, 0, 0, 0, 0,\n",
       "       0, 0, 0, 0, 0, 0, 0, 0, 0, 0, 0, 0, 0, 0, 0, 0, 1, 0, 0, 0, 0, 0,\n",
       "       0, 0, 0, 0, 0, 0, 0, 0, 0, 0, 0, 0, 0, 0, 0, 0, 0, 0, 0, 0, 0, 0,\n",
       "       0, 0, 0, 0, 0, 0, 0, 0, 0, 0, 0, 0, 0, 0, 0, 0, 0, 0, 0, 0, 0, 0,\n",
       "       0, 0, 0, 0, 0, 0, 0, 0, 0, 0, 0, 0, 0, 0, 0, 0, 0, 0, 1, 0, 0, 0,\n",
       "       0, 0, 0, 0, 0, 0, 0, 0, 0, 0, 0, 0, 0, 0, 0, 0, 0, 0, 0, 0, 0, 0,\n",
       "       0, 0, 0, 0, 0, 0, 0, 0, 0, 0, 0, 0, 0, 0, 0, 0, 1, 0, 0, 0, 0, 0,\n",
       "       0, 1, 0, 0, 0, 0, 0, 0, 0, 0, 0, 0, 0, 0, 0, 0, 0, 0, 0, 1, 0, 0,\n",
       "       0, 1, 0, 0, 0, 0, 0, 0, 0, 0, 0, 0, 0, 0, 0, 0, 0, 0, 0, 0, 0, 0,\n",
       "       0, 0, 0, 1, 1, 0, 0, 0, 0, 0, 0, 0, 0, 1, 0, 0, 0, 0, 0, 0, 0, 0,\n",
       "       0, 0, 0, 0, 0, 1, 0, 0, 0, 0, 0, 0, 0, 0, 0, 0, 0, 0, 0, 0, 0, 0,\n",
       "       0, 0, 0, 0, 0, 0, 0, 1, 0, 0, 0, 0, 0, 0, 0, 0, 0, 0, 0, 0, 0, 0,\n",
       "       0, 0, 0, 0, 0, 0, 0, 0, 0, 0, 0, 0, 0, 0, 0, 0, 0, 0, 1, 0, 0, 0,\n",
       "       0, 0, 0, 0, 0, 0])"
      ]
     },
     "execution_count": 98,
     "metadata": {},
     "output_type": "execute_result"
    }
   ],
   "source": [
    "pred_rf = clf2.predict(Xrf_test)\n",
    "pred_rf"
   ]
  },
  {
   "cell_type": "code",
   "execution_count": 99,
   "id": "7dd2504c",
   "metadata": {},
   "outputs": [
    {
     "name": "stdout",
     "output_type": "stream",
     "text": [
      "Results for Random Forest\n",
      "----\n",
      "  Accuracy:  0.5383333333333333\n",
      "  Precision: 0.5517543859649123\n",
      "  Recall:    0.5098729347716954\n",
      "  F1 score:  0.39886935354945585\n",
      "  Mislabeled 169740 out of 600\n",
      "\n",
      "\n"
     ]
    }
   ],
   "source": [
    "RFMetrics1 = calculate_metrics(yrf_test.values, pred_rf)\n",
    "RFMetrics = print_results(calculate_metrics(yrf_test.values, pred_rf), 'Random Forest')\n",
    "RFMetrics"
   ]
  },
  {
   "cell_type": "code",
   "execution_count": 100,
   "id": "2afb2440",
   "metadata": {},
   "outputs": [
    {
     "name": "stdout",
     "output_type": "stream",
     "text": [
      "[0]\n"
     ]
    }
   ],
   "source": [
    "print (clf1.predict([[45, 23, 2, 2, 3, 3, 4, 2344, 2, 2, 3, 2, 24, 1, 2, 10, 5, 2, 0, 0, 1, 1, 0, 0, 0, 0, 1, 1, 0, 0, 1, 0, 1, 0, 0, 0, 0, 1, 0, 0, 0, 0, 0, 1, 1, 0]]))"
   ]
  },
  {
   "cell_type": "markdown",
   "id": "7eb9ac5a",
   "metadata": {},
   "source": []
  },
  {
   "cell_type": "markdown",
   "id": "f2115026",
   "metadata": {},
   "source": [
    "                                                    Boosting"
   ]
  },
  {
   "cell_type": "markdown",
   "id": "0073f338",
   "metadata": {},
   "source": []
  },
  {
   "cell_type": "markdown",
   "id": "2d9aeb6e",
   "metadata": {},
   "source": [
    "  Boosting to technika polegająca na przekształcaniu słabych modeli w silne (sekwencyjne, addytywne i stopniowe szkolenie kilku modeli). Przewidywania ostatniego modelu zbiorczego są ogólnymi ważonymi przewidywaniami dostarczonymi przez poprzednie modele drzew. Najpopularniejsze algorytmy to: AdaBoost, GradientBoosting, XGBoost. "
   ]
  },
  {
   "cell_type": "markdown",
   "id": "8ab9324b",
   "metadata": {},
   "source": [
    "  Boosting is a technique of transforming weak models into strong ones (sequential, additive and gradual training of several\n",
    "models). The predictions of the last ensemble model are the overall weighted predictions provided by the previous tree models. \n",
    "The most popular algorithms are: AdaBoost, GradientBoosting, XGBoost."
   ]
  },
  {
   "cell_type": "code",
   "execution_count": 101,
   "id": "0eb5362c",
   "metadata": {},
   "outputs": [],
   "source": [
    "from sklearn.ensemble import GradientBoostingClassifier"
   ]
  },
  {
   "cell_type": "code",
   "execution_count": 102,
   "id": "a3d925a9",
   "metadata": {},
   "outputs": [
    {
     "data": {
      "text/html": [
       "<div>\n",
       "<style scoped>\n",
       "    .dataframe tbody tr th:only-of-type {\n",
       "        vertical-align: middle;\n",
       "    }\n",
       "\n",
       "    .dataframe tbody tr th {\n",
       "        vertical-align: top;\n",
       "    }\n",
       "\n",
       "    .dataframe thead th {\n",
       "        text-align: right;\n",
       "    }\n",
       "</style>\n",
       "<table border=\"1\" class=\"dataframe\">\n",
       "  <thead>\n",
       "    <tr style=\"text-align: right;\">\n",
       "      <th></th>\n",
       "      <th>Age</th>\n",
       "      <th>DistanceFromHome</th>\n",
       "      <th>Education</th>\n",
       "      <th>EnvironmentSatisfaction</th>\n",
       "      <th>JobInvolvement</th>\n",
       "      <th>JobLevel</th>\n",
       "      <th>JobSatisfaction</th>\n",
       "      <th>MonthlyIncome</th>\n",
       "      <th>NumCompaniesWorked</th>\n",
       "      <th>PercentSalaryHike</th>\n",
       "      <th>...</th>\n",
       "      <th>JobRole_Manufacturing Director</th>\n",
       "      <th>JobRole_Research Director</th>\n",
       "      <th>JobRole_Research Scientist</th>\n",
       "      <th>JobRole_Sales Executive</th>\n",
       "      <th>JobRole_Sales Representative</th>\n",
       "      <th>MaritalStatus_Divorced</th>\n",
       "      <th>MaritalStatus_Married</th>\n",
       "      <th>MaritalStatus_Single</th>\n",
       "      <th>OverTime_No</th>\n",
       "      <th>OverTime_Yes</th>\n",
       "    </tr>\n",
       "  </thead>\n",
       "  <tbody>\n",
       "    <tr>\n",
       "      <th>0</th>\n",
       "      <td>30</td>\n",
       "      <td>1</td>\n",
       "      <td>1</td>\n",
       "      <td>4</td>\n",
       "      <td>2</td>\n",
       "      <td>2</td>\n",
       "      <td>4</td>\n",
       "      <td>5126</td>\n",
       "      <td>1</td>\n",
       "      <td>12</td>\n",
       "      <td>...</td>\n",
       "      <td>0</td>\n",
       "      <td>0</td>\n",
       "      <td>0</td>\n",
       "      <td>0</td>\n",
       "      <td>0</td>\n",
       "      <td>0</td>\n",
       "      <td>1</td>\n",
       "      <td>0</td>\n",
       "      <td>0</td>\n",
       "      <td>1</td>\n",
       "    </tr>\n",
       "    <tr>\n",
       "      <th>1</th>\n",
       "      <td>38</td>\n",
       "      <td>2</td>\n",
       "      <td>2</td>\n",
       "      <td>4</td>\n",
       "      <td>2</td>\n",
       "      <td>3</td>\n",
       "      <td>3</td>\n",
       "      <td>7756</td>\n",
       "      <td>3</td>\n",
       "      <td>19</td>\n",
       "      <td>...</td>\n",
       "      <td>1</td>\n",
       "      <td>0</td>\n",
       "      <td>0</td>\n",
       "      <td>0</td>\n",
       "      <td>0</td>\n",
       "      <td>0</td>\n",
       "      <td>1</td>\n",
       "      <td>0</td>\n",
       "      <td>0</td>\n",
       "      <td>1</td>\n",
       "    </tr>\n",
       "    <tr>\n",
       "      <th>2</th>\n",
       "      <td>26</td>\n",
       "      <td>6</td>\n",
       "      <td>3</td>\n",
       "      <td>3</td>\n",
       "      <td>2</td>\n",
       "      <td>1</td>\n",
       "      <td>2</td>\n",
       "      <td>2368</td>\n",
       "      <td>1</td>\n",
       "      <td>19</td>\n",
       "      <td>...</td>\n",
       "      <td>0</td>\n",
       "      <td>0</td>\n",
       "      <td>1</td>\n",
       "      <td>0</td>\n",
       "      <td>0</td>\n",
       "      <td>0</td>\n",
       "      <td>1</td>\n",
       "      <td>0</td>\n",
       "      <td>1</td>\n",
       "      <td>0</td>\n",
       "    </tr>\n",
       "    <tr>\n",
       "      <th>3</th>\n",
       "      <td>28</td>\n",
       "      <td>8</td>\n",
       "      <td>2</td>\n",
       "      <td>4</td>\n",
       "      <td>3</td>\n",
       "      <td>1</td>\n",
       "      <td>4</td>\n",
       "      <td>3310</td>\n",
       "      <td>1</td>\n",
       "      <td>21</td>\n",
       "      <td>...</td>\n",
       "      <td>0</td>\n",
       "      <td>0</td>\n",
       "      <td>1</td>\n",
       "      <td>0</td>\n",
       "      <td>0</td>\n",
       "      <td>0</td>\n",
       "      <td>0</td>\n",
       "      <td>1</td>\n",
       "      <td>1</td>\n",
       "      <td>0</td>\n",
       "    </tr>\n",
       "    <tr>\n",
       "      <th>4</th>\n",
       "      <td>35</td>\n",
       "      <td>4</td>\n",
       "      <td>2</td>\n",
       "      <td>3</td>\n",
       "      <td>3</td>\n",
       "      <td>1</td>\n",
       "      <td>4</td>\n",
       "      <td>1951</td>\n",
       "      <td>1</td>\n",
       "      <td>12</td>\n",
       "      <td>...</td>\n",
       "      <td>0</td>\n",
       "      <td>0</td>\n",
       "      <td>0</td>\n",
       "      <td>0</td>\n",
       "      <td>0</td>\n",
       "      <td>1</td>\n",
       "      <td>0</td>\n",
       "      <td>0</td>\n",
       "      <td>1</td>\n",
       "      <td>0</td>\n",
       "    </tr>\n",
       "  </tbody>\n",
       "</table>\n",
       "<p>5 rows × 47 columns</p>\n",
       "</div>"
      ],
      "text/plain": [
       "   Age  DistanceFromHome  Education  EnvironmentSatisfaction  JobInvolvement   \n",
       "0   30                 1          1                        4               2  \\\n",
       "1   38                 2          2                        4               2   \n",
       "2   26                 6          3                        3               2   \n",
       "3   28                 8          2                        4               3   \n",
       "4   35                 4          2                        3               3   \n",
       "\n",
       "   JobLevel  JobSatisfaction  MonthlyIncome  NumCompaniesWorked   \n",
       "0         2                4           5126                   1  \\\n",
       "1         3                3           7756                   3   \n",
       "2         1                2           2368                   1   \n",
       "3         1                4           3310                   1   \n",
       "4         1                4           1951                   1   \n",
       "\n",
       "   PercentSalaryHike  ...  JobRole_Manufacturing Director   \n",
       "0                 12  ...                               0  \\\n",
       "1                 19  ...                               1   \n",
       "2                 19  ...                               0   \n",
       "3                 21  ...                               0   \n",
       "4                 12  ...                               0   \n",
       "\n",
       "   JobRole_Research Director  JobRole_Research Scientist   \n",
       "0                          0                           0  \\\n",
       "1                          0                           0   \n",
       "2                          0                           1   \n",
       "3                          0                           1   \n",
       "4                          0                           0   \n",
       "\n",
       "   JobRole_Sales Executive  JobRole_Sales Representative   \n",
       "0                        0                             0  \\\n",
       "1                        0                             0   \n",
       "2                        0                             0   \n",
       "3                        0                             0   \n",
       "4                        0                             0   \n",
       "\n",
       "   MaritalStatus_Divorced  MaritalStatus_Married  MaritalStatus_Single   \n",
       "0                       0                      1                     0  \\\n",
       "1                       0                      1                     0   \n",
       "2                       0                      1                     0   \n",
       "3                       0                      0                     1   \n",
       "4                       1                      0                     0   \n",
       "\n",
       "   OverTime_No  OverTime_Yes  \n",
       "0            0             1  \n",
       "1            0             1  \n",
       "2            1             0  \n",
       "3            1             0  \n",
       "4            1             0  \n",
       "\n",
       "[5 rows x 47 columns]"
      ]
     },
     "execution_count": 102,
     "metadata": {},
     "output_type": "execute_result"
    }
   ],
   "source": [
    "ATTMod = pd.read_csv('Dane/ATTMod.csv')\n",
    "ATTMod.head()"
   ]
  },
  {
   "cell_type": "code",
   "execution_count": 103,
   "id": "3cd924d4",
   "metadata": {},
   "outputs": [],
   "source": [
    "train_data = ATTMod.drop('Attrition', axis=1)\n",
    "train_labels = ATTMod[['Attrition']]"
   ]
  },
  {
   "cell_type": "code",
   "execution_count": 104,
   "id": "2a454dd7",
   "metadata": {},
   "outputs": [],
   "source": [
    "Xboo = train_data\n",
    "yboo = train_labels"
   ]
  },
  {
   "cell_type": "code",
   "execution_count": 105,
   "id": "40fe1576",
   "metadata": {},
   "outputs": [],
   "source": [
    "Xboo_train, Xboo_test, yboo_train, yboo_test = train_test_split(Xboo, yboo, test_size=0.2, stratify=yboo, random_state=42)"
   ]
  },
  {
   "cell_type": "code",
   "execution_count": 106,
   "id": "0075b8c7",
   "metadata": {},
   "outputs": [],
   "source": [
    "gb_clf = GradientBoostingClassifier(n_estimators=100, learning_rate=1.0, max_depth=1, random_state=0)"
   ]
  },
  {
   "cell_type": "code",
   "execution_count": 107,
   "id": "85a04f09",
   "metadata": {},
   "outputs": [
    {
     "name": "stderr",
     "output_type": "stream",
     "text": [
      "C:\\Users\\Kamil - IT\\AppData\\Local\\Programs\\Python\\Python311\\Lib\\site-packages\\sklearn\\ensemble\\_gb.py:437: DataConversionWarning: A column-vector y was passed when a 1d array was expected. Please change the shape of y to (n_samples, ), for example using ravel().\n",
      "  y = column_or_1d(y, warn=True)\n"
     ]
    },
    {
     "data": {
      "text/html": [
       "<style>#sk-container-id-4 {color: black;background-color: white;}#sk-container-id-4 pre{padding: 0;}#sk-container-id-4 div.sk-toggleable {background-color: white;}#sk-container-id-4 label.sk-toggleable__label {cursor: pointer;display: block;width: 100%;margin-bottom: 0;padding: 0.3em;box-sizing: border-box;text-align: center;}#sk-container-id-4 label.sk-toggleable__label-arrow:before {content: \"▸\";float: left;margin-right: 0.25em;color: #696969;}#sk-container-id-4 label.sk-toggleable__label-arrow:hover:before {color: black;}#sk-container-id-4 div.sk-estimator:hover label.sk-toggleable__label-arrow:before {color: black;}#sk-container-id-4 div.sk-toggleable__content {max-height: 0;max-width: 0;overflow: hidden;text-align: left;background-color: #f0f8ff;}#sk-container-id-4 div.sk-toggleable__content pre {margin: 0.2em;color: black;border-radius: 0.25em;background-color: #f0f8ff;}#sk-container-id-4 input.sk-toggleable__control:checked~div.sk-toggleable__content {max-height: 200px;max-width: 100%;overflow: auto;}#sk-container-id-4 input.sk-toggleable__control:checked~label.sk-toggleable__label-arrow:before {content: \"▾\";}#sk-container-id-4 div.sk-estimator input.sk-toggleable__control:checked~label.sk-toggleable__label {background-color: #d4ebff;}#sk-container-id-4 div.sk-label input.sk-toggleable__control:checked~label.sk-toggleable__label {background-color: #d4ebff;}#sk-container-id-4 input.sk-hidden--visually {border: 0;clip: rect(1px 1px 1px 1px);clip: rect(1px, 1px, 1px, 1px);height: 1px;margin: -1px;overflow: hidden;padding: 0;position: absolute;width: 1px;}#sk-container-id-4 div.sk-estimator {font-family: monospace;background-color: #f0f8ff;border: 1px dotted black;border-radius: 0.25em;box-sizing: border-box;margin-bottom: 0.5em;}#sk-container-id-4 div.sk-estimator:hover {background-color: #d4ebff;}#sk-container-id-4 div.sk-parallel-item::after {content: \"\";width: 100%;border-bottom: 1px solid gray;flex-grow: 1;}#sk-container-id-4 div.sk-label:hover label.sk-toggleable__label {background-color: #d4ebff;}#sk-container-id-4 div.sk-serial::before {content: \"\";position: absolute;border-left: 1px solid gray;box-sizing: border-box;top: 0;bottom: 0;left: 50%;z-index: 0;}#sk-container-id-4 div.sk-serial {display: flex;flex-direction: column;align-items: center;background-color: white;padding-right: 0.2em;padding-left: 0.2em;position: relative;}#sk-container-id-4 div.sk-item {position: relative;z-index: 1;}#sk-container-id-4 div.sk-parallel {display: flex;align-items: stretch;justify-content: center;background-color: white;position: relative;}#sk-container-id-4 div.sk-item::before, #sk-container-id-4 div.sk-parallel-item::before {content: \"\";position: absolute;border-left: 1px solid gray;box-sizing: border-box;top: 0;bottom: 0;left: 50%;z-index: -1;}#sk-container-id-4 div.sk-parallel-item {display: flex;flex-direction: column;z-index: 1;position: relative;background-color: white;}#sk-container-id-4 div.sk-parallel-item:first-child::after {align-self: flex-end;width: 50%;}#sk-container-id-4 div.sk-parallel-item:last-child::after {align-self: flex-start;width: 50%;}#sk-container-id-4 div.sk-parallel-item:only-child::after {width: 0;}#sk-container-id-4 div.sk-dashed-wrapped {border: 1px dashed gray;margin: 0 0.4em 0.5em 0.4em;box-sizing: border-box;padding-bottom: 0.4em;background-color: white;}#sk-container-id-4 div.sk-label label {font-family: monospace;font-weight: bold;display: inline-block;line-height: 1.2em;}#sk-container-id-4 div.sk-label-container {text-align: center;}#sk-container-id-4 div.sk-container {/* jupyter's `normalize.less` sets `[hidden] { display: none; }` but bootstrap.min.css set `[hidden] { display: none !important; }` so we also need the `!important` here to be able to override the default hidden behavior on the sphinx rendered scikit-learn.org. See: https://github.com/scikit-learn/scikit-learn/issues/21755 */display: inline-block !important;position: relative;}#sk-container-id-4 div.sk-text-repr-fallback {display: none;}</style><div id=\"sk-container-id-4\" class=\"sk-top-container\"><div class=\"sk-text-repr-fallback\"><pre>GradientBoostingClassifier(learning_rate=1.0, max_depth=1, random_state=0)</pre><b>In a Jupyter environment, please rerun this cell to show the HTML representation or trust the notebook. <br />On GitHub, the HTML representation is unable to render, please try loading this page with nbviewer.org.</b></div><div class=\"sk-container\" hidden><div class=\"sk-item\"><div class=\"sk-estimator sk-toggleable\"><input class=\"sk-toggleable__control sk-hidden--visually\" id=\"sk-estimator-id-6\" type=\"checkbox\" checked><label for=\"sk-estimator-id-6\" class=\"sk-toggleable__label sk-toggleable__label-arrow\">GradientBoostingClassifier</label><div class=\"sk-toggleable__content\"><pre>GradientBoostingClassifier(learning_rate=1.0, max_depth=1, random_state=0)</pre></div></div></div></div></div>"
      ],
      "text/plain": [
       "GradientBoostingClassifier(learning_rate=1.0, max_depth=1, random_state=0)"
      ]
     },
     "execution_count": 107,
     "metadata": {},
     "output_type": "execute_result"
    }
   ],
   "source": [
    "gb_clf.fit(Xboo_train, yboo_train)"
   ]
  },
  {
   "cell_type": "code",
   "execution_count": 108,
   "id": "ed8ca122",
   "metadata": {},
   "outputs": [
    {
     "data": {
      "text/plain": [
       "array([0, 0, 0, 1, 0, 0, 0, 1, 0, 1, 1, 1, 1, 0, 1, 0, 0, 0, 1, 0, 1, 0,\n",
       "       1, 0, 1, 0, 1, 0, 0, 0, 1, 1, 0, 0, 0, 1, 0, 1, 1, 1, 1, 0, 1, 1,\n",
       "       1, 1, 1, 0, 0, 0, 1, 1, 0, 1, 1, 1, 0, 1, 1, 0, 0, 0, 0, 1, 0, 0,\n",
       "       1, 0, 0, 0, 0, 1, 0, 1, 1, 0, 0, 0, 0, 0, 0, 0, 0, 1, 0, 0, 0, 0,\n",
       "       1, 1, 0, 1, 1, 0, 1, 1, 1, 0, 1, 0, 0, 0, 0, 0, 0, 0, 0, 0, 0, 0,\n",
       "       1, 0, 0, 1, 1, 0, 1, 0, 0, 0, 0, 0, 1, 1, 0, 1, 0, 1, 1, 0, 0, 0,\n",
       "       0, 0, 0, 1, 1, 0, 0, 1, 0, 1, 0, 1, 1, 0, 1, 1, 0, 1, 1, 0, 0, 0,\n",
       "       0, 0, 1, 0, 1, 0, 0, 0, 0, 0, 1, 1, 0, 1, 0, 1, 0, 0, 0, 0, 1, 0,\n",
       "       1, 0, 1, 1, 0, 1, 0, 1, 0, 0, 1, 1, 0, 1, 0, 0, 0, 0, 1, 0, 0, 1,\n",
       "       0, 1, 0, 0, 0, 0, 0, 0, 0, 0, 1, 0, 1, 0, 1, 1, 1, 1, 1, 0, 0, 0,\n",
       "       0, 0, 0, 0, 0, 0, 1, 0, 0, 0, 1, 0, 0, 0, 0, 0, 0, 0, 0, 1, 1, 1,\n",
       "       0, 0, 1, 1, 1, 1, 1, 0, 0, 1, 0, 0, 1, 0, 0, 0, 1, 1, 0, 0, 0, 0,\n",
       "       0, 1, 0, 1, 0, 1, 1, 0, 0, 0, 0, 0, 0, 1, 0, 1, 0, 0, 0, 0, 0, 1,\n",
       "       1, 0, 0, 1, 0, 0, 0, 0, 0, 0, 1, 0, 1, 0, 1, 1, 0, 1, 0, 1, 1, 0,\n",
       "       1, 1, 0, 0, 0, 0, 0, 1, 1, 1, 0, 0, 1, 1, 1, 0, 0, 0, 0, 0, 0, 0,\n",
       "       0, 0, 0, 1, 1, 0, 1, 1, 1, 0, 0, 0, 1, 1, 0, 1, 1, 0, 0, 0, 1, 0,\n",
       "       0, 1, 0, 1, 0, 1, 0, 0, 0, 1, 0, 1, 0, 0, 0, 0, 0, 1, 1, 0, 1, 1,\n",
       "       1, 0, 1, 0, 0, 0, 0, 0, 1, 0, 0, 0, 0, 1, 0, 0, 0, 1, 0, 1, 1, 0,\n",
       "       0, 0, 0, 1, 0, 0, 1, 1, 1, 1, 0, 1, 0, 0, 0, 1, 1, 1, 0, 1, 0, 1,\n",
       "       1, 0, 1, 0, 0, 1, 1, 0, 0, 1, 1, 0, 1, 0, 1, 0, 1, 1, 1, 1, 0, 0,\n",
       "       1, 0, 1, 0, 0, 1, 0, 1, 1, 0, 1, 0, 0, 1, 1, 0, 1, 0, 0, 0, 1, 0,\n",
       "       1, 1, 1, 0, 1, 0, 1, 1, 0, 1, 0, 0, 0, 1, 1, 0, 0, 0, 0, 1, 1, 0,\n",
       "       0, 1, 0, 0, 1, 0, 1, 1, 0, 0, 0, 0, 0, 0, 1, 0, 0, 1, 1, 0, 0, 1,\n",
       "       0, 0, 0, 1, 1, 0, 0, 1, 0, 0, 0, 0, 1, 1, 0, 0, 1, 1, 0, 1, 1, 1,\n",
       "       1, 1, 1, 0, 0, 1, 0, 0, 0, 0, 0, 1, 0, 1, 1, 0, 0, 1, 0, 0, 1, 0,\n",
       "       0, 0, 0, 1, 0, 0, 1, 0, 1, 0, 0, 0, 0, 0, 1, 1, 1, 0, 0, 0, 0, 0,\n",
       "       0, 0, 0, 0, 1, 1, 0, 0, 1, 0, 0, 0, 0, 1, 0, 0, 0, 0, 0, 0, 1, 0,\n",
       "       0, 0, 1, 0, 1, 0], dtype=int64)"
      ]
     },
     "execution_count": 108,
     "metadata": {},
     "output_type": "execute_result"
    }
   ],
   "source": [
    "pred_boo = gb_clf.predict(Xboo_test)\n",
    "pred_boo"
   ]
  },
  {
   "cell_type": "code",
   "execution_count": 109,
   "id": "647ff817",
   "metadata": {},
   "outputs": [
    {
     "name": "stdout",
     "output_type": "stream",
     "text": [
      "Results for Boosting\n",
      "----\n",
      "  Accuracy:  0.5433333333333333\n",
      "  Precision: 0.5383757017819158\n",
      "  Recall:    0.5368310668347482\n",
      "  F1 score:  0.5346414701253411\n",
      "  Mislabeled 177606 out of 600\n",
      "\n",
      "\n"
     ]
    }
   ],
   "source": [
    "BooMetrics1 = calculate_metrics(yboo_test.values, pred_boo)\n",
    "BooMetrics = print_results(calculate_metrics(yboo_test.values, pred_boo), 'Boosting')\n",
    "BooMetrics"
   ]
  },
  {
   "cell_type": "code",
   "execution_count": 110,
   "id": "f32af9fd",
   "metadata": {},
   "outputs": [
    {
     "name": "stdout",
     "output_type": "stream",
     "text": [
      "[0]\n"
     ]
    },
    {
     "name": "stderr",
     "output_type": "stream",
     "text": [
      "C:\\Users\\Kamil - IT\\AppData\\Local\\Programs\\Python\\Python311\\Lib\\site-packages\\sklearn\\base.py:439: UserWarning: X does not have valid feature names, but GradientBoostingClassifier was fitted with feature names\n",
      "  warnings.warn(\n"
     ]
    }
   ],
   "source": [
    "print (gb_clf.predict([[45, 23, 2, 2, 3, 3, 4, 2344, 2, 2, 3, 2, 24, 1, 2, 10, 5, 2, 0, 0, 1, 1, 0, 0, 0, 0, 1, 1, 0, 0, 1, 0, 1, 0, 0, 0, 0, 1, 0, 0, 0, 0, 0, 1, 1, 0]]))"
   ]
  },
  {
   "cell_type": "markdown",
   "id": "8b03a022",
   "metadata": {},
   "source": []
  },
  {
   "cell_type": "markdown",
   "id": "1a93fa08",
   "metadata": {},
   "source": [
    "  Dotychczas pracowaliśmy z modelami z kręgu tzw. uczenia płytkiego, z których najlepsze wyniki osiągnęło Drzewo Decyzyjne. W następnych krokach wykorzystamy modele należące do grupy tzw. uczenia głębokiego (sieci neuronowe z wieloma warstwami), tj. sieci neuronowe gęsto połączone, rekurencyjne i konwolucyjne. "
   ]
  },
  {
   "cell_type": "markdown",
   "id": "93c2b837",
   "metadata": {},
   "source": [
    "  So far, we have worked with models from the so-called shallow learning, of which the best results were achieved by Decision Tree. In the next steps, we will use models belonging to the so-called group 'deep learning' (neural networks with many layers), i.e. densely connected, recurrent and convolutional neural networks."
   ]
  },
  {
   "cell_type": "markdown",
   "id": "59459977",
   "metadata": {},
   "source": []
  },
  {
   "cell_type": "markdown",
   "id": "a1633f1d",
   "metadata": {},
   "source": [
    "                                       Sieć neuronowa gęsto połączona\n",
    "                                       \n",
    "                                      Densely connected neural network"
   ]
  },
  {
   "cell_type": "markdown",
   "id": "d2203602",
   "metadata": {},
   "source": []
  },
  {
   "cell_type": "markdown",
   "id": "01951d7e",
   "metadata": {},
   "source": [
    "  To rodzaj sieci neuronowej, w której każdy neuron w warstwie wejściowej jest połączony z każdym neuronem w warstwie wyjściowej. Te modele są zwykle stosunkowo proste i łatwe do zrozumienia, ale mogą mieć ograniczoną zdolnośc do generalizacji. "
   ]
  },
  {
   "cell_type": "markdown",
   "id": "e06a18a4",
   "metadata": {},
   "source": [
    "  It is a type of neural network in which each neuron in the innput layer is connected  to each neuron in the output layer. These models are usually relatively simple and easy to undrstand, but may have limited ability to generalize."
   ]
  },
  {
   "cell_type": "code",
   "execution_count": 111,
   "id": "f4743fe4",
   "metadata": {},
   "outputs": [],
   "source": [
    "from keras.models import Sequential\n",
    "from keras.layers import Dense"
   ]
  },
  {
   "cell_type": "code",
   "execution_count": 112,
   "id": "34291e83",
   "metadata": {},
   "outputs": [],
   "source": [
    "model = Sequential()\n",
    "model.add(Dense(12, input_dim=46, activation='relu'))\n",
    "model.add(Dense(8, activation='relu'))\n",
    "model.add(Dense(1, activation='sigmoid'))"
   ]
  },
  {
   "cell_type": "code",
   "execution_count": 113,
   "id": "3189da32",
   "metadata": {},
   "outputs": [],
   "source": [
    "model.compile(loss='binary_crossentropy', optimizer='adam', metrics=['accuracy'])"
   ]
  },
  {
   "cell_type": "code",
   "execution_count": 114,
   "id": "d1d0e193",
   "metadata": {},
   "outputs": [
    {
     "data": {
      "text/html": [
       "<div>\n",
       "<style scoped>\n",
       "    .dataframe tbody tr th:only-of-type {\n",
       "        vertical-align: middle;\n",
       "    }\n",
       "\n",
       "    .dataframe tbody tr th {\n",
       "        vertical-align: top;\n",
       "    }\n",
       "\n",
       "    .dataframe thead th {\n",
       "        text-align: right;\n",
       "    }\n",
       "</style>\n",
       "<table border=\"1\" class=\"dataframe\">\n",
       "  <thead>\n",
       "    <tr style=\"text-align: right;\">\n",
       "      <th></th>\n",
       "      <th>Age</th>\n",
       "      <th>DistanceFromHome</th>\n",
       "      <th>Education</th>\n",
       "      <th>EnvironmentSatisfaction</th>\n",
       "      <th>JobInvolvement</th>\n",
       "      <th>JobLevel</th>\n",
       "      <th>JobSatisfaction</th>\n",
       "      <th>MonthlyIncome</th>\n",
       "      <th>NumCompaniesWorked</th>\n",
       "      <th>PercentSalaryHike</th>\n",
       "      <th>...</th>\n",
       "      <th>JobRole_Manufacturing Director</th>\n",
       "      <th>JobRole_Research Director</th>\n",
       "      <th>JobRole_Research Scientist</th>\n",
       "      <th>JobRole_Sales Executive</th>\n",
       "      <th>JobRole_Sales Representative</th>\n",
       "      <th>MaritalStatus_Divorced</th>\n",
       "      <th>MaritalStatus_Married</th>\n",
       "      <th>MaritalStatus_Single</th>\n",
       "      <th>OverTime_No</th>\n",
       "      <th>OverTime_Yes</th>\n",
       "    </tr>\n",
       "  </thead>\n",
       "  <tbody>\n",
       "    <tr>\n",
       "      <th>0</th>\n",
       "      <td>30</td>\n",
       "      <td>1</td>\n",
       "      <td>1</td>\n",
       "      <td>4</td>\n",
       "      <td>2</td>\n",
       "      <td>2</td>\n",
       "      <td>4</td>\n",
       "      <td>5126</td>\n",
       "      <td>1</td>\n",
       "      <td>12</td>\n",
       "      <td>...</td>\n",
       "      <td>0</td>\n",
       "      <td>0</td>\n",
       "      <td>0</td>\n",
       "      <td>0</td>\n",
       "      <td>0</td>\n",
       "      <td>0</td>\n",
       "      <td>1</td>\n",
       "      <td>0</td>\n",
       "      <td>0</td>\n",
       "      <td>1</td>\n",
       "    </tr>\n",
       "    <tr>\n",
       "      <th>1</th>\n",
       "      <td>38</td>\n",
       "      <td>2</td>\n",
       "      <td>2</td>\n",
       "      <td>4</td>\n",
       "      <td>2</td>\n",
       "      <td>3</td>\n",
       "      <td>3</td>\n",
       "      <td>7756</td>\n",
       "      <td>3</td>\n",
       "      <td>19</td>\n",
       "      <td>...</td>\n",
       "      <td>1</td>\n",
       "      <td>0</td>\n",
       "      <td>0</td>\n",
       "      <td>0</td>\n",
       "      <td>0</td>\n",
       "      <td>0</td>\n",
       "      <td>1</td>\n",
       "      <td>0</td>\n",
       "      <td>0</td>\n",
       "      <td>1</td>\n",
       "    </tr>\n",
       "    <tr>\n",
       "      <th>2</th>\n",
       "      <td>26</td>\n",
       "      <td>6</td>\n",
       "      <td>3</td>\n",
       "      <td>3</td>\n",
       "      <td>2</td>\n",
       "      <td>1</td>\n",
       "      <td>2</td>\n",
       "      <td>2368</td>\n",
       "      <td>1</td>\n",
       "      <td>19</td>\n",
       "      <td>...</td>\n",
       "      <td>0</td>\n",
       "      <td>0</td>\n",
       "      <td>1</td>\n",
       "      <td>0</td>\n",
       "      <td>0</td>\n",
       "      <td>0</td>\n",
       "      <td>1</td>\n",
       "      <td>0</td>\n",
       "      <td>1</td>\n",
       "      <td>0</td>\n",
       "    </tr>\n",
       "    <tr>\n",
       "      <th>3</th>\n",
       "      <td>28</td>\n",
       "      <td>8</td>\n",
       "      <td>2</td>\n",
       "      <td>4</td>\n",
       "      <td>3</td>\n",
       "      <td>1</td>\n",
       "      <td>4</td>\n",
       "      <td>3310</td>\n",
       "      <td>1</td>\n",
       "      <td>21</td>\n",
       "      <td>...</td>\n",
       "      <td>0</td>\n",
       "      <td>0</td>\n",
       "      <td>1</td>\n",
       "      <td>0</td>\n",
       "      <td>0</td>\n",
       "      <td>0</td>\n",
       "      <td>0</td>\n",
       "      <td>1</td>\n",
       "      <td>1</td>\n",
       "      <td>0</td>\n",
       "    </tr>\n",
       "    <tr>\n",
       "      <th>4</th>\n",
       "      <td>35</td>\n",
       "      <td>4</td>\n",
       "      <td>2</td>\n",
       "      <td>3</td>\n",
       "      <td>3</td>\n",
       "      <td>1</td>\n",
       "      <td>4</td>\n",
       "      <td>1951</td>\n",
       "      <td>1</td>\n",
       "      <td>12</td>\n",
       "      <td>...</td>\n",
       "      <td>0</td>\n",
       "      <td>0</td>\n",
       "      <td>0</td>\n",
       "      <td>0</td>\n",
       "      <td>0</td>\n",
       "      <td>1</td>\n",
       "      <td>0</td>\n",
       "      <td>0</td>\n",
       "      <td>1</td>\n",
       "      <td>0</td>\n",
       "    </tr>\n",
       "  </tbody>\n",
       "</table>\n",
       "<p>5 rows × 47 columns</p>\n",
       "</div>"
      ],
      "text/plain": [
       "   Age  DistanceFromHome  Education  EnvironmentSatisfaction  JobInvolvement   \n",
       "0   30                 1          1                        4               2  \\\n",
       "1   38                 2          2                        4               2   \n",
       "2   26                 6          3                        3               2   \n",
       "3   28                 8          2                        4               3   \n",
       "4   35                 4          2                        3               3   \n",
       "\n",
       "   JobLevel  JobSatisfaction  MonthlyIncome  NumCompaniesWorked   \n",
       "0         2                4           5126                   1  \\\n",
       "1         3                3           7756                   3   \n",
       "2         1                2           2368                   1   \n",
       "3         1                4           3310                   1   \n",
       "4         1                4           1951                   1   \n",
       "\n",
       "   PercentSalaryHike  ...  JobRole_Manufacturing Director   \n",
       "0                 12  ...                               0  \\\n",
       "1                 19  ...                               1   \n",
       "2                 19  ...                               0   \n",
       "3                 21  ...                               0   \n",
       "4                 12  ...                               0   \n",
       "\n",
       "   JobRole_Research Director  JobRole_Research Scientist   \n",
       "0                          0                           0  \\\n",
       "1                          0                           0   \n",
       "2                          0                           1   \n",
       "3                          0                           1   \n",
       "4                          0                           0   \n",
       "\n",
       "   JobRole_Sales Executive  JobRole_Sales Representative   \n",
       "0                        0                             0  \\\n",
       "1                        0                             0   \n",
       "2                        0                             0   \n",
       "3                        0                             0   \n",
       "4                        0                             0   \n",
       "\n",
       "   MaritalStatus_Divorced  MaritalStatus_Married  MaritalStatus_Single   \n",
       "0                       0                      1                     0  \\\n",
       "1                       0                      1                     0   \n",
       "2                       0                      1                     0   \n",
       "3                       0                      0                     1   \n",
       "4                       1                      0                     0   \n",
       "\n",
       "   OverTime_No  OverTime_Yes  \n",
       "0            0             1  \n",
       "1            0             1  \n",
       "2            1             0  \n",
       "3            1             0  \n",
       "4            1             0  \n",
       "\n",
       "[5 rows x 47 columns]"
      ]
     },
     "execution_count": 114,
     "metadata": {},
     "output_type": "execute_result"
    }
   ],
   "source": [
    "ATTMod = pd.read_csv('Dane/ATTMod.csv')\n",
    "ATTMod.head()"
   ]
  },
  {
   "cell_type": "code",
   "execution_count": 115,
   "id": "dbb27662",
   "metadata": {},
   "outputs": [],
   "source": [
    "train_data = ATTMod.drop('Attrition', axis=1)\n",
    "train_labels = ATTMod[['Attrition']]"
   ]
  },
  {
   "cell_type": "code",
   "execution_count": 116,
   "id": "9a8cd800",
   "metadata": {},
   "outputs": [],
   "source": [
    "Xsn = train_data\n",
    "ysn = train_labels"
   ]
  },
  {
   "cell_type": "code",
   "execution_count": 117,
   "id": "4c0ce083",
   "metadata": {},
   "outputs": [],
   "source": [
    "Xsn_train, Xsn_test, ysn_train, ysn_test = train_test_split(Xsn, ysn, test_size=0.2, stratify=ysn, random_state=42)"
   ]
  },
  {
   "cell_type": "code",
   "execution_count": 118,
   "id": "387399b8",
   "metadata": {},
   "outputs": [
    {
     "name": "stdout",
     "output_type": "stream",
     "text": [
      "Epoch 1/10\n",
      "240/240 [==============================] - 2s 3ms/step - loss: 14.8792 - accuracy: 0.5148\n",
      "Epoch 2/10\n",
      "240/240 [==============================] - 1s 2ms/step - loss: 3.7805 - accuracy: 0.5031\n",
      "Epoch 3/10\n",
      "240/240 [==============================] - 1s 2ms/step - loss: 3.2955 - accuracy: 0.5123\n",
      "Epoch 4/10\n",
      "240/240 [==============================] - 1s 2ms/step - loss: 2.7695 - accuracy: 0.5094\n",
      "Epoch 5/10\n",
      "240/240 [==============================] - 1s 3ms/step - loss: 4.1860 - accuracy: 0.4998\n",
      "Epoch 6/10\n",
      "240/240 [==============================] - 1s 2ms/step - loss: 4.9117 - accuracy: 0.5081\n",
      "Epoch 7/10\n",
      "240/240 [==============================] - 1s 2ms/step - loss: 2.5612 - accuracy: 0.5244\n",
      "Epoch 8/10\n",
      "240/240 [==============================] - 1s 2ms/step - loss: 3.3978 - accuracy: 0.5131\n",
      "Epoch 9/10\n",
      "240/240 [==============================] - 1s 2ms/step - loss: 2.7485 - accuracy: 0.5461\n",
      "Epoch 10/10\n",
      "240/240 [==============================] - 1s 2ms/step - loss: 2.2249 - accuracy: 0.5056\n"
     ]
    },
    {
     "data": {
      "text/plain": [
       "<keras.src.callbacks.History at 0x2010c217650>"
      ]
     },
     "execution_count": 118,
     "metadata": {},
     "output_type": "execute_result"
    }
   ],
   "source": [
    "model.fit(Xsn_train, ysn_train, epochs=10, batch_size=10 )"
   ]
  },
  {
   "cell_type": "code",
   "execution_count": 119,
   "id": "528ca68e",
   "metadata": {},
   "outputs": [
    {
     "name": "stdout",
     "output_type": "stream",
     "text": [
      "19/19 [==============================] - 0s 2ms/step\n"
     ]
    },
    {
     "data": {
      "text/plain": [
       "array([[3.48633349e-01],\n",
       "       [8.18684325e-02],\n",
       "       [3.95278573e-01],\n",
       "       [3.80823500e-02],\n",
       "       [6.91562891e-02],\n",
       "       [2.40652300e-02],\n",
       "       [2.20798533e-02],\n",
       "       [1.86623961e-01],\n",
       "       [4.03610431e-02],\n",
       "       [1.87701076e-01],\n",
       "       [1.72232911e-02],\n",
       "       [3.26763332e-01],\n",
       "       [2.73163974e-01],\n",
       "       [2.40652300e-02],\n",
       "       [5.11749327e-01],\n",
       "       [7.18925893e-02],\n",
       "       [1.41424499e-03],\n",
       "       [1.69953212e-01],\n",
       "       [2.04050794e-01],\n",
       "       [5.78021333e-02],\n",
       "       [5.53349137e-01],\n",
       "       [3.29140991e-01],\n",
       "       [2.03471277e-02],\n",
       "       [3.07304740e-01],\n",
       "       [1.05148196e-01],\n",
       "       [8.18684325e-02],\n",
       "       [4.04094338e-01],\n",
       "       [9.81449410e-02],\n",
       "       [3.11415732e-01],\n",
       "       [2.86420554e-01],\n",
       "       [2.52298010e-03],\n",
       "       [1.54627394e-02],\n",
       "       [3.77484690e-03],\n",
       "       [4.20624107e-01],\n",
       "       [9.18450803e-02],\n",
       "       [2.38795832e-01],\n",
       "       [1.69923067e-01],\n",
       "       [4.68823284e-01],\n",
       "       [2.60744005e-01],\n",
       "       [1.37576997e-01],\n",
       "       [6.77672684e-01],\n",
       "       [5.20126857e-02],\n",
       "       [1.17642745e-01],\n",
       "       [2.63086390e-02],\n",
       "       [3.50590169e-01],\n",
       "       [2.39465404e-02],\n",
       "       [1.58321902e-01],\n",
       "       [1.90748228e-03],\n",
       "       [1.97038826e-04],\n",
       "       [3.23669285e-01],\n",
       "       [1.08384311e-01],\n",
       "       [5.14673173e-01],\n",
       "       [1.11919753e-01],\n",
       "       [8.48245323e-02],\n",
       "       [6.42051846e-02],\n",
       "       [5.80836926e-03],\n",
       "       [3.93591076e-01],\n",
       "       [1.96095347e-01],\n",
       "       [3.99821132e-01],\n",
       "       [3.00525278e-02],\n",
       "       [2.76118577e-01],\n",
       "       [4.26786631e-01],\n",
       "       [1.09712623e-01],\n",
       "       [7.27454185e-01],\n",
       "       [1.22475706e-03],\n",
       "       [3.68024439e-01],\n",
       "       [2.80061066e-02],\n",
       "       [3.24277520e-01],\n",
       "       [2.07979262e-01],\n",
       "       [1.55409854e-02],\n",
       "       [3.78253073e-01],\n",
       "       [7.67007709e-01],\n",
       "       [2.35857204e-01],\n",
       "       [3.21218558e-02],\n",
       "       [3.78012657e-01],\n",
       "       [6.15672283e-02],\n",
       "       [1.67415500e-01],\n",
       "       [1.76023543e-01],\n",
       "       [1.58285305e-01],\n",
       "       [3.74556869e-01],\n",
       "       [3.45673114e-01],\n",
       "       [4.09975737e-01],\n",
       "       [1.83375508e-01],\n",
       "       [5.18655121e-01],\n",
       "       [2.85986508e-03],\n",
       "       [5.85507974e-03],\n",
       "       [1.98177114e-01],\n",
       "       [9.60404170e-04],\n",
       "       [5.32955408e-01],\n",
       "       [1.26081600e-03],\n",
       "       [3.45697254e-01],\n",
       "       [3.05874169e-01],\n",
       "       [5.80759287e-01],\n",
       "       [1.81636214e-01],\n",
       "       [8.03750008e-04],\n",
       "       [1.56102376e-02],\n",
       "       [6.54751897e-01],\n",
       "       [2.16830760e-01],\n",
       "       [4.37300026e-01],\n",
       "       [1.68948188e-01],\n",
       "       [7.51091689e-02],\n",
       "       [3.76370937e-01],\n",
       "       [4.02746588e-01],\n",
       "       [1.34400189e-01],\n",
       "       [3.18546742e-01],\n",
       "       [5.18845558e-01],\n",
       "       [9.09328163e-02],\n",
       "       [2.33407132e-02],\n",
       "       [1.71486974e-01],\n",
       "       [1.97151750e-02],\n",
       "       [1.64912388e-01],\n",
       "       [2.31122375e-02],\n",
       "       [1.71486974e-01],\n",
       "       [3.45328063e-01],\n",
       "       [8.73113126e-02],\n",
       "       [1.51517969e-02],\n",
       "       [7.00595915e-01],\n",
       "       [1.54302840e-03],\n",
       "       [1.19184658e-01],\n",
       "       [3.49999815e-01],\n",
       "       [4.03154075e-01],\n",
       "       [3.18546742e-01],\n",
       "       [5.19919634e-01],\n",
       "       [2.74650991e-01],\n",
       "       [2.30807573e-01],\n",
       "       [5.02870858e-01],\n",
       "       [5.45601286e-02],\n",
       "       [1.86542235e-03],\n",
       "       [2.11861327e-01],\n",
       "       [3.31762061e-02],\n",
       "       [1.92341581e-01],\n",
       "       [8.18684325e-02],\n",
       "       [1.10535033e-01],\n",
       "       [3.08888823e-01],\n",
       "       [1.73718378e-01],\n",
       "       [7.65419662e-01],\n",
       "       [1.39097542e-01],\n",
       "       [3.12437098e-02],\n",
       "       [1.62875831e-01],\n",
       "       [5.11749327e-01],\n",
       "       [4.18635122e-02],\n",
       "       [2.74122357e-01],\n",
       "       [1.62726089e-01],\n",
       "       [2.31295556e-01],\n",
       "       [4.69731539e-01],\n",
       "       [1.20004013e-01],\n",
       "       [5.17855108e-01],\n",
       "       [2.58029640e-01],\n",
       "       [7.67017305e-02],\n",
       "       [3.83787781e-01],\n",
       "       [2.87750930e-01],\n",
       "       [1.65872842e-01],\n",
       "       [3.67568173e-02],\n",
       "       [5.78021333e-02],\n",
       "       [3.74556869e-01],\n",
       "       [2.51173595e-04],\n",
       "       [2.44680375e-01],\n",
       "       [1.41503392e-02],\n",
       "       [2.25639739e-03],\n",
       "       [2.96766567e-03],\n",
       "       [2.72431433e-01],\n",
       "       [2.25754660e-02],\n",
       "       [9.79236588e-02],\n",
       "       [1.47460386e-01],\n",
       "       [2.61061788e-01],\n",
       "       [7.99756706e-01],\n",
       "       [3.79216932e-02],\n",
       "       [1.60225537e-02],\n",
       "       [6.06082089e-04],\n",
       "       [5.46729088e-01],\n",
       "       [2.74369270e-02],\n",
       "       [6.12032525e-02],\n",
       "       [4.80671406e-01],\n",
       "       [1.14002463e-03],\n",
       "       [8.73113126e-02],\n",
       "       [3.77484690e-03],\n",
       "       [3.51403534e-01],\n",
       "       [1.09000050e-03],\n",
       "       [6.00911537e-03],\n",
       "       [7.73548556e-04],\n",
       "       [2.43652016e-02],\n",
       "       [5.93670368e-01],\n",
       "       [1.35712087e-01],\n",
       "       [2.11214885e-01],\n",
       "       [1.75875306e-01],\n",
       "       [5.48823118e-01],\n",
       "       [2.02898353e-01],\n",
       "       [5.32955408e-01],\n",
       "       [5.26194051e-02],\n",
       "       [2.70921826e-01],\n",
       "       [3.68003160e-01],\n",
       "       [1.80011123e-01],\n",
       "       [7.92889223e-02],\n",
       "       [6.09302819e-02],\n",
       "       [5.95540041e-03],\n",
       "       [4.62346345e-01],\n",
       "       [5.27473427e-02],\n",
       "       [5.14673173e-01],\n",
       "       [7.12580979e-03],\n",
       "       [2.72123069e-01],\n",
       "       [2.03619912e-01],\n",
       "       [5.62989771e-01],\n",
       "       [1.44059643e-01],\n",
       "       [9.94611997e-03],\n",
       "       [3.72617871e-01],\n",
       "       [1.43668726e-01],\n",
       "       [2.64253318e-01],\n",
       "       [1.34400189e-01],\n",
       "       [2.15383217e-01],\n",
       "       [6.67254180e-02],\n",
       "       [4.66454774e-03],\n",
       "       [1.48688450e-01],\n",
       "       [3.26763332e-01],\n",
       "       [1.08384311e-01],\n",
       "       [4.30457331e-02],\n",
       "       [2.66833268e-02],\n",
       "       [1.96340829e-01],\n",
       "       [1.42923752e-02],\n",
       "       [2.23876685e-01],\n",
       "       [6.33161888e-02],\n",
       "       [2.66991675e-01],\n",
       "       [5.96964121e-01],\n",
       "       [2.44640578e-02],\n",
       "       [2.34769925e-01],\n",
       "       [5.42064547e-04],\n",
       "       [5.07196307e-01],\n",
       "       [1.92152008e-01],\n",
       "       [2.44320314e-02],\n",
       "       [3.79439667e-02],\n",
       "       [2.79099010e-02],\n",
       "       [4.31163460e-01],\n",
       "       [9.88022424e-03],\n",
       "       [2.06720307e-01],\n",
       "       [2.86408067e-01],\n",
       "       [9.31463838e-02],\n",
       "       [4.87293042e-02],\n",
       "       [9.48198289e-02],\n",
       "       [5.96964121e-01],\n",
       "       [2.36097560e-03],\n",
       "       [2.72123069e-01],\n",
       "       [8.63867924e-02],\n",
       "       [2.84344912e-01],\n",
       "       [1.50177911e-01],\n",
       "       [1.85923371e-02],\n",
       "       [1.03664534e-04],\n",
       "       [3.35298449e-01],\n",
       "       [6.42051846e-02],\n",
       "       [3.27223361e-01],\n",
       "       [2.31786966e-01],\n",
       "       [2.16724545e-01],\n",
       "       [2.65912026e-01],\n",
       "       [3.29481363e-01],\n",
       "       [3.48661065e-01],\n",
       "       [6.86316490e-02],\n",
       "       [1.46554103e-02],\n",
       "       [1.78579928e-03],\n",
       "       [6.82270080e-02],\n",
       "       [2.03619912e-01],\n",
       "       [1.35873243e-01],\n",
       "       [5.66507936e-01],\n",
       "       [1.72935665e-01],\n",
       "       [2.44320314e-02],\n",
       "       [4.77027856e-02],\n",
       "       [1.55451909e-01],\n",
       "       [6.64232357e-04],\n",
       "       [2.51913875e-01],\n",
       "       [4.09178697e-02],\n",
       "       [2.25732729e-01],\n",
       "       [1.38962358e-01],\n",
       "       [5.46729088e-01],\n",
       "       [9.39174220e-02],\n",
       "       [3.55839938e-01],\n",
       "       [1.49817986e-03],\n",
       "       [9.09671595e-04],\n",
       "       [5.46972454e-02],\n",
       "       [9.99964541e-04],\n",
       "       [1.50972474e-02],\n",
       "       [1.37707382e-01],\n",
       "       [4.94724896e-04],\n",
       "       [2.55647242e-01],\n",
       "       [1.10574044e-01],\n",
       "       [5.21497875e-02],\n",
       "       [2.72089809e-01],\n",
       "       [7.35054538e-02],\n",
       "       [1.21052124e-01],\n",
       "       [2.55647242e-01],\n",
       "       [2.41401613e-01],\n",
       "       [2.68787235e-01],\n",
       "       [3.13664764e-01],\n",
       "       [4.30377142e-04],\n",
       "       [3.80064151e-03],\n",
       "       [1.62875831e-01],\n",
       "       [1.85923371e-02],\n",
       "       [8.29242694e-04],\n",
       "       [1.33518621e-01],\n",
       "       [2.96230661e-04],\n",
       "       [6.85701549e-01],\n",
       "       [3.26139271e-01],\n",
       "       [4.16012734e-01],\n",
       "       [2.86420554e-01],\n",
       "       [2.24597869e-03],\n",
       "       [5.13996975e-03],\n",
       "       [5.05960524e-01],\n",
       "       [1.20627411e-01],\n",
       "       [2.03276705e-02],\n",
       "       [2.43870658e-03],\n",
       "       [6.51912987e-02],\n",
       "       [5.60088865e-02],\n",
       "       [1.19172847e-02],\n",
       "       [8.38408060e-03],\n",
       "       [6.12032525e-02],\n",
       "       [3.80488299e-02],\n",
       "       [2.30807573e-01],\n",
       "       [2.87907302e-01],\n",
       "       [2.35857204e-01],\n",
       "       [2.58029640e-01],\n",
       "       [5.22904932e-01],\n",
       "       [2.66474485e-03],\n",
       "       [1.50622472e-01],\n",
       "       [2.36198395e-01],\n",
       "       [2.44680375e-01],\n",
       "       [1.85003430e-01],\n",
       "       [2.90353317e-03],\n",
       "       [1.28365591e-01],\n",
       "       [1.78558182e-03],\n",
       "       [2.94613063e-01],\n",
       "       [3.58577892e-02],\n",
       "       [1.43543375e-03],\n",
       "       [2.11336926e-01],\n",
       "       [2.63035804e-01],\n",
       "       [9.08571631e-02],\n",
       "       [3.26139271e-01],\n",
       "       [8.24298859e-02],\n",
       "       [1.53661430e-01],\n",
       "       [2.74650991e-01],\n",
       "       [5.69528295e-03],\n",
       "       [9.03392062e-02],\n",
       "       [2.88834184e-01],\n",
       "       [4.33136791e-01],\n",
       "       [9.60315689e-02],\n",
       "       [9.99964541e-04],\n",
       "       [1.31403983e-01],\n",
       "       [2.02484071e-01],\n",
       "       [1.44745857e-01],\n",
       "       [2.45097995e-01],\n",
       "       [3.41996461e-01],\n",
       "       [5.63027322e-01],\n",
       "       [1.81169465e-01],\n",
       "       [6.67254180e-02],\n",
       "       [1.19553566e-01],\n",
       "       [5.93707144e-01],\n",
       "       [4.52568412e-01],\n",
       "       [1.03677194e-04],\n",
       "       [8.68987944e-03],\n",
       "       [1.75802037e-02],\n",
       "       [5.90154111e-01],\n",
       "       [3.01659614e-01],\n",
       "       [2.60744005e-01],\n",
       "       [4.60461706e-01],\n",
       "       [4.56950888e-02],\n",
       "       [2.44320314e-02],\n",
       "       [3.81408900e-01],\n",
       "       [2.52518207e-01],\n",
       "       [5.13996975e-03],\n",
       "       [1.25692174e-01],\n",
       "       [2.05133423e-01],\n",
       "       [2.86420554e-01],\n",
       "       [8.29855502e-02],\n",
       "       [1.54931769e-01],\n",
       "       [6.28858328e-01],\n",
       "       [6.53298378e-01],\n",
       "       [5.37783615e-02],\n",
       "       [3.33390832e-02],\n",
       "       [5.86157257e-04],\n",
       "       [4.43489671e-01],\n",
       "       [6.23626173e-01],\n",
       "       [7.29646883e-04],\n",
       "       [1.43668726e-01],\n",
       "       [1.96381763e-01],\n",
       "       [1.10574044e-01],\n",
       "       [1.43424839e-01],\n",
       "       [1.70375526e-01],\n",
       "       [2.46078102e-03],\n",
       "       [4.74869341e-01],\n",
       "       [5.83238574e-03],\n",
       "       [3.87192726e-01],\n",
       "       [3.12437098e-02],\n",
       "       [1.53590024e-01],\n",
       "       [2.05304250e-02],\n",
       "       [2.92196870e-03],\n",
       "       [4.10008937e-01],\n",
       "       [1.37003185e-02],\n",
       "       [2.22722813e-01],\n",
       "       [2.51040697e-01],\n",
       "       [4.15219665e-01],\n",
       "       [1.29493162e-01],\n",
       "       [1.42484976e-04],\n",
       "       [4.12088633e-01],\n",
       "       [8.09101388e-02],\n",
       "       [1.78120255e-01],\n",
       "       [9.68687609e-03],\n",
       "       [3.62569183e-01],\n",
       "       [7.81013966e-01],\n",
       "       [1.17045350e-01],\n",
       "       [8.52471739e-02],\n",
       "       [5.36406762e-04],\n",
       "       [5.39955974e-01],\n",
       "       [3.31892729e-01],\n",
       "       [2.00676590e-01],\n",
       "       [1.44059643e-01],\n",
       "       [2.92546630e-01],\n",
       "       [8.37900676e-03],\n",
       "       [2.43535992e-02],\n",
       "       [5.77311397e-01],\n",
       "       [5.81052721e-01],\n",
       "       [1.17649078e-01],\n",
       "       [1.89100951e-01],\n",
       "       [3.48758101e-01],\n",
       "       [2.34852195e-01],\n",
       "       [3.78253073e-01],\n",
       "       [4.24199879e-01],\n",
       "       [4.62346345e-01],\n",
       "       [2.04073086e-01],\n",
       "       [3.50590169e-01],\n",
       "       [1.60727769e-01],\n",
       "       [3.55839938e-01],\n",
       "       [2.94752186e-04],\n",
       "       [3.31940114e-01],\n",
       "       [4.37365059e-04],\n",
       "       [1.69385687e-01],\n",
       "       [7.62856603e-01],\n",
       "       [2.68103987e-01],\n",
       "       [8.24105203e-01],\n",
       "       [2.33789966e-01],\n",
       "       [2.95671057e-02],\n",
       "       [4.15840894e-02],\n",
       "       [3.45328063e-01],\n",
       "       [7.68683106e-02],\n",
       "       [1.21876031e-01],\n",
       "       [3.57093036e-01],\n",
       "       [9.43147298e-03],\n",
       "       [3.77484690e-03],\n",
       "       [3.12332600e-01],\n",
       "       [3.72617871e-01],\n",
       "       [8.59936874e-04],\n",
       "       [6.47195266e-04],\n",
       "       [2.85969069e-03],\n",
       "       [8.63819793e-02],\n",
       "       [1.75401885e-02],\n",
       "       [1.28128342e-02],\n",
       "       [2.92067397e-02],\n",
       "       [4.40627187e-02],\n",
       "       [6.71753213e-02],\n",
       "       [1.74577953e-03],\n",
       "       [2.03580320e-01],\n",
       "       [8.56956393e-02],\n",
       "       [1.66566476e-01],\n",
       "       [8.84364843e-02],\n",
       "       [3.68024439e-01],\n",
       "       [1.73797235e-01],\n",
       "       [3.26025277e-01],\n",
       "       [5.55115286e-04],\n",
       "       [9.48355421e-02],\n",
       "       [5.63027322e-01],\n",
       "       [7.40801590e-03],\n",
       "       [4.08190489e-01],\n",
       "       [2.58573383e-01],\n",
       "       [8.09101388e-02],\n",
       "       [2.52267323e-03],\n",
       "       [5.55738866e-01],\n",
       "       [2.83051878e-01],\n",
       "       [5.93400858e-02],\n",
       "       [5.18189147e-02],\n",
       "       [2.43750989e-01],\n",
       "       [1.50972474e-02],\n",
       "       [9.43147298e-03],\n",
       "       [4.60655063e-01],\n",
       "       [2.03619912e-01],\n",
       "       [2.29941845e-01],\n",
       "       [1.21637799e-01],\n",
       "       [1.34324189e-02],\n",
       "       [3.44607443e-01],\n",
       "       [1.37003185e-02],\n",
       "       [2.29715882e-03],\n",
       "       [9.08571631e-02],\n",
       "       [5.63027322e-01],\n",
       "       [1.36757120e-01],\n",
       "       [3.90273915e-03],\n",
       "       [3.51403534e-01],\n",
       "       [2.05133423e-01],\n",
       "       [2.63853595e-02],\n",
       "       [3.47359270e-01],\n",
       "       [2.94613063e-01],\n",
       "       [1.71395943e-01],\n",
       "       [6.23626173e-01],\n",
       "       [1.89543571e-02],\n",
       "       [2.91411042e-01],\n",
       "       [8.87395591e-02],\n",
       "       [2.09999770e-01],\n",
       "       [2.96230661e-04],\n",
       "       [3.16704631e-01],\n",
       "       [3.82900417e-01],\n",
       "       [1.51056349e-01],\n",
       "       [9.27426387e-03],\n",
       "       [2.35225290e-01],\n",
       "       [6.06827997e-02],\n",
       "       [4.14734473e-03],\n",
       "       [1.82567816e-02],\n",
       "       [5.55115286e-04],\n",
       "       [7.39415348e-01],\n",
       "       [3.44604015e-01],\n",
       "       [8.21901485e-02],\n",
       "       [3.55614461e-02],\n",
       "       [4.49036241e-01],\n",
       "       [1.48615062e-01],\n",
       "       [1.01476554e-02],\n",
       "       [2.19945818e-01],\n",
       "       [7.48298094e-02],\n",
       "       [2.08472341e-01],\n",
       "       [4.01880711e-01],\n",
       "       [2.09423184e-01],\n",
       "       [4.13826555e-02],\n",
       "       [2.06355229e-01],\n",
       "       [1.31355226e-01],\n",
       "       [2.74043441e-01],\n",
       "       [1.57834515e-01],\n",
       "       [3.74778509e-01],\n",
       "       [4.08905745e-01],\n",
       "       [6.43275321e-01],\n",
       "       [1.75401885e-02],\n",
       "       [5.15698433e-01],\n",
       "       [2.95549423e-01],\n",
       "       [2.45895013e-01],\n",
       "       [1.00145526e-01],\n",
       "       [5.71862221e-01],\n",
       "       [6.44623712e-02],\n",
       "       [1.70315132e-01],\n",
       "       [2.16908706e-03],\n",
       "       [7.97805935e-03],\n",
       "       [4.24533486e-01],\n",
       "       [7.41816685e-02],\n",
       "       [2.91341413e-02],\n",
       "       [1.13530727e-02],\n",
       "       [1.31801575e-01],\n",
       "       [7.90642053e-02],\n",
       "       [4.01755989e-01],\n",
       "       [1.28365591e-01],\n",
       "       [5.67475818e-02],\n",
       "       [8.79992638e-03],\n",
       "       [4.11556549e-02],\n",
       "       [4.64744389e-01],\n",
       "       [1.10592060e-01],\n",
       "       [7.51091689e-02],\n",
       "       [1.63549967e-02],\n",
       "       [7.93580115e-02],\n",
       "       [9.40187499e-02],\n",
       "       [4.08905745e-01],\n",
       "       [3.76148909e-01],\n",
       "       [1.92152008e-01],\n",
       "       [1.71395943e-01],\n",
       "       [1.13752671e-01],\n",
       "       [4.76073427e-03],\n",
       "       [3.53353560e-01],\n",
       "       [5.85507974e-03],\n",
       "       [1.62711531e-01],\n",
       "       [2.04715759e-01],\n",
       "       [1.93129778e-01],\n",
       "       [1.08263463e-01],\n",
       "       [6.77493662e-02],\n",
       "       [1.04661055e-01],\n",
       "       [2.07130998e-01],\n",
       "       [3.39062549e-02],\n",
       "       [1.87948623e-04],\n",
       "       [6.73205650e-04],\n",
       "       [3.12765360e-01],\n",
       "       [2.92546630e-01],\n",
       "       [2.02390477e-01],\n",
       "       [6.00051343e-01],\n",
       "       [4.25668284e-02],\n",
       "       [1.75802037e-02],\n",
       "       [8.24105203e-01],\n",
       "       [1.28498822e-01],\n",
       "       [2.86408067e-01],\n",
       "       [1.01476554e-02],\n",
       "       [3.23963284e-01],\n",
       "       [3.43591541e-01],\n",
       "       [3.07796914e-02],\n",
       "       [2.29715882e-03],\n",
       "       [2.26849452e-01],\n",
       "       [9.31463838e-02],\n",
       "       [2.94651121e-01],\n",
       "       [1.53978327e-02],\n",
       "       [3.46574455e-01],\n",
       "       [1.24759480e-01],\n",
       "       [5.30355237e-03],\n",
       "       [5.22751324e-02],\n",
       "       [3.51977587e-01],\n",
       "       [3.12804759e-01],\n",
       "       [1.63618717e-02],\n",
       "       [6.94318339e-02]], dtype=float32)"
      ]
     },
     "execution_count": 119,
     "metadata": {},
     "output_type": "execute_result"
    }
   ],
   "source": [
    "pred_sn = model.predict(Xsn_test)\n",
    "pred_sn\n"
   ]
  },
  {
   "cell_type": "code",
   "execution_count": 120,
   "id": "97cccc40",
   "metadata": {},
   "outputs": [],
   "source": [
    "from sklearn.metrics import mean_squared_error"
   ]
  },
  {
   "cell_type": "code",
   "execution_count": 121,
   "id": "765c1b64",
   "metadata": {},
   "outputs": [
    {
     "name": "stdout",
     "output_type": "stream",
     "text": [
      "Attrition    0.336136\n",
      "dtype: float64\n"
     ]
    }
   ],
   "source": [
    "# W przypadku oceny jakości sieci neuronowej gęsto połączonej warto zwrócić uwage na miarę straty, która określa jak dobrze \n",
    "# model radzi sobie z przewidywaniem wyników dla danych treningowych i testowych. Im mniejsza jej wartość, tym lepszy model.\n",
    "\n",
    "# When assessing the quality of a dencely connected neural network, it is worth paying attention to the loss measure, which \n",
    "# determines how the model is good at predicting results for training and testing data. The lower its value, \n",
    "# the better the model.\n",
    "\n",
    "def mean_squared_error(act, pred_sn):\n",
    "    diff = pred_sn - act\n",
    "    differences_squared = diff ** 2\n",
    "    mean_diff = differences_squared.mean()\n",
    "    return mean_diff\n",
    "\n",
    "act = ysn_test\n",
    "pred_sn \n",
    "print(mean_squared_error(act, pred_sn))"
   ]
  },
  {
   "cell_type": "markdown",
   "id": "440bdb40",
   "metadata": {},
   "source": []
  },
  {
   "cell_type": "markdown",
   "id": "4a1d3188",
   "metadata": {},
   "source": [
    "                                     Sieć neuronowa rekurencyjna / konwolucyjna\n",
    "                                     \n",
    "                                     Recurrent / Convolutional neural network"
   ]
  },
  {
   "cell_type": "markdown",
   "id": "ac104f5c",
   "metadata": {},
   "source": []
  },
  {
   "cell_type": "markdown",
   "id": "7030275c",
   "metadata": {},
   "source": [
    "  Sieci neuronowe rekurencyjne (RNN) są przeznaczone do pracy z danymi sekwencyjnymi. W przciwieństwie do standardowych sieci typu MLP mają pamięć wewnętrzną, która pozwala im na przetwarzanie sekwencji danych o zmiennej długości. Każda wartswa ma swoją własną pamięć, która jest przekazywana do kolejnej iteracji. W ten sposób sieć może pamiętać informacje z poprzednich kroków i wykorzystać je w przyszłości. Najpopularniejsze trzy typy RNN to: RNN prosta, LSTM i GRU.\n",
    "  \n",
    "  Sieci neuronowe konwolucyjne (CNN) składają się z warstw konwolucyjnych, warstw łączących i warstw gęsto połączonych. Są stosowane m.in. w takich obszarach jak rozpoznawanie twarzy, mowy, analiza tekstu czy diagnostyka medyczna. Są szczególnie skuteczne w zadaniach związanym z przetwarzaniem obrazów.\n",
    "  \n",
    "  Zarówno RNN jak i CNN nie są wykorzystywane w przypadku danych \"płaskich\", reprezentujących cechy liczbowe pojedynczych obserwacji, więc ich implementcja w niniejszym projekcie nie ma większego sensu. Szczególnie RNN wymagają sekwencji czasowych danych, a tych w zbiorze ATTMod - brak."
   ]
  },
  {
   "cell_type": "markdown",
   "id": "81936261",
   "metadata": {},
   "source": [
    "  Recurrent neural networks (RNN) are designed to work with sequential data. Unlike standard MLP networks, they have internal memory that allows them to process variable-length data sequences. Each layer has its own memory, which is passed on to the next iteration. This way, the network can remember information from previous steps and use it in the future. The three most popular types of RNN are: simple RNN, LSTM and GRU.\n",
    "  \n",
    "  Convolutional neural networks (CNNs) consist of convolutional layers, pooling layers and densely connected layers. They are used, among others, in areas such as face and speech recognition, text analysis and medical diagnostics. They are particularly effective in image processing tasks.\n",
    "  \n",
    "  Both RNN and CNN are not used for \"flat\" data, representing the numerical features of single observations, so their implementation in this project does not make much sense. RNNs in particular require time sequences of data, and those in the ATTMod set are missing. \n",
    "  "
   ]
  },
  {
   "cell_type": "markdown",
   "id": "915ad62d",
   "metadata": {},
   "source": []
  },
  {
   "cell_type": "markdown",
   "id": "8b95d814",
   "metadata": {},
   "source": [
    "                                                  PODSUMOWANIE\n",
    "                                                  \n",
    "                                                    Summary"
   ]
  },
  {
   "cell_type": "markdown",
   "id": "befda94d",
   "metadata": {},
   "source": []
  },
  {
   "cell_type": "code",
   "execution_count": 122,
   "id": "340e0bed",
   "metadata": {},
   "outputs": [
    {
     "data": {
      "text/plain": [
       "(0.5186666666666667,\n",
       " 0.5109842230783342,\n",
       " 0.5102606944712208,\n",
       " 0.5053629074247631)"
      ]
     },
     "execution_count": 122,
     "metadata": {},
     "output_type": "execute_result"
    }
   ],
   "source": [
    "data1 = LogMetrics1\n",
    "data1 = data1[:-2]\n",
    "data1Name = \"Regresja logistyczna\"\n",
    "data1"
   ]
  },
  {
   "cell_type": "code",
   "execution_count": 123,
   "id": "610aea1f",
   "metadata": {},
   "outputs": [
    {
     "data": {
      "text/plain": [
       "(0.51, 0.506800390839969, 0.5067548723211994, 0.5065734265734265)"
      ]
     },
     "execution_count": 123,
     "metadata": {},
     "output_type": "execute_result"
    }
   ],
   "source": [
    "data2 = GNBMetricsBayes1\n",
    "data2 = data2[:-2]\n",
    "data2Name = \"Bayes-Gaussian\"\n",
    "data2"
   ]
  },
  {
   "cell_type": "code",
   "execution_count": 124,
   "id": "b51192da",
   "metadata": {},
   "outputs": [
    {
     "data": {
      "text/plain": [
       "(0.5883333333333334,\n",
       " 0.5855287063953488,\n",
       " 0.5840259262151519,\n",
       " 0.5837441121700075)"
      ]
     },
     "execution_count": 124,
     "metadata": {},
     "output_type": "execute_result"
    }
   ],
   "source": [
    "data3 = MNBMetricsBayes1\n",
    "data3 = data3[:-2]\n",
    "data3Name = \"Bayes-Multinomial\"\n",
    "data3"
   ]
  },
  {
   "cell_type": "code",
   "execution_count": 125,
   "id": "5e7d514d",
   "metadata": {},
   "outputs": [
    {
     "data": {
      "text/plain": [
       "(0.5383333333333333,\n",
       " 0.5350378787878788,\n",
       " 0.5346724082151741,\n",
       " 0.5344211779536383)"
      ]
     },
     "execution_count": 125,
     "metadata": {},
     "output_type": "execute_result"
    }
   ],
   "source": [
    "data4 = KNNMetrics1\n",
    "data4 = data4[:-2]\n",
    "data4Name = \"KNN\"\n",
    "data4"
   ]
  },
  {
   "cell_type": "code",
   "execution_count": 126,
   "id": "3e831d8b",
   "metadata": {},
   "outputs": [
    {
     "data": {
      "text/plain": [
       "(0.5583333333333333,\n",
       " 0.5538697882281245,\n",
       " 0.5473343076116423,\n",
       " 0.5382940108892922)"
      ]
     },
     "execution_count": 126,
     "metadata": {},
     "output_type": "execute_result"
    }
   ],
   "source": [
    "data5 = SVMMetrics1\n",
    "data5 = data5[:-2]\n",
    "data5Name = \"SVM\"\n",
    "data5"
   ]
  },
  {
   "cell_type": "code",
   "execution_count": 127,
   "id": "10dec20d",
   "metadata": {},
   "outputs": [
    {
     "data": {
      "text/plain": [
       "(0.818523153942428, 0.8251271977611454, 0.8133453952611724, 0.8152718981448263)"
      ]
     },
     "execution_count": 127,
     "metadata": {},
     "output_type": "execute_result"
    }
   ],
   "source": [
    "data6 = DDMetrics1\n",
    "data6 = data6[:-2]\n",
    "data6Name = \"Drzewo Decyzyjne\"\n",
    "data6"
   ]
  },
  {
   "cell_type": "code",
   "execution_count": 128,
   "id": "fafb8278",
   "metadata": {},
   "outputs": [
    {
     "data": {
      "text/plain": [
       "(0.5316666666666666, 0.2658333333333333, 0.5, 0.3471164309031556)"
      ]
     },
     "execution_count": 128,
     "metadata": {},
     "output_type": "execute_result"
    }
   ],
   "source": [
    "data7 = BAGMetrics1\n",
    "data7 = data7[:-2]\n",
    "data7Name = \"Bagging\"\n",
    "data7"
   ]
  },
  {
   "cell_type": "code",
   "execution_count": 129,
   "id": "c8a86c39",
   "metadata": {},
   "outputs": [
    {
     "data": {
      "text/plain": [
       "(0.5383333333333333,\n",
       " 0.5517543859649123,\n",
       " 0.5098729347716954,\n",
       " 0.39886935354945585)"
      ]
     },
     "execution_count": 129,
     "metadata": {},
     "output_type": "execute_result"
    }
   ],
   "source": [
    "data8 = RFMetrics1\n",
    "data8 = data8[:-2]\n",
    "data8Name = \"Random Forest\"\n",
    "data8"
   ]
  },
  {
   "cell_type": "code",
   "execution_count": 130,
   "id": "fe5ad0e6",
   "metadata": {},
   "outputs": [
    {
     "data": {
      "text/plain": [
       "(0.5433333333333333,\n",
       " 0.5383757017819158,\n",
       " 0.5368310668347482,\n",
       " 0.5346414701253411)"
      ]
     },
     "execution_count": 130,
     "metadata": {},
     "output_type": "execute_result"
    }
   ],
   "source": [
    "data9 = BooMetrics1\n",
    "data9 = data9[:-2]\n",
    "data9Name = \"Boosting\"\n",
    "data9"
   ]
  },
  {
   "cell_type": "code",
   "execution_count": 131,
   "id": "f4c462f8",
   "metadata": {},
   "outputs": [
    {
     "data": {
      "text/html": [
       "<div>\n",
       "<style scoped>\n",
       "    .dataframe tbody tr th:only-of-type {\n",
       "        vertical-align: middle;\n",
       "    }\n",
       "\n",
       "    .dataframe tbody tr th {\n",
       "        vertical-align: top;\n",
       "    }\n",
       "\n",
       "    .dataframe thead th {\n",
       "        text-align: right;\n",
       "    }\n",
       "</style>\n",
       "<table border=\"1\" class=\"dataframe\">\n",
       "  <thead>\n",
       "    <tr style=\"text-align: right;\">\n",
       "      <th></th>\n",
       "      <th>Regresja logistyczna</th>\n",
       "      <th>Bayes-Gaussian</th>\n",
       "      <th>Bayes-Multinomial</th>\n",
       "      <th>KNN</th>\n",
       "      <th>SVM</th>\n",
       "      <th>Drzewo Decyzyjne</th>\n",
       "      <th>Bagging</th>\n",
       "      <th>Random Forest</th>\n",
       "      <th>Boosting</th>\n",
       "    </tr>\n",
       "  </thead>\n",
       "  <tbody>\n",
       "    <tr>\n",
       "      <th>Accuracy</th>\n",
       "      <td>0.518667</td>\n",
       "      <td>0.510000</td>\n",
       "      <td>0.588333</td>\n",
       "      <td>0.538333</td>\n",
       "      <td>0.558333</td>\n",
       "      <td>0.818523</td>\n",
       "      <td>0.531667</td>\n",
       "      <td>0.538333</td>\n",
       "      <td>0.543333</td>\n",
       "    </tr>\n",
       "    <tr>\n",
       "      <th>Precision</th>\n",
       "      <td>0.510984</td>\n",
       "      <td>0.506800</td>\n",
       "      <td>0.585529</td>\n",
       "      <td>0.535038</td>\n",
       "      <td>0.553870</td>\n",
       "      <td>0.825127</td>\n",
       "      <td>0.265833</td>\n",
       "      <td>0.551754</td>\n",
       "      <td>0.538376</td>\n",
       "    </tr>\n",
       "    <tr>\n",
       "      <th>Recall</th>\n",
       "      <td>0.510261</td>\n",
       "      <td>0.506755</td>\n",
       "      <td>0.584026</td>\n",
       "      <td>0.534672</td>\n",
       "      <td>0.547334</td>\n",
       "      <td>0.813345</td>\n",
       "      <td>0.500000</td>\n",
       "      <td>0.509873</td>\n",
       "      <td>0.536831</td>\n",
       "    </tr>\n",
       "    <tr>\n",
       "      <th>F1-Score</th>\n",
       "      <td>0.505363</td>\n",
       "      <td>0.506573</td>\n",
       "      <td>0.583744</td>\n",
       "      <td>0.534421</td>\n",
       "      <td>0.538294</td>\n",
       "      <td>0.815272</td>\n",
       "      <td>0.347116</td>\n",
       "      <td>0.398869</td>\n",
       "      <td>0.534641</td>\n",
       "    </tr>\n",
       "  </tbody>\n",
       "</table>\n",
       "</div>"
      ],
      "text/plain": [
       "           Regresja logistyczna  Bayes-Gaussian  Bayes-Multinomial       KNN   \n",
       "Accuracy               0.518667        0.510000           0.588333  0.538333  \\\n",
       "Precision              0.510984        0.506800           0.585529  0.535038   \n",
       "Recall                 0.510261        0.506755           0.584026  0.534672   \n",
       "F1-Score               0.505363        0.506573           0.583744  0.534421   \n",
       "\n",
       "                SVM  Drzewo Decyzyjne   Bagging  Random Forest  Boosting  \n",
       "Accuracy   0.558333          0.818523  0.531667       0.538333  0.543333  \n",
       "Precision  0.553870          0.825127  0.265833       0.551754  0.538376  \n",
       "Recall     0.547334          0.813345  0.500000       0.509873  0.536831  \n",
       "F1-Score   0.538294          0.815272  0.347116       0.398869  0.534641  "
      ]
     },
     "execution_count": 131,
     "metadata": {},
     "output_type": "execute_result"
    }
   ],
   "source": [
    "data = {'Regresja logistyczna': data1, 'Bayes-Gaussian': data2, 'Bayes-Multinomial': data3, 'KNN': data4, 'SVM': data5, \n",
    "        'Drzewo Decyzyjne': data6, 'Bagging': data7, 'Random Forest': data8, 'Boosting': data9 }\n",
    "df = pd.DataFrame(data)\n",
    "df.index = ['Accuracy', 'Precision', 'Recall', 'F1-Score']\n",
    "df"
   ]
  },
  {
   "cell_type": "code",
   "execution_count": 132,
   "id": "169a6ac7",
   "metadata": {},
   "outputs": [
    {
     "data": {
      "image/png": "[encoded data removed]",
      "text/plain": [
       "<Figure size 1100x600 with 1 Axes>"
      ]
     },
     "metadata": {},
     "output_type": "display_data"
    }
   ],
   "source": [
    "ax = df.plot(kind='bar', figsize=(11, 6), width=0.75)\n",
    "ax.set_xlabel('Metryka')\n",
    "ax.set_xticklabels(ax.get_xticklabels(), rotation=45)\n",
    "ax.set_ylabel('Wartość metryk')\n",
    "ax.legend(loc='lower right')\n",
    "plt.show()"
   ]
  },
  {
   "cell_type": "markdown",
   "id": "a4d26ac9",
   "metadata": {},
   "source": []
  },
  {
   "cell_type": "markdown",
   "id": "9dc93a1f",
   "metadata": {},
   "source": [
    "  Wśród analizowanych modeli uczenia maszynowego najlepsze wyniki osiągnęło Drzewo Decyzyjne (F-1 ok. 81%), co należy uznać za wynik dobry / bardzo dobry. Najsłabiej wypada Bagging, pozostałe osiągają podobne wartości na poziomie ok. 50 - 55%, co jednak znacznie ogranicza ich przydatność do użytku produkcyjnego.  \n",
    "  \n",
    "  Wśród rekomendacji dla dalszego rozwoju projektu należałoby wyróżnić:\n",
    "  \n",
    "  1. Poprawa jakościowa systemu zbierania danych. \n",
    "  \n",
    "  2. Pobór danych z różnych okresów czasowych - porównanie danych z różnych okresów ułatwiłoby wyodrębnienie tych czynników,        które najszybciej wpływają, w przypadku niniejszego projektu, na decyzje o dalszym przebiegu kariery zawodowej. \n",
    "  \n",
    "  3. Konteneryzacja modelu - przy wykorzystaniu narzędzia Docker. Jest to system, który pozwala uruchamiać aplikacje w                                      wyizolowanych środowiskach, tzw. kontenerach. Dostarcza aplikacjom zasoby warstwy sprzętowej\n",
    "                             i systemowej, jednocześnie pozwala je wyizolować od innych aplikacji, dzięki czemu możemy\n",
    "                             kontrolować konfigurację środowiska, w którym działa nasz kod (m.in. odpowiednie wersje bibliotek\n",
    "                             dla modeli ML)."
   ]
  },
  {
   "cell_type": "markdown",
   "id": "789dec91",
   "metadata": {},
   "source": [
    "  Among the analyzed machine learning models, the best results were achieved by Decision Tree (F-1 approx. 81%), which should be considered a good / very good result. Bagging is the weakest, the others achieve similar values of approximately 50 - 55%, which, however, significantly limits their suitability for production use.\n",
    "  \n",
    "  Recommendations for further development of the project include:\n",
    "  \n",
    "  1. Qualitative improvement of the data collection system.\n",
    "  \n",
    "  2. Collecting data from different time periods - comparing data from different periods would make it easier to isolate those      factors that, in the case of this project, influence decisions about the further course of a professional carrer the most.   \n",
    "  3. Model containerization - using the Docker tool. It is a system that allows you to run applications in isolated                                           environments, the so-called containers. It provides hardware resources to applications. At the                                 same time it allows us to isolate them from other applications, so we can control the                                           configuration of the environment in which our code runs (including appropriate versions of                                     libraries for ML models).                              \n",
    "  "
   ]
  },
  {
   "cell_type": "code",
   "execution_count": null,
   "id": "c0ae0668",
   "metadata": {},
   "outputs": [],
   "source": []
  },
  {
   "cell_type": "code",
   "execution_count": null,
   "id": "af11e012",
   "metadata": {},
   "outputs": [],
   "source": []
  },
  {
   "cell_type": "code",
   "execution_count": null,
   "id": "f6ec4770",
   "metadata": {},
   "outputs": [],
   "source": []
  },
  {
   "cell_type": "code",
   "execution_count": null,
   "id": "f08c65bc",
   "metadata": {},
   "outputs": [],
   "source": []
  },
  {
   "cell_type": "code",
   "execution_count": null,
   "id": "ca2506aa",
   "metadata": {},
   "outputs": [],
   "source": []
  },
  {
   "cell_type": "code",
   "execution_count": null,
   "id": "aec18966",
   "metadata": {},
   "outputs": [],
   "source": []
  },
  {
   "cell_type": "code",
   "execution_count": null,
   "id": "0dc59bb0",
   "metadata": {},
   "outputs": [],
   "source": []
  },
  {
   "cell_type": "code",
   "execution_count": null,
   "id": "02afc1d0",
   "metadata": {},
   "outputs": [],
   "source": []
  },
  {
   "cell_type": "code",
   "execution_count": null,
   "id": "04616467",
   "metadata": {},
   "outputs": [],
   "source": []
  },
  {
   "cell_type": "code",
   "execution_count": null,
   "id": "3f9c19e4",
   "metadata": {},
   "outputs": [],
   "source": []
  },
  {
   "cell_type": "code",
   "execution_count": null,
   "id": "354b7124",
   "metadata": {},
   "outputs": [],
   "source": []
  },
  {
   "cell_type": "code",
   "execution_count": null,
   "id": "f3846be0",
   "metadata": {},
   "outputs": [],
   "source": []
  },
  {
   "cell_type": "code",
   "execution_count": null,
   "id": "53787d7e",
   "metadata": {},
   "outputs": [],
   "source": []
  }
 ],
 "metadata": {
  "kernelspec": {
   "display_name": "Python 3 (ipykernel)",
   "language": "python",
   "name": "python3"
  },
  "language_info": {
   "codemirror_mode": {
    "name": "ipython",
    "version": 3
   },
   "file_extension": ".py",
   "mimetype": "text/x-python",
   "name": "python",
   "nbconvert_exporter": "python",
   "pygments_lexer": "ipython3",
   "version": "3.11.2"
  }
 },
 "nbformat": 4,
 "nbformat_minor": 5
}
